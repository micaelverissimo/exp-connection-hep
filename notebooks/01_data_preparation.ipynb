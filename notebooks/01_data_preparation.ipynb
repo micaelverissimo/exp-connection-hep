{
 "cells": [
  {
   "cell_type": "code",
   "execution_count": 1,
   "metadata": {},
   "outputs": [],
   "source": [
    "import sys\n",
    "repo_path = '/home/micael.verissimo/paper_lzt/exp-connection-hep/'\n",
    "sys.path.insert(0, repo_path)"
   ]
  },
  {
   "cell_type": "code",
   "execution_count": 2,
   "metadata": {},
   "outputs": [
    {
     "name": "stdout",
     "output_type": "stream",
     "text": [
      "Welcome to JupyROOT 6.30/02\n"
     ]
    }
   ],
   "source": [
    "\n",
    "import os\n",
    "\n",
    "import numpy as np\n",
    "import pandas as pd\n",
    "\n",
    "from src import build_pandas\n",
    "\n",
    "from loguru import logger"
   ]
  },
  {
   "cell_type": "code",
   "execution_count": 3,
   "metadata": {},
   "outputs": [
    {
     "name": "stdout",
     "output_type": "stream",
     "text": [
      "dict_keys(['cl_ring_0', 'cl_ring_1', 'cl_ring_2', 'cl_ring_3', 'cl_ring_4', 'cl_ring_5', 'cl_ring_6', 'cl_ring_7', 'cl_ring_8', 'cl_ring_9', 'cl_ring_10', 'cl_ring_11', 'cl_ring_12', 'cl_ring_13', 'cl_ring_14', 'cl_ring_15', 'cl_ring_16', 'cl_ring_17', 'cl_ring_18', 'cl_ring_19', 'cl_ring_20', 'cl_ring_21', 'cl_ring_22', 'cl_ring_23', 'cl_ring_24', 'cl_ring_25', 'cl_ring_26', 'cl_ring_27', 'cl_ring_28', 'cl_ring_29', 'cl_ring_30', 'cl_ring_31', 'cl_ring_32', 'cl_ring_33', 'cl_ring_34', 'cl_ring_35', 'cl_ring_36', 'cl_ring_37', 'cl_ring_38', 'cl_ring_39', 'cl_ring_40', 'cl_ring_41', 'cl_ring_42', 'cl_ring_43', 'cl_ring_44', 'cl_ring_45', 'cl_ring_46', 'cl_ring_47', 'cl_ring_48', 'cl_ring_49', 'cl_ring_50', 'cl_ring_51', 'cl_ring_52', 'cl_ring_53', 'cl_ring_54', 'cl_ring_55', 'cl_ring_56', 'cl_ring_57', 'cl_ring_58', 'cl_ring_59', 'cl_ring_60', 'cl_ring_61', 'cl_ring_62', 'cl_ring_63', 'cl_ring_64', 'cl_ring_65', 'cl_ring_66', 'cl_ring_67', 'cl_ring_68', 'cl_ring_69', 'cl_ring_70', 'cl_ring_71', 'cl_ring_72', 'cl_ring_73', 'cl_ring_74', 'cl_ring_75', 'cl_ring_76', 'cl_ring_77', 'cl_ring_78', 'cl_ring_79', 'cl_ring_80', 'cl_ring_81', 'cl_ring_82', 'cl_ring_83', 'cl_ring_84', 'cl_ring_85', 'cl_ring_86', 'cl_ring_87', 'cl_ring_88', 'cl_ring_89', 'cl_ring_90', 'cl_ring_91', 'cl_ring_92', 'cl_ring_93', 'cl_ring_94', 'cl_ring_95', 'cl_ring_96', 'cl_ring_97', 'cl_ring_98', 'cl_ring_99', 'mc_e_float', 'mc_et_float', 'mc_eta_float', 'mc_phi_float', 'mc_pdgid_float', 'target']) dict_keys(['cl_ring_0', 'cl_ring_1', 'cl_ring_2', 'cl_ring_3', 'cl_ring_4', 'cl_ring_5', 'cl_ring_6', 'cl_ring_7', 'cl_ring_8', 'cl_ring_9', 'cl_ring_10', 'cl_ring_11', 'cl_ring_12', 'cl_ring_13', 'cl_ring_14', 'cl_ring_15', 'cl_ring_16', 'cl_ring_17', 'cl_ring_18', 'cl_ring_19', 'cl_ring_20', 'cl_ring_21', 'cl_ring_22', 'cl_ring_23', 'cl_ring_24', 'cl_ring_25', 'cl_ring_26', 'cl_ring_27', 'cl_ring_28', 'cl_ring_29', 'cl_ring_30', 'cl_ring_31', 'cl_ring_32', 'cl_ring_33', 'cl_ring_34', 'cl_ring_35', 'cl_ring_36', 'cl_ring_37', 'cl_ring_38', 'cl_ring_39', 'cl_ring_40', 'cl_ring_41', 'cl_ring_42', 'cl_ring_43', 'cl_ring_44', 'cl_ring_45', 'cl_ring_46', 'cl_ring_47', 'cl_ring_48', 'cl_ring_49', 'cl_ring_50', 'cl_ring_51', 'cl_ring_52', 'cl_ring_53', 'cl_ring_54', 'cl_ring_55', 'cl_ring_56', 'cl_ring_57', 'cl_ring_58', 'cl_ring_59', 'cl_ring_60', 'cl_ring_61', 'cl_ring_62', 'cl_ring_63', 'cl_ring_64', 'cl_ring_65', 'cl_ring_66', 'cl_ring_67', 'cl_ring_68', 'cl_ring_69', 'cl_ring_70', 'cl_ring_71', 'cl_ring_72', 'cl_ring_73', 'cl_ring_74', 'cl_ring_75', 'cl_ring_76', 'cl_ring_77', 'cl_ring_78', 'cl_ring_79', 'cl_ring_80', 'cl_ring_81', 'cl_ring_82', 'cl_ring_83', 'cl_ring_84', 'cl_ring_85', 'cl_ring_86', 'cl_ring_87', 'cl_ring_88', 'cl_ring_89', 'cl_ring_90', 'cl_ring_91', 'cl_ring_92', 'cl_ring_93', 'cl_ring_94', 'cl_ring_95', 'cl_ring_96', 'cl_ring_97', 'cl_ring_98', 'cl_ring_99', 'mc_e_float', 'mc_et_float', 'mc_eta_float', 'mc_phi_float', 'mc_pdgid_float', 'target'])\n"
     ]
    }
   ],
   "source": [
    "\n",
    "def_dict = {f'cl_ring_{iring}' : f'cl_rings[{iring}]' for iring in range(100)}\n",
    "def_dict.update({'mc_e_float'     : 'mc_e[0]',\n",
    "                 'mc_et_float'    : 'mc_et[0]',\n",
    "                 'mc_eta_float'   : 'mc_eta[0]',\n",
    "                 'mc_phi_float'   : 'mc_phi[0]', \n",
    "                 'mc_pdgid_float' : 'mc_pdgid[0]'})\n",
    "s_dict = def_dict.copy()\n",
    "s_dict.update({'target': '1'})\n",
    "b_dict = def_dict.copy()\n",
    "b_dict.update({'target': '0'})\n",
    "\n",
    "print(s_dict.keys(), b_dict.keys())"
   ]
  },
  {
   "cell_type": "code",
   "execution_count": 4,
   "metadata": {},
   "outputs": [],
   "source": [
    "data_path = '~/cern_data/joao.pinto/simulation/v2.1.0/datasets'\n",
    "\n",
    "parquet_path = os.path.join(repo_path, 'parquet')\n",
    "electron = os.path.join(data_path, 'user.joao.pinto.mc25_13TeV.250401.Pythia8EvtGen_single_electron.5to100GeV.eta0phi0.10k_stage_4.result.NTUPLE.merged.root')\n",
    "pion     = os.path.join(data_path, 'user.joao.pinto.mc25_13TeV.250401.Pythia8EvtGen_single_pion.5to100GeV.eta0phi0.10k_stage_4.result.NTUPLE.merged.root')"
   ]
  },
  {
   "cell_type": "code",
   "execution_count": 5,
   "metadata": {},
   "outputs": [],
   "source": [
    "if os.path.exists(os.path.join(repo_path, 'data/single_electron.parquet')):\n",
    "    elecron_df = pd.read_parquet(os.path.join(repo_path, 'data/single_electron.parquet'))\n",
    "else:\n",
    "    elecron_df = build_pandas([electron], 'physics', os.path.join(repo_path, 'data'), 'single_electron.parquet', definitions=s_dict)\n",
    "\n",
    "if os.path.exists(os.path.join(repo_path, 'data/pion.parquet')):\n",
    "    pion_df = pd.read_parquet(os.path.join(repo_path, 'data/pion.parquet'))\n",
    "else:\n",
    "    pion_df = build_pandas([pion], 'physics', os.path.join(repo_path, 'data'), 'pion.parquet', definitions=b_dict)"
   ]
  }
 ],
 "metadata": {
  "kernelspec": {
   "display_name": "Python 3 (ipykernel)",
   "language": "python",
   "name": "python3"
  },
  "language_info": {
   "codemirror_mode": {
    "name": "ipython",
    "version": 3
   },
   "file_extension": ".py",
   "mimetype": "text/x-python",
   "name": "python",
   "nbconvert_exporter": "python",
   "pygments_lexer": "ipython3",
   "version": "3.11.7"
  }
 },
 "nbformat": 4,
 "nbformat_minor": 2
}

{
 "cells": [
  {
   "cell_type": "code",
   "execution_count": null,
   "id": "943aaa20",
   "metadata": {},
   "outputs": [],
   "source": [
    "import sys\n",
    "repo_path = '/home/micael.verissimo/paper_lzt/exp-connection-hep/'\n",
    "sys.path.insert(0, repo_path)"
   ]
  },
  {
   "cell_type": "code",
   "execution_count": 2,
   "id": "27fd39c0",
   "metadata": {},
   "outputs": [
    {
     "name": "stderr",
     "output_type": "stream",
     "text": [
      "2025-04-26 01:38:57.107046: I tensorflow/core/util/port.cc:113] oneDNN custom operations are on. You may see slightly different numerical results due to floating-point round-off errors from different computation orders. To turn them off, set the environment variable `TF_ENABLE_ONEDNN_OPTS=0`.\n",
      "2025-04-26 01:38:57.163402: E external/local_xla/xla/stream_executor/cuda/cuda_dnn.cc:9261] Unable to register cuDNN factory: Attempting to register factory for plugin cuDNN when one has already been registered\n",
      "2025-04-26 01:38:57.163449: E external/local_xla/xla/stream_executor/cuda/cuda_fft.cc:607] Unable to register cuFFT factory: Attempting to register factory for plugin cuFFT when one has already been registered\n",
      "2025-04-26 01:38:57.165524: E external/local_xla/xla/stream_executor/cuda/cuda_blas.cc:1515] Unable to register cuBLAS factory: Attempting to register factory for plugin cuBLAS when one has already been registered\n",
      "2025-04-26 01:38:57.176123: I tensorflow/core/platform/cpu_feature_guard.cc:182] This TensorFlow binary is optimized to use available CPU instructions in performance-critical operations.\n",
      "To enable the following instructions: AVX2 AVX512F AVX512_VNNI FMA, in other operations, rebuild TensorFlow with the appropriate compiler flags.\n",
      "2025-04-26 01:39:02.900853: W tensorflow/compiler/tf2tensorrt/utils/py_utils.cc:38] TF-TRT Warning: Could not find TensorRT\n"
     ]
    },
    {
     "name": "stdout",
     "output_type": "stream",
     "text": [
      "Welcome to JupyROOT 6.30/02\n"
     ]
    }
   ],
   "source": [
    "import os\n",
    "\n",
    "import numpy as np\n",
    "import pandas as pd\n",
    "\n",
    "import tensorflow as tf\n",
    "\n",
    "import matplotlib.pyplot as plt\n",
    "\n",
    "from src.callbacks import sp_index\n",
    "from src.decorators import Summary\n",
    "from sklearn.model_selection import StratifiedKFold\n",
    "from sklearn.utils.class_weight import compute_class_weight"
   ]
  },
  {
   "cell_type": "code",
   "execution_count": 3,
   "id": "423e7221",
   "metadata": {},
   "outputs": [],
   "source": [
    "prefix = \"cl_ring_%i\"\n",
    "\n",
    "# rings presample \n",
    "presample = [prefix % iring for iring in range(8 // 2)]\n",
    "\n",
    "# EM1 list\n",
    "sum_rings = 8\n",
    "em1 = [prefix % iring for iring in range(sum_rings, sum_rings + (64 // 2))]\n",
    "\n",
    "# EM2 list\n",
    "sum_rings = 8 + 64\n",
    "em2 = [prefix % iring for iring in range(sum_rings, sum_rings + (8 // 2))]\n",
    "\n",
    "# EM3 list\n",
    "sum_rings = 8 + 64 + 8\n",
    "em3 = [prefix % iring for iring in range(sum_rings, sum_rings + (8 // 2))]\n",
    "\n",
    "# HAD1 list\n",
    "sum_rings = 8 + 64 + 8 + 8\n",
    "had1 = [prefix % iring for iring in range(sum_rings, sum_rings + (4 // 2))]\n",
    "\n",
    "# HAD2 list\n",
    "sum_rings = 8 + 64 + 8 + 8 + 4\n",
    "had2 = [prefix % iring for iring in range(sum_rings, sum_rings + (4 // 2))]\n",
    "\n",
    "# HAD3 list\n",
    "sum_rings = 8 + 64 + 8 + 8 + 4 + 4\n",
    "had3 = [prefix % iring for iring in range(sum_rings, sum_rings + (4 // 2))]\n",
    "\n",
    "col_names = presample + em1 + em2 + em3 + had1 + had2 + had3"
   ]
  },
  {
   "cell_type": "code",
   "execution_count": 4,
   "id": "89a75e58",
   "metadata": {},
   "outputs": [],
   "source": [
    "# load the data\n",
    "sgn_df = pd.read_parquet(os.path.join(repo_path, 'data/processed/zee_mb.parquet'))\n",
    "bkg_df = pd.read_parquet(os.path.join(repo_path, 'data/processed/jf17_mb.parquet'))\n",
    "\n",
    "m_df = pd.concat([sgn_df, bkg_df], axis=0)\n",
    "\n",
    "\n",
    "input_cols = [f\"cl_ring_{idx}\" for idx in range(100)] #col_names #[f\"cl_ring_{idx}\" for idx in range(100)]"
   ]
  },
  {
   "cell_type": "code",
   "execution_count": 5,
   "id": "fb648dc2",
   "metadata": {},
   "outputs": [
    {
     "data": {
      "text/plain": [
       "target\n",
       "1    11984\n",
       "0    11662\n",
       "Name: count, dtype: int64"
      ]
     },
     "execution_count": 5,
     "metadata": {},
     "output_type": "execute_result"
    }
   ],
   "source": [
    "m_df.target.value_counts()"
   ]
  },
  {
   "cell_type": "code",
   "execution_count": 6,
   "id": "64710ecf",
   "metadata": {},
   "outputs": [],
   "source": [
    "def norm1(data):\n",
    "    norms = np.abs(data.sum(axis=1))\n",
    "    norms[norms == 0] = 1\n",
    "    return data / norms[:, None]\n",
    "\n",
    "# inputs features normalization\n",
    "X = norm1(m_df[input_cols].values)\n",
    "y = m_df.target.values"
   ]
  },
  {
   "cell_type": "code",
   "execution_count": 7,
   "id": "9f58cd4d",
   "metadata": {},
   "outputs": [],
   "source": [
    "def build_simple_mlp(input_shape: int, n_layers: int, n_units: int) -> tf.keras.Model:\n",
    "    \"\"\"\n",
    "    Builds a simple Multi-Layer Perceptron (MLP) model.\n",
    "\n",
    "    Args:\n",
    "        input_shape (int): The number of input features for the model.\n",
    "        n_layers (int): The number of hidden layers in the MLP.\n",
    "        n_units (int): The number of neurons in each hidden layer.\n",
    "\n",
    "    Returns:\n",
    "        tf.keras.Model: A compiled Keras model with the specified architecture.\n",
    "    \"\"\"\n",
    "    inputs = tf.keras.layers.Input(shape=(input_shape,), name='Input')\n",
    "    for ilayer in range(n_layers):\n",
    "        dense = tf.keras.layers.Dense(n_units, activation='relu', name=f'dense_layer_{ilayer}',\n",
    "                                      kernel_initializer=tf.keras.initializers.GlorotUniform(seed=512),\n",
    "                                      bias_initializer='zeros')(inputs if ilayer == 0 else dense)\n",
    "    # classification layer\n",
    "    dense = tf.keras.layers.Dense(1, activation='linear', name='output_for_inference',\n",
    "                                  kernel_initializer=tf.keras.initializers.GlorotUniform(seed=512),\n",
    "                                  bias_initializer='zeros')(dense) \n",
    "    output = tf.keras.layers.Activation('sigmoid', name='output_for_training')(dense)\n",
    "    model = tf.keras.Model(inputs, output, name=\"model\")\n",
    "    return model\n",
    "\n",
    "def class_weight(target: np.ndarray) -> pd.Series:\n",
    "    \"\"\"\n",
    "    Calculate class weights and sample weights for binary classification.\n",
    "\n",
    "    Args:\n",
    "        target (np.ndarray): Array of binary target labels (e.g., 0 and 1).\n",
    "\n",
    "    Returns:\n",
    "        pd.Series: A pandas Series containing sample weights for each instance, \n",
    "                   with the column name 'weight'.\n",
    "    \"\"\"\n",
    "    classes = np.unique(target)\n",
    "    # [-1,1] or [0,1]\n",
    "    weights = compute_class_weight(class_weight='balanced', classes=classes, y=target)\n",
    "    class_weights = {cl: weights[idx] for idx, cl in enumerate(classes)}\n",
    "    sample_weight = np.ones_like(target, dtype=np.float32)\n",
    "    sample_weight[target == 1] = weights[1]\n",
    "    sample_weight[target != 1] = weights[0]\n",
    "    return pd.Series(sample_weight).to_frame('weight')\n"
   ]
  },
  {
   "cell_type": "code",
   "execution_count": 8,
   "id": "7e18b208",
   "metadata": {},
   "outputs": [],
   "source": [
    "model_bce = build_simple_mlp(input_shape=len(input_cols), n_layers=1, n_units=5)\n",
    "model_geo = build_simple_mlp(input_shape=len(input_cols), n_layers=1, n_units=5)"
   ]
  },
  {
   "cell_type": "code",
   "execution_count": 9,
   "id": "4b4bc66e",
   "metadata": {},
   "outputs": [
    {
     "name": "stdout",
     "output_type": "stream",
     "text": [
      "(100, 5) (100, 5)\n",
      "True\n",
      "(5,) (5,)\n",
      "True\n",
      "(5, 1) (5, 1)\n",
      "True\n",
      "(1,) (1,)\n",
      "True\n"
     ]
    }
   ],
   "source": [
    "bce_weights = model_bce.get_weights()\n",
    "geo_weights = model_geo.get_weights()\n",
    "\n",
    "for ib, ig in zip(bce_weights, geo_weights):\n",
    "    print(ib.shape, ig.shape)\n",
    "    if len(ib.shape) == 1:\n",
    "        print(np.allclose(ib, ig))\n",
    "    else:\n",
    "        print(np.allclose(ib, ig, rtol=1e-5, atol=1e-8))"
   ]
  },
  {
   "cell_type": "code",
   "execution_count": 10,
   "id": "77917807",
   "metadata": {},
   "outputs": [],
   "source": [
    "patience = 50"
   ]
  },
  {
   "cell_type": "code",
   "execution_count": 11,
   "id": "7f53ed34",
   "metadata": {},
   "outputs": [
    {
     "name": "stdout",
     "output_type": "stream",
     "text": [
      "Epoch 1/1000\n",
      "3/3 [==============================] - 0s 3ms/step- loss: 0.6778 - accuracy: 0.54\n"
     ]
    },
    {
     "name": "stderr",
     "output_type": "stream",
     "text": [
      "\u001b[32m2025-04-26 01:40:06.768\u001b[0m | \u001b[1mINFO    \u001b[0m | \u001b[36msrc.callbacks\u001b[0m:\u001b[36mon_epoch_end\u001b[0m:\u001b[36m63\u001b[0m - \u001b[1mval_sp: 0.9906 (fa:0.0180, pd:0.9992), patience: 0\u001b[0m\n",
      "\u001b[32m2025-04-26 01:40:06.769\u001b[0m | \u001b[1mINFO    \u001b[0m | \u001b[36msrc.callbacks\u001b[0m:\u001b[36mon_epoch_end\u001b[0m:\u001b[36m68\u001b[0m - \u001b[1msave the best configuration here...\u001b[0m\n"
     ]
    },
    {
     "name": "stdout",
     "output_type": "stream",
     "text": [
      "21/21 [==============================] - 2s 22ms/step - loss: 0.6738 - accuracy: 0.5980 - val_loss: 0.6664 - val_accuracy: 0.7260 - max_sp_val: 0.9906 - max_sp_fa_val: 0.0180 - max_sp_pd_val: 0.9992 - max_sp_best_epoch_val: 0.0000e+00\n",
      "Epoch 2/1000\n",
      "3/3 [==============================] - 0s 3ms/step loss: 0.6654 - accuracy: 0.76\n"
     ]
    },
    {
     "name": "stderr",
     "output_type": "stream",
     "text": [
      "\u001b[32m2025-04-26 01:40:06.919\u001b[0m | \u001b[1mINFO    \u001b[0m | \u001b[36msrc.callbacks\u001b[0m:\u001b[36mon_epoch_end\u001b[0m:\u001b[36m63\u001b[0m - \u001b[1mval_sp: 0.9898 (fa:0.0154, pd:0.9950), patience: 0\u001b[0m\n"
     ]
    },
    {
     "name": "stdout",
     "output_type": "stream",
     "text": [
      "21/21 [==============================] - 0s 7ms/step - loss: 0.6583 - accuracy: 0.8364 - val_loss: 0.6481 - val_accuracy: 0.9040 - max_sp_val: 0.9898 - max_sp_fa_val: 0.0154 - max_sp_pd_val: 0.9950\n",
      "Epoch 3/1000\n",
      "3/3 [==============================] - 0s 2ms/step loss: 0.6493 - accuracy: 0.92\n"
     ]
    },
    {
     "name": "stderr",
     "output_type": "stream",
     "text": [
      "\u001b[32m2025-04-26 01:40:07.070\u001b[0m | \u001b[1mINFO    \u001b[0m | \u001b[36msrc.callbacks\u001b[0m:\u001b[36mon_epoch_end\u001b[0m:\u001b[36m63\u001b[0m - \u001b[1mval_sp: 0.9919 (fa:0.0137, pd:0.9975), patience: 1\u001b[0m\n",
      "\u001b[32m2025-04-26 01:40:07.072\u001b[0m | \u001b[1mINFO    \u001b[0m | \u001b[36msrc.callbacks\u001b[0m:\u001b[36mon_epoch_end\u001b[0m:\u001b[36m68\u001b[0m - \u001b[1msave the best configuration here...\u001b[0m\n"
     ]
    },
    {
     "name": "stdout",
     "output_type": "stream",
     "text": [
      "21/21 [==============================] - 0s 7ms/step - loss: 0.6397 - accuracy: 0.9415 - val_loss: 0.6309 - val_accuracy: 0.9501 - max_sp_val: 0.9919 - max_sp_fa_val: 0.0137 - max_sp_pd_val: 0.9975 - max_sp_best_epoch_val: 2.0000\n",
      "Epoch 4/1000\n",
      "3/3 [==============================] - 0s 2ms/step loss: 0.6321 - accuracy: 0.95\n"
     ]
    },
    {
     "name": "stderr",
     "output_type": "stream",
     "text": [
      "\u001b[32m2025-04-26 01:40:07.219\u001b[0m | \u001b[1mINFO    \u001b[0m | \u001b[36msrc.callbacks\u001b[0m:\u001b[36mon_epoch_end\u001b[0m:\u001b[36m63\u001b[0m - \u001b[1mval_sp: 0.9937 (fa:0.0051, pd:0.9925), patience: 0\u001b[0m\n",
      "\u001b[32m2025-04-26 01:40:07.220\u001b[0m | \u001b[1mINFO    \u001b[0m | \u001b[36msrc.callbacks\u001b[0m:\u001b[36mon_epoch_end\u001b[0m:\u001b[36m68\u001b[0m - \u001b[1msave the best configuration here...\u001b[0m\n"
     ]
    },
    {
     "name": "stdout",
     "output_type": "stream",
     "text": [
      "21/21 [==============================] - 0s 7ms/step - loss: 0.6229 - accuracy: 0.9626 - val_loss: 0.6138 - val_accuracy: 0.9569 - max_sp_val: 0.9937 - max_sp_fa_val: 0.0051 - max_sp_pd_val: 0.9925 - max_sp_best_epoch_val: 3.0000\n",
      "Epoch 5/1000\n",
      "3/3 [==============================] - 0s 3ms/step loss: 0.6147 - accuracy: 0.95\n"
     ]
    },
    {
     "name": "stderr",
     "output_type": "stream",
     "text": [
      "\u001b[32m2025-04-26 01:40:07.370\u001b[0m | \u001b[1mINFO    \u001b[0m | \u001b[36msrc.callbacks\u001b[0m:\u001b[36mon_epoch_end\u001b[0m:\u001b[36m63\u001b[0m - \u001b[1mval_sp: 0.9966 (fa:0.0034, pd:0.9967), patience: 0\u001b[0m\n",
      "\u001b[32m2025-04-26 01:40:07.371\u001b[0m | \u001b[1mINFO    \u001b[0m | \u001b[36msrc.callbacks\u001b[0m:\u001b[36mon_epoch_end\u001b[0m:\u001b[36m68\u001b[0m - \u001b[1msave the best configuration here...\u001b[0m\n"
     ]
    },
    {
     "name": "stdout",
     "output_type": "stream",
     "text": [
      "21/21 [==============================] - 0s 7ms/step - loss: 0.6052 - accuracy: 0.9639 - val_loss: 0.5956 - val_accuracy: 0.9581 - max_sp_val: 0.9966 - max_sp_fa_val: 0.0034 - max_sp_pd_val: 0.9967 - max_sp_best_epoch_val: 4.0000\n",
      "Epoch 6/1000\n",
      "3/3 [==============================] - 0s 2ms/step loss: 0.5934 - accuracy: 0.97\n"
     ]
    },
    {
     "name": "stderr",
     "output_type": "stream",
     "text": [
      "\u001b[32m2025-04-26 01:40:07.526\u001b[0m | \u001b[1mINFO    \u001b[0m | \u001b[36msrc.callbacks\u001b[0m:\u001b[36mon_epoch_end\u001b[0m:\u001b[36m63\u001b[0m - \u001b[1mval_sp: 0.9970 (fa:0.0034, pd:0.9975), patience: 0\u001b[0m\n",
      "\u001b[32m2025-04-26 01:40:07.527\u001b[0m | \u001b[1mINFO    \u001b[0m | \u001b[36msrc.callbacks\u001b[0m:\u001b[36mon_epoch_end\u001b[0m:\u001b[36m68\u001b[0m - \u001b[1msave the best configuration here...\u001b[0m\n"
     ]
    },
    {
     "name": "stdout",
     "output_type": "stream",
     "text": [
      "21/21 [==============================] - 0s 8ms/step - loss: 0.5864 - accuracy: 0.9677 - val_loss: 0.5764 - val_accuracy: 0.9636 - max_sp_val: 0.9970 - max_sp_fa_val: 0.0034 - max_sp_pd_val: 0.9975 - max_sp_best_epoch_val: 5.0000\n",
      "Epoch 7/1000\n",
      "3/3 [==============================] - 0s 2ms/step loss: 0.5761 - accuracy: 0.97\n"
     ]
    },
    {
     "name": "stderr",
     "output_type": "stream",
     "text": [
      "\u001b[32m2025-04-26 01:40:07.676\u001b[0m | \u001b[1mINFO    \u001b[0m | \u001b[36msrc.callbacks\u001b[0m:\u001b[36mon_epoch_end\u001b[0m:\u001b[36m63\u001b[0m - \u001b[1mval_sp: 0.9979 (fa:0.0034, pd:0.9992), patience: 0\u001b[0m\n",
      "\u001b[32m2025-04-26 01:40:07.676\u001b[0m | \u001b[1mINFO    \u001b[0m | \u001b[36msrc.callbacks\u001b[0m:\u001b[36mon_epoch_end\u001b[0m:\u001b[36m68\u001b[0m - \u001b[1msave the best configuration here...\u001b[0m\n"
     ]
    },
    {
     "name": "stdout",
     "output_type": "stream",
     "text": [
      "21/21 [==============================] - 0s 7ms/step - loss: 0.5666 - accuracy: 0.9709 - val_loss: 0.5563 - val_accuracy: 0.9670 - max_sp_val: 0.9979 - max_sp_fa_val: 0.0034 - max_sp_pd_val: 0.9992 - max_sp_best_epoch_val: 6.0000\n",
      "Epoch 8/1000\n",
      "3/3 [==============================] - 0s 3ms/step loss: 0.5550 - accuracy: 0.96\n"
     ]
    },
    {
     "name": "stderr",
     "output_type": "stream",
     "text": [
      "\u001b[32m2025-04-26 01:40:07.829\u001b[0m | \u001b[1mINFO    \u001b[0m | \u001b[36msrc.callbacks\u001b[0m:\u001b[36mon_epoch_end\u001b[0m:\u001b[36m63\u001b[0m - \u001b[1mval_sp: 0.9983 (fa:0.0034, pd:1.0000), patience: 0\u001b[0m\n",
      "\u001b[32m2025-04-26 01:40:07.830\u001b[0m | \u001b[1mINFO    \u001b[0m | \u001b[36msrc.callbacks\u001b[0m:\u001b[36mon_epoch_end\u001b[0m:\u001b[36m68\u001b[0m - \u001b[1msave the best configuration here...\u001b[0m\n"
     ]
    },
    {
     "name": "stdout",
     "output_type": "stream",
     "text": [
      "21/21 [==============================] - 0s 7ms/step - loss: 0.5461 - accuracy: 0.9719 - val_loss: 0.5355 - val_accuracy: 0.9679 - max_sp_val: 0.9983 - max_sp_fa_val: 0.0034 - max_sp_pd_val: 1.0000 - max_sp_best_epoch_val: 7.0000\n",
      "Epoch 9/1000\n",
      "3/3 [==============================] - 0s 2ms/step loss: 0.5338 - accuracy: 0.97\n"
     ]
    },
    {
     "name": "stderr",
     "output_type": "stream",
     "text": [
      "\u001b[32m2025-04-26 01:40:07.985\u001b[0m | \u001b[1mINFO    \u001b[0m | \u001b[36msrc.callbacks\u001b[0m:\u001b[36mon_epoch_end\u001b[0m:\u001b[36m63\u001b[0m - \u001b[1mval_sp: 0.9983 (fa:0.0009, pd:0.9975), patience: 0\u001b[0m\n"
     ]
    },
    {
     "name": "stdout",
     "output_type": "stream",
     "text": [
      "21/21 [==============================] - 0s 7ms/step - loss: 0.5249 - accuracy: 0.9736 - val_loss: 0.5142 - val_accuracy: 0.9679 - max_sp_val: 0.9983 - max_sp_fa_val: 8.5763e-04 - max_sp_pd_val: 0.9975\n",
      "Epoch 10/1000\n",
      "3/3 [==============================] - 0s 2ms/step loss: 0.5171 - accuracy: 0.97\n"
     ]
    },
    {
     "name": "stderr",
     "output_type": "stream",
     "text": [
      "\u001b[32m2025-04-26 01:40:08.137\u001b[0m | \u001b[1mINFO    \u001b[0m | \u001b[36msrc.callbacks\u001b[0m:\u001b[36mon_epoch_end\u001b[0m:\u001b[36m63\u001b[0m - \u001b[1mval_sp: 0.9987 (fa:0.0009, pd:0.9983), patience: 1\u001b[0m\n",
      "\u001b[32m2025-04-26 01:40:08.138\u001b[0m | \u001b[1mINFO    \u001b[0m | \u001b[36msrc.callbacks\u001b[0m:\u001b[36mon_epoch_end\u001b[0m:\u001b[36m68\u001b[0m - \u001b[1msave the best configuration here...\u001b[0m\n"
     ]
    },
    {
     "name": "stdout",
     "output_type": "stream",
     "text": [
      "21/21 [==============================] - 0s 7ms/step - loss: 0.5033 - accuracy: 0.9742 - val_loss: 0.4926 - val_accuracy: 0.9704 - max_sp_val: 0.9987 - max_sp_fa_val: 8.5763e-04 - max_sp_pd_val: 0.9983 - max_sp_best_epoch_val: 9.0000\n",
      "Epoch 11/1000\n",
      "3/3 [==============================] - 0s 2ms/step loss: 0.4901 - accuracy: 0.97\n"
     ]
    },
    {
     "name": "stderr",
     "output_type": "stream",
     "text": [
      "\u001b[32m2025-04-26 01:40:08.286\u001b[0m | \u001b[1mINFO    \u001b[0m | \u001b[36msrc.callbacks\u001b[0m:\u001b[36mon_epoch_end\u001b[0m:\u001b[36m63\u001b[0m - \u001b[1mval_sp: 0.9987 (fa:0.0009, pd:0.9983), patience: 0\u001b[0m\n"
     ]
    },
    {
     "name": "stdout",
     "output_type": "stream",
     "text": [
      "21/21 [==============================] - 0s 7ms/step - loss: 0.4815 - accuracy: 0.9746 - val_loss: 0.4709 - val_accuracy: 0.9696 - max_sp_val: 0.9987 - max_sp_fa_val: 8.5763e-04 - max_sp_pd_val: 0.9983\n",
      "Epoch 12/1000\n",
      "3/3 [==============================] - 0s 2ms/step loss: 0.4734 - accuracy: 0.96\n"
     ]
    },
    {
     "name": "stderr",
     "output_type": "stream",
     "text": [
      "\u001b[32m2025-04-26 01:40:08.434\u001b[0m | \u001b[1mINFO    \u001b[0m | \u001b[36msrc.callbacks\u001b[0m:\u001b[36mon_epoch_end\u001b[0m:\u001b[36m63\u001b[0m - \u001b[1mval_sp: 0.9987 (fa:0.0009, pd:0.9983), patience: 1\u001b[0m\n"
     ]
    },
    {
     "name": "stdout",
     "output_type": "stream",
     "text": [
      "21/21 [==============================] - 0s 7ms/step - loss: 0.4597 - accuracy: 0.9763 - val_loss: 0.4494 - val_accuracy: 0.9734 - max_sp_val: 0.9987 - max_sp_fa_val: 8.5763e-04 - max_sp_pd_val: 0.9983\n",
      "Epoch 13/1000\n",
      "3/3 [==============================] - 0s 3ms/step loss: 0.4489 - accuracy: 0.97\n"
     ]
    },
    {
     "name": "stderr",
     "output_type": "stream",
     "text": [
      "\u001b[32m2025-04-26 01:40:08.587\u001b[0m | \u001b[1mINFO    \u001b[0m | \u001b[36msrc.callbacks\u001b[0m:\u001b[36mon_epoch_end\u001b[0m:\u001b[36m63\u001b[0m - \u001b[1mval_sp: 0.9987 (fa:0.0009, pd:0.9983), patience: 2\u001b[0m\n"
     ]
    },
    {
     "name": "stdout",
     "output_type": "stream",
     "text": [
      "21/21 [==============================] - 0s 7ms/step - loss: 0.4381 - accuracy: 0.9768 - val_loss: 0.4281 - val_accuracy: 0.9734 - max_sp_val: 0.9987 - max_sp_fa_val: 8.5763e-04 - max_sp_pd_val: 0.9983\n",
      "Epoch 14/1000\n",
      "3/3 [==============================] - 0s 2ms/step loss: 0.4240 - accuracy: 0.97\n"
     ]
    },
    {
     "name": "stderr",
     "output_type": "stream",
     "text": [
      "\u001b[32m2025-04-26 01:40:08.742\u001b[0m | \u001b[1mINFO    \u001b[0m | \u001b[36msrc.callbacks\u001b[0m:\u001b[36mon_epoch_end\u001b[0m:\u001b[36m63\u001b[0m - \u001b[1mval_sp: 0.9987 (fa:0.0009, pd:0.9983), patience: 3\u001b[0m\n"
     ]
    },
    {
     "name": "stdout",
     "output_type": "stream",
     "text": [
      "21/21 [==============================] - 0s 8ms/step - loss: 0.4168 - accuracy: 0.9773 - val_loss: 0.4072 - val_accuracy: 0.9746 - max_sp_val: 0.9987 - max_sp_fa_val: 8.5763e-04 - max_sp_pd_val: 0.9983\n",
      "Epoch 15/1000\n",
      "3/3 [==============================] - 0s 2ms/step loss: 0.4054 - accuracy: 0.97\n"
     ]
    },
    {
     "name": "stderr",
     "output_type": "stream",
     "text": [
      "\u001b[32m2025-04-26 01:40:08.897\u001b[0m | \u001b[1mINFO    \u001b[0m | \u001b[36msrc.callbacks\u001b[0m:\u001b[36mon_epoch_end\u001b[0m:\u001b[36m63\u001b[0m - \u001b[1mval_sp: 0.9987 (fa:0.0009, pd:0.9983), patience: 4\u001b[0m\n"
     ]
    },
    {
     "name": "stdout",
     "output_type": "stream",
     "text": [
      "21/21 [==============================] - 0s 8ms/step - loss: 0.3960 - accuracy: 0.9781 - val_loss: 0.3870 - val_accuracy: 0.9755 - max_sp_val: 0.9987 - max_sp_fa_val: 8.5763e-04 - max_sp_pd_val: 0.9983\n",
      "Epoch 16/1000\n",
      "3/3 [==============================] - 0s 2ms/step loss: 0.3862 - accuracy: 0.97\n"
     ]
    },
    {
     "name": "stderr",
     "output_type": "stream",
     "text": [
      "\u001b[32m2025-04-26 01:40:09.045\u001b[0m | \u001b[1mINFO    \u001b[0m | \u001b[36msrc.callbacks\u001b[0m:\u001b[36mon_epoch_end\u001b[0m:\u001b[36m63\u001b[0m - \u001b[1mval_sp: 0.9987 (fa:0.0009, pd:0.9983), patience: 5\u001b[0m\n"
     ]
    },
    {
     "name": "stdout",
     "output_type": "stream",
     "text": [
      "21/21 [==============================] - 0s 7ms/step - loss: 0.3759 - accuracy: 0.9785 - val_loss: 0.3674 - val_accuracy: 0.9755 - max_sp_val: 0.9987 - max_sp_fa_val: 8.5763e-04 - max_sp_pd_val: 0.9983\n",
      "Epoch 17/1000\n",
      "3/3 [==============================] - 0s 2ms/step loss: 0.3649 - accuracy: 0.97\n"
     ]
    },
    {
     "name": "stderr",
     "output_type": "stream",
     "text": [
      "\u001b[32m2025-04-26 01:40:09.188\u001b[0m | \u001b[1mINFO    \u001b[0m | \u001b[36msrc.callbacks\u001b[0m:\u001b[36mon_epoch_end\u001b[0m:\u001b[36m63\u001b[0m - \u001b[1mval_sp: 0.9987 (fa:0.0009, pd:0.9983), patience: 6\u001b[0m\n"
     ]
    },
    {
     "name": "stdout",
     "output_type": "stream",
     "text": [
      "21/21 [==============================] - 0s 7ms/step - loss: 0.3564 - accuracy: 0.9788 - val_loss: 0.3485 - val_accuracy: 0.9767 - max_sp_val: 0.9987 - max_sp_fa_val: 8.5763e-04 - max_sp_pd_val: 0.9983\n",
      "Epoch 18/1000\n",
      "3/3 [==============================] - 0s 2ms/step loss: 0.3458 - accuracy: 0.97\n"
     ]
    },
    {
     "name": "stderr",
     "output_type": "stream",
     "text": [
      "\u001b[32m2025-04-26 01:40:09.335\u001b[0m | \u001b[1mINFO    \u001b[0m | \u001b[36msrc.callbacks\u001b[0m:\u001b[36mon_epoch_end\u001b[0m:\u001b[36m63\u001b[0m - \u001b[1mval_sp: 0.9987 (fa:0.0009, pd:0.9983), patience: 7\u001b[0m\n"
     ]
    },
    {
     "name": "stdout",
     "output_type": "stream",
     "text": [
      "21/21 [==============================] - 0s 7ms/step - loss: 0.3378 - accuracy: 0.9796 - val_loss: 0.3305 - val_accuracy: 0.9776 - max_sp_val: 0.9987 - max_sp_fa_val: 8.5763e-04 - max_sp_pd_val: 0.9983\n",
      "Epoch 19/1000\n",
      "3/3 [==============================] - 0s 2ms/step loss: 0.3210 - accuracy: 0.98\n"
     ]
    },
    {
     "name": "stderr",
     "output_type": "stream",
     "text": [
      "\u001b[32m2025-04-26 01:40:09.484\u001b[0m | \u001b[1mINFO    \u001b[0m | \u001b[36msrc.callbacks\u001b[0m:\u001b[36mon_epoch_end\u001b[0m:\u001b[36m63\u001b[0m - \u001b[1mval_sp: 0.9987 (fa:0.0009, pd:0.9983), patience: 8\u001b[0m\n"
     ]
    },
    {
     "name": "stdout",
     "output_type": "stream",
     "text": [
      "21/21 [==============================] - 0s 7ms/step - loss: 0.3200 - accuracy: 0.9801 - val_loss: 0.3133 - val_accuracy: 0.9780 - max_sp_val: 0.9987 - max_sp_fa_val: 8.5763e-04 - max_sp_pd_val: 0.9983\n",
      "Epoch 20/1000\n",
      "3/3 [==============================] - 0s 2ms/step loss: 0.3103 - accuracy: 0.98\n"
     ]
    },
    {
     "name": "stderr",
     "output_type": "stream",
     "text": [
      "\u001b[32m2025-04-26 01:40:09.630\u001b[0m | \u001b[1mINFO    \u001b[0m | \u001b[36msrc.callbacks\u001b[0m:\u001b[36mon_epoch_end\u001b[0m:\u001b[36m63\u001b[0m - \u001b[1mval_sp: 0.9987 (fa:0.0009, pd:0.9983), patience: 9\u001b[0m\n"
     ]
    },
    {
     "name": "stdout",
     "output_type": "stream",
     "text": [
      "21/21 [==============================] - 0s 7ms/step - loss: 0.3031 - accuracy: 0.9809 - val_loss: 0.2970 - val_accuracy: 0.9793 - max_sp_val: 0.9987 - max_sp_fa_val: 8.5763e-04 - max_sp_pd_val: 0.9983\n",
      "Epoch 21/1000\n",
      "3/3 [==============================] - 0s 2ms/step loss: 0.2954 - accuracy: 0.97\n"
     ]
    },
    {
     "name": "stderr",
     "output_type": "stream",
     "text": [
      "\u001b[32m2025-04-26 01:40:09.779\u001b[0m | \u001b[1mINFO    \u001b[0m | \u001b[36msrc.callbacks\u001b[0m:\u001b[36mon_epoch_end\u001b[0m:\u001b[36m63\u001b[0m - \u001b[1mval_sp: 0.9987 (fa:0.0009, pd:0.9983), patience: 10\u001b[0m\n"
     ]
    },
    {
     "name": "stdout",
     "output_type": "stream",
     "text": [
      "21/21 [==============================] - 0s 7ms/step - loss: 0.2870 - accuracy: 0.9813 - val_loss: 0.2816 - val_accuracy: 0.9801 - max_sp_val: 0.9987 - max_sp_fa_val: 8.5763e-04 - max_sp_pd_val: 0.9983\n",
      "Epoch 22/1000\n",
      "3/3 [==============================] - 0s 2ms/step loss: 0.2829 - accuracy: 0.97\n"
     ]
    },
    {
     "name": "stderr",
     "output_type": "stream",
     "text": [
      "\u001b[32m2025-04-26 01:40:09.925\u001b[0m | \u001b[1mINFO    \u001b[0m | \u001b[36msrc.callbacks\u001b[0m:\u001b[36mon_epoch_end\u001b[0m:\u001b[36m63\u001b[0m - \u001b[1mval_sp: 0.9987 (fa:0.0009, pd:0.9983), patience: 11\u001b[0m\n"
     ]
    },
    {
     "name": "stdout",
     "output_type": "stream",
     "text": [
      "21/21 [==============================] - 0s 7ms/step - loss: 0.2719 - accuracy: 0.9814 - val_loss: 0.2671 - val_accuracy: 0.9801 - max_sp_val: 0.9987 - max_sp_fa_val: 8.5763e-04 - max_sp_pd_val: 0.9983\n",
      "Epoch 23/1000\n",
      "3/3 [==============================] - 0s 2ms/step loss: 0.2664 - accuracy: 0.98\n"
     ]
    },
    {
     "name": "stderr",
     "output_type": "stream",
     "text": [
      "\u001b[32m2025-04-26 01:40:10.076\u001b[0m | \u001b[1mINFO    \u001b[0m | \u001b[36msrc.callbacks\u001b[0m:\u001b[36mon_epoch_end\u001b[0m:\u001b[36m63\u001b[0m - \u001b[1mval_sp: 0.9987 (fa:0.0009, pd:0.9983), patience: 12\u001b[0m\n"
     ]
    },
    {
     "name": "stdout",
     "output_type": "stream",
     "text": [
      "21/21 [==============================] - 0s 7ms/step - loss: 0.2576 - accuracy: 0.9821 - val_loss: 0.2534 - val_accuracy: 0.9801 - max_sp_val: 0.9987 - max_sp_fa_val: 8.5763e-04 - max_sp_pd_val: 0.9983\n",
      "Epoch 24/1000\n",
      "3/3 [==============================] - 0s 2ms/step loss: 0.2501 - accuracy: 0.98\n"
     ]
    },
    {
     "name": "stderr",
     "output_type": "stream",
     "text": [
      "\u001b[32m2025-04-26 01:40:10.221\u001b[0m | \u001b[1mINFO    \u001b[0m | \u001b[36msrc.callbacks\u001b[0m:\u001b[36mon_epoch_end\u001b[0m:\u001b[36m63\u001b[0m - \u001b[1mval_sp: 0.9987 (fa:0.0009, pd:0.9983), patience: 13\u001b[0m\n"
     ]
    },
    {
     "name": "stdout",
     "output_type": "stream",
     "text": [
      "21/21 [==============================] - 0s 7ms/step - loss: 0.2442 - accuracy: 0.9824 - val_loss: 0.2406 - val_accuracy: 0.9801 - max_sp_val: 0.9987 - max_sp_fa_val: 8.5763e-04 - max_sp_pd_val: 0.9983\n",
      "Epoch 25/1000\n",
      "3/3 [==============================] - 0s 2ms/step loss: 0.2405 - accuracy: 0.97\n"
     ]
    },
    {
     "name": "stderr",
     "output_type": "stream",
     "text": [
      "\u001b[32m2025-04-26 01:40:10.366\u001b[0m | \u001b[1mINFO    \u001b[0m | \u001b[36msrc.callbacks\u001b[0m:\u001b[36mon_epoch_end\u001b[0m:\u001b[36m63\u001b[0m - \u001b[1mval_sp: 0.9992 (fa:0.0009, pd:0.9992), patience: 14\u001b[0m\n",
      "\u001b[32m2025-04-26 01:40:10.367\u001b[0m | \u001b[1mINFO    \u001b[0m | \u001b[36msrc.callbacks\u001b[0m:\u001b[36mon_epoch_end\u001b[0m:\u001b[36m68\u001b[0m - \u001b[1msave the best configuration here...\u001b[0m\n"
     ]
    },
    {
     "name": "stdout",
     "output_type": "stream",
     "text": [
      "21/21 [==============================] - 0s 7ms/step - loss: 0.2316 - accuracy: 0.9828 - val_loss: 0.2285 - val_accuracy: 0.9805 - max_sp_val: 0.9992 - max_sp_fa_val: 8.5763e-04 - max_sp_pd_val: 0.9992 - max_sp_best_epoch_val: 24.0000\n",
      "Epoch 26/1000\n",
      "3/3 [==============================] - 0s 3ms/step loss: 0.2265 - accuracy: 0.98\n"
     ]
    },
    {
     "name": "stderr",
     "output_type": "stream",
     "text": [
      "\u001b[32m2025-04-26 01:40:10.518\u001b[0m | \u001b[1mINFO    \u001b[0m | \u001b[36msrc.callbacks\u001b[0m:\u001b[36mon_epoch_end\u001b[0m:\u001b[36m63\u001b[0m - \u001b[1mval_sp: 0.9992 (fa:0.0009, pd:0.9992), patience: 0\u001b[0m\n"
     ]
    },
    {
     "name": "stdout",
     "output_type": "stream",
     "text": [
      "21/21 [==============================] - 0s 7ms/step - loss: 0.2198 - accuracy: 0.9829 - val_loss: 0.2172 - val_accuracy: 0.9814 - max_sp_val: 0.9992 - max_sp_fa_val: 8.5763e-04 - max_sp_pd_val: 0.9992\n",
      "Epoch 27/1000\n",
      "3/3 [==============================] - 0s 2ms/step loss: 0.2118 - accuracy: 0.98\n"
     ]
    },
    {
     "name": "stderr",
     "output_type": "stream",
     "text": [
      "\u001b[32m2025-04-26 01:40:10.671\u001b[0m | \u001b[1mINFO    \u001b[0m | \u001b[36msrc.callbacks\u001b[0m:\u001b[36mon_epoch_end\u001b[0m:\u001b[36m63\u001b[0m - \u001b[1mval_sp: 0.9992 (fa:0.0009, pd:0.9992), patience: 1\u001b[0m\n"
     ]
    },
    {
     "name": "stdout",
     "output_type": "stream",
     "text": [
      "21/21 [==============================] - 0s 7ms/step - loss: 0.2088 - accuracy: 0.9833 - val_loss: 0.2066 - val_accuracy: 0.9814 - max_sp_val: 0.9992 - max_sp_fa_val: 8.5763e-04 - max_sp_pd_val: 0.9992\n",
      "Epoch 28/1000\n",
      "3/3 [==============================] - 0s 2ms/step loss: 0.1999 - accuracy: 0.98\n"
     ]
    },
    {
     "name": "stderr",
     "output_type": "stream",
     "text": [
      "\u001b[32m2025-04-26 01:40:10.816\u001b[0m | \u001b[1mINFO    \u001b[0m | \u001b[36msrc.callbacks\u001b[0m:\u001b[36mon_epoch_end\u001b[0m:\u001b[36m63\u001b[0m - \u001b[1mval_sp: 0.9992 (fa:0.0009, pd:0.9992), patience: 2\u001b[0m\n"
     ]
    },
    {
     "name": "stdout",
     "output_type": "stream",
     "text": [
      "21/21 [==============================] - 0s 7ms/step - loss: 0.1985 - accuracy: 0.9838 - val_loss: 0.1967 - val_accuracy: 0.9822 - max_sp_val: 0.9992 - max_sp_fa_val: 8.5763e-04 - max_sp_pd_val: 0.9992\n",
      "Epoch 29/1000\n",
      "3/3 [==============================] - 0s 2ms/step loss: 0.1947 - accuracy: 0.98\n"
     ]
    },
    {
     "name": "stderr",
     "output_type": "stream",
     "text": [
      "\u001b[32m2025-04-26 01:40:10.963\u001b[0m | \u001b[1mINFO    \u001b[0m | \u001b[36msrc.callbacks\u001b[0m:\u001b[36mon_epoch_end\u001b[0m:\u001b[36m63\u001b[0m - \u001b[1mval_sp: 0.9992 (fa:0.0009, pd:0.9992), patience: 3\u001b[0m\n"
     ]
    },
    {
     "name": "stdout",
     "output_type": "stream",
     "text": [
      "21/21 [==============================] - 0s 7ms/step - loss: 0.1888 - accuracy: 0.9844 - val_loss: 0.1875 - val_accuracy: 0.9822 - max_sp_val: 0.9992 - max_sp_fa_val: 8.5763e-04 - max_sp_pd_val: 0.9992\n",
      "Epoch 30/1000\n",
      "3/3 [==============================] - 0s 2ms/step loss: 0.1845 - accuracy: 0.98\n"
     ]
    },
    {
     "name": "stderr",
     "output_type": "stream",
     "text": [
      "\u001b[32m2025-04-26 01:40:11.108\u001b[0m | \u001b[1mINFO    \u001b[0m | \u001b[36msrc.callbacks\u001b[0m:\u001b[36mon_epoch_end\u001b[0m:\u001b[36m63\u001b[0m - \u001b[1mval_sp: 0.9992 (fa:0.0009, pd:0.9992), patience: 4\u001b[0m\n"
     ]
    },
    {
     "name": "stdout",
     "output_type": "stream",
     "text": [
      "21/21 [==============================] - 0s 7ms/step - loss: 0.1798 - accuracy: 0.9845 - val_loss: 0.1788 - val_accuracy: 0.9831 - max_sp_val: 0.9992 - max_sp_fa_val: 8.5763e-04 - max_sp_pd_val: 0.9992\n",
      "Epoch 31/1000\n",
      "3/3 [==============================] - 0s 2ms/step loss: 0.1690 - accuracy: 0.98\n"
     ]
    },
    {
     "name": "stderr",
     "output_type": "stream",
     "text": [
      "\u001b[32m2025-04-26 01:40:11.254\u001b[0m | \u001b[1mINFO    \u001b[0m | \u001b[36msrc.callbacks\u001b[0m:\u001b[36mon_epoch_end\u001b[0m:\u001b[36m63\u001b[0m - \u001b[1mval_sp: 0.9992 (fa:0.0009, pd:0.9992), patience: 5\u001b[0m\n"
     ]
    },
    {
     "name": "stdout",
     "output_type": "stream",
     "text": [
      "21/21 [==============================] - 0s 7ms/step - loss: 0.1713 - accuracy: 0.9847 - val_loss: 0.1707 - val_accuracy: 0.9831 - max_sp_val: 0.9992 - max_sp_fa_val: 8.5763e-04 - max_sp_pd_val: 0.9992\n",
      "Epoch 32/1000\n",
      "3/3 [==============================] - 0s 2ms/step loss: 0.1667 - accuracy: 0.98\n"
     ]
    },
    {
     "name": "stderr",
     "output_type": "stream",
     "text": [
      "\u001b[32m2025-04-26 01:40:11.405\u001b[0m | \u001b[1mINFO    \u001b[0m | \u001b[36msrc.callbacks\u001b[0m:\u001b[36mon_epoch_end\u001b[0m:\u001b[36m63\u001b[0m - \u001b[1mval_sp: 0.9992 (fa:0.0009, pd:0.9992), patience: 6\u001b[0m\n"
     ]
    },
    {
     "name": "stdout",
     "output_type": "stream",
     "text": [
      "21/21 [==============================] - 0s 7ms/step - loss: 0.1635 - accuracy: 0.9851 - val_loss: 0.1631 - val_accuracy: 0.9831 - max_sp_val: 0.9992 - max_sp_fa_val: 8.5763e-04 - max_sp_pd_val: 0.9992\n",
      "Epoch 33/1000\n",
      "3/3 [==============================] - 0s 2ms/step loss: 0.1605 - accuracy: 0.98\n"
     ]
    },
    {
     "name": "stderr",
     "output_type": "stream",
     "text": [
      "\u001b[32m2025-04-26 01:40:11.556\u001b[0m | \u001b[1mINFO    \u001b[0m | \u001b[36msrc.callbacks\u001b[0m:\u001b[36mon_epoch_end\u001b[0m:\u001b[36m63\u001b[0m - \u001b[1mval_sp: 0.9992 (fa:0.0009, pd:0.9992), patience: 7\u001b[0m\n"
     ]
    },
    {
     "name": "stdout",
     "output_type": "stream",
     "text": [
      "21/21 [==============================] - 0s 7ms/step - loss: 0.1561 - accuracy: 0.9856 - val_loss: 0.1560 - val_accuracy: 0.9844 - max_sp_val: 0.9992 - max_sp_fa_val: 8.5763e-04 - max_sp_pd_val: 0.9992\n",
      "Epoch 34/1000\n",
      "3/3 [==============================] - 0s 2ms/step loss: 0.1567 - accuracy: 0.98\n"
     ]
    },
    {
     "name": "stderr",
     "output_type": "stream",
     "text": [
      "\u001b[32m2025-04-26 01:40:11.708\u001b[0m | \u001b[1mINFO    \u001b[0m | \u001b[36msrc.callbacks\u001b[0m:\u001b[36mon_epoch_end\u001b[0m:\u001b[36m63\u001b[0m - \u001b[1mval_sp: 0.9992 (fa:0.0009, pd:0.9992), patience: 8\u001b[0m\n"
     ]
    },
    {
     "name": "stdout",
     "output_type": "stream",
     "text": [
      "21/21 [==============================] - 0s 7ms/step - loss: 0.1492 - accuracy: 0.9857 - val_loss: 0.1493 - val_accuracy: 0.9848 - max_sp_val: 0.9992 - max_sp_fa_val: 8.5763e-04 - max_sp_pd_val: 0.9992\n",
      "Epoch 35/1000\n",
      "3/3 [==============================] - 0s 2ms/step loss: 0.1462 - accuracy: 0.98\n"
     ]
    },
    {
     "name": "stderr",
     "output_type": "stream",
     "text": [
      "\u001b[32m2025-04-26 01:40:11.861\u001b[0m | \u001b[1mINFO    \u001b[0m | \u001b[36msrc.callbacks\u001b[0m:\u001b[36mon_epoch_end\u001b[0m:\u001b[36m63\u001b[0m - \u001b[1mval_sp: 0.9992 (fa:0.0009, pd:0.9992), patience: 9\u001b[0m\n"
     ]
    },
    {
     "name": "stdout",
     "output_type": "stream",
     "text": [
      "21/21 [==============================] - 0s 7ms/step - loss: 0.1427 - accuracy: 0.9858 - val_loss: 0.1431 - val_accuracy: 0.9852 - max_sp_val: 0.9992 - max_sp_fa_val: 8.5763e-04 - max_sp_pd_val: 0.9992\n",
      "Epoch 36/1000\n",
      "3/3 [==============================] - 0s 2ms/step loss: 0.1405 - accuracy: 0.98\n"
     ]
    },
    {
     "name": "stderr",
     "output_type": "stream",
     "text": [
      "\u001b[32m2025-04-26 01:40:12.009\u001b[0m | \u001b[1mINFO    \u001b[0m | \u001b[36msrc.callbacks\u001b[0m:\u001b[36mon_epoch_end\u001b[0m:\u001b[36m63\u001b[0m - \u001b[1mval_sp: 0.9992 (fa:0.0009, pd:0.9992), patience: 10\u001b[0m\n"
     ]
    },
    {
     "name": "stdout",
     "output_type": "stream",
     "text": [
      "21/21 [==============================] - 0s 7ms/step - loss: 0.1367 - accuracy: 0.9864 - val_loss: 0.1373 - val_accuracy: 0.9852 - max_sp_val: 0.9992 - max_sp_fa_val: 8.5763e-04 - max_sp_pd_val: 0.9992\n",
      "Epoch 37/1000\n",
      "3/3 [==============================] - 0s 2ms/step loss: 0.1374 - accuracy: 0.98\n"
     ]
    },
    {
     "name": "stderr",
     "output_type": "stream",
     "text": [
      "\u001b[32m2025-04-26 01:40:12.151\u001b[0m | \u001b[1mINFO    \u001b[0m | \u001b[36msrc.callbacks\u001b[0m:\u001b[36mon_epoch_end\u001b[0m:\u001b[36m63\u001b[0m - \u001b[1mval_sp: 0.9992 (fa:0.0009, pd:0.9992), patience: 11\u001b[0m\n"
     ]
    },
    {
     "name": "stdout",
     "output_type": "stream",
     "text": [
      "21/21 [==============================] - 0s 7ms/step - loss: 0.1310 - accuracy: 0.9865 - val_loss: 0.1318 - val_accuracy: 0.9852 - max_sp_val: 0.9992 - max_sp_fa_val: 8.5763e-04 - max_sp_pd_val: 0.9992\n",
      "Epoch 38/1000\n",
      "3/3 [==============================] - 0s 2ms/step loss: 0.1257 - accuracy: 0.98\n"
     ]
    },
    {
     "name": "stderr",
     "output_type": "stream",
     "text": [
      "\u001b[32m2025-04-26 01:40:12.302\u001b[0m | \u001b[1mINFO    \u001b[0m | \u001b[36msrc.callbacks\u001b[0m:\u001b[36mon_epoch_end\u001b[0m:\u001b[36m63\u001b[0m - \u001b[1mval_sp: 0.9992 (fa:0.0009, pd:0.9992), patience: 12\u001b[0m\n"
     ]
    },
    {
     "name": "stdout",
     "output_type": "stream",
     "text": [
      "21/21 [==============================] - 0s 7ms/step - loss: 0.1257 - accuracy: 0.9868 - val_loss: 0.1266 - val_accuracy: 0.9852 - max_sp_val: 0.9992 - max_sp_fa_val: 8.5763e-04 - max_sp_pd_val: 0.9992\n",
      "Epoch 39/1000\n",
      "3/3 [==============================] - 0s 2ms/step loss: 0.1240 - accuracy: 0.98\n"
     ]
    },
    {
     "name": "stderr",
     "output_type": "stream",
     "text": [
      "\u001b[32m2025-04-26 01:40:12.455\u001b[0m | \u001b[1mINFO    \u001b[0m | \u001b[36msrc.callbacks\u001b[0m:\u001b[36mon_epoch_end\u001b[0m:\u001b[36m63\u001b[0m - \u001b[1mval_sp: 0.9992 (fa:0.0009, pd:0.9992), patience: 13\u001b[0m\n"
     ]
    },
    {
     "name": "stdout",
     "output_type": "stream",
     "text": [
      "21/21 [==============================] - 0s 7ms/step - loss: 0.1207 - accuracy: 0.9872 - val_loss: 0.1218 - val_accuracy: 0.9856 - max_sp_val: 0.9992 - max_sp_fa_val: 8.5763e-04 - max_sp_pd_val: 0.9992\n",
      "Epoch 40/1000\n",
      "3/3 [==============================] - 0s 2ms/step loss: 0.1164 - accuracy: 0.98\n"
     ]
    },
    {
     "name": "stderr",
     "output_type": "stream",
     "text": [
      "\u001b[32m2025-04-26 01:40:12.606\u001b[0m | \u001b[1mINFO    \u001b[0m | \u001b[36msrc.callbacks\u001b[0m:\u001b[36mon_epoch_end\u001b[0m:\u001b[36m63\u001b[0m - \u001b[1mval_sp: 0.9992 (fa:0.0009, pd:0.9992), patience: 14\u001b[0m\n"
     ]
    },
    {
     "name": "stdout",
     "output_type": "stream",
     "text": [
      "21/21 [==============================] - 0s 7ms/step - loss: 0.1160 - accuracy: 0.9875 - val_loss: 0.1172 - val_accuracy: 0.9856 - max_sp_val: 0.9992 - max_sp_fa_val: 8.5763e-04 - max_sp_pd_val: 0.9992\n",
      "Epoch 41/1000\n",
      "3/3 [==============================] - 0s 2ms/step loss: 0.1164 - accuracy: 0.98\n"
     ]
    },
    {
     "name": "stderr",
     "output_type": "stream",
     "text": [
      "\u001b[32m2025-04-26 01:40:12.756\u001b[0m | \u001b[1mINFO    \u001b[0m | \u001b[36msrc.callbacks\u001b[0m:\u001b[36mon_epoch_end\u001b[0m:\u001b[36m63\u001b[0m - \u001b[1mval_sp: 0.9992 (fa:0.0009, pd:0.9992), patience: 15\u001b[0m\n"
     ]
    },
    {
     "name": "stdout",
     "output_type": "stream",
     "text": [
      "21/21 [==============================] - 0s 7ms/step - loss: 0.1116 - accuracy: 0.9878 - val_loss: 0.1129 - val_accuracy: 0.9856 - max_sp_val: 0.9992 - max_sp_fa_val: 8.5763e-04 - max_sp_pd_val: 0.9992\n",
      "Epoch 42/1000\n",
      "3/3 [==============================] - 0s 2ms/step loss: 0.1038 - accuracy: 0.99\n"
     ]
    },
    {
     "name": "stderr",
     "output_type": "stream",
     "text": [
      "\u001b[32m2025-04-26 01:40:12.906\u001b[0m | \u001b[1mINFO    \u001b[0m | \u001b[36msrc.callbacks\u001b[0m:\u001b[36mon_epoch_end\u001b[0m:\u001b[36m63\u001b[0m - \u001b[1mval_sp: 0.9992 (fa:0.0009, pd:0.9992), patience: 16\u001b[0m\n"
     ]
    },
    {
     "name": "stdout",
     "output_type": "stream",
     "text": [
      "21/21 [==============================] - 0s 7ms/step - loss: 0.1075 - accuracy: 0.9882 - val_loss: 0.1089 - val_accuracy: 0.9856 - max_sp_val: 0.9992 - max_sp_fa_val: 8.5763e-04 - max_sp_pd_val: 0.9992\n",
      "Epoch 43/1000\n",
      "3/3 [==============================] - 0s 2ms/step loss: 0.1052 - accuracy: 0.99\n"
     ]
    },
    {
     "name": "stderr",
     "output_type": "stream",
     "text": [
      "\u001b[32m2025-04-26 01:40:13.053\u001b[0m | \u001b[1mINFO    \u001b[0m | \u001b[36msrc.callbacks\u001b[0m:\u001b[36mon_epoch_end\u001b[0m:\u001b[36m63\u001b[0m - \u001b[1mval_sp: 0.9992 (fa:0.0009, pd:0.9992), patience: 17\u001b[0m\n"
     ]
    },
    {
     "name": "stdout",
     "output_type": "stream",
     "text": [
      "21/21 [==============================] - 0s 7ms/step - loss: 0.1036 - accuracy: 0.9885 - val_loss: 0.1051 - val_accuracy: 0.9856 - max_sp_val: 0.9992 - max_sp_fa_val: 8.5763e-04 - max_sp_pd_val: 0.9992\n",
      "Epoch 44/1000\n",
      "3/3 [==============================] - 0s 2ms/step loss: 0.1074 - accuracy: 0.98\n"
     ]
    },
    {
     "name": "stderr",
     "output_type": "stream",
     "text": [
      "\u001b[32m2025-04-26 01:40:13.203\u001b[0m | \u001b[1mINFO    \u001b[0m | \u001b[36msrc.callbacks\u001b[0m:\u001b[36mon_epoch_end\u001b[0m:\u001b[36m63\u001b[0m - \u001b[1mval_sp: 0.9992 (fa:0.0009, pd:0.9992), patience: 18\u001b[0m\n"
     ]
    },
    {
     "name": "stdout",
     "output_type": "stream",
     "text": [
      "21/21 [==============================] - 0s 7ms/step - loss: 0.0999 - accuracy: 0.9887 - val_loss: 0.1015 - val_accuracy: 0.9856 - max_sp_val: 0.9992 - max_sp_fa_val: 8.5763e-04 - max_sp_pd_val: 0.9992\n",
      "Epoch 45/1000\n",
      "3/3 [==============================] - 0s 2ms/step loss: 0.1020 - accuracy: 0.98\n"
     ]
    },
    {
     "name": "stderr",
     "output_type": "stream",
     "text": [
      "\u001b[32m2025-04-26 01:40:13.360\u001b[0m | \u001b[1mINFO    \u001b[0m | \u001b[36msrc.callbacks\u001b[0m:\u001b[36mon_epoch_end\u001b[0m:\u001b[36m63\u001b[0m - \u001b[1mval_sp: 0.9992 (fa:0.0009, pd:0.9992), patience: 19\u001b[0m\n"
     ]
    },
    {
     "name": "stdout",
     "output_type": "stream",
     "text": [
      "21/21 [==============================] - 0s 8ms/step - loss: 0.0964 - accuracy: 0.9888 - val_loss: 0.0980 - val_accuracy: 0.9856 - max_sp_val: 0.9992 - max_sp_fa_val: 8.5763e-04 - max_sp_pd_val: 0.9992\n",
      "Epoch 46/1000\n",
      "3/3 [==============================] - 0s 2ms/step loss: 0.0973 - accuracy: 0.99\n"
     ]
    },
    {
     "name": "stderr",
     "output_type": "stream",
     "text": [
      "\u001b[32m2025-04-26 01:40:13.507\u001b[0m | \u001b[1mINFO    \u001b[0m | \u001b[36msrc.callbacks\u001b[0m:\u001b[36mon_epoch_end\u001b[0m:\u001b[36m63\u001b[0m - \u001b[1mval_sp: 0.9992 (fa:0.0009, pd:0.9992), patience: 20\u001b[0m\n"
     ]
    },
    {
     "name": "stdout",
     "output_type": "stream",
     "text": [
      "21/21 [==============================] - 0s 7ms/step - loss: 0.0931 - accuracy: 0.9889 - val_loss: 0.0948 - val_accuracy: 0.9856 - max_sp_val: 0.9992 - max_sp_fa_val: 8.5763e-04 - max_sp_pd_val: 0.9992\n",
      "Epoch 47/1000\n",
      "3/3 [==============================] - 0s 2ms/step loss: 0.0901 - accuracy: 0.98\n"
     ]
    },
    {
     "name": "stderr",
     "output_type": "stream",
     "text": [
      "\u001b[32m2025-04-26 01:40:13.652\u001b[0m | \u001b[1mINFO    \u001b[0m | \u001b[36msrc.callbacks\u001b[0m:\u001b[36mon_epoch_end\u001b[0m:\u001b[36m63\u001b[0m - \u001b[1mval_sp: 0.9992 (fa:0.0009, pd:0.9992), patience: 21\u001b[0m\n"
     ]
    },
    {
     "name": "stdout",
     "output_type": "stream",
     "text": [
      "21/21 [==============================] - 0s 7ms/step - loss: 0.0900 - accuracy: 0.9889 - val_loss: 0.0918 - val_accuracy: 0.9856 - max_sp_val: 0.9992 - max_sp_fa_val: 8.5763e-04 - max_sp_pd_val: 0.9992\n",
      "Epoch 48/1000\n",
      "3/3 [==============================] - 0s 2ms/step loss: 0.0903 - accuracy: 0.98\n"
     ]
    },
    {
     "name": "stderr",
     "output_type": "stream",
     "text": [
      "\u001b[32m2025-04-26 01:40:13.799\u001b[0m | \u001b[1mINFO    \u001b[0m | \u001b[36msrc.callbacks\u001b[0m:\u001b[36mon_epoch_end\u001b[0m:\u001b[36m63\u001b[0m - \u001b[1mval_sp: 0.9992 (fa:0.0009, pd:0.9992), patience: 22\u001b[0m\n"
     ]
    },
    {
     "name": "stdout",
     "output_type": "stream",
     "text": [
      "21/21 [==============================] - 0s 7ms/step - loss: 0.0871 - accuracy: 0.9890 - val_loss: 0.0889 - val_accuracy: 0.9856 - max_sp_val: 0.9992 - max_sp_fa_val: 8.5763e-04 - max_sp_pd_val: 0.9992\n",
      "Epoch 49/1000\n",
      "3/3 [==============================] - 0s 2ms/step loss: 0.0816 - accuracy: 0.99\n"
     ]
    },
    {
     "name": "stderr",
     "output_type": "stream",
     "text": [
      "\u001b[32m2025-04-26 01:40:13.948\u001b[0m | \u001b[1mINFO    \u001b[0m | \u001b[36msrc.callbacks\u001b[0m:\u001b[36mon_epoch_end\u001b[0m:\u001b[36m63\u001b[0m - \u001b[1mval_sp: 0.9992 (fa:0.0009, pd:0.9992), patience: 23\u001b[0m\n"
     ]
    },
    {
     "name": "stdout",
     "output_type": "stream",
     "text": [
      "21/21 [==============================] - 0s 7ms/step - loss: 0.0843 - accuracy: 0.9891 - val_loss: 0.0862 - val_accuracy: 0.9856 - max_sp_val: 0.9992 - max_sp_fa_val: 8.5763e-04 - max_sp_pd_val: 0.9992\n",
      "Epoch 50/1000\n",
      "3/3 [==============================] - 0s 2ms/step loss: 0.0855 - accuracy: 0.98\n"
     ]
    },
    {
     "name": "stderr",
     "output_type": "stream",
     "text": [
      "\u001b[32m2025-04-26 01:40:14.105\u001b[0m | \u001b[1mINFO    \u001b[0m | \u001b[36msrc.callbacks\u001b[0m:\u001b[36mon_epoch_end\u001b[0m:\u001b[36m63\u001b[0m - \u001b[1mval_sp: 0.9992 (fa:0.0009, pd:0.9992), patience: 24\u001b[0m\n"
     ]
    },
    {
     "name": "stdout",
     "output_type": "stream",
     "text": [
      "21/21 [==============================] - 0s 8ms/step - loss: 0.0817 - accuracy: 0.9896 - val_loss: 0.0835 - val_accuracy: 0.9869 - max_sp_val: 0.9992 - max_sp_fa_val: 8.5763e-04 - max_sp_pd_val: 0.9992\n",
      "Epoch 51/1000\n",
      "3/3 [==============================] - 0s 3ms/step loss: 0.0867 - accuracy: 0.98\n"
     ]
    },
    {
     "name": "stderr",
     "output_type": "stream",
     "text": [
      "\u001b[32m2025-04-26 01:40:14.261\u001b[0m | \u001b[1mINFO    \u001b[0m | \u001b[36msrc.callbacks\u001b[0m:\u001b[36mon_epoch_end\u001b[0m:\u001b[36m63\u001b[0m - \u001b[1mval_sp: 0.9992 (fa:0.0009, pd:0.9992), patience: 25\u001b[0m\n"
     ]
    },
    {
     "name": "stdout",
     "output_type": "stream",
     "text": [
      "21/21 [==============================] - 0s 8ms/step - loss: 0.0792 - accuracy: 0.9899 - val_loss: 0.0811 - val_accuracy: 0.9869 - max_sp_val: 0.9992 - max_sp_fa_val: 8.5763e-04 - max_sp_pd_val: 0.9992\n",
      "Epoch 52/1000\n",
      "3/3 [==============================] - 0s 2ms/step loss: 0.0681 - accuracy: 0.99\n"
     ]
    },
    {
     "name": "stderr",
     "output_type": "stream",
     "text": [
      "\u001b[32m2025-04-26 01:40:14.407\u001b[0m | \u001b[1mINFO    \u001b[0m | \u001b[36msrc.callbacks\u001b[0m:\u001b[36mon_epoch_end\u001b[0m:\u001b[36m63\u001b[0m - \u001b[1mval_sp: 0.9992 (fa:0.0009, pd:0.9992), patience: 26\u001b[0m\n"
     ]
    },
    {
     "name": "stdout",
     "output_type": "stream",
     "text": [
      "21/21 [==============================] - 0s 7ms/step - loss: 0.0768 - accuracy: 0.9901 - val_loss: 0.0787 - val_accuracy: 0.9869 - max_sp_val: 0.9992 - max_sp_fa_val: 8.5763e-04 - max_sp_pd_val: 0.9992\n",
      "Epoch 53/1000\n",
      "3/3 [==============================] - 0s 2ms/step loss: 0.0797 - accuracy: 0.98\n"
     ]
    },
    {
     "name": "stderr",
     "output_type": "stream",
     "text": [
      "\u001b[32m2025-04-26 01:40:14.553\u001b[0m | \u001b[1mINFO    \u001b[0m | \u001b[36msrc.callbacks\u001b[0m:\u001b[36mon_epoch_end\u001b[0m:\u001b[36m63\u001b[0m - \u001b[1mval_sp: 0.9992 (fa:0.0009, pd:0.9992), patience: 27\u001b[0m\n"
     ]
    },
    {
     "name": "stdout",
     "output_type": "stream",
     "text": [
      "21/21 [==============================] - 0s 7ms/step - loss: 0.0746 - accuracy: 0.9903 - val_loss: 0.0765 - val_accuracy: 0.9869 - max_sp_val: 0.9992 - max_sp_fa_val: 8.5763e-04 - max_sp_pd_val: 0.9992\n",
      "Epoch 54/1000\n",
      "3/3 [==============================] - 0s 2ms/step loss: 0.0728 - accuracy: 0.99\n"
     ]
    },
    {
     "name": "stderr",
     "output_type": "stream",
     "text": [
      "\u001b[32m2025-04-26 01:40:14.701\u001b[0m | \u001b[1mINFO    \u001b[0m | \u001b[36msrc.callbacks\u001b[0m:\u001b[36mon_epoch_end\u001b[0m:\u001b[36m63\u001b[0m - \u001b[1mval_sp: 0.9992 (fa:0.0009, pd:0.9992), patience: 28\u001b[0m\n"
     ]
    },
    {
     "name": "stdout",
     "output_type": "stream",
     "text": [
      "21/21 [==============================] - 0s 7ms/step - loss: 0.0725 - accuracy: 0.9906 - val_loss: 0.0744 - val_accuracy: 0.9869 - max_sp_val: 0.9992 - max_sp_fa_val: 8.5763e-04 - max_sp_pd_val: 0.9992\n",
      "Epoch 55/1000\n",
      "3/3 [==============================] - 0s 2ms/step loss: 0.0796 - accuracy: 0.98\n"
     ]
    },
    {
     "name": "stderr",
     "output_type": "stream",
     "text": [
      "\u001b[32m2025-04-26 01:40:14.845\u001b[0m | \u001b[1mINFO    \u001b[0m | \u001b[36msrc.callbacks\u001b[0m:\u001b[36mon_epoch_end\u001b[0m:\u001b[36m63\u001b[0m - \u001b[1mval_sp: 0.9992 (fa:0.0009, pd:0.9992), patience: 29\u001b[0m\n"
     ]
    },
    {
     "name": "stdout",
     "output_type": "stream",
     "text": [
      "21/21 [==============================] - 0s 7ms/step - loss: 0.0704 - accuracy: 0.9909 - val_loss: 0.0723 - val_accuracy: 0.9873 - max_sp_val: 0.9992 - max_sp_fa_val: 8.5763e-04 - max_sp_pd_val: 0.9992\n",
      "Epoch 56/1000\n",
      "3/3 [==============================] - 0s 2ms/step loss: 0.0716 - accuracy: 0.98\n"
     ]
    },
    {
     "name": "stderr",
     "output_type": "stream",
     "text": [
      "\u001b[32m2025-04-26 01:40:14.996\u001b[0m | \u001b[1mINFO    \u001b[0m | \u001b[36msrc.callbacks\u001b[0m:\u001b[36mon_epoch_end\u001b[0m:\u001b[36m63\u001b[0m - \u001b[1mval_sp: 0.9992 (fa:0.0009, pd:0.9992), patience: 30\u001b[0m\n"
     ]
    },
    {
     "name": "stdout",
     "output_type": "stream",
     "text": [
      "21/21 [==============================] - 0s 7ms/step - loss: 0.0685 - accuracy: 0.9909 - val_loss: 0.0704 - val_accuracy: 0.9882 - max_sp_val: 0.9992 - max_sp_fa_val: 8.5763e-04 - max_sp_pd_val: 0.9992\n",
      "Epoch 57/1000\n",
      "3/3 [==============================] - 0s 3ms/step loss: 0.0655 - accuracy: 0.99\n"
     ]
    },
    {
     "name": "stderr",
     "output_type": "stream",
     "text": [
      "\u001b[32m2025-04-26 01:40:15.153\u001b[0m | \u001b[1mINFO    \u001b[0m | \u001b[36msrc.callbacks\u001b[0m:\u001b[36mon_epoch_end\u001b[0m:\u001b[36m63\u001b[0m - \u001b[1mval_sp: 0.9992 (fa:0.0009, pd:0.9992), patience: 31\u001b[0m\n"
     ]
    },
    {
     "name": "stdout",
     "output_type": "stream",
     "text": [
      "21/21 [==============================] - 0s 8ms/step - loss: 0.0667 - accuracy: 0.9909 - val_loss: 0.0686 - val_accuracy: 0.9882 - max_sp_val: 0.9992 - max_sp_fa_val: 8.5763e-04 - max_sp_pd_val: 0.9992\n",
      "Epoch 58/1000\n",
      "3/3 [==============================] - 0s 2ms/step loss: 0.0594 - accuracy: 0.99\n"
     ]
    },
    {
     "name": "stderr",
     "output_type": "stream",
     "text": [
      "\u001b[32m2025-04-26 01:40:15.304\u001b[0m | \u001b[1mINFO    \u001b[0m | \u001b[36msrc.callbacks\u001b[0m:\u001b[36mon_epoch_end\u001b[0m:\u001b[36m63\u001b[0m - \u001b[1mval_sp: 0.9992 (fa:0.0009, pd:0.9992), patience: 32\u001b[0m\n"
     ]
    },
    {
     "name": "stdout",
     "output_type": "stream",
     "text": [
      "21/21 [==============================] - 0s 7ms/step - loss: 0.0649 - accuracy: 0.9911 - val_loss: 0.0668 - val_accuracy: 0.9882 - max_sp_val: 0.9992 - max_sp_fa_val: 8.5763e-04 - max_sp_pd_val: 0.9992\n",
      "Epoch 59/1000\n",
      "3/3 [==============================] - 0s 2ms/step loss: 0.0579 - accuracy: 0.99\n"
     ]
    },
    {
     "name": "stderr",
     "output_type": "stream",
     "text": [
      "\u001b[32m2025-04-26 01:40:15.451\u001b[0m | \u001b[1mINFO    \u001b[0m | \u001b[36msrc.callbacks\u001b[0m:\u001b[36mon_epoch_end\u001b[0m:\u001b[36m63\u001b[0m - \u001b[1mval_sp: 0.9992 (fa:0.0009, pd:0.9992), patience: 33\u001b[0m\n"
     ]
    },
    {
     "name": "stdout",
     "output_type": "stream",
     "text": [
      "21/21 [==============================] - 0s 7ms/step - loss: 0.0632 - accuracy: 0.9912 - val_loss: 0.0651 - val_accuracy: 0.9882 - max_sp_val: 0.9992 - max_sp_fa_val: 8.5763e-04 - max_sp_pd_val: 0.9992\n",
      "Epoch 60/1000\n",
      "3/3 [==============================] - 0s 2ms/step loss: 0.0574 - accuracy: 0.99\n"
     ]
    },
    {
     "name": "stderr",
     "output_type": "stream",
     "text": [
      "\u001b[32m2025-04-26 01:40:15.599\u001b[0m | \u001b[1mINFO    \u001b[0m | \u001b[36msrc.callbacks\u001b[0m:\u001b[36mon_epoch_end\u001b[0m:\u001b[36m63\u001b[0m - \u001b[1mval_sp: 0.9992 (fa:0.0009, pd:0.9992), patience: 34\u001b[0m\n"
     ]
    },
    {
     "name": "stdout",
     "output_type": "stream",
     "text": [
      "21/21 [==============================] - 0s 7ms/step - loss: 0.0616 - accuracy: 0.9914 - val_loss: 0.0635 - val_accuracy: 0.9890 - max_sp_val: 0.9992 - max_sp_fa_val: 8.5763e-04 - max_sp_pd_val: 0.9992\n",
      "Epoch 61/1000\n",
      "3/3 [==============================] - 0s 2ms/step loss: 0.0611 - accuracy: 0.99\n"
     ]
    },
    {
     "name": "stderr",
     "output_type": "stream",
     "text": [
      "\u001b[32m2025-04-26 01:40:15.751\u001b[0m | \u001b[1mINFO    \u001b[0m | \u001b[36msrc.callbacks\u001b[0m:\u001b[36mon_epoch_end\u001b[0m:\u001b[36m63\u001b[0m - \u001b[1mval_sp: 0.9992 (fa:0.0009, pd:0.9992), patience: 35\u001b[0m\n"
     ]
    },
    {
     "name": "stdout",
     "output_type": "stream",
     "text": [
      "21/21 [==============================] - 0s 7ms/step - loss: 0.0601 - accuracy: 0.9914 - val_loss: 0.0619 - val_accuracy: 0.9890 - max_sp_val: 0.9992 - max_sp_fa_val: 8.5763e-04 - max_sp_pd_val: 0.9992\n",
      "Epoch 62/1000\n",
      "3/3 [==============================] - 0s 2ms/step loss: 0.0597 - accuracy: 0.99\n"
     ]
    },
    {
     "name": "stderr",
     "output_type": "stream",
     "text": [
      "\u001b[32m2025-04-26 01:40:15.899\u001b[0m | \u001b[1mINFO    \u001b[0m | \u001b[36msrc.callbacks\u001b[0m:\u001b[36mon_epoch_end\u001b[0m:\u001b[36m63\u001b[0m - \u001b[1mval_sp: 0.9992 (fa:0.0009, pd:0.9992), patience: 36\u001b[0m\n"
     ]
    },
    {
     "name": "stdout",
     "output_type": "stream",
     "text": [
      "21/21 [==============================] - 0s 7ms/step - loss: 0.0586 - accuracy: 0.9916 - val_loss: 0.0604 - val_accuracy: 0.9890 - max_sp_val: 0.9992 - max_sp_fa_val: 8.5763e-04 - max_sp_pd_val: 0.9992\n",
      "Epoch 63/1000\n",
      "3/3 [==============================] - 0s 2ms/step loss: 0.0583 - accuracy: 0.99\n"
     ]
    },
    {
     "name": "stderr",
     "output_type": "stream",
     "text": [
      "\u001b[32m2025-04-26 01:40:16.057\u001b[0m | \u001b[1mINFO    \u001b[0m | \u001b[36msrc.callbacks\u001b[0m:\u001b[36mon_epoch_end\u001b[0m:\u001b[36m63\u001b[0m - \u001b[1mval_sp: 0.9992 (fa:0.0009, pd:0.9992), patience: 37\u001b[0m\n"
     ]
    },
    {
     "name": "stdout",
     "output_type": "stream",
     "text": [
      "21/21 [==============================] - 0s 8ms/step - loss: 0.0572 - accuracy: 0.9916 - val_loss: 0.0590 - val_accuracy: 0.9894 - max_sp_val: 0.9992 - max_sp_fa_val: 8.5763e-04 - max_sp_pd_val: 0.9992\n",
      "Epoch 64/1000\n",
      "3/3 [==============================] - 0s 2ms/step loss: 0.0539 - accuracy: 0.99\n"
     ]
    },
    {
     "name": "stderr",
     "output_type": "stream",
     "text": [
      "\u001b[32m2025-04-26 01:40:16.207\u001b[0m | \u001b[1mINFO    \u001b[0m | \u001b[36msrc.callbacks\u001b[0m:\u001b[36mon_epoch_end\u001b[0m:\u001b[36m63\u001b[0m - \u001b[1mval_sp: 0.9992 (fa:0.0009, pd:0.9992), patience: 38\u001b[0m\n"
     ]
    },
    {
     "name": "stdout",
     "output_type": "stream",
     "text": [
      "21/21 [==============================] - 0s 7ms/step - loss: 0.0559 - accuracy: 0.9916 - val_loss: 0.0577 - val_accuracy: 0.9894 - max_sp_val: 0.9992 - max_sp_fa_val: 8.5763e-04 - max_sp_pd_val: 0.9992\n",
      "Epoch 65/1000\n",
      "3/3 [==============================] - 0s 2ms/step loss: 0.0523 - accuracy: 0.99\n"
     ]
    },
    {
     "name": "stderr",
     "output_type": "stream",
     "text": [
      "\u001b[32m2025-04-26 01:40:16.357\u001b[0m | \u001b[1mINFO    \u001b[0m | \u001b[36msrc.callbacks\u001b[0m:\u001b[36mon_epoch_end\u001b[0m:\u001b[36m63\u001b[0m - \u001b[1mval_sp: 0.9992 (fa:0.0009, pd:0.9992), patience: 39\u001b[0m\n"
     ]
    },
    {
     "name": "stdout",
     "output_type": "stream",
     "text": [
      "21/21 [==============================] - 0s 7ms/step - loss: 0.0546 - accuracy: 0.9917 - val_loss: 0.0563 - val_accuracy: 0.9894 - max_sp_val: 0.9992 - max_sp_fa_val: 8.5763e-04 - max_sp_pd_val: 0.9992\n",
      "Epoch 66/1000\n",
      "3/3 [==============================] - 0s 2ms/step loss: 0.0600 - accuracy: 0.99\n"
     ]
    },
    {
     "name": "stderr",
     "output_type": "stream",
     "text": [
      "\u001b[32m2025-04-26 01:40:16.503\u001b[0m | \u001b[1mINFO    \u001b[0m | \u001b[36msrc.callbacks\u001b[0m:\u001b[36mon_epoch_end\u001b[0m:\u001b[36m63\u001b[0m - \u001b[1mval_sp: 0.9992 (fa:0.0009, pd:0.9992), patience: 40\u001b[0m\n"
     ]
    },
    {
     "name": "stdout",
     "output_type": "stream",
     "text": [
      "21/21 [==============================] - 0s 7ms/step - loss: 0.0533 - accuracy: 0.9918 - val_loss: 0.0551 - val_accuracy: 0.9899 - max_sp_val: 0.9992 - max_sp_fa_val: 8.5763e-04 - max_sp_pd_val: 0.9992\n",
      "Epoch 67/1000\n",
      "3/3 [==============================] - 0s 2ms/step loss: 0.0566 - accuracy: 0.99\n"
     ]
    },
    {
     "name": "stderr",
     "output_type": "stream",
     "text": [
      "\u001b[32m2025-04-26 01:40:16.654\u001b[0m | \u001b[1mINFO    \u001b[0m | \u001b[36msrc.callbacks\u001b[0m:\u001b[36mon_epoch_end\u001b[0m:\u001b[36m63\u001b[0m - \u001b[1mval_sp: 0.9992 (fa:0.0009, pd:0.9992), patience: 41\u001b[0m\n"
     ]
    },
    {
     "name": "stdout",
     "output_type": "stream",
     "text": [
      "21/21 [==============================] - 0s 7ms/step - loss: 0.0522 - accuracy: 0.9918 - val_loss: 0.0539 - val_accuracy: 0.9899 - max_sp_val: 0.9992 - max_sp_fa_val: 8.5763e-04 - max_sp_pd_val: 0.9992\n",
      "Epoch 68/1000\n",
      "3/3 [==============================] - 0s 2ms/step loss: 0.0465 - accuracy: 0.99\n"
     ]
    },
    {
     "name": "stderr",
     "output_type": "stream",
     "text": [
      "\u001b[32m2025-04-26 01:40:16.802\u001b[0m | \u001b[1mINFO    \u001b[0m | \u001b[36msrc.callbacks\u001b[0m:\u001b[36mon_epoch_end\u001b[0m:\u001b[36m63\u001b[0m - \u001b[1mval_sp: 0.9992 (fa:0.0009, pd:0.9992), patience: 42\u001b[0m\n"
     ]
    },
    {
     "name": "stdout",
     "output_type": "stream",
     "text": [
      "21/21 [==============================] - 0s 7ms/step - loss: 0.0510 - accuracy: 0.9918 - val_loss: 0.0527 - val_accuracy: 0.9899 - max_sp_val: 0.9992 - max_sp_fa_val: 8.5763e-04 - max_sp_pd_val: 0.9992\n",
      "Epoch 69/1000\n",
      "3/3 [==============================] - 0s 2ms/step loss: 0.0532 - accuracy: 0.99\n"
     ]
    },
    {
     "name": "stderr",
     "output_type": "stream",
     "text": [
      "\u001b[32m2025-04-26 01:40:16.957\u001b[0m | \u001b[1mINFO    \u001b[0m | \u001b[36msrc.callbacks\u001b[0m:\u001b[36mon_epoch_end\u001b[0m:\u001b[36m63\u001b[0m - \u001b[1mval_sp: 0.9992 (fa:0.0009, pd:0.9992), patience: 43\u001b[0m\n"
     ]
    },
    {
     "name": "stdout",
     "output_type": "stream",
     "text": [
      "21/21 [==============================] - 0s 8ms/step - loss: 0.0499 - accuracy: 0.9919 - val_loss: 0.0516 - val_accuracy: 0.9899 - max_sp_val: 0.9992 - max_sp_fa_val: 8.5763e-04 - max_sp_pd_val: 0.9992\n",
      "Epoch 70/1000\n",
      "3/3 [==============================] - 0s 2ms/step loss: 0.0570 - accuracy: 0.98\n"
     ]
    },
    {
     "name": "stderr",
     "output_type": "stream",
     "text": [
      "\u001b[32m2025-04-26 01:40:17.109\u001b[0m | \u001b[1mINFO    \u001b[0m | \u001b[36msrc.callbacks\u001b[0m:\u001b[36mon_epoch_end\u001b[0m:\u001b[36m63\u001b[0m - \u001b[1mval_sp: 0.9992 (fa:0.0009, pd:0.9992), patience: 44\u001b[0m\n"
     ]
    },
    {
     "name": "stdout",
     "output_type": "stream",
     "text": [
      "21/21 [==============================] - 0s 7ms/step - loss: 0.0489 - accuracy: 0.9920 - val_loss: 0.0505 - val_accuracy: 0.9899 - max_sp_val: 0.9992 - max_sp_fa_val: 8.5763e-04 - max_sp_pd_val: 0.9992\n",
      "Epoch 71/1000\n",
      "3/3 [==============================] - 0s 2ms/step loss: 0.0443 - accuracy: 0.99\n"
     ]
    },
    {
     "name": "stderr",
     "output_type": "stream",
     "text": [
      "\u001b[32m2025-04-26 01:40:17.257\u001b[0m | \u001b[1mINFO    \u001b[0m | \u001b[36msrc.callbacks\u001b[0m:\u001b[36mon_epoch_end\u001b[0m:\u001b[36m63\u001b[0m - \u001b[1mval_sp: 0.9992 (fa:0.0009, pd:0.9992), patience: 45\u001b[0m\n"
     ]
    },
    {
     "name": "stdout",
     "output_type": "stream",
     "text": [
      "21/21 [==============================] - 0s 7ms/step - loss: 0.0479 - accuracy: 0.9920 - val_loss: 0.0495 - val_accuracy: 0.9899 - max_sp_val: 0.9992 - max_sp_fa_val: 8.5763e-04 - max_sp_pd_val: 0.9992\n",
      "Epoch 72/1000\n",
      "3/3 [==============================] - 0s 2ms/step loss: 0.0464 - accuracy: 0.99\n"
     ]
    },
    {
     "name": "stderr",
     "output_type": "stream",
     "text": [
      "\u001b[32m2025-04-26 01:40:17.406\u001b[0m | \u001b[1mINFO    \u001b[0m | \u001b[36msrc.callbacks\u001b[0m:\u001b[36mon_epoch_end\u001b[0m:\u001b[36m63\u001b[0m - \u001b[1mval_sp: 0.9992 (fa:0.0009, pd:0.9992), patience: 46\u001b[0m\n"
     ]
    },
    {
     "name": "stdout",
     "output_type": "stream",
     "text": [
      "21/21 [==============================] - 0s 7ms/step - loss: 0.0469 - accuracy: 0.9922 - val_loss: 0.0485 - val_accuracy: 0.9899 - max_sp_val: 0.9992 - max_sp_fa_val: 8.5763e-04 - max_sp_pd_val: 0.9992\n",
      "Epoch 73/1000\n",
      "3/3 [==============================] - 0s 2ms/step loss: 0.0472 - accuracy: 0.99\n"
     ]
    },
    {
     "name": "stderr",
     "output_type": "stream",
     "text": [
      "\u001b[32m2025-04-26 01:40:17.551\u001b[0m | \u001b[1mINFO    \u001b[0m | \u001b[36msrc.callbacks\u001b[0m:\u001b[36mon_epoch_end\u001b[0m:\u001b[36m63\u001b[0m - \u001b[1mval_sp: 0.9992 (fa:0.0009, pd:0.9992), patience: 47\u001b[0m\n"
     ]
    },
    {
     "name": "stdout",
     "output_type": "stream",
     "text": [
      "21/21 [==============================] - 0s 7ms/step - loss: 0.0460 - accuracy: 0.9923 - val_loss: 0.0475 - val_accuracy: 0.9899 - max_sp_val: 0.9992 - max_sp_fa_val: 8.5763e-04 - max_sp_pd_val: 0.9992\n",
      "Epoch 74/1000\n",
      "3/3 [==============================] - 0s 2ms/step loss: 0.0451 - accuracy: 0.99\n"
     ]
    },
    {
     "name": "stderr",
     "output_type": "stream",
     "text": [
      "\u001b[32m2025-04-26 01:40:17.695\u001b[0m | \u001b[1mINFO    \u001b[0m | \u001b[36msrc.callbacks\u001b[0m:\u001b[36mon_epoch_end\u001b[0m:\u001b[36m63\u001b[0m - \u001b[1mval_sp: 0.9992 (fa:0.0009, pd:0.9992), patience: 48\u001b[0m\n"
     ]
    },
    {
     "name": "stdout",
     "output_type": "stream",
     "text": [
      "21/21 [==============================] - 0s 7ms/step - loss: 0.0451 - accuracy: 0.9923 - val_loss: 0.0466 - val_accuracy: 0.9899 - max_sp_val: 0.9992 - max_sp_fa_val: 8.5763e-04 - max_sp_pd_val: 0.9992\n",
      "Epoch 75/1000\n",
      "3/3 [==============================] - 0s 2ms/step loss: 0.0402 - accuracy: 0.99\n"
     ]
    },
    {
     "name": "stderr",
     "output_type": "stream",
     "text": [
      "\u001b[32m2025-04-26 01:40:17.845\u001b[0m | \u001b[1mINFO    \u001b[0m | \u001b[36msrc.callbacks\u001b[0m:\u001b[36mon_epoch_end\u001b[0m:\u001b[36m63\u001b[0m - \u001b[1mval_sp: 0.9992 (fa:0.0009, pd:0.9992), patience: 49\u001b[0m\n"
     ]
    },
    {
     "name": "stdout",
     "output_type": "stream",
     "text": [
      "21/21 [==============================] - 0s 7ms/step - loss: 0.0442 - accuracy: 0.9923 - val_loss: 0.0457 - val_accuracy: 0.9899 - max_sp_val: 0.9992 - max_sp_fa_val: 8.5763e-04 - max_sp_pd_val: 0.9992\n",
      "Epoch 76/1000\n",
      "3/3 [==============================] - 0s 2ms/step loss: 0.0455 - accuracy: 0.99\n"
     ]
    },
    {
     "name": "stderr",
     "output_type": "stream",
     "text": [
      "\u001b[32m2025-04-26 01:40:17.989\u001b[0m | \u001b[1mINFO    \u001b[0m | \u001b[36msrc.callbacks\u001b[0m:\u001b[36mon_epoch_end\u001b[0m:\u001b[36m63\u001b[0m - \u001b[1mval_sp: 0.9992 (fa:0.0009, pd:0.9992), patience: 50\u001b[0m\n",
      "\u001b[32m2025-04-26 01:40:17.989\u001b[0m | \u001b[1mINFO    \u001b[0m | \u001b[36msrc.callbacks\u001b[0m:\u001b[36mon_epoch_end\u001b[0m:\u001b[36m76\u001b[0m - \u001b[1mStopping the Training by SP...\u001b[0m\n"
     ]
    },
    {
     "name": "stdout",
     "output_type": "stream",
     "text": [
      "21/21 [==============================] - 0s 7ms/step - loss: 0.0433 - accuracy: 0.9923 - val_loss: 0.0448 - val_accuracy: 0.9899 - max_sp_val: 0.9992 - max_sp_fa_val: 8.5763e-04 - max_sp_pd_val: 0.9992\n"
     ]
    },
    {
     "name": "stderr",
     "output_type": "stream",
     "text": [
      "\u001b[32m2025-04-26 01:40:17.991\u001b[0m | \u001b[1mINFO    \u001b[0m | \u001b[36msrc.callbacks\u001b[0m:\u001b[36mon_train_end\u001b[0m:\u001b[36m84\u001b[0m - \u001b[1mReload the best configuration into the current model...\u001b[0m\n",
      "\u001b[32m2025-04-26 01:40:17.997\u001b[0m | \u001b[1mINFO    \u001b[0m | \u001b[36msrc.decorators\u001b[0m:\u001b[36m__call__\u001b[0m:\u001b[36m74\u001b[0m - \u001b[1mStarting the train summary...\u001b[0m\n",
      "\u001b[32m2025-04-26 01:40:18.194\u001b[0m | \u001b[1mINFO    \u001b[0m | \u001b[36msrc.decorators\u001b[0m:\u001b[36m__call__\u001b[0m:\u001b[36m101\u001b[0m - \u001b[1mTrain samples : Prob. det (0.9994), False Alarm (0.0030), SP (0.9982)\u001b[0m\n",
      "\u001b[32m2025-04-26 01:40:18.196\u001b[0m | \u001b[1mINFO    \u001b[0m | \u001b[36msrc.decorators\u001b[0m:\u001b[36m__call__\u001b[0m:\u001b[36m118\u001b[0m - \u001b[1mValidation Samples: Prob. det (0.9992), False Alarm (0.0009), SP (0.9992)\u001b[0m\n",
      "\u001b[32m2025-04-26 01:40:18.202\u001b[0m | \u001b[1mINFO    \u001b[0m | \u001b[36msrc.decorators\u001b[0m:\u001b[36m__call__\u001b[0m:\u001b[36m136\u001b[0m - \u001b[1mOperation Samples : Prob. det (0.9994), False Alarm (0.0028), SP (0.9983)\u001b[0m\n"
     ]
    }
   ],
   "source": [
    "skf = StratifiedKFold(n_splits=10, shuffle=True, random_state=512)\n",
    "\n",
    "loss     = 'binary_crossentropy'\n",
    "opt      = tf.keras.optimizers.Adam(learning_rate=0.001)\n",
    "\n",
    "decorators = [Summary(detailed=True)]\n",
    "# create a training history:\n",
    "for i, (train_index, test_index) in enumerate(skf.split(X, y)):\n",
    "    if i > 0:\n",
    "        continue\n",
    "    x_train, y_train = X[train_index], y[train_index]\n",
    "    x_test, y_test   = X[test_index] , y[test_index]\n",
    "    \n",
    "    \n",
    "    model_bce.compile(optimizer=opt, \n",
    "                  loss=loss, \n",
    "                  metrics=['accuracy']\n",
    "                  )\n",
    "    \n",
    "    sp_index_callback = sp_index(validation_data=(x_test, y_test),\n",
    "                                 patience=patience, verbose=True, save_the_best=True)\n",
    "    \n",
    "    bce_history = model_bce.fit(x_train, y_train, epochs=1000,\n",
    "        batch_size=1024,\n",
    "        verbose=True,\n",
    "        validation_data=(x_test, y_test),\n",
    "        sample_weight=class_weight(y_train),\n",
    "        callbacks=[sp_index_callback],\n",
    "        shuffle=True\n",
    "    ).history\n",
    "    \n",
    "    for decorator in decorators:\n",
    "        decorator(bce_history , {'model':model_bce, 'data':(x_train, y_train),  'data_val':(x_test, y_test) })"
   ]
  },
  {
   "cell_type": "code",
   "execution_count": 15,
   "id": "37914d85",
   "metadata": {},
   "outputs": [],
   "source": [
    "def calc_sp(det, fake):\n",
    "    return np.sqrt( np.sqrt(det*(1-fake)) * (0.5*(det+(1 - fake))) )\n",
    "\n",
    "def plot_loss_function(loss, val_loss, best_epoch, axis, loss_name='Binary Cross Entropy'):\n",
    "    #  'solid', 'dashed', 'dashdot', 'dotted'\n",
    "    axis.plot(loss,       color='black', ls='dashdot', lw=1.2, label='Training Loss')\n",
    "    axis.plot(val_loss,   color='red', ls='solid', lw=1.2, label='Test Loss')\n",
    "    axis.axvline(x=best_epoch, color='black', ls='dotted', lw=1.2, label='Best epoch')\n",
    "    axis.set_ylabel(loss_name)\n",
    "    axis.set_xlabel(r'$\\#$ epochs')\n",
    "    axis.legend(loc='best')\n",
    "    axis.grid()\n",
    "    axis.set_title(f'{loss_name} Loss Evolution')\n",
    "\n",
    "    \n",
    "def plot_det(det, best_epoch, axis):\n",
    "    #  'solid', 'dashed', 'dashdot', 'dotted'\n",
    "    axis.plot(det,       color='dodgerblue', ls='dashdot', lw=1.2, label='Test Set')\n",
    "    axis.axvline(x=best_epoch, color='black', ls='dotted', lw=1.2, label='Best epoch')\n",
    "    axis.set_ylabel('Detection')\n",
    "    axis.set_xlabel(r'$\\#$ epochs')\n",
    "    axis.legend(loc='best')\n",
    "    axis.grid()\n",
    "    axis.set_title('Detection Evolution (Test set)')\n",
    "\n",
    "def plot_fake(fake, best_epoch, axis):\n",
    "    #  'solid', 'dashed', 'dashdot', 'dotted'\n",
    "    axis.plot(fake,       color='darkred', ls='dashdot', lw=1.2, label='Test Set')\n",
    "    axis.axvline(x=best_epoch, color='black', ls='dotted', lw=1.2, label='Best epoch')\n",
    "    axis.set_ylabel('Fake Rate')\n",
    "    axis.set_xlabel(r'$\\#$ epochs')\n",
    "    axis.legend(loc='best')\n",
    "    axis.grid()\n",
    "    axis.set_title('Fake Rate Evolution (Test set)')\n",
    "\n",
    "def plot_sp(sp_index, best_epoch, axis):\n",
    "    #  'solid', 'dashed', 'dashdot', 'dotted'\n",
    "    axis.plot(sp_index,       color='forestgreen', ls='dashdot', lw=1.2, label='Test Set')\n",
    "    axis.axvline(x=best_epoch, color='black', ls='dotted', lw=1.2, label='Best epoch')\n",
    "    axis.set_ylabel(r'$SP$ Index')\n",
    "    axis.set_xlabel(r'$\\#$ epochs')\n",
    "    axis.legend(loc='best')\n",
    "    axis.grid()\n",
    "    axis.set_title(r'$SP$ Index Evolution (Test set)')\n",
    "\n",
    "def plot_roc_curve(roc_fa, roc_pd, reference_dict, axis, ylim=[75, 105], xlim=[-.5, 50]):\n",
    "\n",
    "    axis.plot(roc_fa*100, roc_pd*100, color='black', linewidth=1.5, ls='dashed')\n",
    "    axis.set_ylabel('Probability of Dectection $[\\%]$')\n",
    "    axis.set_xlabel('Fake Rate $[\\%]$')\n",
    "\n",
    "    sp_max_index = np.argmax(calc_sp(roc_pd, roc_fa))\n",
    "\n",
    "    axis.plot(roc_fa[sp_max_index]*100, roc_pd[sp_max_index]*100, '*', \n",
    "                 label=r'$SP_{max}$',\n",
    "                 markersize=10, color=plt.cm.tab10(4))\n",
    "\n",
    "    axis.set_ylim(ylim)\n",
    "    axis.set_xlim(xlim)\n",
    "    axis.grid()\n",
    "    axis.legend(loc='best')\n",
    "    axis.set_title('ROC Curve (Test Set)')\n",
    "\n",
    "def plot_nn_histogram(hist_dict, reference_dict, axis, threshold=None):\n",
    "        axis.hist(hist_dict['val_bkg'][1][:-1], hist_dict['val_bkg'][1], weights=hist_dict['val_bkg'][0], histtype='bar', \n",
    "                     color='slategray', lw=1.5, \n",
    "                     label='jets', alpha=.5)\n",
    "        axis.hist(hist_dict['val_sgn'][1][:-1], hist_dict['val_sgn'][1], weights=hist_dict['val_sgn'][0], histtype='bar', \n",
    "                     color='blue', lw=1.5, \n",
    "                     label='electron', alpha=.5)\n",
    "\n",
    "        if threshold is not None:\n",
    "            axis.axvline(x=threshold, ls='solid',\n",
    "                         label=r'$SP_{max}$ Threshold', color='black', lw=1.5)\n",
    "        colors = iter([plt.cm.tab10(i) for i in range(4)])\n",
    "\n",
    "        axis.set_title('NN Output Histogram (Test Set)')\n",
    "        axis.legend(loc='best')\n",
    "        axis.grid()\n",
    "        axis.set_yscale('log')\n",
    "        axis.set_ylabel('Counts')\n",
    "        axis.set_xlabel('NN Output')\n",
    "\n",
    "def plot_training_resume(history, output_path, train_tag='Electron-Pion', roc_xlim=[-.5, 35], roc_ylim=[75, 105], loss_name='Binary Cross Entropy'):\n",
    "    os.makedirs(os.path.join(output_path, f\"{train_tag}\"), exist_ok=True)\n",
    "    o_path = os.path.join(output_path, f\"{train_tag}\")\n",
    "    #print(o_path)\n",
    "    # let's moving per sort\n",
    "    fig, ax  = plt.subplots(nrows=2, ncols=3, sharex=False, sharey=False, figsize=(20,10))\n",
    "    axes     = ax.flatten()\n",
    "    \n",
    "    hist_dict        = history['summary']['hists']\n",
    "    thr_max_sap      = history['summary']['threshold_val']\n",
    "    roc_pd, roc_fa   = history['summary']['rocs']['roc_val']\n",
    "\n",
    "    best_epoch       = history['max_sp_best_epoch_val'][-1]\n",
    "    loss             = history['loss']\n",
    "    val_loss         = history['val_loss']\n",
    "\n",
    "    sp_index         = history['max_sp_val']\n",
    "    det              = history['max_sp_pd_val']\n",
    "    fake             = history['max_sp_fa_val']\n",
    "\n",
    "\n",
    "    # plot loss\n",
    "    plot_loss_function(loss, val_loss, best_epoch, axis=axes[0], loss_name=loss_name)\n",
    "    # plot roc curve\n",
    "    plot_roc_curve(roc_fa=roc_fa, roc_pd=roc_pd, reference_dict={}, \n",
    "                    axis=axes[1], xlim=roc_xlim, ylim=roc_ylim)\n",
    "    # plot nn output \n",
    "    plot_nn_histogram(hist_dict, reference_dict={}, axis=axes[2], threshold=thr_max_sap)\n",
    "    # plot the detection\n",
    "    plot_det(det, best_epoch=best_epoch, axis=axes[3])\n",
    "    # plot sp index\n",
    "    plot_sp(sp_index=sp_index, best_epoch=best_epoch, axis=axes[4])\n",
    "    # plot fake\n",
    "    plot_fake(fake=fake, best_epoch=best_epoch, axis=axes[5])\n",
    "\n",
    "    fig.suptitle(r'Train Resume', fontsize=15)\n",
    "        \n",
    "    plt.savefig(os.path.join(o_path, 'train_resume.png' ), dpi=150, facecolor='white', bbox_inches='tight')\n",
    "    fig.clf()\n",
    "    plt.close()"
   ]
  },
  {
   "cell_type": "code",
   "execution_count": 13,
   "id": "38574621",
   "metadata": {},
   "outputs": [],
   "source": [
    "plot_training_resume(bce_history, output_path=repo_path+'/notebooks', train_tag='zee-jf17-mb', roc_xlim=[-.5, 50], roc_ylim=[0, 105])"
   ]
  },
  {
   "cell_type": "markdown",
   "id": "e0e9c698",
   "metadata": {},
   "source": [
    "# geodesic"
   ]
  },
  {
   "cell_type": "code",
   "execution_count": 14,
   "id": "c3877119",
   "metadata": {},
   "outputs": [
    {
     "name": "stdout",
     "output_type": "stream",
     "text": [
      "Epoch 1/1000\n",
      "3/3 [==============================] - 0s 3ms/step- loss: 0.9731 - accuracy: 0.52\n"
     ]
    },
    {
     "name": "stderr",
     "output_type": "stream",
     "text": [
      "\u001b[32m2025-04-26 01:42:10.832\u001b[0m | \u001b[1mINFO    \u001b[0m | \u001b[36msrc.callbacks\u001b[0m:\u001b[36mon_epoch_end\u001b[0m:\u001b[36m63\u001b[0m - \u001b[1mval_sp: 0.9906 (fa:0.0163, pd:0.9975), patience: 0\u001b[0m\n",
      "\u001b[32m2025-04-26 01:42:10.833\u001b[0m | \u001b[1mINFO    \u001b[0m | \u001b[36msrc.callbacks\u001b[0m:\u001b[36mon_epoch_end\u001b[0m:\u001b[36m68\u001b[0m - \u001b[1msave the best configuration here...\u001b[0m\n"
     ]
    },
    {
     "name": "stdout",
     "output_type": "stream",
     "text": [
      "21/21 [==============================] - 1s 18ms/step - loss: 0.9613 - accuracy: 0.6430 - val_loss: 0.9475 - val_accuracy: 0.7848 - max_sp_val: 0.9906 - max_sp_fa_val: 0.0163 - max_sp_pd_val: 0.9975 - max_sp_best_epoch_val: 0.0000e+00\n",
      "Epoch 2/1000\n",
      "3/3 [==============================] - 0s 2ms/step loss: 0.9455 - accuracy: 0.81\n"
     ]
    },
    {
     "name": "stderr",
     "output_type": "stream",
     "text": [
      "\u001b[32m2025-04-26 01:42:10.983\u001b[0m | \u001b[1mINFO    \u001b[0m | \u001b[36msrc.callbacks\u001b[0m:\u001b[36mon_epoch_end\u001b[0m:\u001b[36m63\u001b[0m - \u001b[1mval_sp: 0.9898 (fa:0.0154, pd:0.9950), patience: 0\u001b[0m\n"
     ]
    },
    {
     "name": "stdout",
     "output_type": "stream",
     "text": [
      "21/21 [==============================] - 0s 7ms/step - loss: 0.9312 - accuracy: 0.8746 - val_loss: 0.9124 - val_accuracy: 0.9277 - max_sp_val: 0.9898 - max_sp_fa_val: 0.0154 - max_sp_pd_val: 0.9950\n",
      "Epoch 3/1000\n",
      "3/3 [==============================] - 0s 2ms/step loss: 0.9095 - accuracy: 0.93\n"
     ]
    },
    {
     "name": "stderr",
     "output_type": "stream",
     "text": [
      "\u001b[32m2025-04-26 01:42:11.126\u001b[0m | \u001b[1mINFO    \u001b[0m | \u001b[36msrc.callbacks\u001b[0m:\u001b[36mon_epoch_end\u001b[0m:\u001b[36m63\u001b[0m - \u001b[1mval_sp: 0.9919 (fa:0.0137, pd:0.9975), patience: 1\u001b[0m\n",
      "\u001b[32m2025-04-26 01:42:11.127\u001b[0m | \u001b[1mINFO    \u001b[0m | \u001b[36msrc.callbacks\u001b[0m:\u001b[36mon_epoch_end\u001b[0m:\u001b[36m68\u001b[0m - \u001b[1msave the best configuration here...\u001b[0m\n"
     ]
    },
    {
     "name": "stdout",
     "output_type": "stream",
     "text": [
      "21/21 [==============================] - 0s 7ms/step - loss: 0.8959 - accuracy: 0.9570 - val_loss: 0.8802 - val_accuracy: 0.9645 - max_sp_val: 0.9919 - max_sp_fa_val: 0.0137 - max_sp_pd_val: 0.9975 - max_sp_best_epoch_val: 2.0000\n",
      "Epoch 4/1000\n",
      "3/3 [==============================] - 0s 2ms/step loss: 0.8800 - accuracy: 0.97\n"
     ]
    },
    {
     "name": "stderr",
     "output_type": "stream",
     "text": [
      "\u001b[32m2025-04-26 01:42:11.275\u001b[0m | \u001b[1mINFO    \u001b[0m | \u001b[36msrc.callbacks\u001b[0m:\u001b[36mon_epoch_end\u001b[0m:\u001b[36m63\u001b[0m - \u001b[1mval_sp: 0.9937 (fa:0.0051, pd:0.9925), patience: 0\u001b[0m\n",
      "\u001b[32m2025-04-26 01:42:11.277\u001b[0m | \u001b[1mINFO    \u001b[0m | \u001b[36msrc.callbacks\u001b[0m:\u001b[36mon_epoch_end\u001b[0m:\u001b[36m68\u001b[0m - \u001b[1msave the best configuration here...\u001b[0m\n"
     ]
    },
    {
     "name": "stdout",
     "output_type": "stream",
     "text": [
      "21/21 [==============================] - 0s 7ms/step - loss: 0.8649 - accuracy: 0.9703 - val_loss: 0.8491 - val_accuracy: 0.9653 - max_sp_val: 0.9937 - max_sp_fa_val: 0.0051 - max_sp_pd_val: 0.9925 - max_sp_best_epoch_val: 3.0000\n",
      "Epoch 5/1000\n",
      "3/3 [==============================] - 0s 2ms/step loss: 0.8499 - accuracy: 0.96\n"
     ]
    },
    {
     "name": "stderr",
     "output_type": "stream",
     "text": [
      "\u001b[32m2025-04-26 01:42:11.423\u001b[0m | \u001b[1mINFO    \u001b[0m | \u001b[36msrc.callbacks\u001b[0m:\u001b[36mon_epoch_end\u001b[0m:\u001b[36m63\u001b[0m - \u001b[1mval_sp: 0.9962 (fa:0.0034, pd:0.9958), patience: 0\u001b[0m\n",
      "\u001b[32m2025-04-26 01:42:11.423\u001b[0m | \u001b[1mINFO    \u001b[0m | \u001b[36msrc.callbacks\u001b[0m:\u001b[36mon_epoch_end\u001b[0m:\u001b[36m68\u001b[0m - \u001b[1msave the best configuration here...\u001b[0m\n"
     ]
    },
    {
     "name": "stdout",
     "output_type": "stream",
     "text": [
      "21/21 [==============================] - 0s 7ms/step - loss: 0.8332 - accuracy: 0.9698 - val_loss: 0.8171 - val_accuracy: 0.9662 - max_sp_val: 0.9962 - max_sp_fa_val: 0.0034 - max_sp_pd_val: 0.9958 - max_sp_best_epoch_val: 4.0000\n",
      "Epoch 6/1000\n",
      "3/3 [==============================] - 0s 2ms/step loss: 0.8134 - accuracy: 0.97\n"
     ]
    },
    {
     "name": "stderr",
     "output_type": "stream",
     "text": [
      "\u001b[32m2025-04-26 01:42:11.569\u001b[0m | \u001b[1mINFO    \u001b[0m | \u001b[36msrc.callbacks\u001b[0m:\u001b[36mon_epoch_end\u001b[0m:\u001b[36m63\u001b[0m - \u001b[1mval_sp: 0.9970 (fa:0.0034, pd:0.9975), patience: 0\u001b[0m\n",
      "\u001b[32m2025-04-26 01:42:11.570\u001b[0m | \u001b[1mINFO    \u001b[0m | \u001b[36msrc.callbacks\u001b[0m:\u001b[36mon_epoch_end\u001b[0m:\u001b[36m68\u001b[0m - \u001b[1msave the best configuration here...\u001b[0m\n"
     ]
    },
    {
     "name": "stdout",
     "output_type": "stream",
     "text": [
      "21/21 [==============================] - 0s 7ms/step - loss: 0.8005 - accuracy: 0.9740 - val_loss: 0.7842 - val_accuracy: 0.9708 - max_sp_val: 0.9970 - max_sp_fa_val: 0.0034 - max_sp_pd_val: 0.9975 - max_sp_best_epoch_val: 5.0000\n",
      "Epoch 7/1000\n",
      "3/3 [==============================] - 0s 3ms/step loss: 0.7828 - accuracy: 0.98\n"
     ]
    },
    {
     "name": "stderr",
     "output_type": "stream",
     "text": [
      "\u001b[32m2025-04-26 01:42:11.720\u001b[0m | \u001b[1mINFO    \u001b[0m | \u001b[36msrc.callbacks\u001b[0m:\u001b[36mon_epoch_end\u001b[0m:\u001b[36m63\u001b[0m - \u001b[1mval_sp: 0.9979 (fa:0.0034, pd:0.9992), patience: 0\u001b[0m\n",
      "\u001b[32m2025-04-26 01:42:11.721\u001b[0m | \u001b[1mINFO    \u001b[0m | \u001b[36msrc.callbacks\u001b[0m:\u001b[36mon_epoch_end\u001b[0m:\u001b[36m68\u001b[0m - \u001b[1msave the best configuration here...\u001b[0m\n"
     ]
    },
    {
     "name": "stdout",
     "output_type": "stream",
     "text": [
      "21/21 [==============================] - 0s 7ms/step - loss: 0.7671 - accuracy: 0.9744 - val_loss: 0.7509 - val_accuracy: 0.9704 - max_sp_val: 0.9979 - max_sp_fa_val: 0.0034 - max_sp_pd_val: 0.9992 - max_sp_best_epoch_val: 6.0000\n",
      "Epoch 8/1000\n",
      "3/3 [==============================] - 0s 2ms/step loss: 0.7490 - accuracy: 0.97\n"
     ]
    },
    {
     "name": "stderr",
     "output_type": "stream",
     "text": [
      "\u001b[32m2025-04-26 01:42:11.870\u001b[0m | \u001b[1mINFO    \u001b[0m | \u001b[36msrc.callbacks\u001b[0m:\u001b[36mon_epoch_end\u001b[0m:\u001b[36m63\u001b[0m - \u001b[1mval_sp: 0.9983 (fa:0.0034, pd:1.0000), patience: 0\u001b[0m\n",
      "\u001b[32m2025-04-26 01:42:11.871\u001b[0m | \u001b[1mINFO    \u001b[0m | \u001b[36msrc.callbacks\u001b[0m:\u001b[36mon_epoch_end\u001b[0m:\u001b[36m68\u001b[0m - \u001b[1msave the best configuration here...\u001b[0m\n"
     ]
    },
    {
     "name": "stdout",
     "output_type": "stream",
     "text": [
      "21/21 [==============================] - 0s 7ms/step - loss: 0.7334 - accuracy: 0.9762 - val_loss: 0.7175 - val_accuracy: 0.9738 - max_sp_val: 0.9983 - max_sp_fa_val: 0.0034 - max_sp_pd_val: 1.0000 - max_sp_best_epoch_val: 7.0000\n",
      "Epoch 9/1000\n",
      "3/3 [==============================] - 0s 2ms/step loss: 0.7123 - accuracy: 0.97\n"
     ]
    },
    {
     "name": "stderr",
     "output_type": "stream",
     "text": [
      "\u001b[32m2025-04-26 01:42:12.015\u001b[0m | \u001b[1mINFO    \u001b[0m | \u001b[36msrc.callbacks\u001b[0m:\u001b[36mon_epoch_end\u001b[0m:\u001b[36m63\u001b[0m - \u001b[1mval_sp: 0.9983 (fa:0.0009, pd:0.9975), patience: 0\u001b[0m\n"
     ]
    },
    {
     "name": "stdout",
     "output_type": "stream",
     "text": [
      "21/21 [==============================] - 0s 7ms/step - loss: 0.6998 - accuracy: 0.9770 - val_loss: 0.6843 - val_accuracy: 0.9755 - max_sp_val: 0.9983 - max_sp_fa_val: 8.5763e-04 - max_sp_pd_val: 0.9975\n",
      "Epoch 10/1000\n",
      "3/3 [==============================] - 0s 2ms/step loss: 0.6863 - accuracy: 0.97\n"
     ]
    },
    {
     "name": "stderr",
     "output_type": "stream",
     "text": [
      "\u001b[32m2025-04-26 01:42:12.152\u001b[0m | \u001b[1mINFO    \u001b[0m | \u001b[36msrc.callbacks\u001b[0m:\u001b[36mon_epoch_end\u001b[0m:\u001b[36m63\u001b[0m - \u001b[1mval_sp: 0.9987 (fa:0.0009, pd:0.9983), patience: 1\u001b[0m\n",
      "\u001b[32m2025-04-26 01:42:12.154\u001b[0m | \u001b[1mINFO    \u001b[0m | \u001b[36msrc.callbacks\u001b[0m:\u001b[36mon_epoch_end\u001b[0m:\u001b[36m68\u001b[0m - \u001b[1msave the best configuration here...\u001b[0m\n"
     ]
    },
    {
     "name": "stdout",
     "output_type": "stream",
     "text": [
      "21/21 [==============================] - 0s 7ms/step - loss: 0.6665 - accuracy: 0.9783 - val_loss: 0.6516 - val_accuracy: 0.9767 - max_sp_val: 0.9987 - max_sp_fa_val: 8.5763e-04 - max_sp_pd_val: 0.9983 - max_sp_best_epoch_val: 9.0000\n",
      "Epoch 11/1000\n",
      "3/3 [==============================] - 0s 2ms/step loss: 0.6510 - accuracy: 0.97\n"
     ]
    },
    {
     "name": "stderr",
     "output_type": "stream",
     "text": [
      "\u001b[32m2025-04-26 01:42:12.305\u001b[0m | \u001b[1mINFO    \u001b[0m | \u001b[36msrc.callbacks\u001b[0m:\u001b[36mon_epoch_end\u001b[0m:\u001b[36m63\u001b[0m - \u001b[1mval_sp: 0.9987 (fa:0.0009, pd:0.9983), patience: 0\u001b[0m\n"
     ]
    },
    {
     "name": "stdout",
     "output_type": "stream",
     "text": [
      "21/21 [==============================] - 0s 7ms/step - loss: 0.6339 - accuracy: 0.9787 - val_loss: 0.6197 - val_accuracy: 0.9759 - max_sp_val: 0.9987 - max_sp_fa_val: 8.5763e-04 - max_sp_pd_val: 0.9983\n",
      "Epoch 12/1000\n",
      "3/3 [==============================] - 0s 3ms/step loss: 0.6124 - accuracy: 0.98\n"
     ]
    },
    {
     "name": "stderr",
     "output_type": "stream",
     "text": [
      "\u001b[32m2025-04-26 01:42:12.453\u001b[0m | \u001b[1mINFO    \u001b[0m | \u001b[36msrc.callbacks\u001b[0m:\u001b[36mon_epoch_end\u001b[0m:\u001b[36m63\u001b[0m - \u001b[1mval_sp: 0.9987 (fa:0.0009, pd:0.9983), patience: 1\u001b[0m\n"
     ]
    },
    {
     "name": "stdout",
     "output_type": "stream",
     "text": [
      "21/21 [==============================] - 0s 7ms/step - loss: 0.6022 - accuracy: 0.9794 - val_loss: 0.5888 - val_accuracy: 0.9784 - max_sp_val: 0.9987 - max_sp_fa_val: 8.5763e-04 - max_sp_pd_val: 0.9983\n",
      "Epoch 13/1000\n",
      "3/3 [==============================] - 0s 2ms/step loss: 0.5823 - accuracy: 0.97\n"
     ]
    },
    {
     "name": "stderr",
     "output_type": "stream",
     "text": [
      "\u001b[32m2025-04-26 01:42:12.605\u001b[0m | \u001b[1mINFO    \u001b[0m | \u001b[36msrc.callbacks\u001b[0m:\u001b[36mon_epoch_end\u001b[0m:\u001b[36m63\u001b[0m - \u001b[1mval_sp: 0.9987 (fa:0.0009, pd:0.9983), patience: 2\u001b[0m\n"
     ]
    },
    {
     "name": "stdout",
     "output_type": "stream",
     "text": [
      "21/21 [==============================] - 0s 7ms/step - loss: 0.5715 - accuracy: 0.9800 - val_loss: 0.5591 - val_accuracy: 0.9784 - max_sp_val: 0.9987 - max_sp_fa_val: 8.5763e-04 - max_sp_pd_val: 0.9983\n",
      "Epoch 14/1000\n",
      "3/3 [==============================] - 0s 2ms/step loss: 0.5562 - accuracy: 0.98\n"
     ]
    },
    {
     "name": "stderr",
     "output_type": "stream",
     "text": [
      "\u001b[32m2025-04-26 01:42:12.752\u001b[0m | \u001b[1mINFO    \u001b[0m | \u001b[36msrc.callbacks\u001b[0m:\u001b[36mon_epoch_end\u001b[0m:\u001b[36m63\u001b[0m - \u001b[1mval_sp: 0.9987 (fa:0.0009, pd:0.9983), patience: 3\u001b[0m\n"
     ]
    },
    {
     "name": "stdout",
     "output_type": "stream",
     "text": [
      "21/21 [==============================] - 0s 7ms/step - loss: 0.5421 - accuracy: 0.9806 - val_loss: 0.5306 - val_accuracy: 0.9793 - max_sp_val: 0.9987 - max_sp_fa_val: 8.5763e-04 - max_sp_pd_val: 0.9983\n",
      "Epoch 15/1000\n",
      "3/3 [==============================] - 0s 2ms/step loss: 0.5309 - accuracy: 0.98\n"
     ]
    },
    {
     "name": "stderr",
     "output_type": "stream",
     "text": [
      "\u001b[32m2025-04-26 01:42:12.900\u001b[0m | \u001b[1mINFO    \u001b[0m | \u001b[36msrc.callbacks\u001b[0m:\u001b[36mon_epoch_end\u001b[0m:\u001b[36m63\u001b[0m - \u001b[1mval_sp: 0.9987 (fa:0.0009, pd:0.9983), patience: 4\u001b[0m\n"
     ]
    },
    {
     "name": "stdout",
     "output_type": "stream",
     "text": [
      "21/21 [==============================] - 0s 7ms/step - loss: 0.5141 - accuracy: 0.9813 - val_loss: 0.5034 - val_accuracy: 0.9801 - max_sp_val: 0.9987 - max_sp_fa_val: 8.5763e-04 - max_sp_pd_val: 0.9983\n",
      "Epoch 16/1000\n",
      "3/3 [==============================] - 0s 2ms/step loss: 0.5014 - accuracy: 0.97\n"
     ]
    },
    {
     "name": "stderr",
     "output_type": "stream",
     "text": [
      "\u001b[32m2025-04-26 01:42:13.044\u001b[0m | \u001b[1mINFO    \u001b[0m | \u001b[36msrc.callbacks\u001b[0m:\u001b[36mon_epoch_end\u001b[0m:\u001b[36m63\u001b[0m - \u001b[1mval_sp: 0.9987 (fa:0.0009, pd:0.9983), patience: 5\u001b[0m\n"
     ]
    },
    {
     "name": "stdout",
     "output_type": "stream",
     "text": [
      "21/21 [==============================] - 0s 7ms/step - loss: 0.4873 - accuracy: 0.9816 - val_loss: 0.4777 - val_accuracy: 0.9805 - max_sp_val: 0.9987 - max_sp_fa_val: 8.5763e-04 - max_sp_pd_val: 0.9983\n",
      "Epoch 17/1000\n",
      "3/3 [==============================] - 0s 2ms/step loss: 0.4705 - accuracy: 0.97\n"
     ]
    },
    {
     "name": "stderr",
     "output_type": "stream",
     "text": [
      "\u001b[32m2025-04-26 01:42:13.185\u001b[0m | \u001b[1mINFO    \u001b[0m | \u001b[36msrc.callbacks\u001b[0m:\u001b[36mon_epoch_end\u001b[0m:\u001b[36m63\u001b[0m - \u001b[1mval_sp: 0.9987 (fa:0.0009, pd:0.9983), patience: 6\u001b[0m\n"
     ]
    },
    {
     "name": "stdout",
     "output_type": "stream",
     "text": [
      "21/21 [==============================] - 0s 7ms/step - loss: 0.4620 - accuracy: 0.9820 - val_loss: 0.4533 - val_accuracy: 0.9805 - max_sp_val: 0.9987 - max_sp_fa_val: 8.5763e-04 - max_sp_pd_val: 0.9983\n",
      "Epoch 18/1000\n",
      "3/3 [==============================] - 0s 2ms/step loss: 0.4416 - accuracy: 0.98\n"
     ]
    },
    {
     "name": "stderr",
     "output_type": "stream",
     "text": [
      "\u001b[32m2025-04-26 01:42:13.331\u001b[0m | \u001b[1mINFO    \u001b[0m | \u001b[36msrc.callbacks\u001b[0m:\u001b[36mon_epoch_end\u001b[0m:\u001b[36m63\u001b[0m - \u001b[1mval_sp: 0.9987 (fa:0.0009, pd:0.9983), patience: 7\u001b[0m\n"
     ]
    },
    {
     "name": "stdout",
     "output_type": "stream",
     "text": [
      "21/21 [==============================] - 0s 7ms/step - loss: 0.4381 - accuracy: 0.9823 - val_loss: 0.4303 - val_accuracy: 0.9805 - max_sp_val: 0.9987 - max_sp_fa_val: 8.5763e-04 - max_sp_pd_val: 0.9983\n",
      "Epoch 19/1000\n",
      "3/3 [==============================] - 0s 3ms/step loss: 0.4243 - accuracy: 0.98\n"
     ]
    },
    {
     "name": "stderr",
     "output_type": "stream",
     "text": [
      "\u001b[32m2025-04-26 01:42:13.486\u001b[0m | \u001b[1mINFO    \u001b[0m | \u001b[36msrc.callbacks\u001b[0m:\u001b[36mon_epoch_end\u001b[0m:\u001b[36m63\u001b[0m - \u001b[1mval_sp: 0.9987 (fa:0.0009, pd:0.9983), patience: 8\u001b[0m\n"
     ]
    },
    {
     "name": "stdout",
     "output_type": "stream",
     "text": [
      "21/21 [==============================] - 0s 7ms/step - loss: 0.4156 - accuracy: 0.9826 - val_loss: 0.4087 - val_accuracy: 0.9805 - max_sp_val: 0.9987 - max_sp_fa_val: 8.5763e-04 - max_sp_pd_val: 0.9983\n",
      "Epoch 20/1000\n",
      "3/3 [==============================] - 0s 2ms/step loss: 0.4108 - accuracy: 0.98\n"
     ]
    },
    {
     "name": "stderr",
     "output_type": "stream",
     "text": [
      "\u001b[32m2025-04-26 01:42:13.634\u001b[0m | \u001b[1mINFO    \u001b[0m | \u001b[36msrc.callbacks\u001b[0m:\u001b[36mon_epoch_end\u001b[0m:\u001b[36m63\u001b[0m - \u001b[1mval_sp: 0.9987 (fa:0.0009, pd:0.9983), patience: 9\u001b[0m\n"
     ]
    },
    {
     "name": "stdout",
     "output_type": "stream",
     "text": [
      "21/21 [==============================] - 0s 7ms/step - loss: 0.3945 - accuracy: 0.9830 - val_loss: 0.3884 - val_accuracy: 0.9805 - max_sp_val: 0.9987 - max_sp_fa_val: 8.5763e-04 - max_sp_pd_val: 0.9983\n",
      "Epoch 21/1000\n",
      "3/3 [==============================] - 0s 2ms/step loss: 0.3970 - accuracy: 0.97\n"
     ]
    },
    {
     "name": "stderr",
     "output_type": "stream",
     "text": [
      "\u001b[32m2025-04-26 01:42:13.781\u001b[0m | \u001b[1mINFO    \u001b[0m | \u001b[36msrc.callbacks\u001b[0m:\u001b[36mon_epoch_end\u001b[0m:\u001b[36m63\u001b[0m - \u001b[1mval_sp: 0.9987 (fa:0.0009, pd:0.9983), patience: 10\u001b[0m\n"
     ]
    },
    {
     "name": "stdout",
     "output_type": "stream",
     "text": [
      "21/21 [==============================] - 0s 7ms/step - loss: 0.3746 - accuracy: 0.9836 - val_loss: 0.3693 - val_accuracy: 0.9818 - max_sp_val: 0.9987 - max_sp_fa_val: 8.5763e-04 - max_sp_pd_val: 0.9983\n",
      "Epoch 22/1000\n",
      "3/3 [==============================] - 0s 2ms/step loss: 0.3556 - accuracy: 0.99\n"
     ]
    },
    {
     "name": "stderr",
     "output_type": "stream",
     "text": [
      "\u001b[32m2025-04-26 01:42:13.927\u001b[0m | \u001b[1mINFO    \u001b[0m | \u001b[36msrc.callbacks\u001b[0m:\u001b[36mon_epoch_end\u001b[0m:\u001b[36m63\u001b[0m - \u001b[1mval_sp: 0.9987 (fa:0.0009, pd:0.9983), patience: 11\u001b[0m\n"
     ]
    },
    {
     "name": "stdout",
     "output_type": "stream",
     "text": [
      "21/21 [==============================] - 0s 7ms/step - loss: 0.3560 - accuracy: 0.9841 - val_loss: 0.3514 - val_accuracy: 0.9822 - max_sp_val: 0.9987 - max_sp_fa_val: 8.5763e-04 - max_sp_pd_val: 0.9983\n",
      "Epoch 23/1000\n",
      "3/3 [==============================] - 0s 2ms/step loss: 0.3500 - accuracy: 0.97\n"
     ]
    },
    {
     "name": "stderr",
     "output_type": "stream",
     "text": [
      "\u001b[32m2025-04-26 01:42:14.073\u001b[0m | \u001b[1mINFO    \u001b[0m | \u001b[36msrc.callbacks\u001b[0m:\u001b[36mon_epoch_end\u001b[0m:\u001b[36m63\u001b[0m - \u001b[1mval_sp: 0.9987 (fa:0.0009, pd:0.9983), patience: 12\u001b[0m\n"
     ]
    },
    {
     "name": "stdout",
     "output_type": "stream",
     "text": [
      "21/21 [==============================] - 0s 7ms/step - loss: 0.3386 - accuracy: 0.9844 - val_loss: 0.3347 - val_accuracy: 0.9827 - max_sp_val: 0.9987 - max_sp_fa_val: 8.5763e-04 - max_sp_pd_val: 0.9983\n",
      "Epoch 24/1000\n",
      "3/3 [==============================] - 0s 3ms/step loss: 0.3281 - accuracy: 0.98\n"
     ]
    },
    {
     "name": "stderr",
     "output_type": "stream",
     "text": [
      "\u001b[32m2025-04-26 01:42:14.220\u001b[0m | \u001b[1mINFO    \u001b[0m | \u001b[36msrc.callbacks\u001b[0m:\u001b[36mon_epoch_end\u001b[0m:\u001b[36m63\u001b[0m - \u001b[1mval_sp: 0.9987 (fa:0.0009, pd:0.9983), patience: 13\u001b[0m\n"
     ]
    },
    {
     "name": "stdout",
     "output_type": "stream",
     "text": [
      "21/21 [==============================] - 0s 7ms/step - loss: 0.3223 - accuracy: 0.9845 - val_loss: 0.3190 - val_accuracy: 0.9827 - max_sp_val: 0.9987 - max_sp_fa_val: 8.5763e-04 - max_sp_pd_val: 0.9983\n",
      "Epoch 25/1000\n",
      "3/3 [==============================] - 0s 2ms/step loss: 0.3156 - accuracy: 0.98\n"
     ]
    },
    {
     "name": "stderr",
     "output_type": "stream",
     "text": [
      "\u001b[32m2025-04-26 01:42:14.369\u001b[0m | \u001b[1mINFO    \u001b[0m | \u001b[36msrc.callbacks\u001b[0m:\u001b[36mon_epoch_end\u001b[0m:\u001b[36m63\u001b[0m - \u001b[1mval_sp: 0.9992 (fa:0.0009, pd:0.9992), patience: 14\u001b[0m\n",
      "\u001b[32m2025-04-26 01:42:14.370\u001b[0m | \u001b[1mINFO    \u001b[0m | \u001b[36msrc.callbacks\u001b[0m:\u001b[36mon_epoch_end\u001b[0m:\u001b[36m68\u001b[0m - \u001b[1msave the best configuration here...\u001b[0m\n"
     ]
    },
    {
     "name": "stdout",
     "output_type": "stream",
     "text": [
      "21/21 [==============================] - 0s 7ms/step - loss: 0.3071 - accuracy: 0.9847 - val_loss: 0.3044 - val_accuracy: 0.9839 - max_sp_val: 0.9992 - max_sp_fa_val: 8.5763e-04 - max_sp_pd_val: 0.9992 - max_sp_best_epoch_val: 24.0000\n",
      "Epoch 26/1000\n",
      "3/3 [==============================] - 0s 2ms/step loss: 0.3062 - accuracy: 0.98\n"
     ]
    },
    {
     "name": "stderr",
     "output_type": "stream",
     "text": [
      "\u001b[32m2025-04-26 01:42:14.516\u001b[0m | \u001b[1mINFO    \u001b[0m | \u001b[36msrc.callbacks\u001b[0m:\u001b[36mon_epoch_end\u001b[0m:\u001b[36m63\u001b[0m - \u001b[1mval_sp: 0.9992 (fa:0.0009, pd:0.9992), patience: 0\u001b[0m\n"
     ]
    },
    {
     "name": "stdout",
     "output_type": "stream",
     "text": [
      "21/21 [==============================] - 0s 7ms/step - loss: 0.2928 - accuracy: 0.9855 - val_loss: 0.2906 - val_accuracy: 0.9844 - max_sp_val: 0.9992 - max_sp_fa_val: 8.5763e-04 - max_sp_pd_val: 0.9992\n",
      "Epoch 27/1000\n",
      "3/3 [==============================] - 0s 2ms/step loss: 0.2888 - accuracy: 0.98\n"
     ]
    },
    {
     "name": "stderr",
     "output_type": "stream",
     "text": [
      "\u001b[32m2025-04-26 01:42:14.665\u001b[0m | \u001b[1mINFO    \u001b[0m | \u001b[36msrc.callbacks\u001b[0m:\u001b[36mon_epoch_end\u001b[0m:\u001b[36m63\u001b[0m - \u001b[1mval_sp: 0.9992 (fa:0.0009, pd:0.9992), patience: 1\u001b[0m\n"
     ]
    },
    {
     "name": "stdout",
     "output_type": "stream",
     "text": [
      "21/21 [==============================] - 0s 7ms/step - loss: 0.2795 - accuracy: 0.9857 - val_loss: 0.2777 - val_accuracy: 0.9844 - max_sp_val: 0.9992 - max_sp_fa_val: 8.5763e-04 - max_sp_pd_val: 0.9992\n",
      "Epoch 28/1000\n",
      "3/3 [==============================] - 0s 2ms/step loss: 0.2805 - accuracy: 0.98\n"
     ]
    },
    {
     "name": "stderr",
     "output_type": "stream",
     "text": [
      "\u001b[32m2025-04-26 01:42:14.812\u001b[0m | \u001b[1mINFO    \u001b[0m | \u001b[36msrc.callbacks\u001b[0m:\u001b[36mon_epoch_end\u001b[0m:\u001b[36m63\u001b[0m - \u001b[1mval_sp: 0.9992 (fa:0.0009, pd:0.9992), patience: 2\u001b[0m\n"
     ]
    },
    {
     "name": "stdout",
     "output_type": "stream",
     "text": [
      "21/21 [==============================] - 0s 7ms/step - loss: 0.2670 - accuracy: 0.9858 - val_loss: 0.2656 - val_accuracy: 0.9844 - max_sp_val: 0.9992 - max_sp_fa_val: 8.5763e-04 - max_sp_pd_val: 0.9992\n",
      "Epoch 29/1000\n",
      "3/3 [==============================] - 0s 3ms/step loss: 0.2654 - accuracy: 0.98\n"
     ]
    },
    {
     "name": "stderr",
     "output_type": "stream",
     "text": [
      "\u001b[32m2025-04-26 01:42:14.959\u001b[0m | \u001b[1mINFO    \u001b[0m | \u001b[36msrc.callbacks\u001b[0m:\u001b[36mon_epoch_end\u001b[0m:\u001b[36m63\u001b[0m - \u001b[1mval_sp: 0.9992 (fa:0.0009, pd:0.9992), patience: 3\u001b[0m\n"
     ]
    },
    {
     "name": "stdout",
     "output_type": "stream",
     "text": [
      "21/21 [==============================] - 0s 7ms/step - loss: 0.2554 - accuracy: 0.9861 - val_loss: 0.2543 - val_accuracy: 0.9852 - max_sp_val: 0.9992 - max_sp_fa_val: 8.5763e-04 - max_sp_pd_val: 0.9992\n",
      "Epoch 30/1000\n",
      "3/3 [==============================] - 0s 2ms/step loss: 0.2414 - accuracy: 0.98\n"
     ]
    },
    {
     "name": "stderr",
     "output_type": "stream",
     "text": [
      "\u001b[32m2025-04-26 01:42:15.108\u001b[0m | \u001b[1mINFO    \u001b[0m | \u001b[36msrc.callbacks\u001b[0m:\u001b[36mon_epoch_end\u001b[0m:\u001b[36m63\u001b[0m - \u001b[1mval_sp: 0.9992 (fa:0.0009, pd:0.9992), patience: 4\u001b[0m\n"
     ]
    },
    {
     "name": "stdout",
     "output_type": "stream",
     "text": [
      "21/21 [==============================] - 0s 7ms/step - loss: 0.2444 - accuracy: 0.9867 - val_loss: 0.2438 - val_accuracy: 0.9852 - max_sp_val: 0.9992 - max_sp_fa_val: 8.5763e-04 - max_sp_pd_val: 0.9992\n",
      "Epoch 31/1000\n",
      "3/3 [==============================] - 0s 3ms/step loss: 0.2305 - accuracy: 0.99\n"
     ]
    },
    {
     "name": "stderr",
     "output_type": "stream",
     "text": [
      "\u001b[32m2025-04-26 01:42:15.261\u001b[0m | \u001b[1mINFO    \u001b[0m | \u001b[36msrc.callbacks\u001b[0m:\u001b[36mon_epoch_end\u001b[0m:\u001b[36m63\u001b[0m - \u001b[1mval_sp: 0.9992 (fa:0.0009, pd:0.9992), patience: 5\u001b[0m\n"
     ]
    },
    {
     "name": "stdout",
     "output_type": "stream",
     "text": [
      "21/21 [==============================] - 0s 7ms/step - loss: 0.2343 - accuracy: 0.9869 - val_loss: 0.2338 - val_accuracy: 0.9852 - max_sp_val: 0.9992 - max_sp_fa_val: 8.5763e-04 - max_sp_pd_val: 0.9992\n",
      "Epoch 32/1000\n",
      "3/3 [==============================] - 0s 3ms/step loss: 0.2195 - accuracy: 0.99\n"
     ]
    },
    {
     "name": "stderr",
     "output_type": "stream",
     "text": [
      "\u001b[32m2025-04-26 01:42:15.419\u001b[0m | \u001b[1mINFO    \u001b[0m | \u001b[36msrc.callbacks\u001b[0m:\u001b[36mon_epoch_end\u001b[0m:\u001b[36m63\u001b[0m - \u001b[1mval_sp: 0.9992 (fa:0.0009, pd:0.9992), patience: 6\u001b[0m\n"
     ]
    },
    {
     "name": "stdout",
     "output_type": "stream",
     "text": [
      "21/21 [==============================] - 0s 8ms/step - loss: 0.2247 - accuracy: 0.9871 - val_loss: 0.2245 - val_accuracy: 0.9852 - max_sp_val: 0.9992 - max_sp_fa_val: 8.5763e-04 - max_sp_pd_val: 0.9992\n",
      "Epoch 33/1000\n",
      "3/3 [==============================] - 0s 2ms/step loss: 0.2210 - accuracy: 0.98\n"
     ]
    },
    {
     "name": "stderr",
     "output_type": "stream",
     "text": [
      "\u001b[32m2025-04-26 01:42:15.564\u001b[0m | \u001b[1mINFO    \u001b[0m | \u001b[36msrc.callbacks\u001b[0m:\u001b[36mon_epoch_end\u001b[0m:\u001b[36m63\u001b[0m - \u001b[1mval_sp: 0.9992 (fa:0.0009, pd:0.9992), patience: 7\u001b[0m\n"
     ]
    },
    {
     "name": "stdout",
     "output_type": "stream",
     "text": [
      "21/21 [==============================] - 0s 7ms/step - loss: 0.2157 - accuracy: 0.9876 - val_loss: 0.2158 - val_accuracy: 0.9856 - max_sp_val: 0.9992 - max_sp_fa_val: 8.5763e-04 - max_sp_pd_val: 0.9992\n",
      "Epoch 34/1000\n",
      "3/3 [==============================] - 0s 3ms/step loss: 0.2154 - accuracy: 0.98\n"
     ]
    },
    {
     "name": "stderr",
     "output_type": "stream",
     "text": [
      "\u001b[32m2025-04-26 01:42:15.717\u001b[0m | \u001b[1mINFO    \u001b[0m | \u001b[36msrc.callbacks\u001b[0m:\u001b[36mon_epoch_end\u001b[0m:\u001b[36m63\u001b[0m - \u001b[1mval_sp: 0.9992 (fa:0.0009, pd:0.9992), patience: 8\u001b[0m\n"
     ]
    },
    {
     "name": "stdout",
     "output_type": "stream",
     "text": [
      "21/21 [==============================] - 0s 7ms/step - loss: 0.2073 - accuracy: 0.9879 - val_loss: 0.2076 - val_accuracy: 0.9856 - max_sp_val: 0.9992 - max_sp_fa_val: 8.5763e-04 - max_sp_pd_val: 0.9992\n",
      "Epoch 35/1000\n",
      "3/3 [==============================] - 0s 2ms/step loss: 0.2142 - accuracy: 0.98\n"
     ]
    },
    {
     "name": "stderr",
     "output_type": "stream",
     "text": [
      "\u001b[32m2025-04-26 01:42:15.864\u001b[0m | \u001b[1mINFO    \u001b[0m | \u001b[36msrc.callbacks\u001b[0m:\u001b[36mon_epoch_end\u001b[0m:\u001b[36m63\u001b[0m - \u001b[1mval_sp: 0.9992 (fa:0.0009, pd:0.9992), patience: 9\u001b[0m\n"
     ]
    },
    {
     "name": "stdout",
     "output_type": "stream",
     "text": [
      "21/21 [==============================] - 0s 7ms/step - loss: 0.1994 - accuracy: 0.9885 - val_loss: 0.1998 - val_accuracy: 0.9856 - max_sp_val: 0.9992 - max_sp_fa_val: 8.5763e-04 - max_sp_pd_val: 0.9992\n",
      "Epoch 36/1000\n",
      "3/3 [==============================] - 0s 2ms/step loss: 0.2164 - accuracy: 0.98\n"
     ]
    },
    {
     "name": "stderr",
     "output_type": "stream",
     "text": [
      "\u001b[32m2025-04-26 01:42:16.010\u001b[0m | \u001b[1mINFO    \u001b[0m | \u001b[36msrc.callbacks\u001b[0m:\u001b[36mon_epoch_end\u001b[0m:\u001b[36m63\u001b[0m - \u001b[1mval_sp: 0.9992 (fa:0.0009, pd:0.9992), patience: 10\u001b[0m\n"
     ]
    },
    {
     "name": "stdout",
     "output_type": "stream",
     "text": [
      "21/21 [==============================] - 0s 7ms/step - loss: 0.1920 - accuracy: 0.9887 - val_loss: 0.1925 - val_accuracy: 0.9856 - max_sp_val: 0.9992 - max_sp_fa_val: 8.5763e-04 - max_sp_pd_val: 0.9992\n",
      "Epoch 37/1000\n",
      "3/3 [==============================] - 0s 3ms/step loss: 0.1873 - accuracy: 0.99\n"
     ]
    },
    {
     "name": "stderr",
     "output_type": "stream",
     "text": [
      "\u001b[32m2025-04-26 01:42:16.164\u001b[0m | \u001b[1mINFO    \u001b[0m | \u001b[36msrc.callbacks\u001b[0m:\u001b[36mon_epoch_end\u001b[0m:\u001b[36m63\u001b[0m - \u001b[1mval_sp: 0.9992 (fa:0.0009, pd:0.9992), patience: 11\u001b[0m\n"
     ]
    },
    {
     "name": "stdout",
     "output_type": "stream",
     "text": [
      "21/21 [==============================] - 0s 7ms/step - loss: 0.1851 - accuracy: 0.9888 - val_loss: 0.1857 - val_accuracy: 0.9856 - max_sp_val: 0.9992 - max_sp_fa_val: 8.5763e-04 - max_sp_pd_val: 0.9992\n",
      "Epoch 38/1000\n",
      "3/3 [==============================] - 0s 3ms/step loss: 0.1923 - accuracy: 0.98\n"
     ]
    },
    {
     "name": "stderr",
     "output_type": "stream",
     "text": [
      "\u001b[32m2025-04-26 01:42:16.313\u001b[0m | \u001b[1mINFO    \u001b[0m | \u001b[36msrc.callbacks\u001b[0m:\u001b[36mon_epoch_end\u001b[0m:\u001b[36m63\u001b[0m - \u001b[1mval_sp: 0.9992 (fa:0.0009, pd:0.9992), patience: 12\u001b[0m\n"
     ]
    },
    {
     "name": "stdout",
     "output_type": "stream",
     "text": [
      "21/21 [==============================] - 0s 7ms/step - loss: 0.1786 - accuracy: 0.9889 - val_loss: 0.1792 - val_accuracy: 0.9856 - max_sp_val: 0.9992 - max_sp_fa_val: 8.5763e-04 - max_sp_pd_val: 0.9992\n",
      "Epoch 39/1000\n",
      "3/3 [==============================] - 0s 2ms/step loss: 0.1690 - accuracy: 0.99\n"
     ]
    },
    {
     "name": "stderr",
     "output_type": "stream",
     "text": [
      "\u001b[32m2025-04-26 01:42:16.463\u001b[0m | \u001b[1mINFO    \u001b[0m | \u001b[36msrc.callbacks\u001b[0m:\u001b[36mon_epoch_end\u001b[0m:\u001b[36m63\u001b[0m - \u001b[1mval_sp: 0.9992 (fa:0.0009, pd:0.9992), patience: 13\u001b[0m\n"
     ]
    },
    {
     "name": "stdout",
     "output_type": "stream",
     "text": [
      "21/21 [==============================] - 0s 7ms/step - loss: 0.1724 - accuracy: 0.9890 - val_loss: 0.1731 - val_accuracy: 0.9856 - max_sp_val: 0.9992 - max_sp_fa_val: 8.5763e-04 - max_sp_pd_val: 0.9992\n",
      "Epoch 40/1000\n",
      "3/3 [==============================] - 0s 2ms/step loss: 0.1715 - accuracy: 0.98\n"
     ]
    },
    {
     "name": "stderr",
     "output_type": "stream",
     "text": [
      "\u001b[32m2025-04-26 01:42:16.613\u001b[0m | \u001b[1mINFO    \u001b[0m | \u001b[36msrc.callbacks\u001b[0m:\u001b[36mon_epoch_end\u001b[0m:\u001b[36m63\u001b[0m - \u001b[1mval_sp: 0.9992 (fa:0.0009, pd:0.9992), patience: 14\u001b[0m\n"
     ]
    },
    {
     "name": "stdout",
     "output_type": "stream",
     "text": [
      "21/21 [==============================] - 0s 7ms/step - loss: 0.1666 - accuracy: 0.9893 - val_loss: 0.1673 - val_accuracy: 0.9856 - max_sp_val: 0.9992 - max_sp_fa_val: 8.5763e-04 - max_sp_pd_val: 0.9992\n",
      "Epoch 41/1000\n",
      "3/3 [==============================] - 0s 2ms/step loss: 0.1677 - accuracy: 0.98\n"
     ]
    },
    {
     "name": "stderr",
     "output_type": "stream",
     "text": [
      "\u001b[32m2025-04-26 01:42:16.757\u001b[0m | \u001b[1mINFO    \u001b[0m | \u001b[36msrc.callbacks\u001b[0m:\u001b[36mon_epoch_end\u001b[0m:\u001b[36m63\u001b[0m - \u001b[1mval_sp: 0.9992 (fa:0.0009, pd:0.9992), patience: 15\u001b[0m\n"
     ]
    },
    {
     "name": "stdout",
     "output_type": "stream",
     "text": [
      "21/21 [==============================] - 0s 7ms/step - loss: 0.1611 - accuracy: 0.9896 - val_loss: 0.1619 - val_accuracy: 0.9865 - max_sp_val: 0.9992 - max_sp_fa_val: 8.5763e-04 - max_sp_pd_val: 0.9992\n",
      "Epoch 42/1000\n",
      "3/3 [==============================] - 0s 2ms/step loss: 0.1637 - accuracy: 0.98\n"
     ]
    },
    {
     "name": "stderr",
     "output_type": "stream",
     "text": [
      "\u001b[32m2025-04-26 01:42:16.906\u001b[0m | \u001b[1mINFO    \u001b[0m | \u001b[36msrc.callbacks\u001b[0m:\u001b[36mon_epoch_end\u001b[0m:\u001b[36m63\u001b[0m - \u001b[1mval_sp: 0.9992 (fa:0.0009, pd:0.9992), patience: 16\u001b[0m\n"
     ]
    },
    {
     "name": "stdout",
     "output_type": "stream",
     "text": [
      "21/21 [==============================] - 0s 7ms/step - loss: 0.1560 - accuracy: 0.9899 - val_loss: 0.1567 - val_accuracy: 0.9869 - max_sp_val: 0.9992 - max_sp_fa_val: 8.5763e-04 - max_sp_pd_val: 0.9992\n",
      "Epoch 43/1000\n",
      "3/3 [==============================] - 0s 2ms/step loss: 0.1509 - accuracy: 0.98\n"
     ]
    },
    {
     "name": "stderr",
     "output_type": "stream",
     "text": [
      "\u001b[32m2025-04-26 01:42:17.054\u001b[0m | \u001b[1mINFO    \u001b[0m | \u001b[36msrc.callbacks\u001b[0m:\u001b[36mon_epoch_end\u001b[0m:\u001b[36m63\u001b[0m - \u001b[1mval_sp: 0.9992 (fa:0.0009, pd:0.9992), patience: 17\u001b[0m\n"
     ]
    },
    {
     "name": "stdout",
     "output_type": "stream",
     "text": [
      "21/21 [==============================] - 0s 7ms/step - loss: 0.1511 - accuracy: 0.9900 - val_loss: 0.1519 - val_accuracy: 0.9869 - max_sp_val: 0.9992 - max_sp_fa_val: 8.5763e-04 - max_sp_pd_val: 0.9992\n",
      "Epoch 44/1000\n",
      "3/3 [==============================] - 0s 2ms/step loss: 0.1502 - accuracy: 0.99\n"
     ]
    },
    {
     "name": "stderr",
     "output_type": "stream",
     "text": [
      "\u001b[32m2025-04-26 01:42:17.195\u001b[0m | \u001b[1mINFO    \u001b[0m | \u001b[36msrc.callbacks\u001b[0m:\u001b[36mon_epoch_end\u001b[0m:\u001b[36m63\u001b[0m - \u001b[1mval_sp: 0.9992 (fa:0.0009, pd:0.9992), patience: 18\u001b[0m\n"
     ]
    },
    {
     "name": "stdout",
     "output_type": "stream",
     "text": [
      "21/21 [==============================] - 0s 7ms/step - loss: 0.1465 - accuracy: 0.9906 - val_loss: 0.1472 - val_accuracy: 0.9869 - max_sp_val: 0.9992 - max_sp_fa_val: 8.5763e-04 - max_sp_pd_val: 0.9992\n",
      "Epoch 45/1000\n",
      "3/3 [==============================] - 0s 2ms/step loss: 0.1379 - accuracy: 0.99\n"
     ]
    },
    {
     "name": "stderr",
     "output_type": "stream",
     "text": [
      "\u001b[32m2025-04-26 01:42:17.344\u001b[0m | \u001b[1mINFO    \u001b[0m | \u001b[36msrc.callbacks\u001b[0m:\u001b[36mon_epoch_end\u001b[0m:\u001b[36m63\u001b[0m - \u001b[1mval_sp: 0.9992 (fa:0.0009, pd:0.9992), patience: 19\u001b[0m\n"
     ]
    },
    {
     "name": "stdout",
     "output_type": "stream",
     "text": [
      "21/21 [==============================] - 0s 7ms/step - loss: 0.1422 - accuracy: 0.9906 - val_loss: 0.1428 - val_accuracy: 0.9877 - max_sp_val: 0.9992 - max_sp_fa_val: 8.5763e-04 - max_sp_pd_val: 0.9992\n",
      "Epoch 46/1000\n",
      "3/3 [==============================] - 0s 2ms/step loss: 0.1385 - accuracy: 0.98\n"
     ]
    },
    {
     "name": "stderr",
     "output_type": "stream",
     "text": [
      "\u001b[32m2025-04-26 01:42:17.493\u001b[0m | \u001b[1mINFO    \u001b[0m | \u001b[36msrc.callbacks\u001b[0m:\u001b[36mon_epoch_end\u001b[0m:\u001b[36m63\u001b[0m - \u001b[1mval_sp: 0.9992 (fa:0.0009, pd:0.9992), patience: 20\u001b[0m\n"
     ]
    },
    {
     "name": "stdout",
     "output_type": "stream",
     "text": [
      "21/21 [==============================] - 0s 7ms/step - loss: 0.1381 - accuracy: 0.9909 - val_loss: 0.1387 - val_accuracy: 0.9882 - max_sp_val: 0.9992 - max_sp_fa_val: 8.5763e-04 - max_sp_pd_val: 0.9992\n",
      "Epoch 47/1000\n",
      "3/3 [==============================] - 0s 2ms/step loss: 0.1495 - accuracy: 0.98\n"
     ]
    },
    {
     "name": "stderr",
     "output_type": "stream",
     "text": [
      "\u001b[32m2025-04-26 01:42:17.643\u001b[0m | \u001b[1mINFO    \u001b[0m | \u001b[36msrc.callbacks\u001b[0m:\u001b[36mon_epoch_end\u001b[0m:\u001b[36m63\u001b[0m - \u001b[1mval_sp: 0.9992 (fa:0.0009, pd:0.9992), patience: 21\u001b[0m\n"
     ]
    },
    {
     "name": "stdout",
     "output_type": "stream",
     "text": [
      "21/21 [==============================] - 0s 7ms/step - loss: 0.1341 - accuracy: 0.9912 - val_loss: 0.1347 - val_accuracy: 0.9882 - max_sp_val: 0.9992 - max_sp_fa_val: 8.5763e-04 - max_sp_pd_val: 0.9992\n",
      "Epoch 48/1000\n",
      "3/3 [==============================] - 0s 2ms/step loss: 0.1306 - accuracy: 0.99\n"
     ]
    },
    {
     "name": "stderr",
     "output_type": "stream",
     "text": [
      "\u001b[32m2025-04-26 01:42:17.791\u001b[0m | \u001b[1mINFO    \u001b[0m | \u001b[36msrc.callbacks\u001b[0m:\u001b[36mon_epoch_end\u001b[0m:\u001b[36m63\u001b[0m - \u001b[1mval_sp: 0.9992 (fa:0.0009, pd:0.9992), patience: 22\u001b[0m\n"
     ]
    },
    {
     "name": "stdout",
     "output_type": "stream",
     "text": [
      "21/21 [==============================] - 0s 7ms/step - loss: 0.1304 - accuracy: 0.9912 - val_loss: 0.1310 - val_accuracy: 0.9882 - max_sp_val: 0.9992 - max_sp_fa_val: 8.5763e-04 - max_sp_pd_val: 0.9992\n",
      "Epoch 49/1000\n",
      "3/3 [==============================] - 0s 2ms/step loss: 0.1277 - accuracy: 0.99\n"
     ]
    },
    {
     "name": "stderr",
     "output_type": "stream",
     "text": [
      "\u001b[32m2025-04-26 01:42:17.940\u001b[0m | \u001b[1mINFO    \u001b[0m | \u001b[36msrc.callbacks\u001b[0m:\u001b[36mon_epoch_end\u001b[0m:\u001b[36m63\u001b[0m - \u001b[1mval_sp: 0.9992 (fa:0.0009, pd:0.9992), patience: 23\u001b[0m\n"
     ]
    },
    {
     "name": "stdout",
     "output_type": "stream",
     "text": [
      "21/21 [==============================] - 0s 7ms/step - loss: 0.1269 - accuracy: 0.9914 - val_loss: 0.1274 - val_accuracy: 0.9890 - max_sp_val: 0.9992 - max_sp_fa_val: 8.5763e-04 - max_sp_pd_val: 0.9992\n",
      "Epoch 50/1000\n",
      "3/3 [==============================] - 0s 2ms/step loss: 0.1141 - accuracy: 0.99\n"
     ]
    },
    {
     "name": "stderr",
     "output_type": "stream",
     "text": [
      "\u001b[32m2025-04-26 01:42:18.083\u001b[0m | \u001b[1mINFO    \u001b[0m | \u001b[36msrc.callbacks\u001b[0m:\u001b[36mon_epoch_end\u001b[0m:\u001b[36m63\u001b[0m - \u001b[1mval_sp: 0.9992 (fa:0.0009, pd:0.9992), patience: 24\u001b[0m\n"
     ]
    },
    {
     "name": "stdout",
     "output_type": "stream",
     "text": [
      "21/21 [==============================] - 0s 7ms/step - loss: 0.1236 - accuracy: 0.9914 - val_loss: 0.1240 - val_accuracy: 0.9890 - max_sp_val: 0.9992 - max_sp_fa_val: 8.5763e-04 - max_sp_pd_val: 0.9992\n",
      "Epoch 51/1000\n",
      "3/3 [==============================] - 0s 2ms/step loss: 0.1237 - accuracy: 0.99\n"
     ]
    },
    {
     "name": "stderr",
     "output_type": "stream",
     "text": [
      "\u001b[32m2025-04-26 01:42:18.229\u001b[0m | \u001b[1mINFO    \u001b[0m | \u001b[36msrc.callbacks\u001b[0m:\u001b[36mon_epoch_end\u001b[0m:\u001b[36m63\u001b[0m - \u001b[1mval_sp: 0.9992 (fa:0.0009, pd:0.9992), patience: 25\u001b[0m\n"
     ]
    },
    {
     "name": "stdout",
     "output_type": "stream",
     "text": [
      "21/21 [==============================] - 0s 7ms/step - loss: 0.1204 - accuracy: 0.9916 - val_loss: 0.1207 - val_accuracy: 0.9894 - max_sp_val: 0.9992 - max_sp_fa_val: 8.5763e-04 - max_sp_pd_val: 0.9992\n",
      "Epoch 52/1000\n",
      "3/3 [==============================] - 0s 3ms/step loss: 0.1077 - accuracy: 0.99\n"
     ]
    },
    {
     "name": "stderr",
     "output_type": "stream",
     "text": [
      "\u001b[32m2025-04-26 01:42:18.377\u001b[0m | \u001b[1mINFO    \u001b[0m | \u001b[36msrc.callbacks\u001b[0m:\u001b[36mon_epoch_end\u001b[0m:\u001b[36m63\u001b[0m - \u001b[1mval_sp: 0.9992 (fa:0.0009, pd:0.9992), patience: 26\u001b[0m\n"
     ]
    },
    {
     "name": "stdout",
     "output_type": "stream",
     "text": [
      "21/21 [==============================] - 0s 7ms/step - loss: 0.1174 - accuracy: 0.9917 - val_loss: 0.1176 - val_accuracy: 0.9894 - max_sp_val: 0.9992 - max_sp_fa_val: 8.5763e-04 - max_sp_pd_val: 0.9992\n",
      "Epoch 53/1000\n",
      "3/3 [==============================] - 0s 2ms/step loss: 0.1084 - accuracy: 0.99\n"
     ]
    },
    {
     "name": "stderr",
     "output_type": "stream",
     "text": [
      "\u001b[32m2025-04-26 01:42:18.532\u001b[0m | \u001b[1mINFO    \u001b[0m | \u001b[36msrc.callbacks\u001b[0m:\u001b[36mon_epoch_end\u001b[0m:\u001b[36m63\u001b[0m - \u001b[1mval_sp: 0.9992 (fa:0.0009, pd:0.9992), patience: 27\u001b[0m\n"
     ]
    },
    {
     "name": "stdout",
     "output_type": "stream",
     "text": [
      "21/21 [==============================] - 0s 7ms/step - loss: 0.1146 - accuracy: 0.9918 - val_loss: 0.1147 - val_accuracy: 0.9899 - max_sp_val: 0.9992 - max_sp_fa_val: 8.5763e-04 - max_sp_pd_val: 0.9992\n",
      "Epoch 54/1000\n",
      "3/3 [==============================] - 0s 2ms/step loss: 0.1182 - accuracy: 0.98\n"
     ]
    },
    {
     "name": "stderr",
     "output_type": "stream",
     "text": [
      "\u001b[32m2025-04-26 01:42:18.676\u001b[0m | \u001b[1mINFO    \u001b[0m | \u001b[36msrc.callbacks\u001b[0m:\u001b[36mon_epoch_end\u001b[0m:\u001b[36m63\u001b[0m - \u001b[1mval_sp: 0.9992 (fa:0.0009, pd:0.9992), patience: 28\u001b[0m\n"
     ]
    },
    {
     "name": "stdout",
     "output_type": "stream",
     "text": [
      "21/21 [==============================] - 0s 7ms/step - loss: 0.1119 - accuracy: 0.9920 - val_loss: 0.1119 - val_accuracy: 0.9899 - max_sp_val: 0.9992 - max_sp_fa_val: 8.5763e-04 - max_sp_pd_val: 0.9992\n",
      "Epoch 55/1000\n",
      "3/3 [==============================] - 0s 2ms/step loss: 0.1185 - accuracy: 0.98\n"
     ]
    },
    {
     "name": "stderr",
     "output_type": "stream",
     "text": [
      "\u001b[32m2025-04-26 01:42:18.823\u001b[0m | \u001b[1mINFO    \u001b[0m | \u001b[36msrc.callbacks\u001b[0m:\u001b[36mon_epoch_end\u001b[0m:\u001b[36m63\u001b[0m - \u001b[1mval_sp: 0.9992 (fa:0.0009, pd:0.9992), patience: 29\u001b[0m\n"
     ]
    },
    {
     "name": "stdout",
     "output_type": "stream",
     "text": [
      "21/21 [==============================] - 0s 7ms/step - loss: 0.1093 - accuracy: 0.9919 - val_loss: 0.1092 - val_accuracy: 0.9899 - max_sp_val: 0.9992 - max_sp_fa_val: 8.5763e-04 - max_sp_pd_val: 0.9992\n",
      "Epoch 56/1000\n",
      "3/3 [==============================] - 0s 2ms/step loss: 0.1064 - accuracy: 0.99\n"
     ]
    },
    {
     "name": "stderr",
     "output_type": "stream",
     "text": [
      "\u001b[32m2025-04-26 01:42:18.970\u001b[0m | \u001b[1mINFO    \u001b[0m | \u001b[36msrc.callbacks\u001b[0m:\u001b[36mon_epoch_end\u001b[0m:\u001b[36m63\u001b[0m - \u001b[1mval_sp: 0.9992 (fa:0.0009, pd:0.9992), patience: 30\u001b[0m\n"
     ]
    },
    {
     "name": "stdout",
     "output_type": "stream",
     "text": [
      "21/21 [==============================] - 0s 7ms/step - loss: 0.1068 - accuracy: 0.9920 - val_loss: 0.1066 - val_accuracy: 0.9899 - max_sp_val: 0.9992 - max_sp_fa_val: 8.5763e-04 - max_sp_pd_val: 0.9992\n",
      "Epoch 57/1000\n",
      "3/3 [==============================] - 0s 2ms/step loss: 0.0949 - accuracy: 0.99\n"
     ]
    },
    {
     "name": "stderr",
     "output_type": "stream",
     "text": [
      "\u001b[32m2025-04-26 01:42:19.118\u001b[0m | \u001b[1mINFO    \u001b[0m | \u001b[36msrc.callbacks\u001b[0m:\u001b[36mon_epoch_end\u001b[0m:\u001b[36m63\u001b[0m - \u001b[1mval_sp: 0.9992 (fa:0.0009, pd:0.9992), patience: 31\u001b[0m\n"
     ]
    },
    {
     "name": "stdout",
     "output_type": "stream",
     "text": [
      "21/21 [==============================] - 0s 7ms/step - loss: 0.1045 - accuracy: 0.9921 - val_loss: 0.1042 - val_accuracy: 0.9899 - max_sp_val: 0.9992 - max_sp_fa_val: 8.5763e-04 - max_sp_pd_val: 0.9992\n",
      "Epoch 58/1000\n",
      "3/3 [==============================] - 0s 2ms/step loss: 0.1181 - accuracy: 0.98\n"
     ]
    },
    {
     "name": "stderr",
     "output_type": "stream",
     "text": [
      "\u001b[32m2025-04-26 01:42:19.263\u001b[0m | \u001b[1mINFO    \u001b[0m | \u001b[36msrc.callbacks\u001b[0m:\u001b[36mon_epoch_end\u001b[0m:\u001b[36m63\u001b[0m - \u001b[1mval_sp: 0.9992 (fa:0.0009, pd:0.9992), patience: 32\u001b[0m\n"
     ]
    },
    {
     "name": "stdout",
     "output_type": "stream",
     "text": [
      "21/21 [==============================] - 0s 7ms/step - loss: 0.1022 - accuracy: 0.9922 - val_loss: 0.1018 - val_accuracy: 0.9899 - max_sp_val: 0.9992 - max_sp_fa_val: 8.5763e-04 - max_sp_pd_val: 0.9992\n",
      "Epoch 59/1000\n",
      "3/3 [==============================] - 0s 2ms/step loss: 0.1154 - accuracy: 0.98\n"
     ]
    },
    {
     "name": "stderr",
     "output_type": "stream",
     "text": [
      "\u001b[32m2025-04-26 01:42:19.407\u001b[0m | \u001b[1mINFO    \u001b[0m | \u001b[36msrc.callbacks\u001b[0m:\u001b[36mon_epoch_end\u001b[0m:\u001b[36m63\u001b[0m - \u001b[1mval_sp: 0.9992 (fa:0.0009, pd:0.9992), patience: 33\u001b[0m\n"
     ]
    },
    {
     "name": "stdout",
     "output_type": "stream",
     "text": [
      "21/21 [==============================] - 0s 7ms/step - loss: 0.1001 - accuracy: 0.9923 - val_loss: 0.0996 - val_accuracy: 0.9899 - max_sp_val: 0.9992 - max_sp_fa_val: 8.5763e-04 - max_sp_pd_val: 0.9992\n",
      "Epoch 60/1000\n",
      "3/3 [==============================] - 0s 2ms/step loss: 0.1075 - accuracy: 0.99\n"
     ]
    },
    {
     "name": "stderr",
     "output_type": "stream",
     "text": [
      "\u001b[32m2025-04-26 01:42:19.548\u001b[0m | \u001b[1mINFO    \u001b[0m | \u001b[36msrc.callbacks\u001b[0m:\u001b[36mon_epoch_end\u001b[0m:\u001b[36m63\u001b[0m - \u001b[1mval_sp: 0.9992 (fa:0.0009, pd:0.9992), patience: 34\u001b[0m\n"
     ]
    },
    {
     "name": "stdout",
     "output_type": "stream",
     "text": [
      "21/21 [==============================] - 0s 7ms/step - loss: 0.0980 - accuracy: 0.9924 - val_loss: 0.0974 - val_accuracy: 0.9899 - max_sp_val: 0.9992 - max_sp_fa_val: 8.5763e-04 - max_sp_pd_val: 0.9992\n",
      "Epoch 61/1000\n",
      "3/3 [==============================] - 0s 2ms/step loss: 0.0945 - accuracy: 0.99\n"
     ]
    },
    {
     "name": "stderr",
     "output_type": "stream",
     "text": [
      "\u001b[32m2025-04-26 01:42:19.694\u001b[0m | \u001b[1mINFO    \u001b[0m | \u001b[36msrc.callbacks\u001b[0m:\u001b[36mon_epoch_end\u001b[0m:\u001b[36m63\u001b[0m - \u001b[1mval_sp: 0.9992 (fa:0.0009, pd:0.9992), patience: 35\u001b[0m\n"
     ]
    },
    {
     "name": "stdout",
     "output_type": "stream",
     "text": [
      "21/21 [==============================] - 0s 7ms/step - loss: 0.0960 - accuracy: 0.9925 - val_loss: 0.0953 - val_accuracy: 0.9903 - max_sp_val: 0.9992 - max_sp_fa_val: 8.5763e-04 - max_sp_pd_val: 0.9992\n",
      "Epoch 62/1000\n",
      "3/3 [==============================] - 0s 3ms/step loss: 0.0811 - accuracy: 0.99\n"
     ]
    },
    {
     "name": "stderr",
     "output_type": "stream",
     "text": [
      "\u001b[32m2025-04-26 01:42:19.843\u001b[0m | \u001b[1mINFO    \u001b[0m | \u001b[36msrc.callbacks\u001b[0m:\u001b[36mon_epoch_end\u001b[0m:\u001b[36m63\u001b[0m - \u001b[1mval_sp: 0.9992 (fa:0.0009, pd:0.9992), patience: 36\u001b[0m\n"
     ]
    },
    {
     "name": "stdout",
     "output_type": "stream",
     "text": [
      "21/21 [==============================] - 0s 7ms/step - loss: 0.0942 - accuracy: 0.9926 - val_loss: 0.0933 - val_accuracy: 0.9907 - max_sp_val: 0.9992 - max_sp_fa_val: 8.5763e-04 - max_sp_pd_val: 0.9992\n",
      "Epoch 63/1000\n",
      "3/3 [==============================] - 0s 2ms/step loss: 0.0838 - accuracy: 0.99\n"
     ]
    },
    {
     "name": "stderr",
     "output_type": "stream",
     "text": [
      "\u001b[32m2025-04-26 01:42:19.991\u001b[0m | \u001b[1mINFO    \u001b[0m | \u001b[36msrc.callbacks\u001b[0m:\u001b[36mon_epoch_end\u001b[0m:\u001b[36m63\u001b[0m - \u001b[1mval_sp: 0.9992 (fa:0.0009, pd:0.9992), patience: 37\u001b[0m\n"
     ]
    },
    {
     "name": "stdout",
     "output_type": "stream",
     "text": [
      "21/21 [==============================] - 0s 7ms/step - loss: 0.0924 - accuracy: 0.9927 - val_loss: 0.0915 - val_accuracy: 0.9907 - max_sp_val: 0.9992 - max_sp_fa_val: 8.5763e-04 - max_sp_pd_val: 0.9992\n",
      "Epoch 64/1000\n",
      "3/3 [==============================] - 0s 2ms/step loss: 0.1164 - accuracy: 0.98\n"
     ]
    },
    {
     "name": "stderr",
     "output_type": "stream",
     "text": [
      "\u001b[32m2025-04-26 01:42:20.144\u001b[0m | \u001b[1mINFO    \u001b[0m | \u001b[36msrc.callbacks\u001b[0m:\u001b[36mon_epoch_end\u001b[0m:\u001b[36m63\u001b[0m - \u001b[1mval_sp: 0.9992 (fa:0.0009, pd:0.9992), patience: 38\u001b[0m\n"
     ]
    },
    {
     "name": "stdout",
     "output_type": "stream",
     "text": [
      "21/21 [==============================] - 0s 7ms/step - loss: 0.0907 - accuracy: 0.9929 - val_loss: 0.0896 - val_accuracy: 0.9907 - max_sp_val: 0.9992 - max_sp_fa_val: 8.5763e-04 - max_sp_pd_val: 0.9992\n",
      "Epoch 65/1000\n",
      "3/3 [==============================] - 0s 3ms/step loss: 0.0820 - accuracy: 0.99\n"
     ]
    },
    {
     "name": "stderr",
     "output_type": "stream",
     "text": [
      "\u001b[32m2025-04-26 01:42:20.292\u001b[0m | \u001b[1mINFO    \u001b[0m | \u001b[36msrc.callbacks\u001b[0m:\u001b[36mon_epoch_end\u001b[0m:\u001b[36m63\u001b[0m - \u001b[1mval_sp: 0.9992 (fa:0.0009, pd:0.9992), patience: 39\u001b[0m\n"
     ]
    },
    {
     "name": "stdout",
     "output_type": "stream",
     "text": [
      "21/21 [==============================] - 0s 7ms/step - loss: 0.0890 - accuracy: 0.9929 - val_loss: 0.0879 - val_accuracy: 0.9907 - max_sp_val: 0.9992 - max_sp_fa_val: 8.5763e-04 - max_sp_pd_val: 0.9992\n",
      "Epoch 66/1000\n",
      "3/3 [==============================] - 0s 2ms/step loss: 0.0974 - accuracy: 0.99\n"
     ]
    },
    {
     "name": "stderr",
     "output_type": "stream",
     "text": [
      "\u001b[32m2025-04-26 01:42:20.436\u001b[0m | \u001b[1mINFO    \u001b[0m | \u001b[36msrc.callbacks\u001b[0m:\u001b[36mon_epoch_end\u001b[0m:\u001b[36m63\u001b[0m - \u001b[1mval_sp: 0.9992 (fa:0.0009, pd:0.9992), patience: 40\u001b[0m\n"
     ]
    },
    {
     "name": "stdout",
     "output_type": "stream",
     "text": [
      "21/21 [==============================] - 0s 7ms/step - loss: 0.0875 - accuracy: 0.9934 - val_loss: 0.0862 - val_accuracy: 0.9915 - max_sp_val: 0.9992 - max_sp_fa_val: 8.5763e-04 - max_sp_pd_val: 0.9992\n",
      "Epoch 67/1000\n",
      "3/3 [==============================] - 0s 2ms/step loss: 0.0784 - accuracy: 0.99\n"
     ]
    },
    {
     "name": "stderr",
     "output_type": "stream",
     "text": [
      "\u001b[32m2025-04-26 01:42:20.587\u001b[0m | \u001b[1mINFO    \u001b[0m | \u001b[36msrc.callbacks\u001b[0m:\u001b[36mon_epoch_end\u001b[0m:\u001b[36m63\u001b[0m - \u001b[1mval_sp: 0.9992 (fa:0.0009, pd:0.9992), patience: 41\u001b[0m\n"
     ]
    },
    {
     "name": "stdout",
     "output_type": "stream",
     "text": [
      "21/21 [==============================] - 0s 7ms/step - loss: 0.0861 - accuracy: 0.9933 - val_loss: 0.0846 - val_accuracy: 0.9907 - max_sp_val: 0.9992 - max_sp_fa_val: 8.5763e-04 - max_sp_pd_val: 0.9992\n",
      "Epoch 68/1000\n",
      "3/3 [==============================] - 0s 2ms/step loss: 0.0741 - accuracy: 0.99\n"
     ]
    },
    {
     "name": "stderr",
     "output_type": "stream",
     "text": [
      "\u001b[32m2025-04-26 01:42:20.734\u001b[0m | \u001b[1mINFO    \u001b[0m | \u001b[36msrc.callbacks\u001b[0m:\u001b[36mon_epoch_end\u001b[0m:\u001b[36m63\u001b[0m - \u001b[1mval_sp: 0.9992 (fa:0.0009, pd:0.9992), patience: 42\u001b[0m\n"
     ]
    },
    {
     "name": "stdout",
     "output_type": "stream",
     "text": [
      "21/21 [==============================] - 0s 7ms/step - loss: 0.0845 - accuracy: 0.9936 - val_loss: 0.0830 - val_accuracy: 0.9924 - max_sp_val: 0.9992 - max_sp_fa_val: 8.5763e-04 - max_sp_pd_val: 0.9992\n",
      "Epoch 69/1000\n",
      "3/3 [==============================] - 0s 2ms/step loss: 0.0832 - accuracy: 0.99\n"
     ]
    },
    {
     "name": "stderr",
     "output_type": "stream",
     "text": [
      "\u001b[32m2025-04-26 01:42:20.877\u001b[0m | \u001b[1mINFO    \u001b[0m | \u001b[36msrc.callbacks\u001b[0m:\u001b[36mon_epoch_end\u001b[0m:\u001b[36m63\u001b[0m - \u001b[1mval_sp: 0.9992 (fa:0.0009, pd:0.9992), patience: 43\u001b[0m\n"
     ]
    },
    {
     "name": "stdout",
     "output_type": "stream",
     "text": [
      "21/21 [==============================] - 0s 7ms/step - loss: 0.0831 - accuracy: 0.9936 - val_loss: 0.0815 - val_accuracy: 0.9924 - max_sp_val: 0.9992 - max_sp_fa_val: 8.5763e-04 - max_sp_pd_val: 0.9992\n",
      "Epoch 70/1000\n",
      "3/3 [==============================] - 0s 2ms/step loss: 0.0869 - accuracy: 0.99\n"
     ]
    },
    {
     "name": "stderr",
     "output_type": "stream",
     "text": [
      "\u001b[32m2025-04-26 01:42:21.026\u001b[0m | \u001b[1mINFO    \u001b[0m | \u001b[36msrc.callbacks\u001b[0m:\u001b[36mon_epoch_end\u001b[0m:\u001b[36m63\u001b[0m - \u001b[1mval_sp: 0.9992 (fa:0.0009, pd:0.9992), patience: 44\u001b[0m\n"
     ]
    },
    {
     "name": "stdout",
     "output_type": "stream",
     "text": [
      "21/21 [==============================] - 0s 7ms/step - loss: 0.0818 - accuracy: 0.9937 - val_loss: 0.0801 - val_accuracy: 0.9924 - max_sp_val: 0.9992 - max_sp_fa_val: 8.5763e-04 - max_sp_pd_val: 0.9992\n",
      "Epoch 71/1000\n",
      "3/3 [==============================] - 0s 2ms/step loss: 0.0789 - accuracy: 0.99\n"
     ]
    },
    {
     "name": "stderr",
     "output_type": "stream",
     "text": [
      "\u001b[32m2025-04-26 01:42:21.170\u001b[0m | \u001b[1mINFO    \u001b[0m | \u001b[36msrc.callbacks\u001b[0m:\u001b[36mon_epoch_end\u001b[0m:\u001b[36m63\u001b[0m - \u001b[1mval_sp: 0.9992 (fa:0.0009, pd:0.9992), patience: 45\u001b[0m\n"
     ]
    },
    {
     "name": "stdout",
     "output_type": "stream",
     "text": [
      "21/21 [==============================] - 0s 7ms/step - loss: 0.0804 - accuracy: 0.9938 - val_loss: 0.0787 - val_accuracy: 0.9924 - max_sp_val: 0.9992 - max_sp_fa_val: 8.5763e-04 - max_sp_pd_val: 0.9992\n",
      "Epoch 72/1000\n",
      "3/3 [==============================] - 0s 3ms/step loss: 0.0654 - accuracy: 0.99\n"
     ]
    },
    {
     "name": "stderr",
     "output_type": "stream",
     "text": [
      "\u001b[32m2025-04-26 01:42:21.317\u001b[0m | \u001b[1mINFO    \u001b[0m | \u001b[36msrc.callbacks\u001b[0m:\u001b[36mon_epoch_end\u001b[0m:\u001b[36m63\u001b[0m - \u001b[1mval_sp: 0.9992 (fa:0.0009, pd:0.9992), patience: 46\u001b[0m\n"
     ]
    },
    {
     "name": "stdout",
     "output_type": "stream",
     "text": [
      "21/21 [==============================] - 0s 7ms/step - loss: 0.0793 - accuracy: 0.9937 - val_loss: 0.0774 - val_accuracy: 0.9924 - max_sp_val: 0.9992 - max_sp_fa_val: 8.5763e-04 - max_sp_pd_val: 0.9992\n",
      "Epoch 73/1000\n",
      "3/3 [==============================] - 0s 2ms/step loss: 0.0873 - accuracy: 0.99\n"
     ]
    },
    {
     "name": "stderr",
     "output_type": "stream",
     "text": [
      "\u001b[32m2025-04-26 01:42:21.471\u001b[0m | \u001b[1mINFO    \u001b[0m | \u001b[36msrc.callbacks\u001b[0m:\u001b[36mon_epoch_end\u001b[0m:\u001b[36m63\u001b[0m - \u001b[1mval_sp: 0.9992 (fa:0.0009, pd:0.9992), patience: 47\u001b[0m\n"
     ]
    },
    {
     "name": "stdout",
     "output_type": "stream",
     "text": [
      "21/21 [==============================] - 0s 7ms/step - loss: 0.0781 - accuracy: 0.9939 - val_loss: 0.0761 - val_accuracy: 0.9924 - max_sp_val: 0.9992 - max_sp_fa_val: 8.5763e-04 - max_sp_pd_val: 0.9992\n",
      "Epoch 74/1000\n",
      "3/3 [==============================] - 0s 2ms/step loss: 0.0790 - accuracy: 0.98\n"
     ]
    },
    {
     "name": "stderr",
     "output_type": "stream",
     "text": [
      "\u001b[32m2025-04-26 01:42:21.619\u001b[0m | \u001b[1mINFO    \u001b[0m | \u001b[36msrc.callbacks\u001b[0m:\u001b[36mon_epoch_end\u001b[0m:\u001b[36m63\u001b[0m - \u001b[1mval_sp: 0.9992 (fa:0.0009, pd:0.9992), patience: 48\u001b[0m\n"
     ]
    },
    {
     "name": "stdout",
     "output_type": "stream",
     "text": [
      "21/21 [==============================] - 0s 7ms/step - loss: 0.0769 - accuracy: 0.9940 - val_loss: 0.0748 - val_accuracy: 0.9924 - max_sp_val: 0.9992 - max_sp_fa_val: 8.5763e-04 - max_sp_pd_val: 0.9992\n",
      "Epoch 75/1000\n",
      "3/3 [==============================] - 0s 2ms/step loss: 0.0698 - accuracy: 0.99\n"
     ]
    },
    {
     "name": "stderr",
     "output_type": "stream",
     "text": [
      "\u001b[32m2025-04-26 01:42:21.767\u001b[0m | \u001b[1mINFO    \u001b[0m | \u001b[36msrc.callbacks\u001b[0m:\u001b[36mon_epoch_end\u001b[0m:\u001b[36m63\u001b[0m - \u001b[1mval_sp: 0.9992 (fa:0.0009, pd:0.9992), patience: 49\u001b[0m\n"
     ]
    },
    {
     "name": "stdout",
     "output_type": "stream",
     "text": [
      "21/21 [==============================] - 0s 7ms/step - loss: 0.0758 - accuracy: 0.9942 - val_loss: 0.0737 - val_accuracy: 0.9924 - max_sp_val: 0.9992 - max_sp_fa_val: 8.5763e-04 - max_sp_pd_val: 0.9992\n",
      "Epoch 76/1000\n",
      "3/3 [==============================] - 0s 2ms/step loss: 0.0612 - accuracy: 0.99\n"
     ]
    },
    {
     "name": "stderr",
     "output_type": "stream",
     "text": [
      "\u001b[32m2025-04-26 01:42:21.914\u001b[0m | \u001b[1mINFO    \u001b[0m | \u001b[36msrc.callbacks\u001b[0m:\u001b[36mon_epoch_end\u001b[0m:\u001b[36m63\u001b[0m - \u001b[1mval_sp: 0.9992 (fa:0.0009, pd:0.9992), patience: 50\u001b[0m\n",
      "\u001b[32m2025-04-26 01:42:21.915\u001b[0m | \u001b[1mINFO    \u001b[0m | \u001b[36msrc.callbacks\u001b[0m:\u001b[36mon_epoch_end\u001b[0m:\u001b[36m76\u001b[0m - \u001b[1mStopping the Training by SP...\u001b[0m\n"
     ]
    },
    {
     "name": "stdout",
     "output_type": "stream",
     "text": [
      "21/21 [==============================] - 0s 7ms/step - loss: 0.0747 - accuracy: 0.9942 - val_loss: 0.0725 - val_accuracy: 0.9924 - max_sp_val: 0.9992 - max_sp_fa_val: 8.5763e-04 - max_sp_pd_val: 0.9992\n"
     ]
    },
    {
     "name": "stderr",
     "output_type": "stream",
     "text": [
      "\u001b[32m2025-04-26 01:42:21.918\u001b[0m | \u001b[1mINFO    \u001b[0m | \u001b[36msrc.callbacks\u001b[0m:\u001b[36mon_train_end\u001b[0m:\u001b[36m84\u001b[0m - \u001b[1mReload the best configuration into the current model...\u001b[0m\n",
      "\u001b[32m2025-04-26 01:42:21.922\u001b[0m | \u001b[1mINFO    \u001b[0m | \u001b[36msrc.decorators\u001b[0m:\u001b[36m__call__\u001b[0m:\u001b[36m74\u001b[0m - \u001b[1mStarting the train summary...\u001b[0m\n",
      "\u001b[32m2025-04-26 01:42:22.100\u001b[0m | \u001b[1mINFO    \u001b[0m | \u001b[36msrc.decorators\u001b[0m:\u001b[36m__call__\u001b[0m:\u001b[36m101\u001b[0m - \u001b[1mTrain samples : Prob. det (0.9995), False Alarm (0.0030), SP (0.9982)\u001b[0m\n",
      "\u001b[32m2025-04-26 01:42:22.102\u001b[0m | \u001b[1mINFO    \u001b[0m | \u001b[36msrc.decorators\u001b[0m:\u001b[36m__call__\u001b[0m:\u001b[36m118\u001b[0m - \u001b[1mValidation Samples: Prob. det (0.9992), False Alarm (0.0009), SP (0.9992)\u001b[0m\n",
      "\u001b[32m2025-04-26 01:42:22.107\u001b[0m | \u001b[1mINFO    \u001b[0m | \u001b[36msrc.decorators\u001b[0m:\u001b[36m__call__\u001b[0m:\u001b[36m136\u001b[0m - \u001b[1mOperation Samples : Prob. det (0.9995), False Alarm (0.0029), SP (0.9983)\u001b[0m\n"
     ]
    }
   ],
   "source": [
    "skf = StratifiedKFold(n_splits=10, shuffle=True, random_state=512)\n",
    "\n",
    "def geodesic_loss(y_true, y_pred):\n",
    "    \"\"\"\n",
    "    Geodesic loss function for the neural network.\n",
    "    \"\"\"\n",
    "    # Calculate the geodesic connection\n",
    "    bce            = tf.keras.losses.BinaryCrossentropy(reduction='none')\n",
    "    conection      = bce(y_true, y_pred)\n",
    "    #phi_t          = tf.reduce_sum(conection, axis=-1, keepdims=True)\n",
    "    #print(conection)\n",
    "    #print(phi_t)\n",
    "    exp_connection = tf.math.exp(conection)\n",
    "    #print(exp_connection)\n",
    "    \n",
    "    # Return the sum of the geodesic connection\n",
    "    return tf.reduce_mean(exp_connection, axis=-1, keepdims=True) - 1\n",
    "\n",
    "loss     = geodesic_loss\n",
    "opt      = tf.keras.optimizers.Adam(learning_rate=0.001)\n",
    "\n",
    "\n",
    "decorators = [Summary(detailed=True)]\n",
    "# create a training history:\n",
    "for i, (train_index, test_index) in enumerate(skf.split(X, y)):\n",
    "    if i > 0:\n",
    "        continue\n",
    "    x_train, y_train = X[train_index], y[train_index]\n",
    "    x_test, y_test   = X[test_index] , y[test_index]\n",
    "    \n",
    "    \n",
    "    model_geo.compile(optimizer=opt, \n",
    "                  loss=loss, \n",
    "                  metrics=['accuracy']\n",
    "                  )\n",
    "    \n",
    "    sp_index_callback = sp_index(validation_data=(x_test, y_test),\n",
    "                                 patience=patience, verbose=True, save_the_best=True)\n",
    "    \n",
    "    geo_history = model_geo.fit(x_train, y_train, epochs=1000,\n",
    "        batch_size=1024,\n",
    "        verbose=True,\n",
    "        validation_data=(x_test, y_test),\n",
    "        sample_weight=class_weight(y_train),\n",
    "        callbacks=[sp_index_callback],\n",
    "        shuffle=True\n",
    "    ).history\n",
    "    \n",
    "    for decorator in decorators:\n",
    "        decorator(geo_history , {'model':model_geo, 'data':(x_train, y_train),  'data_val':(x_test, y_test) })"
   ]
  },
  {
   "cell_type": "code",
   "execution_count": 16,
   "id": "fb3dad1f",
   "metadata": {},
   "outputs": [],
   "source": [
    "plot_training_resume(geo_history, output_path=repo_path+'/notebooks', train_tag='zee-jf17-mb-geodesic',\n",
    "                     roc_xlim=[-.5, 50], roc_ylim=[0, 105], loss_name='Geodesic Connection')"
   ]
  },
  {
   "cell_type": "code",
   "execution_count": 17,
   "id": "dcd589ca",
   "metadata": {},
   "outputs": [
    {
     "data": {
      "text/plain": [
       "(0.72332805, 0.68657744)"
      ]
     },
     "execution_count": 17,
     "metadata": {},
     "output_type": "execute_result"
    }
   ],
   "source": [
    "bce_history['summary']['threshold_op'], geo_history['summary']['threshold_op']"
   ]
  },
  {
   "cell_type": "code",
   "execution_count": 18,
   "id": "f87d734e",
   "metadata": {},
   "outputs": [
    {
     "data": {
      "text/plain": [
       "(0.9991541693201127, 0.9991541693201127)"
      ]
     },
     "execution_count": 18,
     "metadata": {},
     "output_type": "execute_result"
    }
   ],
   "source": [
    "bce_history['summary']['max_sp_val'], geo_history['summary']['max_sp_val']"
   ]
  },
  {
   "cell_type": "code",
   "execution_count": null,
   "id": "8cf7b635",
   "metadata": {},
   "outputs": [],
   "source": []
  }
 ],
 "metadata": {
  "kernelspec": {
   "display_name": "Python 3 (ipykernel)",
   "language": "python",
   "name": "python3"
  },
  "language_info": {
   "codemirror_mode": {
    "name": "ipython",
    "version": 3
   },
   "file_extension": ".py",
   "mimetype": "text/x-python",
   "name": "python",
   "nbconvert_exporter": "python",
   "pygments_lexer": "ipython3",
   "version": "3.11.7"
  }
 },
 "nbformat": 4,
 "nbformat_minor": 5
}

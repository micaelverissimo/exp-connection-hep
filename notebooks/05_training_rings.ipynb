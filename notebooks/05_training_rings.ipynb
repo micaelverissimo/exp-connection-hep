{
 "cells": [
  {
   "cell_type": "code",
   "execution_count": 1,
   "id": "943aaa20",
   "metadata": {},
   "outputs": [],
   "source": [
    "import sys\n",
    "repo_path = '/home/micael.verissimo/paper_lzt/exp-connection-hep/'\n",
    "sys.path.insert(0, repo_path)"
   ]
  },
  {
   "cell_type": "code",
   "execution_count": 2,
   "id": "27fd39c0",
   "metadata": {},
   "outputs": [
    {
     "name": "stderr",
     "output_type": "stream",
     "text": [
      "2025-04-28 17:01:01.403392: E external/local_xla/xla/stream_executor/cuda/cuda_dnn.cc:9261] Unable to register cuDNN factory: Attempting to register factory for plugin cuDNN when one has already been registered\n",
      "2025-04-28 17:01:01.403429: E external/local_xla/xla/stream_executor/cuda/cuda_fft.cc:607] Unable to register cuFFT factory: Attempting to register factory for plugin cuFFT when one has already been registered\n",
      "2025-04-28 17:01:01.404157: E external/local_xla/xla/stream_executor/cuda/cuda_blas.cc:1515] Unable to register cuBLAS factory: Attempting to register factory for plugin cuBLAS when one has already been registered\n",
      "2025-04-28 17:01:01.408327: I tensorflow/core/platform/cpu_feature_guard.cc:182] This TensorFlow binary is optimized to use available CPU instructions in performance-critical operations.\n",
      "To enable the following instructions: AVX2 FMA, in other operations, rebuild TensorFlow with the appropriate compiler flags.\n",
      "2025-04-28 17:01:03.448553: W tensorflow/compiler/tf2tensorrt/utils/py_utils.cc:38] TF-TRT Warning: Could not find TensorRT\n"
     ]
    },
    {
     "name": "stdout",
     "output_type": "stream",
     "text": [
      "Welcome to JupyROOT 6.30/02\n"
     ]
    }
   ],
   "source": [
    "import os\n",
    "\n",
    "import numpy as np\n",
    "import pandas as pd\n",
    "\n",
    "import tensorflow as tf\n",
    "\n",
    "import matplotlib.pyplot as plt\n",
    "\n",
    "from src.callbacks import sp_index\n",
    "from src.decorators import Summary\n",
    "from sklearn.model_selection import StratifiedKFold\n",
    "from sklearn.utils.class_weight import compute_class_weight"
   ]
  },
  {
   "cell_type": "code",
   "execution_count": 3,
   "id": "423e7221",
   "metadata": {},
   "outputs": [],
   "source": [
    "prefix = \"cl_ring_%i\"\n",
    "\n",
    "# rings presample \n",
    "presample = [prefix % iring for iring in range(8 // 2)]\n",
    "\n",
    "# EM1 list\n",
    "sum_rings = 8\n",
    "em1 = [prefix % iring for iring in range(sum_rings, sum_rings + (64 // 2))]\n",
    "\n",
    "# EM2 list\n",
    "sum_rings = 8 + 64\n",
    "em2 = [prefix % iring for iring in range(sum_rings, sum_rings + (8 // 2))]\n",
    "\n",
    "# EM3 list\n",
    "sum_rings = 8 + 64 + 8\n",
    "em3 = [prefix % iring for iring in range(sum_rings, sum_rings + (8 // 2))]\n",
    "\n",
    "# HAD1 list\n",
    "sum_rings = 8 + 64 + 8 + 8\n",
    "had1 = [prefix % iring for iring in range(sum_rings, sum_rings + (4 // 2))]\n",
    "\n",
    "# HAD2 list\n",
    "sum_rings = 8 + 64 + 8 + 8 + 4\n",
    "had2 = [prefix % iring for iring in range(sum_rings, sum_rings + (4 // 2))]\n",
    "\n",
    "# HAD3 list\n",
    "sum_rings = 8 + 64 + 8 + 8 + 4 + 4\n",
    "had3 = [prefix % iring for iring in range(sum_rings, sum_rings + (4 // 2))]\n",
    "\n",
    "col_names = presample + em1 + em2 + em3 + had1 + had2 + had3"
   ]
  },
  {
   "cell_type": "code",
   "execution_count": 4,
   "id": "89a75e58",
   "metadata": {},
   "outputs": [],
   "source": [
    "# load the data\n",
    "sgn_df = pd.read_parquet(os.path.join(repo_path, 'data/processed/zee_mb.parquet'))\n",
    "bkg_df = pd.read_parquet(os.path.join(repo_path, 'data/processed/jf17_mb.parquet'))\n",
    "\n",
    "m_df = pd.concat([sgn_df, bkg_df], axis=0)\n",
    "\n",
    "\n",
    "input_cols = [f\"cl_ring_{idx}\" for idx in range(100)] #col_names #[f\"cl_ring_{idx}\" for idx in range(100)]"
   ]
  },
  {
   "cell_type": "code",
   "execution_count": 5,
   "id": "fb648dc2",
   "metadata": {},
   "outputs": [
    {
     "data": {
      "text/plain": [
       "target\n",
       "1    11984\n",
       "0    11573\n",
       "Name: count, dtype: int64"
      ]
     },
     "execution_count": 5,
     "metadata": {},
     "output_type": "execute_result"
    }
   ],
   "source": [
    "m_df.target.value_counts()"
   ]
  },
  {
   "cell_type": "code",
   "execution_count": 6,
   "id": "559569a0",
   "metadata": {},
   "outputs": [
    {
     "data": {
      "text/html": [
       "<div>\n",
       "<style scoped>\n",
       "    .dataframe tbody tr th:only-of-type {\n",
       "        vertical-align: middle;\n",
       "    }\n",
       "\n",
       "    .dataframe tbody tr th {\n",
       "        vertical-align: top;\n",
       "    }\n",
       "\n",
       "    .dataframe thead th {\n",
       "        text-align: right;\n",
       "    }\n",
       "</style>\n",
       "<table border=\"1\" class=\"dataframe\">\n",
       "  <thead>\n",
       "    <tr style=\"text-align: right;\">\n",
       "      <th></th>\n",
       "      <th>N Samples</th>\n",
       "    </tr>\n",
       "    <tr>\n",
       "      <th>target</th>\n",
       "      <th></th>\n",
       "    </tr>\n",
       "  </thead>\n",
       "  <tbody>\n",
       "    <tr>\n",
       "      <th>0</th>\n",
       "      <td>4697</td>\n",
       "    </tr>\n",
       "    <tr>\n",
       "      <th>1</th>\n",
       "      <td>3131</td>\n",
       "    </tr>\n",
       "  </tbody>\n",
       "</table>\n",
       "</div>"
      ],
      "text/plain": [
       "        N Samples\n",
       "target           \n",
       "0            4697\n",
       "1            3131"
      ]
     },
     "metadata": {},
     "output_type": "display_data"
    }
   ],
   "source": [
    "GeV = 1e3\n",
    "display(m_df.query(f'cl_et < 30*{GeV} & cl_et > 15*{GeV}').target.value_counts().to_frame('N Samples'))\n",
    "\n",
    "m_df = m_df.query(f'cl_et < 30*{GeV} & cl_et > 15*{GeV}')"
   ]
  },
  {
   "cell_type": "code",
   "execution_count": 7,
   "id": "19fdf0cb",
   "metadata": {},
   "outputs": [
    {
     "data": {
      "text/plain": [
       "<Axes: >"
      ]
     },
     "execution_count": 7,
     "metadata": {},
     "output_type": "execute_result"
    },
    {
     "data": {
      "image/png": "[encoded data removed]",
      "text/plain": [
       "<Figure size 640x480 with 1 Axes>"
      ]
     },
     "metadata": {},
     "output_type": "display_data"
    }
   ],
   "source": [
    "m_df.cl_et.hist(bins=100, range=(0, 30*GeV), histtype='step', lw=2)"
   ]
  },
  {
   "cell_type": "code",
   "execution_count": 8,
   "id": "64710ecf",
   "metadata": {},
   "outputs": [],
   "source": [
    "def norm1(data):\n",
    "    norms = np.abs(data.sum(axis=1))\n",
    "    norms[norms == 0] = 1\n",
    "    return data / norms[:, None]\n",
    "\n",
    "# inputs features normalization\n",
    "X = norm1(m_df[input_cols].values)\n",
    "y = m_df.target.values"
   ]
  },
  {
   "cell_type": "code",
   "execution_count": 9,
   "id": "9f58cd4d",
   "metadata": {},
   "outputs": [],
   "source": [
    "def build_simple_mlp(input_shape: int, n_layers: int, n_units: int) -> tf.keras.Model:\n",
    "    \"\"\"\n",
    "    Builds a simple Multi-Layer Perceptron (MLP) model.\n",
    "\n",
    "    Args:\n",
    "        input_shape (int): The number of input features for the model.\n",
    "        n_layers (int): The number of hidden layers in the MLP.\n",
    "        n_units (int): The number of neurons in each hidden layer.\n",
    "\n",
    "    Returns:\n",
    "        tf.keras.Model: A compiled Keras model with the specified architecture.\n",
    "    \"\"\"\n",
    "    inputs = tf.keras.layers.Input(shape=(input_shape,), name='Input')\n",
    "    for ilayer in range(n_layers):\n",
    "        dense = tf.keras.layers.Dense(n_units, activation='relu', name=f'dense_layer_{ilayer}',\n",
    "                                      kernel_initializer=tf.keras.initializers.GlorotUniform(seed=512),\n",
    "                                      bias_initializer='zeros')(inputs if ilayer == 0 else dense)\n",
    "    # classification layer\n",
    "    dense = tf.keras.layers.Dense(1, activation='linear', name='output_for_inference',\n",
    "                                  kernel_initializer=tf.keras.initializers.GlorotUniform(seed=512),\n",
    "                                  bias_initializer='zeros')(dense) \n",
    "    output = tf.keras.layers.Activation('sigmoid', name='output_for_training')(dense)\n",
    "    model = tf.keras.Model(inputs, output, name=\"model\")\n",
    "    return model\n",
    "\n",
    "def class_weight(target: np.ndarray) -> pd.Series:\n",
    "    \"\"\"\n",
    "    Calculate class weights and sample weights for binary classification.\n",
    "\n",
    "    Args:\n",
    "        target (np.ndarray): Array of binary target labels (e.g., 0 and 1).\n",
    "\n",
    "    Returns:\n",
    "        pd.Series: A pandas Series containing sample weights for each instance, \n",
    "                   with the column name 'weight'.\n",
    "    \"\"\"\n",
    "    classes = np.unique(target)\n",
    "    # [-1,1] or [0,1]\n",
    "    weights = compute_class_weight(class_weight='balanced', classes=classes, y=target)\n",
    "    class_weights = {cl: weights[idx] for idx, cl in enumerate(classes)}\n",
    "    sample_weight = np.ones_like(target, dtype=np.float32)\n",
    "    sample_weight[target == 1] = weights[1]\n",
    "    sample_weight[target != 1] = weights[0]\n",
    "    return pd.Series(sample_weight).to_frame('weight')\n"
   ]
  },
  {
   "cell_type": "code",
   "execution_count": 10,
   "id": "7e18b208",
   "metadata": {},
   "outputs": [
    {
     "name": "stderr",
     "output_type": "stream",
     "text": [
      "2025-04-28 17:01:44.159557: I external/local_xla/xla/stream_executor/cuda/cuda_executor.cc:901] successful NUMA node read from SysFS had negative value (-1), but there must be at least one NUMA node, so returning NUMA node zero. See more at https://github.com/torvalds/linux/blob/v6.0/Documentation/ABI/testing/sysfs-bus-pci#L344-L355\n",
      "2025-04-28 17:01:44.181950: I external/local_xla/xla/stream_executor/cuda/cuda_executor.cc:901] successful NUMA node read from SysFS had negative value (-1), but there must be at least one NUMA node, so returning NUMA node zero. See more at https://github.com/torvalds/linux/blob/v6.0/Documentation/ABI/testing/sysfs-bus-pci#L344-L355\n",
      "2025-04-28 17:01:44.182127: I external/local_xla/xla/stream_executor/cuda/cuda_executor.cc:901] successful NUMA node read from SysFS had negative value (-1), but there must be at least one NUMA node, so returning NUMA node zero. See more at https://github.com/torvalds/linux/blob/v6.0/Documentation/ABI/testing/sysfs-bus-pci#L344-L355\n",
      "2025-04-28 17:01:44.183262: I external/local_xla/xla/stream_executor/cuda/cuda_executor.cc:901] successful NUMA node read from SysFS had negative value (-1), but there must be at least one NUMA node, so returning NUMA node zero. See more at https://github.com/torvalds/linux/blob/v6.0/Documentation/ABI/testing/sysfs-bus-pci#L344-L355\n",
      "2025-04-28 17:01:44.183404: I external/local_xla/xla/stream_executor/cuda/cuda_executor.cc:901] successful NUMA node read from SysFS had negative value (-1), but there must be at least one NUMA node, so returning NUMA node zero. See more at https://github.com/torvalds/linux/blob/v6.0/Documentation/ABI/testing/sysfs-bus-pci#L344-L355\n",
      "2025-04-28 17:01:44.183530: I external/local_xla/xla/stream_executor/cuda/cuda_executor.cc:901] successful NUMA node read from SysFS had negative value (-1), but there must be at least one NUMA node, so returning NUMA node zero. See more at https://github.com/torvalds/linux/blob/v6.0/Documentation/ABI/testing/sysfs-bus-pci#L344-L355\n",
      "2025-04-28 17:01:44.236225: I external/local_xla/xla/stream_executor/cuda/cuda_executor.cc:901] successful NUMA node read from SysFS had negative value (-1), but there must be at least one NUMA node, so returning NUMA node zero. See more at https://github.com/torvalds/linux/blob/v6.0/Documentation/ABI/testing/sysfs-bus-pci#L344-L355\n",
      "2025-04-28 17:01:44.236405: I external/local_xla/xla/stream_executor/cuda/cuda_executor.cc:901] successful NUMA node read from SysFS had negative value (-1), but there must be at least one NUMA node, so returning NUMA node zero. See more at https://github.com/torvalds/linux/blob/v6.0/Documentation/ABI/testing/sysfs-bus-pci#L344-L355\n",
      "2025-04-28 17:01:44.236545: I external/local_xla/xla/stream_executor/cuda/cuda_executor.cc:901] successful NUMA node read from SysFS had negative value (-1), but there must be at least one NUMA node, so returning NUMA node zero. See more at https://github.com/torvalds/linux/blob/v6.0/Documentation/ABI/testing/sysfs-bus-pci#L344-L355\n",
      "2025-04-28 17:01:44.236641: I tensorflow/core/common_runtime/gpu/gpu_device.cc:1929] Created device /job:localhost/replica:0/task:0/device:GPU:0 with 9797 MB memory:  -> device: 0, name: NVIDIA GeForce RTX 2080 Ti, pci bus id: 0000:00:10.0, compute capability: 7.5\n"
     ]
    }
   ],
   "source": [
    "model_bce = build_simple_mlp(input_shape=len(input_cols), n_layers=1, n_units=5)\n",
    "model_geo = build_simple_mlp(input_shape=len(input_cols), n_layers=1, n_units=5)"
   ]
  },
  {
   "cell_type": "code",
   "execution_count": 11,
   "id": "4b4bc66e",
   "metadata": {},
   "outputs": [
    {
     "name": "stdout",
     "output_type": "stream",
     "text": [
      "(100, 5) (100, 5)\n",
      "True\n",
      "(5,) (5,)\n",
      "True\n",
      "(5, 1) (5, 1)\n",
      "True\n",
      "(1,) (1,)\n",
      "True\n"
     ]
    }
   ],
   "source": [
    "bce_weights = model_bce.get_weights()\n",
    "geo_weights = model_geo.get_weights()\n",
    "\n",
    "for ib, ig in zip(bce_weights, geo_weights):\n",
    "    print(ib.shape, ig.shape)\n",
    "    if len(ib.shape) == 1:\n",
    "        print(np.allclose(ib, ig))\n",
    "    else:\n",
    "        print(np.allclose(ib, ig, rtol=1e-5, atol=1e-8))"
   ]
  },
  {
   "cell_type": "code",
   "execution_count": 12,
   "id": "77917807",
   "metadata": {},
   "outputs": [],
   "source": [
    "patience = 50"
   ]
  },
  {
   "cell_type": "code",
   "execution_count": 13,
   "id": "7f53ed34",
   "metadata": {},
   "outputs": [
    {
     "name": "stdout",
     "output_type": "stream",
     "text": [
      "Epoch 1/1000\n",
      "1/1 [==============================] - 0s 43ms/step- loss: 0.6398 - accuracy: 0.82\n"
     ]
    },
    {
     "name": "stderr",
     "output_type": "stream",
     "text": [
      "\u001b[32m2025-04-28 17:01:55.064\u001b[0m | \u001b[1mINFO    \u001b[0m | \u001b[36msrc.callbacks\u001b[0m:\u001b[36mon_epoch_end\u001b[0m:\u001b[36m63\u001b[0m - \u001b[1mval_sp: 0.9803 (fa:0.0299, pd:0.9904), patience: 0\u001b[0m\n",
      "\u001b[32m2025-04-28 17:01:55.065\u001b[0m | \u001b[1mINFO    \u001b[0m | \u001b[36msrc.callbacks\u001b[0m:\u001b[36mon_epoch_end\u001b[0m:\u001b[36m68\u001b[0m - \u001b[1msave the best configuration here...\u001b[0m\n"
     ]
    },
    {
     "name": "stdout",
     "output_type": "stream",
     "text": [
      "111/111 [==============================] - 2s 5ms/step - loss: 0.6398 - accuracy: 0.8240 - val_loss: 0.6025 - val_accuracy: 0.9515 - max_sp_val: 0.9803 - max_sp_fa_val: 0.0299 - max_sp_pd_val: 0.9904 - max_sp_best_epoch_val: 0.0000e+00\n",
      "Epoch 2/1000\n",
      "1/1 [==============================] - 0s 11ms/step- loss: 0.5516 - accuracy: 0.95\n"
     ]
    },
    {
     "name": "stderr",
     "output_type": "stream",
     "text": [
      "\u001b[32m2025-04-28 17:01:55.329\u001b[0m | \u001b[1mINFO    \u001b[0m | \u001b[36msrc.callbacks\u001b[0m:\u001b[36mon_epoch_end\u001b[0m:\u001b[36m63\u001b[0m - \u001b[1mval_sp: 0.9813 (fa:0.0277, pd:0.9904), patience: 0\u001b[0m\n",
      "\u001b[32m2025-04-28 17:01:55.330\u001b[0m | \u001b[1mINFO    \u001b[0m | \u001b[36msrc.callbacks\u001b[0m:\u001b[36mon_epoch_end\u001b[0m:\u001b[36m68\u001b[0m - \u001b[1msave the best configuration here...\u001b[0m\n"
     ]
    },
    {
     "name": "stdout",
     "output_type": "stream",
     "text": [
      "111/111 [==============================] - 0s 2ms/step - loss: 0.5447 - accuracy: 0.9593 - val_loss: 0.5044 - val_accuracy: 0.9642 - max_sp_val: 0.9813 - max_sp_fa_val: 0.0277 - max_sp_pd_val: 0.9904 - max_sp_best_epoch_val: 1.0000\n",
      "Epoch 3/1000\n",
      "1/1 [==============================] - 0s 10ms/step- loss: 0.4487 - accuracy: 0.96\n"
     ]
    },
    {
     "name": "stderr",
     "output_type": "stream",
     "text": [
      "\u001b[32m2025-04-28 17:01:55.580\u001b[0m | \u001b[1mINFO    \u001b[0m | \u001b[36msrc.callbacks\u001b[0m:\u001b[36mon_epoch_end\u001b[0m:\u001b[36m63\u001b[0m - \u001b[1mval_sp: 0.9824 (fa:0.0256, pd:0.9904), patience: 0\u001b[0m\n",
      "\u001b[32m2025-04-28 17:01:55.580\u001b[0m | \u001b[1mINFO    \u001b[0m | \u001b[36msrc.callbacks\u001b[0m:\u001b[36mon_epoch_end\u001b[0m:\u001b[36m68\u001b[0m - \u001b[1msave the best configuration here...\u001b[0m\n"
     ]
    },
    {
     "name": "stdout",
     "output_type": "stream",
     "text": [
      "111/111 [==============================] - 0s 2ms/step - loss: 0.4406 - accuracy: 0.9655 - val_loss: 0.4052 - val_accuracy: 0.9681 - max_sp_val: 0.9824 - max_sp_fa_val: 0.0256 - max_sp_pd_val: 0.9904 - max_sp_best_epoch_val: 2.0000\n",
      "Epoch 4/1000\n",
      "1/1 [==============================] - 0s 10ms/step- loss: 0.3534 - accuracy: 0.96\n"
     ]
    },
    {
     "name": "stderr",
     "output_type": "stream",
     "text": [
      "\u001b[32m2025-04-28 17:01:55.829\u001b[0m | \u001b[1mINFO    \u001b[0m | \u001b[36msrc.callbacks\u001b[0m:\u001b[36mon_epoch_end\u001b[0m:\u001b[36m63\u001b[0m - \u001b[1mval_sp: 0.9824 (fa:0.0256, pd:0.9904), patience: 0\u001b[0m\n"
     ]
    },
    {
     "name": "stdout",
     "output_type": "stream",
     "text": [
      "111/111 [==============================] - 0s 2ms/step - loss: 0.3468 - accuracy: 0.9709 - val_loss: 0.3205 - val_accuracy: 0.9693 - max_sp_val: 0.9824 - max_sp_fa_val: 0.0256 - max_sp_pd_val: 0.9904\n",
      "Epoch 5/1000\n",
      "1/1 [==============================] - 0s 10ms/step- loss: 0.2765 - accuracy: 0.97\n"
     ]
    },
    {
     "name": "stderr",
     "output_type": "stream",
     "text": [
      "\u001b[32m2025-04-28 17:01:56.083\u001b[0m | \u001b[1mINFO    \u001b[0m | \u001b[36msrc.callbacks\u001b[0m:\u001b[36mon_epoch_end\u001b[0m:\u001b[36m63\u001b[0m - \u001b[1mval_sp: 0.9829 (fa:0.0277, pd:0.9936), patience: 1\u001b[0m\n",
      "\u001b[32m2025-04-28 17:01:56.083\u001b[0m | \u001b[1mINFO    \u001b[0m | \u001b[36msrc.callbacks\u001b[0m:\u001b[36mon_epoch_end\u001b[0m:\u001b[36m68\u001b[0m - \u001b[1msave the best configuration here...\u001b[0m\n"
     ]
    },
    {
     "name": "stdout",
     "output_type": "stream",
     "text": [
      "111/111 [==============================] - 0s 2ms/step - loss: 0.2724 - accuracy: 0.9722 - val_loss: 0.2537 - val_accuracy: 0.9745 - max_sp_val: 0.9829 - max_sp_fa_val: 0.0277 - max_sp_pd_val: 0.9936 - max_sp_best_epoch_val: 4.0000\n",
      "Epoch 6/1000\n",
      "1/1 [==============================] - 0s 10ms/step- loss: 0.2189 - accuracy: 0.97\n"
     ]
    },
    {
     "name": "stderr",
     "output_type": "stream",
     "text": [
      "\u001b[32m2025-04-28 17:01:56.328\u001b[0m | \u001b[1mINFO    \u001b[0m | \u001b[36msrc.callbacks\u001b[0m:\u001b[36mon_epoch_end\u001b[0m:\u001b[36m63\u001b[0m - \u001b[1mval_sp: 0.9829 (fa:0.0277, pd:0.9936), patience: 0\u001b[0m\n"
     ]
    },
    {
     "name": "stdout",
     "output_type": "stream",
     "text": [
      "111/111 [==============================] - 0s 2ms/step - loss: 0.2172 - accuracy: 0.9740 - val_loss: 0.2071 - val_accuracy: 0.9745 - max_sp_val: 0.9829 - max_sp_fa_val: 0.0277 - max_sp_pd_val: 0.9936\n",
      "Epoch 7/1000\n",
      "1/1 [==============================] - 0s 10ms/step- loss: 0.1792 - accuracy: 0.97\n"
     ]
    },
    {
     "name": "stderr",
     "output_type": "stream",
     "text": [
      "\u001b[32m2025-04-28 17:01:56.573\u001b[0m | \u001b[1mINFO    \u001b[0m | \u001b[36msrc.callbacks\u001b[0m:\u001b[36mon_epoch_end\u001b[0m:\u001b[36m63\u001b[0m - \u001b[1mval_sp: 0.9840 (fa:0.0256, pd:0.9936), patience: 1\u001b[0m\n",
      "\u001b[32m2025-04-28 17:01:56.574\u001b[0m | \u001b[1mINFO    \u001b[0m | \u001b[36msrc.callbacks\u001b[0m:\u001b[36mon_epoch_end\u001b[0m:\u001b[36m68\u001b[0m - \u001b[1msave the best configuration here...\u001b[0m\n"
     ]
    },
    {
     "name": "stdout",
     "output_type": "stream",
     "text": [
      "111/111 [==============================] - 0s 2ms/step - loss: 0.1773 - accuracy: 0.9756 - val_loss: 0.1718 - val_accuracy: 0.9745 - max_sp_val: 0.9840 - max_sp_fa_val: 0.0256 - max_sp_pd_val: 0.9936 - max_sp_best_epoch_val: 6.0000\n",
      "Epoch 8/1000\n",
      "1/1 [==============================] - 0s 10ms/step- loss: 0.1501 - accuracy: 0.97\n"
     ]
    },
    {
     "name": "stderr",
     "output_type": "stream",
     "text": [
      "\u001b[32m2025-04-28 17:01:56.822\u001b[0m | \u001b[1mINFO    \u001b[0m | \u001b[36msrc.callbacks\u001b[0m:\u001b[36mon_epoch_end\u001b[0m:\u001b[36m63\u001b[0m - \u001b[1mval_sp: 0.9851 (fa:0.0235, pd:0.9936), patience: 0\u001b[0m\n",
      "\u001b[32m2025-04-28 17:01:56.822\u001b[0m | \u001b[1mINFO    \u001b[0m | \u001b[36msrc.callbacks\u001b[0m:\u001b[36mon_epoch_end\u001b[0m:\u001b[36m68\u001b[0m - \u001b[1msave the best configuration here...\u001b[0m\n"
     ]
    },
    {
     "name": "stdout",
     "output_type": "stream",
     "text": [
      "111/111 [==============================] - 0s 2ms/step - loss: 0.1484 - accuracy: 0.9771 - val_loss: 0.1466 - val_accuracy: 0.9745 - max_sp_val: 0.9851 - max_sp_fa_val: 0.0235 - max_sp_pd_val: 0.9936 - max_sp_best_epoch_val: 7.0000\n",
      "Epoch 9/1000\n",
      "1/1 [==============================] - 0s 10ms/step- loss: 0.1283 - accuracy: 0.97\n"
     ]
    },
    {
     "name": "stderr",
     "output_type": "stream",
     "text": [
      "\u001b[32m2025-04-28 17:01:57.074\u001b[0m | \u001b[1mINFO    \u001b[0m | \u001b[36msrc.callbacks\u001b[0m:\u001b[36mon_epoch_end\u001b[0m:\u001b[36m63\u001b[0m - \u001b[1mval_sp: 0.9851 (fa:0.0235, pd:0.9936), patience: 0\u001b[0m\n"
     ]
    },
    {
     "name": "stdout",
     "output_type": "stream",
     "text": [
      "111/111 [==============================] - 0s 2ms/step - loss: 0.1270 - accuracy: 0.9783 - val_loss: 0.1276 - val_accuracy: 0.9757 - max_sp_val: 0.9851 - max_sp_fa_val: 0.0235 - max_sp_pd_val: 0.9936\n",
      "Epoch 10/1000\n",
      "1/1 [==============================] - 0s 10ms/step- loss: 0.1128 - accuracy: 0.97\n"
     ]
    },
    {
     "name": "stderr",
     "output_type": "stream",
     "text": [
      "\u001b[32m2025-04-28 17:01:57.321\u001b[0m | \u001b[1mINFO    \u001b[0m | \u001b[36msrc.callbacks\u001b[0m:\u001b[36mon_epoch_end\u001b[0m:\u001b[36m63\u001b[0m - \u001b[1mval_sp: 0.9851 (fa:0.0235, pd:0.9936), patience: 1\u001b[0m\n"
     ]
    },
    {
     "name": "stdout",
     "output_type": "stream",
     "text": [
      "111/111 [==============================] - 0s 2ms/step - loss: 0.1110 - accuracy: 0.9787 - val_loss: 0.1133 - val_accuracy: 0.9783 - max_sp_val: 0.9851 - max_sp_fa_val: 0.0235 - max_sp_pd_val: 0.9936\n",
      "Epoch 11/1000\n",
      "1/1 [==============================] - 0s 10ms/step- loss: 0.0990 - accuracy: 0.97\n"
     ]
    },
    {
     "name": "stderr",
     "output_type": "stream",
     "text": [
      "\u001b[32m2025-04-28 17:01:57.577\u001b[0m | \u001b[1mINFO    \u001b[0m | \u001b[36msrc.callbacks\u001b[0m:\u001b[36mon_epoch_end\u001b[0m:\u001b[36m63\u001b[0m - \u001b[1mval_sp: 0.9851 (fa:0.0235, pd:0.9936), patience: 2\u001b[0m\n"
     ]
    },
    {
     "name": "stdout",
     "output_type": "stream",
     "text": [
      "111/111 [==============================] - 0s 2ms/step - loss: 0.0987 - accuracy: 0.9796 - val_loss: 0.1030 - val_accuracy: 0.9783 - max_sp_val: 0.9851 - max_sp_fa_val: 0.0235 - max_sp_pd_val: 0.9936\n",
      "Epoch 12/1000\n",
      "1/1 [==============================] - 0s 10ms/step- loss: 0.0892 - accuracy: 0.97\n"
     ]
    },
    {
     "name": "stderr",
     "output_type": "stream",
     "text": [
      "\u001b[32m2025-04-28 17:01:57.829\u001b[0m | \u001b[1mINFO    \u001b[0m | \u001b[36msrc.callbacks\u001b[0m:\u001b[36mon_epoch_end\u001b[0m:\u001b[36m63\u001b[0m - \u001b[1mval_sp: 0.9861 (fa:0.0213, pd:0.9936), patience: 3\u001b[0m\n",
      "\u001b[32m2025-04-28 17:01:57.830\u001b[0m | \u001b[1mINFO    \u001b[0m | \u001b[36msrc.callbacks\u001b[0m:\u001b[36mon_epoch_end\u001b[0m:\u001b[36m68\u001b[0m - \u001b[1msave the best configuration here...\u001b[0m\n"
     ]
    },
    {
     "name": "stdout",
     "output_type": "stream",
     "text": [
      "111/111 [==============================] - 0s 2ms/step - loss: 0.0891 - accuracy: 0.9806 - val_loss: 0.0943 - val_accuracy: 0.9796 - max_sp_val: 0.9861 - max_sp_fa_val: 0.0213 - max_sp_pd_val: 0.9936 - max_sp_best_epoch_val: 11.0000\n",
      "Epoch 13/1000\n",
      "1/1 [==============================] - 0s 11ms/step- loss: 0.0822 - accuracy: 0.98\n"
     ]
    },
    {
     "name": "stderr",
     "output_type": "stream",
     "text": [
      "\u001b[32m2025-04-28 17:01:58.086\u001b[0m | \u001b[1mINFO    \u001b[0m | \u001b[36msrc.callbacks\u001b[0m:\u001b[36mon_epoch_end\u001b[0m:\u001b[36m63\u001b[0m - \u001b[1mval_sp: 0.9861 (fa:0.0213, pd:0.9936), patience: 0\u001b[0m\n"
     ]
    },
    {
     "name": "stdout",
     "output_type": "stream",
     "text": [
      "111/111 [==============================] - 0s 2ms/step - loss: 0.0815 - accuracy: 0.9808 - val_loss: 0.0880 - val_accuracy: 0.9796 - max_sp_val: 0.9861 - max_sp_fa_val: 0.0213 - max_sp_pd_val: 0.9936\n",
      "Epoch 14/1000\n",
      "1/1 [==============================] - 0s 10ms/step- loss: 0.0760 - accuracy: 0.98\n"
     ]
    },
    {
     "name": "stderr",
     "output_type": "stream",
     "text": [
      "\u001b[32m2025-04-28 17:01:58.333\u001b[0m | \u001b[1mINFO    \u001b[0m | \u001b[36msrc.callbacks\u001b[0m:\u001b[36mon_epoch_end\u001b[0m:\u001b[36m63\u001b[0m - \u001b[1mval_sp: 0.9861 (fa:0.0213, pd:0.9936), patience: 1\u001b[0m\n"
     ]
    },
    {
     "name": "stdout",
     "output_type": "stream",
     "text": [
      "111/111 [==============================] - 0s 2ms/step - loss: 0.0754 - accuracy: 0.9815 - val_loss: 0.0827 - val_accuracy: 0.9808 - max_sp_val: 0.9861 - max_sp_fa_val: 0.0213 - max_sp_pd_val: 0.9936\n",
      "Epoch 15/1000\n",
      "1/1 [==============================] - 0s 11ms/step- loss: 0.0700 - accuracy: 0.98\n"
     ]
    },
    {
     "name": "stderr",
     "output_type": "stream",
     "text": [
      "\u001b[32m2025-04-28 17:01:58.592\u001b[0m | \u001b[1mINFO    \u001b[0m | \u001b[36msrc.callbacks\u001b[0m:\u001b[36mon_epoch_end\u001b[0m:\u001b[36m63\u001b[0m - \u001b[1mval_sp: 0.9861 (fa:0.0213, pd:0.9936), patience: 2\u001b[0m\n"
     ]
    },
    {
     "name": "stdout",
     "output_type": "stream",
     "text": [
      "111/111 [==============================] - 0s 2ms/step - loss: 0.0702 - accuracy: 0.9820 - val_loss: 0.0784 - val_accuracy: 0.9821 - max_sp_val: 0.9861 - max_sp_fa_val: 0.0213 - max_sp_pd_val: 0.9936\n",
      "Epoch 16/1000\n",
      "1/1 [==============================] - 0s 10ms/step- loss: 0.0651 - accuracy: 0.98\n"
     ]
    },
    {
     "name": "stderr",
     "output_type": "stream",
     "text": [
      "\u001b[32m2025-04-28 17:01:58.843\u001b[0m | \u001b[1mINFO    \u001b[0m | \u001b[36msrc.callbacks\u001b[0m:\u001b[36mon_epoch_end\u001b[0m:\u001b[36m63\u001b[0m - \u001b[1mval_sp: 0.9872 (fa:0.0192, pd:0.9936), patience: 3\u001b[0m\n",
      "\u001b[32m2025-04-28 17:01:58.844\u001b[0m | \u001b[1mINFO    \u001b[0m | \u001b[36msrc.callbacks\u001b[0m:\u001b[36mon_epoch_end\u001b[0m:\u001b[36m68\u001b[0m - \u001b[1msave the best configuration here...\u001b[0m\n"
     ]
    },
    {
     "name": "stdout",
     "output_type": "stream",
     "text": [
      "111/111 [==============================] - 0s 2ms/step - loss: 0.0660 - accuracy: 0.9827 - val_loss: 0.0750 - val_accuracy: 0.9834 - max_sp_val: 0.9872 - max_sp_fa_val: 0.0192 - max_sp_pd_val: 0.9936 - max_sp_best_epoch_val: 15.0000\n",
      "Epoch 17/1000\n",
      "1/1 [==============================] - 0s 10ms/step- loss: 0.0640 - accuracy: 0.98\n"
     ]
    },
    {
     "name": "stderr",
     "output_type": "stream",
     "text": [
      "\u001b[32m2025-04-28 17:01:59.098\u001b[0m | \u001b[1mINFO    \u001b[0m | \u001b[36msrc.callbacks\u001b[0m:\u001b[36mon_epoch_end\u001b[0m:\u001b[36m63\u001b[0m - \u001b[1mval_sp: 0.9872 (fa:0.0192, pd:0.9936), patience: 0\u001b[0m\n"
     ]
    },
    {
     "name": "stdout",
     "output_type": "stream",
     "text": [
      "111/111 [==============================] - 0s 2ms/step - loss: 0.0624 - accuracy: 0.9831 - val_loss: 0.0721 - val_accuracy: 0.9834 - max_sp_val: 0.9872 - max_sp_fa_val: 0.0192 - max_sp_pd_val: 0.9936\n",
      "Epoch 18/1000\n",
      "1/1 [==============================] - 0s 10ms/step- loss: 0.0595 - accuracy: 0.98\n"
     ]
    },
    {
     "name": "stderr",
     "output_type": "stream",
     "text": [
      "\u001b[32m2025-04-28 17:01:59.352\u001b[0m | \u001b[1mINFO    \u001b[0m | \u001b[36msrc.callbacks\u001b[0m:\u001b[36mon_epoch_end\u001b[0m:\u001b[36m63\u001b[0m - \u001b[1mval_sp: 0.9872 (fa:0.0192, pd:0.9936), patience: 1\u001b[0m\n"
     ]
    },
    {
     "name": "stdout",
     "output_type": "stream",
     "text": [
      "111/111 [==============================] - 0s 2ms/step - loss: 0.0593 - accuracy: 0.9833 - val_loss: 0.0698 - val_accuracy: 0.9834 - max_sp_val: 0.9872 - max_sp_fa_val: 0.0192 - max_sp_pd_val: 0.9936\n",
      "Epoch 19/1000\n",
      "1/1 [==============================] - 0s 10ms/step- loss: 0.0574 - accuracy: 0.98\n"
     ]
    },
    {
     "name": "stderr",
     "output_type": "stream",
     "text": [
      "\u001b[32m2025-04-28 17:01:59.596\u001b[0m | \u001b[1mINFO    \u001b[0m | \u001b[36msrc.callbacks\u001b[0m:\u001b[36mon_epoch_end\u001b[0m:\u001b[36m63\u001b[0m - \u001b[1mval_sp: 0.9872 (fa:0.0192, pd:0.9936), patience: 2\u001b[0m\n"
     ]
    },
    {
     "name": "stdout",
     "output_type": "stream",
     "text": [
      "111/111 [==============================] - 0s 2ms/step - loss: 0.0566 - accuracy: 0.9837 - val_loss: 0.0677 - val_accuracy: 0.9847 - max_sp_val: 0.9872 - max_sp_fa_val: 0.0192 - max_sp_pd_val: 0.9936\n",
      "Epoch 20/1000\n",
      "1/1 [==============================] - 0s 11ms/step- loss: 0.0553 - accuracy: 0.98\n"
     ]
    },
    {
     "name": "stderr",
     "output_type": "stream",
     "text": [
      "\u001b[32m2025-04-28 17:01:59.855\u001b[0m | \u001b[1mINFO    \u001b[0m | \u001b[36msrc.callbacks\u001b[0m:\u001b[36mon_epoch_end\u001b[0m:\u001b[36m63\u001b[0m - \u001b[1mval_sp: 0.9872 (fa:0.0192, pd:0.9936), patience: 3\u001b[0m\n"
     ]
    },
    {
     "name": "stdout",
     "output_type": "stream",
     "text": [
      "111/111 [==============================] - 0s 2ms/step - loss: 0.0543 - accuracy: 0.9840 - val_loss: 0.0661 - val_accuracy: 0.9860 - max_sp_val: 0.9872 - max_sp_fa_val: 0.0192 - max_sp_pd_val: 0.9936\n",
      "Epoch 21/1000\n",
      "1/1 [==============================] - 0s 10ms/step- loss: 0.0519 - accuracy: 0.98\n"
     ]
    },
    {
     "name": "stderr",
     "output_type": "stream",
     "text": [
      "\u001b[32m2025-04-28 17:02:00.108\u001b[0m | \u001b[1mINFO    \u001b[0m | \u001b[36msrc.callbacks\u001b[0m:\u001b[36mon_epoch_end\u001b[0m:\u001b[36m63\u001b[0m - \u001b[1mval_sp: 0.9883 (fa:0.0171, pd:0.9936), patience: 4\u001b[0m\n",
      "\u001b[32m2025-04-28 17:02:00.109\u001b[0m | \u001b[1mINFO    \u001b[0m | \u001b[36msrc.callbacks\u001b[0m:\u001b[36mon_epoch_end\u001b[0m:\u001b[36m68\u001b[0m - \u001b[1msave the best configuration here...\u001b[0m\n"
     ]
    },
    {
     "name": "stdout",
     "output_type": "stream",
     "text": [
      "111/111 [==============================] - 0s 2ms/step - loss: 0.0522 - accuracy: 0.9847 - val_loss: 0.0644 - val_accuracy: 0.9860 - max_sp_val: 0.9883 - max_sp_fa_val: 0.0171 - max_sp_pd_val: 0.9936 - max_sp_best_epoch_val: 20.0000\n",
      "Epoch 22/1000\n",
      "1/1 [==============================] - 0s 11ms/step- loss: 0.0503 - accuracy: 0.98\n"
     ]
    },
    {
     "name": "stderr",
     "output_type": "stream",
     "text": [
      "\u001b[32m2025-04-28 17:02:00.372\u001b[0m | \u001b[1mINFO    \u001b[0m | \u001b[36msrc.callbacks\u001b[0m:\u001b[36mon_epoch_end\u001b[0m:\u001b[36m63\u001b[0m - \u001b[1mval_sp: 0.9883 (fa:0.0171, pd:0.9936), patience: 0\u001b[0m\n"
     ]
    },
    {
     "name": "stdout",
     "output_type": "stream",
     "text": [
      "111/111 [==============================] - 0s 2ms/step - loss: 0.0505 - accuracy: 0.9845 - val_loss: 0.0636 - val_accuracy: 0.9860 - max_sp_val: 0.9883 - max_sp_fa_val: 0.0171 - max_sp_pd_val: 0.9936\n",
      "Epoch 23/1000\n",
      "1/1 [==============================] - 0s 11ms/step- loss: 0.0496 - accuracy: 0.98\n"
     ]
    },
    {
     "name": "stderr",
     "output_type": "stream",
     "text": [
      "\u001b[32m2025-04-28 17:02:00.622\u001b[0m | \u001b[1mINFO    \u001b[0m | \u001b[36msrc.callbacks\u001b[0m:\u001b[36mon_epoch_end\u001b[0m:\u001b[36m63\u001b[0m - \u001b[1mval_sp: 0.9878 (fa:0.0149, pd:0.9904), patience: 1\u001b[0m\n"
     ]
    },
    {
     "name": "stdout",
     "output_type": "stream",
     "text": [
      "111/111 [==============================] - 0s 2ms/step - loss: 0.0487 - accuracy: 0.9852 - val_loss: 0.0627 - val_accuracy: 0.9860 - max_sp_val: 0.9878 - max_sp_fa_val: 0.0149 - max_sp_pd_val: 0.9904\n",
      "Epoch 24/1000\n",
      "1/1 [==============================] - 0s 11ms/step- loss: 0.0478 - accuracy: 0.98\n"
     ]
    },
    {
     "name": "stderr",
     "output_type": "stream",
     "text": [
      "\u001b[32m2025-04-28 17:02:00.880\u001b[0m | \u001b[1mINFO    \u001b[0m | \u001b[36msrc.callbacks\u001b[0m:\u001b[36mon_epoch_end\u001b[0m:\u001b[36m63\u001b[0m - \u001b[1mval_sp: 0.9878 (fa:0.0149, pd:0.9904), patience: 2\u001b[0m\n"
     ]
    },
    {
     "name": "stdout",
     "output_type": "stream",
     "text": [
      "111/111 [==============================] - 0s 2ms/step - loss: 0.0472 - accuracy: 0.9852 - val_loss: 0.0615 - val_accuracy: 0.9860 - max_sp_val: 0.9878 - max_sp_fa_val: 0.0149 - max_sp_pd_val: 0.9904\n",
      "Epoch 25/1000\n",
      "1/1 [==============================] - 0s 11ms/step- loss: 0.0451 - accuracy: 0.98\n"
     ]
    },
    {
     "name": "stderr",
     "output_type": "stream",
     "text": [
      "\u001b[32m2025-04-28 17:02:01.127\u001b[0m | \u001b[1mINFO    \u001b[0m | \u001b[36msrc.callbacks\u001b[0m:\u001b[36mon_epoch_end\u001b[0m:\u001b[36m63\u001b[0m - \u001b[1mval_sp: 0.9878 (fa:0.0149, pd:0.9904), patience: 3\u001b[0m\n"
     ]
    },
    {
     "name": "stdout",
     "output_type": "stream",
     "text": [
      "111/111 [==============================] - 0s 2ms/step - loss: 0.0460 - accuracy: 0.9854 - val_loss: 0.0611 - val_accuracy: 0.9860 - max_sp_val: 0.9878 - max_sp_fa_val: 0.0149 - max_sp_pd_val: 0.9904\n",
      "Epoch 26/1000\n",
      "1/1 [==============================] - 0s 11ms/step- loss: 0.0455 - accuracy: 0.98\n"
     ]
    },
    {
     "name": "stderr",
     "output_type": "stream",
     "text": [
      "\u001b[32m2025-04-28 17:02:01.382\u001b[0m | \u001b[1mINFO    \u001b[0m | \u001b[36msrc.callbacks\u001b[0m:\u001b[36mon_epoch_end\u001b[0m:\u001b[36m63\u001b[0m - \u001b[1mval_sp: 0.9878 (fa:0.0149, pd:0.9904), patience: 4\u001b[0m\n"
     ]
    },
    {
     "name": "stdout",
     "output_type": "stream",
     "text": [
      "111/111 [==============================] - 0s 2ms/step - loss: 0.0447 - accuracy: 0.9855 - val_loss: 0.0603 - val_accuracy: 0.9860 - max_sp_val: 0.9878 - max_sp_fa_val: 0.0149 - max_sp_pd_val: 0.9904\n",
      "Epoch 27/1000\n",
      "1/1 [==============================] - 0s 10ms/step- loss: 0.0426 - accuracy: 0.98\n"
     ]
    },
    {
     "name": "stderr",
     "output_type": "stream",
     "text": [
      "\u001b[32m2025-04-28 17:02:01.633\u001b[0m | \u001b[1mINFO    \u001b[0m | \u001b[36msrc.callbacks\u001b[0m:\u001b[36mon_epoch_end\u001b[0m:\u001b[36m63\u001b[0m - \u001b[1mval_sp: 0.9878 (fa:0.0149, pd:0.9904), patience: 5\u001b[0m\n"
     ]
    },
    {
     "name": "stdout",
     "output_type": "stream",
     "text": [
      "111/111 [==============================] - 0s 2ms/step - loss: 0.0436 - accuracy: 0.9859 - val_loss: 0.0596 - val_accuracy: 0.9872 - max_sp_val: 0.9878 - max_sp_fa_val: 0.0149 - max_sp_pd_val: 0.9904\n",
      "Epoch 28/1000\n",
      "1/1 [==============================] - 0s 11ms/step- loss: 0.0437 - accuracy: 0.98\n"
     ]
    },
    {
     "name": "stderr",
     "output_type": "stream",
     "text": [
      "\u001b[32m2025-04-28 17:02:01.891\u001b[0m | \u001b[1mINFO    \u001b[0m | \u001b[36msrc.callbacks\u001b[0m:\u001b[36mon_epoch_end\u001b[0m:\u001b[36m63\u001b[0m - \u001b[1mval_sp: 0.9878 (fa:0.0149, pd:0.9904), patience: 6\u001b[0m\n"
     ]
    },
    {
     "name": "stdout",
     "output_type": "stream",
     "text": [
      "111/111 [==============================] - 0s 2ms/step - loss: 0.0426 - accuracy: 0.9861 - val_loss: 0.0593 - val_accuracy: 0.9872 - max_sp_val: 0.9878 - max_sp_fa_val: 0.0149 - max_sp_pd_val: 0.9904\n",
      "Epoch 29/1000\n",
      "1/1 [==============================] - 0s 11ms/step- loss: 0.0428 - accuracy: 0.98\n"
     ]
    },
    {
     "name": "stderr",
     "output_type": "stream",
     "text": [
      "\u001b[32m2025-04-28 17:02:02.156\u001b[0m | \u001b[1mINFO    \u001b[0m | \u001b[36msrc.callbacks\u001b[0m:\u001b[36mon_epoch_end\u001b[0m:\u001b[36m63\u001b[0m - \u001b[1mval_sp: 0.9878 (fa:0.0149, pd:0.9904), patience: 7\u001b[0m\n"
     ]
    },
    {
     "name": "stdout",
     "output_type": "stream",
     "text": [
      "111/111 [==============================] - 0s 2ms/step - loss: 0.0416 - accuracy: 0.9864 - val_loss: 0.0591 - val_accuracy: 0.9872 - max_sp_val: 0.9878 - max_sp_fa_val: 0.0149 - max_sp_pd_val: 0.9904\n",
      "Epoch 30/1000\n",
      "1/1 [==============================] - 0s 10ms/step- loss: 0.0429 - accuracy: 0.98\n"
     ]
    },
    {
     "name": "stderr",
     "output_type": "stream",
     "text": [
      "\u001b[32m2025-04-28 17:02:02.405\u001b[0m | \u001b[1mINFO    \u001b[0m | \u001b[36msrc.callbacks\u001b[0m:\u001b[36mon_epoch_end\u001b[0m:\u001b[36m63\u001b[0m - \u001b[1mval_sp: 0.9878 (fa:0.0149, pd:0.9904), patience: 8\u001b[0m\n"
     ]
    },
    {
     "name": "stdout",
     "output_type": "stream",
     "text": [
      "111/111 [==============================] - 0s 2ms/step - loss: 0.0408 - accuracy: 0.9857 - val_loss: 0.0586 - val_accuracy: 0.9872 - max_sp_val: 0.9878 - max_sp_fa_val: 0.0149 - max_sp_pd_val: 0.9904\n",
      "Epoch 31/1000\n",
      "1/1 [==============================] - 0s 11ms/step- loss: 0.0385 - accuracy: 0.98\n"
     ]
    },
    {
     "name": "stderr",
     "output_type": "stream",
     "text": [
      "\u001b[32m2025-04-28 17:02:02.655\u001b[0m | \u001b[1mINFO    \u001b[0m | \u001b[36msrc.callbacks\u001b[0m:\u001b[36mon_epoch_end\u001b[0m:\u001b[36m63\u001b[0m - \u001b[1mval_sp: 0.9878 (fa:0.0149, pd:0.9904), patience: 9\u001b[0m\n"
     ]
    },
    {
     "name": "stdout",
     "output_type": "stream",
     "text": [
      "111/111 [==============================] - 0s 2ms/step - loss: 0.0400 - accuracy: 0.9864 - val_loss: 0.0584 - val_accuracy: 0.9872 - max_sp_val: 0.9878 - max_sp_fa_val: 0.0149 - max_sp_pd_val: 0.9904\n",
      "Epoch 32/1000\n",
      "1/1 [==============================] - 0s 10ms/step- loss: 0.0378 - accuracy: 0.98\n"
     ]
    },
    {
     "name": "stderr",
     "output_type": "stream",
     "text": [
      "\u001b[32m2025-04-28 17:02:02.912\u001b[0m | \u001b[1mINFO    \u001b[0m | \u001b[36msrc.callbacks\u001b[0m:\u001b[36mon_epoch_end\u001b[0m:\u001b[36m63\u001b[0m - \u001b[1mval_sp: 0.9878 (fa:0.0149, pd:0.9904), patience: 10\u001b[0m\n"
     ]
    },
    {
     "name": "stdout",
     "output_type": "stream",
     "text": [
      "111/111 [==============================] - 0s 2ms/step - loss: 0.0394 - accuracy: 0.9864 - val_loss: 0.0581 - val_accuracy: 0.9872 - max_sp_val: 0.9878 - max_sp_fa_val: 0.0149 - max_sp_pd_val: 0.9904\n",
      "Epoch 33/1000\n",
      "1/1 [==============================] - 0s 10ms/step- loss: 0.0383 - accuracy: 0.98\n"
     ]
    },
    {
     "name": "stderr",
     "output_type": "stream",
     "text": [
      "\u001b[32m2025-04-28 17:02:03.168\u001b[0m | \u001b[1mINFO    \u001b[0m | \u001b[36msrc.callbacks\u001b[0m:\u001b[36mon_epoch_end\u001b[0m:\u001b[36m63\u001b[0m - \u001b[1mval_sp: 0.9883 (fa:0.0171, pd:0.9936), patience: 11\u001b[0m\n"
     ]
    },
    {
     "name": "stdout",
     "output_type": "stream",
     "text": [
      "111/111 [==============================] - 0s 2ms/step - loss: 0.0387 - accuracy: 0.9864 - val_loss: 0.0578 - val_accuracy: 0.9872 - max_sp_val: 0.9883 - max_sp_fa_val: 0.0171 - max_sp_pd_val: 0.9936\n",
      "Epoch 34/1000\n",
      "1/1 [==============================] - 0s 10ms/step- loss: 0.0380 - accuracy: 0.98\n"
     ]
    },
    {
     "name": "stderr",
     "output_type": "stream",
     "text": [
      "\u001b[32m2025-04-28 17:02:03.417\u001b[0m | \u001b[1mINFO    \u001b[0m | \u001b[36msrc.callbacks\u001b[0m:\u001b[36mon_epoch_end\u001b[0m:\u001b[36m63\u001b[0m - \u001b[1mval_sp: 0.9888 (fa:0.0128, pd:0.9904), patience: 12\u001b[0m\n",
      "\u001b[32m2025-04-28 17:02:03.418\u001b[0m | \u001b[1mINFO    \u001b[0m | \u001b[36msrc.callbacks\u001b[0m:\u001b[36mon_epoch_end\u001b[0m:\u001b[36m68\u001b[0m - \u001b[1msave the best configuration here...\u001b[0m\n"
     ]
    },
    {
     "name": "stdout",
     "output_type": "stream",
     "text": [
      "111/111 [==============================] - 0s 2ms/step - loss: 0.0381 - accuracy: 0.9868 - val_loss: 0.0577 - val_accuracy: 0.9872 - max_sp_val: 0.9888 - max_sp_fa_val: 0.0128 - max_sp_pd_val: 0.9904 - max_sp_best_epoch_val: 33.0000\n",
      "Epoch 35/1000\n",
      "1/1 [==============================] - 0s 11ms/step- loss: 0.0387 - accuracy: 0.98\n"
     ]
    },
    {
     "name": "stderr",
     "output_type": "stream",
     "text": [
      "\u001b[32m2025-04-28 17:02:03.682\u001b[0m | \u001b[1mINFO    \u001b[0m | \u001b[36msrc.callbacks\u001b[0m:\u001b[36mon_epoch_end\u001b[0m:\u001b[36m63\u001b[0m - \u001b[1mval_sp: 0.9888 (fa:0.0128, pd:0.9904), patience: 0\u001b[0m\n"
     ]
    },
    {
     "name": "stdout",
     "output_type": "stream",
     "text": [
      "111/111 [==============================] - 0s 2ms/step - loss: 0.0375 - accuracy: 0.9868 - val_loss: 0.0576 - val_accuracy: 0.9872 - max_sp_val: 0.9888 - max_sp_fa_val: 0.0128 - max_sp_pd_val: 0.9904\n",
      "Epoch 36/1000\n",
      "1/1 [==============================] - 0s 11ms/step- loss: 0.0363 - accuracy: 0.98\n"
     ]
    },
    {
     "name": "stderr",
     "output_type": "stream",
     "text": [
      "\u001b[32m2025-04-28 17:02:03.943\u001b[0m | \u001b[1mINFO    \u001b[0m | \u001b[36msrc.callbacks\u001b[0m:\u001b[36mon_epoch_end\u001b[0m:\u001b[36m63\u001b[0m - \u001b[1mval_sp: 0.9888 (fa:0.0128, pd:0.9904), patience: 1\u001b[0m\n"
     ]
    },
    {
     "name": "stdout",
     "output_type": "stream",
     "text": [
      "111/111 [==============================] - 0s 2ms/step - loss: 0.0369 - accuracy: 0.9871 - val_loss: 0.0576 - val_accuracy: 0.9872 - max_sp_val: 0.9888 - max_sp_fa_val: 0.0128 - max_sp_pd_val: 0.9904\n",
      "Epoch 37/1000\n",
      "1/1 [==============================] - 0s 10ms/step- loss: 0.0352 - accuracy: 0.98\n"
     ]
    },
    {
     "name": "stderr",
     "output_type": "stream",
     "text": [
      "\u001b[32m2025-04-28 17:02:04.207\u001b[0m | \u001b[1mINFO    \u001b[0m | \u001b[36msrc.callbacks\u001b[0m:\u001b[36mon_epoch_end\u001b[0m:\u001b[36m63\u001b[0m - \u001b[1mval_sp: 0.9888 (fa:0.0128, pd:0.9904), patience: 2\u001b[0m\n"
     ]
    },
    {
     "name": "stdout",
     "output_type": "stream",
     "text": [
      "111/111 [==============================] - 0s 2ms/step - loss: 0.0364 - accuracy: 0.9875 - val_loss: 0.0575 - val_accuracy: 0.9872 - max_sp_val: 0.9888 - max_sp_fa_val: 0.0128 - max_sp_pd_val: 0.9904\n",
      "Epoch 38/1000\n",
      "1/1 [==============================] - 0s 11ms/step- loss: 0.0378 - accuracy: 0.98\n"
     ]
    },
    {
     "name": "stderr",
     "output_type": "stream",
     "text": [
      "\u001b[32m2025-04-28 17:02:04.479\u001b[0m | \u001b[1mINFO    \u001b[0m | \u001b[36msrc.callbacks\u001b[0m:\u001b[36mon_epoch_end\u001b[0m:\u001b[36m63\u001b[0m - \u001b[1mval_sp: 0.9888 (fa:0.0128, pd:0.9904), patience: 3\u001b[0m\n"
     ]
    },
    {
     "name": "stdout",
     "output_type": "stream",
     "text": [
      "111/111 [==============================] - 0s 2ms/step - loss: 0.0360 - accuracy: 0.9875 - val_loss: 0.0577 - val_accuracy: 0.9872 - max_sp_val: 0.9888 - max_sp_fa_val: 0.0128 - max_sp_pd_val: 0.9904\n",
      "Epoch 39/1000\n",
      "1/1 [==============================] - 0s 12ms/step- loss: 0.0357 - accuracy: 0.98\n"
     ]
    },
    {
     "name": "stderr",
     "output_type": "stream",
     "text": [
      "\u001b[32m2025-04-28 17:02:04.733\u001b[0m | \u001b[1mINFO    \u001b[0m | \u001b[36msrc.callbacks\u001b[0m:\u001b[36mon_epoch_end\u001b[0m:\u001b[36m63\u001b[0m - \u001b[1mval_sp: 0.9888 (fa:0.0128, pd:0.9904), patience: 4\u001b[0m\n"
     ]
    },
    {
     "name": "stdout",
     "output_type": "stream",
     "text": [
      "111/111 [==============================] - 0s 2ms/step - loss: 0.0356 - accuracy: 0.9871 - val_loss: 0.0576 - val_accuracy: 0.9872 - max_sp_val: 0.9888 - max_sp_fa_val: 0.0128 - max_sp_pd_val: 0.9904\n",
      "Epoch 40/1000\n",
      "1/1 [==============================] - 0s 10ms/step- loss: 0.0349 - accuracy: 0.98\n"
     ]
    },
    {
     "name": "stderr",
     "output_type": "stream",
     "text": [
      "\u001b[32m2025-04-28 17:02:04.987\u001b[0m | \u001b[1mINFO    \u001b[0m | \u001b[36msrc.callbacks\u001b[0m:\u001b[36mon_epoch_end\u001b[0m:\u001b[36m63\u001b[0m - \u001b[1mval_sp: 0.9888 (fa:0.0128, pd:0.9904), patience: 5\u001b[0m\n"
     ]
    },
    {
     "name": "stdout",
     "output_type": "stream",
     "text": [
      "111/111 [==============================] - 0s 2ms/step - loss: 0.0350 - accuracy: 0.9875 - val_loss: 0.0575 - val_accuracy: 0.9872 - max_sp_val: 0.9888 - max_sp_fa_val: 0.0128 - max_sp_pd_val: 0.9904\n",
      "Epoch 41/1000\n",
      "1/1 [==============================] - 0s 11ms/step- loss: 0.0350 - accuracy: 0.98\n"
     ]
    },
    {
     "name": "stderr",
     "output_type": "stream",
     "text": [
      "\u001b[32m2025-04-28 17:02:05.243\u001b[0m | \u001b[1mINFO    \u001b[0m | \u001b[36msrc.callbacks\u001b[0m:\u001b[36mon_epoch_end\u001b[0m:\u001b[36m63\u001b[0m - \u001b[1mval_sp: 0.9888 (fa:0.0128, pd:0.9904), patience: 6\u001b[0m\n"
     ]
    },
    {
     "name": "stdout",
     "output_type": "stream",
     "text": [
      "111/111 [==============================] - 0s 2ms/step - loss: 0.0346 - accuracy: 0.9877 - val_loss: 0.0577 - val_accuracy: 0.9872 - max_sp_val: 0.9888 - max_sp_fa_val: 0.0128 - max_sp_pd_val: 0.9904\n",
      "Epoch 42/1000\n",
      "1/1 [==============================] - 0s 11ms/step- loss: 0.0341 - accuracy: 0.98\n"
     ]
    },
    {
     "name": "stderr",
     "output_type": "stream",
     "text": [
      "\u001b[32m2025-04-28 17:02:05.509\u001b[0m | \u001b[1mINFO    \u001b[0m | \u001b[36msrc.callbacks\u001b[0m:\u001b[36mon_epoch_end\u001b[0m:\u001b[36m63\u001b[0m - \u001b[1mval_sp: 0.9888 (fa:0.0128, pd:0.9904), patience: 7\u001b[0m\n"
     ]
    },
    {
     "name": "stdout",
     "output_type": "stream",
     "text": [
      "111/111 [==============================] - 0s 2ms/step - loss: 0.0342 - accuracy: 0.9875 - val_loss: 0.0573 - val_accuracy: 0.9872 - max_sp_val: 0.9888 - max_sp_fa_val: 0.0128 - max_sp_pd_val: 0.9904\n",
      "Epoch 43/1000\n",
      "1/1 [==============================] - 0s 11ms/step- loss: 0.0338 - accuracy: 0.98\n"
     ]
    },
    {
     "name": "stderr",
     "output_type": "stream",
     "text": [
      "\u001b[32m2025-04-28 17:02:05.762\u001b[0m | \u001b[1mINFO    \u001b[0m | \u001b[36msrc.callbacks\u001b[0m:\u001b[36mon_epoch_end\u001b[0m:\u001b[36m63\u001b[0m - \u001b[1mval_sp: 0.9888 (fa:0.0128, pd:0.9904), patience: 8\u001b[0m\n"
     ]
    },
    {
     "name": "stdout",
     "output_type": "stream",
     "text": [
      "111/111 [==============================] - 0s 2ms/step - loss: 0.0339 - accuracy: 0.9877 - val_loss: 0.0574 - val_accuracy: 0.9872 - max_sp_val: 0.9888 - max_sp_fa_val: 0.0128 - max_sp_pd_val: 0.9904\n",
      "Epoch 44/1000\n",
      "1/1 [==============================] - 0s 11ms/step- loss: 0.0323 - accuracy: 0.98\n"
     ]
    },
    {
     "name": "stderr",
     "output_type": "stream",
     "text": [
      "\u001b[32m2025-04-28 17:02:06.011\u001b[0m | \u001b[1mINFO    \u001b[0m | \u001b[36msrc.callbacks\u001b[0m:\u001b[36mon_epoch_end\u001b[0m:\u001b[36m63\u001b[0m - \u001b[1mval_sp: 0.9888 (fa:0.0128, pd:0.9904), patience: 9\u001b[0m\n"
     ]
    },
    {
     "name": "stdout",
     "output_type": "stream",
     "text": [
      "111/111 [==============================] - 0s 2ms/step - loss: 0.0335 - accuracy: 0.9877 - val_loss: 0.0576 - val_accuracy: 0.9872 - max_sp_val: 0.9888 - max_sp_fa_val: 0.0128 - max_sp_pd_val: 0.9904\n",
      "Epoch 45/1000\n",
      "1/1 [==============================] - 0s 10ms/step- loss: 0.0335 - accuracy: 0.98\n"
     ]
    },
    {
     "name": "stderr",
     "output_type": "stream",
     "text": [
      "\u001b[32m2025-04-28 17:02:06.261\u001b[0m | \u001b[1mINFO    \u001b[0m | \u001b[36msrc.callbacks\u001b[0m:\u001b[36mon_epoch_end\u001b[0m:\u001b[36m63\u001b[0m - \u001b[1mval_sp: 0.9888 (fa:0.0128, pd:0.9904), patience: 10\u001b[0m\n"
     ]
    },
    {
     "name": "stdout",
     "output_type": "stream",
     "text": [
      "111/111 [==============================] - 0s 2ms/step - loss: 0.0332 - accuracy: 0.9878 - val_loss: 0.0577 - val_accuracy: 0.9872 - max_sp_val: 0.9888 - max_sp_fa_val: 0.0128 - max_sp_pd_val: 0.9904\n",
      "Epoch 46/1000\n",
      "1/1 [==============================] - 0s 11ms/step- loss: 0.0347 - accuracy: 0.98\n"
     ]
    },
    {
     "name": "stderr",
     "output_type": "stream",
     "text": [
      "\u001b[32m2025-04-28 17:02:06.513\u001b[0m | \u001b[1mINFO    \u001b[0m | \u001b[36msrc.callbacks\u001b[0m:\u001b[36mon_epoch_end\u001b[0m:\u001b[36m63\u001b[0m - \u001b[1mval_sp: 0.9888 (fa:0.0128, pd:0.9904), patience: 11\u001b[0m\n"
     ]
    },
    {
     "name": "stdout",
     "output_type": "stream",
     "text": [
      "111/111 [==============================] - 0s 2ms/step - loss: 0.0329 - accuracy: 0.9877 - val_loss: 0.0577 - val_accuracy: 0.9872 - max_sp_val: 0.9888 - max_sp_fa_val: 0.0128 - max_sp_pd_val: 0.9904\n",
      "Epoch 47/1000\n",
      "1/1 [==============================] - 0s 10ms/step- loss: 0.0322 - accuracy: 0.98\n"
     ]
    },
    {
     "name": "stderr",
     "output_type": "stream",
     "text": [
      "\u001b[32m2025-04-28 17:02:06.764\u001b[0m | \u001b[1mINFO    \u001b[0m | \u001b[36msrc.callbacks\u001b[0m:\u001b[36mon_epoch_end\u001b[0m:\u001b[36m63\u001b[0m - \u001b[1mval_sp: 0.9888 (fa:0.0128, pd:0.9904), patience: 12\u001b[0m\n"
     ]
    },
    {
     "name": "stdout",
     "output_type": "stream",
     "text": [
      "111/111 [==============================] - 0s 2ms/step - loss: 0.0326 - accuracy: 0.9878 - val_loss: 0.0577 - val_accuracy: 0.9872 - max_sp_val: 0.9888 - max_sp_fa_val: 0.0128 - max_sp_pd_val: 0.9904\n",
      "Epoch 48/1000\n",
      "1/1 [==============================] - 0s 10ms/step- loss: 0.0321 - accuracy: 0.98\n"
     ]
    },
    {
     "name": "stderr",
     "output_type": "stream",
     "text": [
      "\u001b[32m2025-04-28 17:02:07.021\u001b[0m | \u001b[1mINFO    \u001b[0m | \u001b[36msrc.callbacks\u001b[0m:\u001b[36mon_epoch_end\u001b[0m:\u001b[36m63\u001b[0m - \u001b[1mval_sp: 0.9888 (fa:0.0128, pd:0.9904), patience: 13\u001b[0m\n"
     ]
    },
    {
     "name": "stdout",
     "output_type": "stream",
     "text": [
      "111/111 [==============================] - 0s 2ms/step - loss: 0.0322 - accuracy: 0.9879 - val_loss: 0.0583 - val_accuracy: 0.9872 - max_sp_val: 0.9888 - max_sp_fa_val: 0.0128 - max_sp_pd_val: 0.9904\n",
      "Epoch 49/1000\n",
      "1/1 [==============================] - 0s 11ms/step- loss: 0.0329 - accuracy: 0.98\n"
     ]
    },
    {
     "name": "stderr",
     "output_type": "stream",
     "text": [
      "\u001b[32m2025-04-28 17:02:07.276\u001b[0m | \u001b[1mINFO    \u001b[0m | \u001b[36msrc.callbacks\u001b[0m:\u001b[36mon_epoch_end\u001b[0m:\u001b[36m63\u001b[0m - \u001b[1mval_sp: 0.9888 (fa:0.0128, pd:0.9904), patience: 14\u001b[0m\n"
     ]
    },
    {
     "name": "stdout",
     "output_type": "stream",
     "text": [
      "111/111 [==============================] - 0s 2ms/step - loss: 0.0321 - accuracy: 0.9882 - val_loss: 0.0579 - val_accuracy: 0.9872 - max_sp_val: 0.9888 - max_sp_fa_val: 0.0128 - max_sp_pd_val: 0.9904\n",
      "Epoch 50/1000\n",
      "1/1 [==============================] - 0s 11ms/step- loss: 0.0308 - accuracy: 0.98\n"
     ]
    },
    {
     "name": "stderr",
     "output_type": "stream",
     "text": [
      "\u001b[32m2025-04-28 17:02:07.526\u001b[0m | \u001b[1mINFO    \u001b[0m | \u001b[36msrc.callbacks\u001b[0m:\u001b[36mon_epoch_end\u001b[0m:\u001b[36m63\u001b[0m - \u001b[1mval_sp: 0.9888 (fa:0.0128, pd:0.9904), patience: 15\u001b[0m\n"
     ]
    },
    {
     "name": "stdout",
     "output_type": "stream",
     "text": [
      "111/111 [==============================] - 0s 2ms/step - loss: 0.0318 - accuracy: 0.9881 - val_loss: 0.0579 - val_accuracy: 0.9872 - max_sp_val: 0.9888 - max_sp_fa_val: 0.0128 - max_sp_pd_val: 0.9904\n",
      "Epoch 51/1000\n",
      "1/1 [==============================] - 0s 10ms/step- loss: 0.0320 - accuracy: 0.98\n"
     ]
    },
    {
     "name": "stderr",
     "output_type": "stream",
     "text": [
      "\u001b[32m2025-04-28 17:02:07.778\u001b[0m | \u001b[1mINFO    \u001b[0m | \u001b[36msrc.callbacks\u001b[0m:\u001b[36mon_epoch_end\u001b[0m:\u001b[36m63\u001b[0m - \u001b[1mval_sp: 0.9888 (fa:0.0128, pd:0.9904), patience: 16\u001b[0m\n"
     ]
    },
    {
     "name": "stdout",
     "output_type": "stream",
     "text": [
      "111/111 [==============================] - 0s 2ms/step - loss: 0.0316 - accuracy: 0.9878 - val_loss: 0.0579 - val_accuracy: 0.9872 - max_sp_val: 0.9888 - max_sp_fa_val: 0.0128 - max_sp_pd_val: 0.9904\n",
      "Epoch 52/1000\n",
      "1/1 [==============================] - 0s 11ms/step- loss: 0.0316 - accuracy: 0.98\n"
     ]
    },
    {
     "name": "stderr",
     "output_type": "stream",
     "text": [
      "\u001b[32m2025-04-28 17:02:08.035\u001b[0m | \u001b[1mINFO    \u001b[0m | \u001b[36msrc.callbacks\u001b[0m:\u001b[36mon_epoch_end\u001b[0m:\u001b[36m63\u001b[0m - \u001b[1mval_sp: 0.9888 (fa:0.0128, pd:0.9904), patience: 17\u001b[0m\n"
     ]
    },
    {
     "name": "stdout",
     "output_type": "stream",
     "text": [
      "111/111 [==============================] - 0s 2ms/step - loss: 0.0313 - accuracy: 0.9878 - val_loss: 0.0584 - val_accuracy: 0.9872 - max_sp_val: 0.9888 - max_sp_fa_val: 0.0128 - max_sp_pd_val: 0.9904\n",
      "Epoch 53/1000\n",
      "1/1 [==============================] - 0s 11ms/step- loss: 0.0317 - accuracy: 0.98\n"
     ]
    },
    {
     "name": "stderr",
     "output_type": "stream",
     "text": [
      "\u001b[32m2025-04-28 17:02:08.288\u001b[0m | \u001b[1mINFO    \u001b[0m | \u001b[36msrc.callbacks\u001b[0m:\u001b[36mon_epoch_end\u001b[0m:\u001b[36m63\u001b[0m - \u001b[1mval_sp: 0.9888 (fa:0.0128, pd:0.9904), patience: 18\u001b[0m\n"
     ]
    },
    {
     "name": "stdout",
     "output_type": "stream",
     "text": [
      "111/111 [==============================] - 0s 2ms/step - loss: 0.0312 - accuracy: 0.9879 - val_loss: 0.0582 - val_accuracy: 0.9872 - max_sp_val: 0.9888 - max_sp_fa_val: 0.0128 - max_sp_pd_val: 0.9904\n",
      "Epoch 54/1000\n",
      "1/1 [==============================] - 0s 10ms/step- loss: 0.0280 - accuracy: 0.98\n"
     ]
    },
    {
     "name": "stderr",
     "output_type": "stream",
     "text": [
      "\u001b[32m2025-04-28 17:02:08.543\u001b[0m | \u001b[1mINFO    \u001b[0m | \u001b[36msrc.callbacks\u001b[0m:\u001b[36mon_epoch_end\u001b[0m:\u001b[36m63\u001b[0m - \u001b[1mval_sp: 0.9888 (fa:0.0128, pd:0.9904), patience: 19\u001b[0m\n"
     ]
    },
    {
     "name": "stdout",
     "output_type": "stream",
     "text": [
      "111/111 [==============================] - 0s 2ms/step - loss: 0.0309 - accuracy: 0.9882 - val_loss: 0.0584 - val_accuracy: 0.9872 - max_sp_val: 0.9888 - max_sp_fa_val: 0.0128 - max_sp_pd_val: 0.9904\n",
      "Epoch 55/1000\n",
      "1/1 [==============================] - 0s 10ms/step- loss: 0.0294 - accuracy: 0.98\n"
     ]
    },
    {
     "name": "stderr",
     "output_type": "stream",
     "text": [
      "\u001b[32m2025-04-28 17:02:08.799\u001b[0m | \u001b[1mINFO    \u001b[0m | \u001b[36msrc.callbacks\u001b[0m:\u001b[36mon_epoch_end\u001b[0m:\u001b[36m63\u001b[0m - \u001b[1mval_sp: 0.9888 (fa:0.0128, pd:0.9904), patience: 20\u001b[0m\n"
     ]
    },
    {
     "name": "stdout",
     "output_type": "stream",
     "text": [
      "111/111 [==============================] - 0s 2ms/step - loss: 0.0306 - accuracy: 0.9881 - val_loss: 0.0583 - val_accuracy: 0.9872 - max_sp_val: 0.9888 - max_sp_fa_val: 0.0128 - max_sp_pd_val: 0.9904\n",
      "Epoch 56/1000\n",
      "1/1 [==============================] - 0s 11ms/step- loss: 0.0268 - accuracy: 0.98\n"
     ]
    },
    {
     "name": "stderr",
     "output_type": "stream",
     "text": [
      "\u001b[32m2025-04-28 17:02:09.061\u001b[0m | \u001b[1mINFO    \u001b[0m | \u001b[36msrc.callbacks\u001b[0m:\u001b[36mon_epoch_end\u001b[0m:\u001b[36m63\u001b[0m - \u001b[1mval_sp: 0.9888 (fa:0.0128, pd:0.9904), patience: 21\u001b[0m\n"
     ]
    },
    {
     "name": "stdout",
     "output_type": "stream",
     "text": [
      "111/111 [==============================] - 0s 2ms/step - loss: 0.0305 - accuracy: 0.9884 - val_loss: 0.0584 - val_accuracy: 0.9872 - max_sp_val: 0.9888 - max_sp_fa_val: 0.0128 - max_sp_pd_val: 0.9904\n",
      "Epoch 57/1000\n",
      "1/1 [==============================] - 0s 10ms/step- loss: 0.0303 - accuracy: 0.98\n"
     ]
    },
    {
     "name": "stderr",
     "output_type": "stream",
     "text": [
      "\u001b[32m2025-04-28 17:02:09.309\u001b[0m | \u001b[1mINFO    \u001b[0m | \u001b[36msrc.callbacks\u001b[0m:\u001b[36mon_epoch_end\u001b[0m:\u001b[36m63\u001b[0m - \u001b[1mval_sp: 0.9888 (fa:0.0128, pd:0.9904), patience: 22\u001b[0m\n"
     ]
    },
    {
     "name": "stdout",
     "output_type": "stream",
     "text": [
      "111/111 [==============================] - 0s 2ms/step - loss: 0.0303 - accuracy: 0.9882 - val_loss: 0.0585 - val_accuracy: 0.9872 - max_sp_val: 0.9888 - max_sp_fa_val: 0.0128 - max_sp_pd_val: 0.9904\n",
      "Epoch 58/1000\n",
      "1/1 [==============================] - 0s 10ms/step- loss: 0.0296 - accuracy: 0.98\n"
     ]
    },
    {
     "name": "stderr",
     "output_type": "stream",
     "text": [
      "\u001b[32m2025-04-28 17:02:09.566\u001b[0m | \u001b[1mINFO    \u001b[0m | \u001b[36msrc.callbacks\u001b[0m:\u001b[36mon_epoch_end\u001b[0m:\u001b[36m63\u001b[0m - \u001b[1mval_sp: 0.9888 (fa:0.0128, pd:0.9904), patience: 23\u001b[0m\n"
     ]
    },
    {
     "name": "stdout",
     "output_type": "stream",
     "text": [
      "111/111 [==============================] - 0s 2ms/step - loss: 0.0301 - accuracy: 0.9882 - val_loss: 0.0586 - val_accuracy: 0.9872 - max_sp_val: 0.9888 - max_sp_fa_val: 0.0128 - max_sp_pd_val: 0.9904\n",
      "Epoch 59/1000\n",
      "1/1 [==============================] - 0s 11ms/step- loss: 0.0297 - accuracy: 0.98\n"
     ]
    },
    {
     "name": "stderr",
     "output_type": "stream",
     "text": [
      "\u001b[32m2025-04-28 17:02:09.827\u001b[0m | \u001b[1mINFO    \u001b[0m | \u001b[36msrc.callbacks\u001b[0m:\u001b[36mon_epoch_end\u001b[0m:\u001b[36m63\u001b[0m - \u001b[1mval_sp: 0.9888 (fa:0.0128, pd:0.9904), patience: 24\u001b[0m\n"
     ]
    },
    {
     "name": "stdout",
     "output_type": "stream",
     "text": [
      "111/111 [==============================] - 0s 2ms/step - loss: 0.0300 - accuracy: 0.9882 - val_loss: 0.0586 - val_accuracy: 0.9872 - max_sp_val: 0.9888 - max_sp_fa_val: 0.0128 - max_sp_pd_val: 0.9904\n",
      "Epoch 60/1000\n",
      "1/1 [==============================] - 0s 11ms/step- loss: 0.0284 - accuracy: 0.98\n"
     ]
    },
    {
     "name": "stderr",
     "output_type": "stream",
     "text": [
      "\u001b[32m2025-04-28 17:02:10.076\u001b[0m | \u001b[1mINFO    \u001b[0m | \u001b[36msrc.callbacks\u001b[0m:\u001b[36mon_epoch_end\u001b[0m:\u001b[36m63\u001b[0m - \u001b[1mval_sp: 0.9888 (fa:0.0128, pd:0.9904), patience: 25\u001b[0m\n"
     ]
    },
    {
     "name": "stdout",
     "output_type": "stream",
     "text": [
      "111/111 [==============================] - 0s 2ms/step - loss: 0.0298 - accuracy: 0.9888 - val_loss: 0.0587 - val_accuracy: 0.9872 - max_sp_val: 0.9888 - max_sp_fa_val: 0.0128 - max_sp_pd_val: 0.9904\n",
      "Epoch 61/1000\n",
      "1/1 [==============================] - 0s 11ms/step- loss: 0.0303 - accuracy: 0.98\n"
     ]
    },
    {
     "name": "stderr",
     "output_type": "stream",
     "text": [
      "\u001b[32m2025-04-28 17:02:10.333\u001b[0m | \u001b[1mINFO    \u001b[0m | \u001b[36msrc.callbacks\u001b[0m:\u001b[36mon_epoch_end\u001b[0m:\u001b[36m63\u001b[0m - \u001b[1mval_sp: 0.9878 (fa:0.0149, pd:0.9904), patience: 26\u001b[0m\n"
     ]
    },
    {
     "name": "stdout",
     "output_type": "stream",
     "text": [
      "111/111 [==============================] - 0s 2ms/step - loss: 0.0296 - accuracy: 0.9888 - val_loss: 0.0589 - val_accuracy: 0.9872 - max_sp_val: 0.9878 - max_sp_fa_val: 0.0149 - max_sp_pd_val: 0.9904\n",
      "Epoch 62/1000\n",
      "1/1 [==============================] - 0s 10ms/step- loss: 0.0311 - accuracy: 0.98\n"
     ]
    },
    {
     "name": "stderr",
     "output_type": "stream",
     "text": [
      "\u001b[32m2025-04-28 17:02:10.588\u001b[0m | \u001b[1mINFO    \u001b[0m | \u001b[36msrc.callbacks\u001b[0m:\u001b[36mon_epoch_end\u001b[0m:\u001b[36m63\u001b[0m - \u001b[1mval_sp: 0.9878 (fa:0.0149, pd:0.9904), patience: 27\u001b[0m\n"
     ]
    },
    {
     "name": "stdout",
     "output_type": "stream",
     "text": [
      "111/111 [==============================] - 0s 2ms/step - loss: 0.0295 - accuracy: 0.9888 - val_loss: 0.0590 - val_accuracy: 0.9872 - max_sp_val: 0.9878 - max_sp_fa_val: 0.0149 - max_sp_pd_val: 0.9904\n",
      "Epoch 63/1000\n",
      "1/1 [==============================] - 0s 10ms/step- loss: 0.0297 - accuracy: 0.98\n"
     ]
    },
    {
     "name": "stderr",
     "output_type": "stream",
     "text": [
      "\u001b[32m2025-04-28 17:02:10.837\u001b[0m | \u001b[1mINFO    \u001b[0m | \u001b[36msrc.callbacks\u001b[0m:\u001b[36mon_epoch_end\u001b[0m:\u001b[36m63\u001b[0m - \u001b[1mval_sp: 0.9878 (fa:0.0149, pd:0.9904), patience: 28\u001b[0m\n"
     ]
    },
    {
     "name": "stdout",
     "output_type": "stream",
     "text": [
      "111/111 [==============================] - 0s 2ms/step - loss: 0.0293 - accuracy: 0.9888 - val_loss: 0.0590 - val_accuracy: 0.9872 - max_sp_val: 0.9878 - max_sp_fa_val: 0.0149 - max_sp_pd_val: 0.9904\n",
      "Epoch 64/1000\n",
      "1/1 [==============================] - 0s 10ms/step- loss: 0.0303 - accuracy: 0.98\n"
     ]
    },
    {
     "name": "stderr",
     "output_type": "stream",
     "text": [
      "\u001b[32m2025-04-28 17:02:11.087\u001b[0m | \u001b[1mINFO    \u001b[0m | \u001b[36msrc.callbacks\u001b[0m:\u001b[36mon_epoch_end\u001b[0m:\u001b[36m63\u001b[0m - \u001b[1mval_sp: 0.9878 (fa:0.0149, pd:0.9904), patience: 29\u001b[0m\n"
     ]
    },
    {
     "name": "stdout",
     "output_type": "stream",
     "text": [
      "111/111 [==============================] - 0s 2ms/step - loss: 0.0292 - accuracy: 0.9889 - val_loss: 0.0591 - val_accuracy: 0.9872 - max_sp_val: 0.9878 - max_sp_fa_val: 0.0149 - max_sp_pd_val: 0.9904\n",
      "Epoch 65/1000\n",
      "1/1 [==============================] - 0s 11ms/step- loss: 0.0294 - accuracy: 0.98\n"
     ]
    },
    {
     "name": "stderr",
     "output_type": "stream",
     "text": [
      "\u001b[32m2025-04-28 17:02:11.348\u001b[0m | \u001b[1mINFO    \u001b[0m | \u001b[36msrc.callbacks\u001b[0m:\u001b[36mon_epoch_end\u001b[0m:\u001b[36m63\u001b[0m - \u001b[1mval_sp: 0.9878 (fa:0.0149, pd:0.9904), patience: 30\u001b[0m\n"
     ]
    },
    {
     "name": "stdout",
     "output_type": "stream",
     "text": [
      "111/111 [==============================] - 0s 2ms/step - loss: 0.0291 - accuracy: 0.9888 - val_loss: 0.0592 - val_accuracy: 0.9860 - max_sp_val: 0.9878 - max_sp_fa_val: 0.0149 - max_sp_pd_val: 0.9904\n",
      "Epoch 66/1000\n",
      "1/1 [==============================] - 0s 11ms/step- loss: 0.0294 - accuracy: 0.98\n"
     ]
    },
    {
     "name": "stderr",
     "output_type": "stream",
     "text": [
      "\u001b[32m2025-04-28 17:02:11.600\u001b[0m | \u001b[1mINFO    \u001b[0m | \u001b[36msrc.callbacks\u001b[0m:\u001b[36mon_epoch_end\u001b[0m:\u001b[36m63\u001b[0m - \u001b[1mval_sp: 0.9883 (fa:0.0107, pd:0.9873), patience: 31\u001b[0m\n"
     ]
    },
    {
     "name": "stdout",
     "output_type": "stream",
     "text": [
      "111/111 [==============================] - 0s 2ms/step - loss: 0.0289 - accuracy: 0.9895 - val_loss: 0.0591 - val_accuracy: 0.9872 - max_sp_val: 0.9883 - max_sp_fa_val: 0.0107 - max_sp_pd_val: 0.9873\n",
      "Epoch 67/1000\n",
      "1/1 [==============================] - 0s 10ms/step- loss: 0.0296 - accuracy: 0.98\n"
     ]
    },
    {
     "name": "stderr",
     "output_type": "stream",
     "text": [
      "\u001b[32m2025-04-28 17:02:11.856\u001b[0m | \u001b[1mINFO    \u001b[0m | \u001b[36msrc.callbacks\u001b[0m:\u001b[36mon_epoch_end\u001b[0m:\u001b[36m63\u001b[0m - \u001b[1mval_sp: 0.9883 (fa:0.0107, pd:0.9873), patience: 32\u001b[0m\n"
     ]
    },
    {
     "name": "stdout",
     "output_type": "stream",
     "text": [
      "111/111 [==============================] - 0s 2ms/step - loss: 0.0288 - accuracy: 0.9894 - val_loss: 0.0593 - val_accuracy: 0.9860 - max_sp_val: 0.9883 - max_sp_fa_val: 0.0107 - max_sp_pd_val: 0.9873\n",
      "Epoch 68/1000\n",
      "1/1 [==============================] - 0s 10ms/step- loss: 0.0284 - accuracy: 0.98\n"
     ]
    },
    {
     "name": "stderr",
     "output_type": "stream",
     "text": [
      "\u001b[32m2025-04-28 17:02:12.108\u001b[0m | \u001b[1mINFO    \u001b[0m | \u001b[36msrc.callbacks\u001b[0m:\u001b[36mon_epoch_end\u001b[0m:\u001b[36m63\u001b[0m - \u001b[1mval_sp: 0.9883 (fa:0.0107, pd:0.9873), patience: 33\u001b[0m\n"
     ]
    },
    {
     "name": "stdout",
     "output_type": "stream",
     "text": [
      "111/111 [==============================] - 0s 2ms/step - loss: 0.0287 - accuracy: 0.9888 - val_loss: 0.0595 - val_accuracy: 0.9860 - max_sp_val: 0.9883 - max_sp_fa_val: 0.0107 - max_sp_pd_val: 0.9873\n",
      "Epoch 69/1000\n",
      "1/1 [==============================] - 0s 11ms/step- loss: 0.0285 - accuracy: 0.98\n"
     ]
    },
    {
     "name": "stderr",
     "output_type": "stream",
     "text": [
      "\u001b[32m2025-04-28 17:02:12.356\u001b[0m | \u001b[1mINFO    \u001b[0m | \u001b[36msrc.callbacks\u001b[0m:\u001b[36mon_epoch_end\u001b[0m:\u001b[36m63\u001b[0m - \u001b[1mval_sp: 0.9883 (fa:0.0107, pd:0.9873), patience: 34\u001b[0m\n"
     ]
    },
    {
     "name": "stdout",
     "output_type": "stream",
     "text": [
      "111/111 [==============================] - 0s 2ms/step - loss: 0.0285 - accuracy: 0.9891 - val_loss: 0.0593 - val_accuracy: 0.9872 - max_sp_val: 0.9883 - max_sp_fa_val: 0.0107 - max_sp_pd_val: 0.9873\n",
      "Epoch 70/1000\n",
      "1/1 [==============================] - 0s 10ms/step- loss: 0.0298 - accuracy: 0.98\n"
     ]
    },
    {
     "name": "stderr",
     "output_type": "stream",
     "text": [
      "\u001b[32m2025-04-28 17:02:12.605\u001b[0m | \u001b[1mINFO    \u001b[0m | \u001b[36msrc.callbacks\u001b[0m:\u001b[36mon_epoch_end\u001b[0m:\u001b[36m63\u001b[0m - \u001b[1mval_sp: 0.9883 (fa:0.0107, pd:0.9873), patience: 35\u001b[0m\n"
     ]
    },
    {
     "name": "stdout",
     "output_type": "stream",
     "text": [
      "111/111 [==============================] - 0s 2ms/step - loss: 0.0284 - accuracy: 0.9891 - val_loss: 0.0595 - val_accuracy: 0.9872 - max_sp_val: 0.9883 - max_sp_fa_val: 0.0107 - max_sp_pd_val: 0.9873\n",
      "Epoch 71/1000\n",
      "1/1 [==============================] - 0s 11ms/step- loss: 0.0285 - accuracy: 0.98\n"
     ]
    },
    {
     "name": "stderr",
     "output_type": "stream",
     "text": [
      "\u001b[32m2025-04-28 17:02:12.859\u001b[0m | \u001b[1mINFO    \u001b[0m | \u001b[36msrc.callbacks\u001b[0m:\u001b[36mon_epoch_end\u001b[0m:\u001b[36m63\u001b[0m - \u001b[1mval_sp: 0.9883 (fa:0.0107, pd:0.9873), patience: 36\u001b[0m\n"
     ]
    },
    {
     "name": "stdout",
     "output_type": "stream",
     "text": [
      "111/111 [==============================] - 0s 2ms/step - loss: 0.0284 - accuracy: 0.9889 - val_loss: 0.0593 - val_accuracy: 0.9872 - max_sp_val: 0.9883 - max_sp_fa_val: 0.0107 - max_sp_pd_val: 0.9873\n",
      "Epoch 72/1000\n",
      "1/1 [==============================] - 0s 11ms/step- loss: 0.0270 - accuracy: 0.98\n"
     ]
    },
    {
     "name": "stderr",
     "output_type": "stream",
     "text": [
      "\u001b[32m2025-04-28 17:02:13.116\u001b[0m | \u001b[1mINFO    \u001b[0m | \u001b[36msrc.callbacks\u001b[0m:\u001b[36mon_epoch_end\u001b[0m:\u001b[36m63\u001b[0m - \u001b[1mval_sp: 0.9883 (fa:0.0107, pd:0.9873), patience: 37\u001b[0m\n"
     ]
    },
    {
     "name": "stdout",
     "output_type": "stream",
     "text": [
      "111/111 [==============================] - 0s 2ms/step - loss: 0.0282 - accuracy: 0.9888 - val_loss: 0.0595 - val_accuracy: 0.9872 - max_sp_val: 0.9883 - max_sp_fa_val: 0.0107 - max_sp_pd_val: 0.9873\n",
      "Epoch 73/1000\n",
      "1/1 [==============================] - 0s 11ms/step- loss: 0.0294 - accuracy: 0.98\n"
     ]
    },
    {
     "name": "stderr",
     "output_type": "stream",
     "text": [
      "\u001b[32m2025-04-28 17:02:13.379\u001b[0m | \u001b[1mINFO    \u001b[0m | \u001b[36msrc.callbacks\u001b[0m:\u001b[36mon_epoch_end\u001b[0m:\u001b[36m63\u001b[0m - \u001b[1mval_sp: 0.9883 (fa:0.0107, pd:0.9873), patience: 38\u001b[0m\n"
     ]
    },
    {
     "name": "stdout",
     "output_type": "stream",
     "text": [
      "111/111 [==============================] - 0s 2ms/step - loss: 0.0283 - accuracy: 0.9891 - val_loss: 0.0595 - val_accuracy: 0.9872 - max_sp_val: 0.9883 - max_sp_fa_val: 0.0107 - max_sp_pd_val: 0.9873\n",
      "Epoch 74/1000\n",
      "1/1 [==============================] - 0s 12ms/step- loss: 0.0279 - accuracy: 0.98\n"
     ]
    },
    {
     "name": "stderr",
     "output_type": "stream",
     "text": [
      "\u001b[32m2025-04-28 17:02:13.633\u001b[0m | \u001b[1mINFO    \u001b[0m | \u001b[36msrc.callbacks\u001b[0m:\u001b[36mon_epoch_end\u001b[0m:\u001b[36m63\u001b[0m - \u001b[1mval_sp: 0.9883 (fa:0.0107, pd:0.9873), patience: 39\u001b[0m\n"
     ]
    },
    {
     "name": "stdout",
     "output_type": "stream",
     "text": [
      "111/111 [==============================] - 0s 2ms/step - loss: 0.0280 - accuracy: 0.9891 - val_loss: 0.0596 - val_accuracy: 0.9872 - max_sp_val: 0.9883 - max_sp_fa_val: 0.0107 - max_sp_pd_val: 0.9873\n",
      "Epoch 75/1000\n",
      "1/1 [==============================] - 0s 10ms/step- loss: 0.0294 - accuracy: 0.98\n"
     ]
    },
    {
     "name": "stderr",
     "output_type": "stream",
     "text": [
      "\u001b[32m2025-04-28 17:02:13.891\u001b[0m | \u001b[1mINFO    \u001b[0m | \u001b[36msrc.callbacks\u001b[0m:\u001b[36mon_epoch_end\u001b[0m:\u001b[36m63\u001b[0m - \u001b[1mval_sp: 0.9883 (fa:0.0107, pd:0.9873), patience: 40\u001b[0m\n"
     ]
    },
    {
     "name": "stdout",
     "output_type": "stream",
     "text": [
      "111/111 [==============================] - 0s 2ms/step - loss: 0.0279 - accuracy: 0.9892 - val_loss: 0.0596 - val_accuracy: 0.9872 - max_sp_val: 0.9883 - max_sp_fa_val: 0.0107 - max_sp_pd_val: 0.9873\n",
      "Epoch 76/1000\n",
      "1/1 [==============================] - 0s 10ms/step- loss: 0.0281 - accuracy: 0.98\n"
     ]
    },
    {
     "name": "stderr",
     "output_type": "stream",
     "text": [
      "\u001b[32m2025-04-28 17:02:14.149\u001b[0m | \u001b[1mINFO    \u001b[0m | \u001b[36msrc.callbacks\u001b[0m:\u001b[36mon_epoch_end\u001b[0m:\u001b[36m63\u001b[0m - \u001b[1mval_sp: 0.9883 (fa:0.0107, pd:0.9873), patience: 41\u001b[0m\n"
     ]
    },
    {
     "name": "stdout",
     "output_type": "stream",
     "text": [
      "111/111 [==============================] - 0s 2ms/step - loss: 0.0279 - accuracy: 0.9889 - val_loss: 0.0596 - val_accuracy: 0.9872 - max_sp_val: 0.9883 - max_sp_fa_val: 0.0107 - max_sp_pd_val: 0.9873\n",
      "Epoch 77/1000\n",
      "1/1 [==============================] - 0s 11ms/step- loss: 0.0278 - accuracy: 0.98\n"
     ]
    },
    {
     "name": "stderr",
     "output_type": "stream",
     "text": [
      "\u001b[32m2025-04-28 17:02:14.436\u001b[0m | \u001b[1mINFO    \u001b[0m | \u001b[36msrc.callbacks\u001b[0m:\u001b[36mon_epoch_end\u001b[0m:\u001b[36m63\u001b[0m - \u001b[1mval_sp: 0.9883 (fa:0.0107, pd:0.9873), patience: 42\u001b[0m\n"
     ]
    },
    {
     "name": "stdout",
     "output_type": "stream",
     "text": [
      "111/111 [==============================] - 0s 3ms/step - loss: 0.0278 - accuracy: 0.9892 - val_loss: 0.0596 - val_accuracy: 0.9872 - max_sp_val: 0.9883 - max_sp_fa_val: 0.0107 - max_sp_pd_val: 0.9873\n",
      "Epoch 78/1000\n",
      "1/1 [==============================] - 0s 11ms/step- loss: 0.0280 - accuracy: 0.98\n"
     ]
    },
    {
     "name": "stderr",
     "output_type": "stream",
     "text": [
      "\u001b[32m2025-04-28 17:02:14.692\u001b[0m | \u001b[1mINFO    \u001b[0m | \u001b[36msrc.callbacks\u001b[0m:\u001b[36mon_epoch_end\u001b[0m:\u001b[36m63\u001b[0m - \u001b[1mval_sp: 0.9883 (fa:0.0107, pd:0.9873), patience: 43\u001b[0m\n"
     ]
    },
    {
     "name": "stdout",
     "output_type": "stream",
     "text": [
      "111/111 [==============================] - 0s 2ms/step - loss: 0.0277 - accuracy: 0.9894 - val_loss: 0.0597 - val_accuracy: 0.9885 - max_sp_val: 0.9883 - max_sp_fa_val: 0.0107 - max_sp_pd_val: 0.9873\n",
      "Epoch 79/1000\n",
      "1/1 [==============================] - 0s 10ms/step- loss: 0.0270 - accuracy: 0.98\n"
     ]
    },
    {
     "name": "stderr",
     "output_type": "stream",
     "text": [
      "\u001b[32m2025-04-28 17:02:14.954\u001b[0m | \u001b[1mINFO    \u001b[0m | \u001b[36msrc.callbacks\u001b[0m:\u001b[36mon_epoch_end\u001b[0m:\u001b[36m63\u001b[0m - \u001b[1mval_sp: 0.9883 (fa:0.0107, pd:0.9873), patience: 44\u001b[0m\n"
     ]
    },
    {
     "name": "stdout",
     "output_type": "stream",
     "text": [
      "111/111 [==============================] - 0s 2ms/step - loss: 0.0276 - accuracy: 0.9891 - val_loss: 0.0598 - val_accuracy: 0.9885 - max_sp_val: 0.9883 - max_sp_fa_val: 0.0107 - max_sp_pd_val: 0.9873\n",
      "Epoch 80/1000\n",
      "1/1 [==============================] - 0s 11ms/step- loss: 0.0263 - accuracy: 0.98\n"
     ]
    },
    {
     "name": "stderr",
     "output_type": "stream",
     "text": [
      "\u001b[32m2025-04-28 17:02:15.203\u001b[0m | \u001b[1mINFO    \u001b[0m | \u001b[36msrc.callbacks\u001b[0m:\u001b[36mon_epoch_end\u001b[0m:\u001b[36m63\u001b[0m - \u001b[1mval_sp: 0.9883 (fa:0.0107, pd:0.9873), patience: 45\u001b[0m\n"
     ]
    },
    {
     "name": "stdout",
     "output_type": "stream",
     "text": [
      "111/111 [==============================] - 0s 2ms/step - loss: 0.0275 - accuracy: 0.9892 - val_loss: 0.0599 - val_accuracy: 0.9885 - max_sp_val: 0.9883 - max_sp_fa_val: 0.0107 - max_sp_pd_val: 0.9873\n",
      "Epoch 81/1000\n",
      "1/1 [==============================] - 0s 16ms/step- loss: 0.0266 - accuracy: 0.98\n"
     ]
    },
    {
     "name": "stderr",
     "output_type": "stream",
     "text": [
      "\u001b[32m2025-04-28 17:02:15.468\u001b[0m | \u001b[1mINFO    \u001b[0m | \u001b[36msrc.callbacks\u001b[0m:\u001b[36mon_epoch_end\u001b[0m:\u001b[36m63\u001b[0m - \u001b[1mval_sp: 0.9883 (fa:0.0107, pd:0.9873), patience: 46\u001b[0m\n"
     ]
    },
    {
     "name": "stdout",
     "output_type": "stream",
     "text": [
      "111/111 [==============================] - 0s 2ms/step - loss: 0.0274 - accuracy: 0.9895 - val_loss: 0.0598 - val_accuracy: 0.9885 - max_sp_val: 0.9883 - max_sp_fa_val: 0.0107 - max_sp_pd_val: 0.9873\n",
      "Epoch 82/1000\n",
      "1/1 [==============================] - 0s 10ms/step- loss: 0.0263 - accuracy: 0.98\n"
     ]
    },
    {
     "name": "stderr",
     "output_type": "stream",
     "text": [
      "\u001b[32m2025-04-28 17:02:15.733\u001b[0m | \u001b[1mINFO    \u001b[0m | \u001b[36msrc.callbacks\u001b[0m:\u001b[36mon_epoch_end\u001b[0m:\u001b[36m63\u001b[0m - \u001b[1mval_sp: 0.9883 (fa:0.0107, pd:0.9873), patience: 47\u001b[0m\n"
     ]
    },
    {
     "name": "stdout",
     "output_type": "stream",
     "text": [
      "111/111 [==============================] - 0s 2ms/step - loss: 0.0274 - accuracy: 0.9895 - val_loss: 0.0599 - val_accuracy: 0.9885 - max_sp_val: 0.9883 - max_sp_fa_val: 0.0107 - max_sp_pd_val: 0.9873\n",
      "Epoch 83/1000\n",
      "1/1 [==============================] - 0s 11ms/step- loss: 0.0283 - accuracy: 0.98\n"
     ]
    },
    {
     "name": "stderr",
     "output_type": "stream",
     "text": [
      "\u001b[32m2025-04-28 17:02:15.990\u001b[0m | \u001b[1mINFO    \u001b[0m | \u001b[36msrc.callbacks\u001b[0m:\u001b[36mon_epoch_end\u001b[0m:\u001b[36m63\u001b[0m - \u001b[1mval_sp: 0.9883 (fa:0.0107, pd:0.9873), patience: 48\u001b[0m\n"
     ]
    },
    {
     "name": "stdout",
     "output_type": "stream",
     "text": [
      "111/111 [==============================] - 0s 2ms/step - loss: 0.0273 - accuracy: 0.9891 - val_loss: 0.0601 - val_accuracy: 0.9885 - max_sp_val: 0.9883 - max_sp_fa_val: 0.0107 - max_sp_pd_val: 0.9873\n",
      "Epoch 84/1000\n",
      "1/1 [==============================] - 0s 11ms/step- loss: 0.0279 - accuracy: 0.98\n"
     ]
    },
    {
     "name": "stderr",
     "output_type": "stream",
     "text": [
      "\u001b[32m2025-04-28 17:02:16.241\u001b[0m | \u001b[1mINFO    \u001b[0m | \u001b[36msrc.callbacks\u001b[0m:\u001b[36mon_epoch_end\u001b[0m:\u001b[36m63\u001b[0m - \u001b[1mval_sp: 0.9883 (fa:0.0107, pd:0.9873), patience: 49\u001b[0m\n"
     ]
    },
    {
     "name": "stdout",
     "output_type": "stream",
     "text": [
      "111/111 [==============================] - 0s 2ms/step - loss: 0.0272 - accuracy: 0.9895 - val_loss: 0.0601 - val_accuracy: 0.9885 - max_sp_val: 0.9883 - max_sp_fa_val: 0.0107 - max_sp_pd_val: 0.9873\n",
      "Epoch 85/1000\n",
      "1/1 [==============================] - 0s 11ms/step- loss: 0.0262 - accuracy: 0.98\n"
     ]
    },
    {
     "name": "stderr",
     "output_type": "stream",
     "text": [
      "\u001b[32m2025-04-28 17:02:16.491\u001b[0m | \u001b[1mINFO    \u001b[0m | \u001b[36msrc.callbacks\u001b[0m:\u001b[36mon_epoch_end\u001b[0m:\u001b[36m63\u001b[0m - \u001b[1mval_sp: 0.9883 (fa:0.0107, pd:0.9873), patience: 50\u001b[0m\n",
      "\u001b[32m2025-04-28 17:02:16.492\u001b[0m | \u001b[1mINFO    \u001b[0m | \u001b[36msrc.callbacks\u001b[0m:\u001b[36mon_epoch_end\u001b[0m:\u001b[36m76\u001b[0m - \u001b[1mStopping the Training by SP...\u001b[0m\n"
     ]
    },
    {
     "name": "stdout",
     "output_type": "stream",
     "text": [
      "111/111 [==============================] - 0s 2ms/step - loss: 0.0272 - accuracy: 0.9896 - val_loss: 0.0602 - val_accuracy: 0.9885 - max_sp_val: 0.9883 - max_sp_fa_val: 0.0107 - max_sp_pd_val: 0.9873\n"
     ]
    },
    {
     "name": "stderr",
     "output_type": "stream",
     "text": [
      "\u001b[32m2025-04-28 17:02:16.493\u001b[0m | \u001b[1mINFO    \u001b[0m | \u001b[36msrc.callbacks\u001b[0m:\u001b[36mon_train_end\u001b[0m:\u001b[36m84\u001b[0m - \u001b[1mReload the best configuration into the current model...\u001b[0m\n",
      "\u001b[32m2025-04-28 17:02:34.823\u001b[0m | \u001b[1mINFO    \u001b[0m | \u001b[36msrc.decorators\u001b[0m:\u001b[36m__call__\u001b[0m:\u001b[36m74\u001b[0m - \u001b[1mStarting the train summary...\u001b[0m\n",
      "\u001b[32m2025-04-28 17:02:34.939\u001b[0m | \u001b[1mINFO    \u001b[0m | \u001b[36msrc.decorators\u001b[0m:\u001b[36m__call__\u001b[0m:\u001b[36m101\u001b[0m - \u001b[1mTrain samples : Prob. det (0.9901), False Alarm (0.0132), SP (0.9884)\u001b[0m\n",
      "\u001b[32m2025-04-28 17:02:34.940\u001b[0m | \u001b[1mINFO    \u001b[0m | \u001b[36msrc.decorators\u001b[0m:\u001b[36m__call__\u001b[0m:\u001b[36m118\u001b[0m - \u001b[1mValidation Samples: Prob. det (0.9904), False Alarm (0.0128), SP (0.9888)\u001b[0m\n",
      "\u001b[32m2025-04-28 17:02:34.942\u001b[0m | \u001b[1mINFO    \u001b[0m | \u001b[36msrc.decorators\u001b[0m:\u001b[36m__call__\u001b[0m:\u001b[36m136\u001b[0m - \u001b[1mOperation Samples : Prob. det (0.9901), False Alarm (0.0134), SP (0.9883)\u001b[0m\n",
      "2025-04-28 17:01:54.264507: I external/local_xla/xla/service/service.cc:168] XLA service 0x7f46776cffb0 initialized for platform CUDA (this does not guarantee that XLA will be used). Devices:\n",
      "2025-04-28 17:01:54.264535: I external/local_xla/xla/service/service.cc:176]   StreamExecutor device (0): NVIDIA GeForce RTX 2080 Ti, Compute Capability 7.5\n",
      "2025-04-28 17:01:54.268709: I tensorflow/compiler/mlir/tensorflow/utils/dump_mlir_util.cc:269] disabling MLIR crash reproducer, set env var `MLIR_CRASH_REPRODUCER_DIRECTORY` to enable.\n",
      "2025-04-28 17:01:54.279324: I external/local_xla/xla/stream_executor/cuda/cuda_dnn.cc:454] Loaded cuDNN version 8900\n",
      "WARNING: All log messages before absl::InitializeLog() is called are written to STDERR\n",
      "I0000 00:00:1745859714.338568  514574 device_compiler.h:186] Compiled cluster using XLA!  This line is logged at most once for the lifetime of the process.\n"
     ]
    }
   ],
   "source": [
    "skf = StratifiedKFold(n_splits=10, shuffle=True, random_state=512)\n",
    "\n",
    "loss     = 'binary_crossentropy'\n",
    "opt      = tf.keras.optimizers.Adam(learning_rate=0.001)\n",
    "\n",
    "decorators = [Summary(detailed=True)]\n",
    "# create a training history:\n",
    "for i, (train_index, test_index) in enumerate(skf.split(X, y)):\n",
    "    if i > 0:\n",
    "        continue\n",
    "    x_train, y_train = X[train_index], y[train_index]\n",
    "    x_test, y_test   = X[test_index] , y[test_index]\n",
    "    \n",
    "    \n",
    "    model_bce.compile(optimizer=opt, \n",
    "                  loss=loss, \n",
    "                  metrics=['accuracy']\n",
    "                  )\n",
    "    \n",
    "    sp_index_callback = sp_index(validation_data=(x_test, y_test),\n",
    "                                 patience=patience, verbose=True, save_the_best=True)\n",
    "    \n",
    "    bce_history = model_bce.fit(x_train, y_train, epochs=1000,\n",
    "        batch_size=64,\n",
    "        verbose=True,\n",
    "        validation_data=(x_test, y_test),\n",
    "        sample_weight=class_weight(y_train),\n",
    "        callbacks=[sp_index_callback],\n",
    "        shuffle=True\n",
    "    ).history\n",
    "    \n",
    "    for decorator in decorators:\n",
    "        decorator(bce_history , {'model':model_bce, 'data':(x_train, y_train),  'data_val':(x_test, y_test) })"
   ]
  },
  {
   "cell_type": "code",
   "execution_count": 14,
   "id": "37914d85",
   "metadata": {},
   "outputs": [],
   "source": [
    "def calc_sp(det, fake):\n",
    "    return np.sqrt( np.sqrt(det*(1-fake)) * (0.5*(det+(1 - fake))) )\n",
    "\n",
    "def plot_loss_function(loss, val_loss, best_epoch, axis, loss_name='Binary Cross Entropy'):\n",
    "    #  'solid', 'dashed', 'dashdot', 'dotted'\n",
    "    axis.plot(loss,       color='black', ls='dashdot', lw=1.2, label='Training Loss')\n",
    "    axis.plot(val_loss,   color='red', ls='solid', lw=1.2, label='Test Loss')\n",
    "    axis.axvline(x=best_epoch, color='black', ls='dotted', lw=1.2, label='Best epoch')\n",
    "    axis.set_ylabel(loss_name)\n",
    "    axis.set_xlabel(r'$\\#$ epochs')\n",
    "    axis.legend(loc='best')\n",
    "    axis.grid()\n",
    "    axis.set_title(f'{loss_name} Loss Evolution')\n",
    "\n",
    "    \n",
    "def plot_det(det, best_epoch, axis):\n",
    "    #  'solid', 'dashed', 'dashdot', 'dotted'\n",
    "    axis.plot(det,       color='dodgerblue', ls='dashdot', lw=1.2, label='Test Set')\n",
    "    axis.axvline(x=best_epoch, color='black', ls='dotted', lw=1.2, label='Best epoch')\n",
    "    axis.set_ylabel('Detection')\n",
    "    axis.set_xlabel(r'$\\#$ epochs')\n",
    "    axis.legend(loc='best')\n",
    "    axis.grid()\n",
    "    axis.set_title('Detection Evolution (Test set)')\n",
    "\n",
    "def plot_fake(fake, best_epoch, axis):\n",
    "    #  'solid', 'dashed', 'dashdot', 'dotted'\n",
    "    axis.plot(fake,       color='darkred', ls='dashdot', lw=1.2, label='Test Set')\n",
    "    axis.axvline(x=best_epoch, color='black', ls='dotted', lw=1.2, label='Best epoch')\n",
    "    axis.set_ylabel('Fake Rate')\n",
    "    axis.set_xlabel(r'$\\#$ epochs')\n",
    "    axis.legend(loc='best')\n",
    "    axis.grid()\n",
    "    axis.set_title('Fake Rate Evolution (Test set)')\n",
    "\n",
    "def plot_sp(sp_index, best_epoch, axis):\n",
    "    #  'solid', 'dashed', 'dashdot', 'dotted'\n",
    "    axis.plot(sp_index,       color='forestgreen', ls='dashdot', lw=1.2, label='Test Set')\n",
    "    axis.axvline(x=best_epoch, color='black', ls='dotted', lw=1.2, label='Best epoch')\n",
    "    axis.set_ylabel(r'$SP$ Index')\n",
    "    axis.set_xlabel(r'$\\#$ epochs')\n",
    "    axis.legend(loc='best')\n",
    "    axis.grid()\n",
    "    axis.set_title(r'$SP$ Index Evolution (Test set)')\n",
    "\n",
    "def plot_roc_curve(roc_fa, roc_pd, reference_dict, axis, ylim=[75, 105], xlim=[-.5, 50]):\n",
    "\n",
    "    axis.plot(roc_fa*100, roc_pd*100, color='black', linewidth=1.5, ls='dashed')\n",
    "    axis.set_ylabel('Probability of Dectection $[\\%]$')\n",
    "    axis.set_xlabel('Fake Rate $[\\%]$')\n",
    "\n",
    "    sp_max_index = np.argmax(calc_sp(roc_pd, roc_fa))\n",
    "\n",
    "    axis.plot(roc_fa[sp_max_index]*100, roc_pd[sp_max_index]*100, '*', \n",
    "                 label=r'$SP_{max}$',\n",
    "                 markersize=10, color=plt.cm.tab10(4))\n",
    "\n",
    "    axis.set_ylim(ylim)\n",
    "    axis.set_xlim(xlim)\n",
    "    axis.grid()\n",
    "    axis.legend(loc='best')\n",
    "    axis.set_title('ROC Curve (Test Set)')\n",
    "\n",
    "def plot_nn_histogram(hist_dict, reference_dict, axis, threshold=None):\n",
    "        axis.hist(hist_dict['val_bkg'][1][:-1], hist_dict['val_bkg'][1], weights=hist_dict['val_bkg'][0], histtype='bar', \n",
    "                     color='slategray', lw=1.5, \n",
    "                     label='jets', alpha=.5)\n",
    "        axis.hist(hist_dict['val_sgn'][1][:-1], hist_dict['val_sgn'][1], weights=hist_dict['val_sgn'][0], histtype='bar', \n",
    "                     color='blue', lw=1.5, \n",
    "                     label='electron', alpha=.5)\n",
    "\n",
    "        if threshold is not None:\n",
    "            axis.axvline(x=threshold, ls='solid',\n",
    "                         label=r'$SP_{max}$ Threshold', color='black', lw=1.5)\n",
    "        colors = iter([plt.cm.tab10(i) for i in range(4)])\n",
    "\n",
    "        axis.set_title('NN Output Histogram (Test Set)')\n",
    "        axis.legend(loc='best')\n",
    "        axis.grid()\n",
    "        axis.set_yscale('log')\n",
    "        axis.set_ylabel('Counts')\n",
    "        axis.set_xlabel('NN Output')\n",
    "\n",
    "def plot_training_resume(history, output_path, train_tag='Electron-Pion', roc_xlim=[-.5, 35], roc_ylim=[75, 105], loss_name='Binary Cross Entropy'):\n",
    "    os.makedirs(os.path.join(output_path, f\"{train_tag}\"), exist_ok=True)\n",
    "    o_path = os.path.join(output_path, f\"{train_tag}\")\n",
    "    #print(o_path)\n",
    "    # let's moving per sort\n",
    "    fig, ax  = plt.subplots(nrows=2, ncols=3, sharex=False, sharey=False, figsize=(20,10))\n",
    "    axes     = ax.flatten()\n",
    "    \n",
    "    hist_dict        = history['summary']['hists']\n",
    "    thr_max_sap      = history['summary']['threshold_val']\n",
    "    roc_pd, roc_fa   = history['summary']['rocs']['roc_val']\n",
    "\n",
    "    best_epoch       = history['max_sp_best_epoch_val'][-1]\n",
    "    loss             = history['loss']\n",
    "    val_loss         = history['val_loss']\n",
    "\n",
    "    sp_index         = history['max_sp_val']\n",
    "    det              = history['max_sp_pd_val']\n",
    "    fake             = history['max_sp_fa_val']\n",
    "\n",
    "\n",
    "    # plot loss\n",
    "    plot_loss_function(loss, val_loss, best_epoch, axis=axes[0], loss_name=loss_name)\n",
    "    # plot roc curve\n",
    "    plot_roc_curve(roc_fa=roc_fa, roc_pd=roc_pd, reference_dict={}, \n",
    "                    axis=axes[1], xlim=roc_xlim, ylim=roc_ylim)\n",
    "    # plot nn output \n",
    "    plot_nn_histogram(hist_dict, reference_dict={}, axis=axes[2], threshold=thr_max_sap)\n",
    "    # plot the detection\n",
    "    plot_det(det, best_epoch=best_epoch, axis=axes[3])\n",
    "    # plot sp index\n",
    "    plot_sp(sp_index=sp_index, best_epoch=best_epoch, axis=axes[4])\n",
    "    # plot fake\n",
    "    plot_fake(fake=fake, best_epoch=best_epoch, axis=axes[5])\n",
    "\n",
    "    fig.suptitle(r'Train Resume', fontsize=15)\n",
    "        \n",
    "    plt.savefig(os.path.join(o_path, 'train_resume.png' ), dpi=150, facecolor='white', bbox_inches='tight')\n",
    "    fig.clf()\n",
    "    plt.close()"
   ]
  },
  {
   "cell_type": "code",
   "execution_count": 15,
   "id": "38574621",
   "metadata": {},
   "outputs": [],
   "source": [
    "plot_training_resume(bce_history, output_path=repo_path+'/notebooks', train_tag='zee-jf17-mb', roc_xlim=[-.5, 5], roc_ylim=[0, 105])"
   ]
  },
  {
   "cell_type": "markdown",
   "id": "e0e9c698",
   "metadata": {},
   "source": [
    "# geodesic"
   ]
  },
  {
   "cell_type": "code",
   "execution_count": 16,
   "id": "c3877119",
   "metadata": {},
   "outputs": [
    {
     "name": "stdout",
     "output_type": "stream",
     "text": [
      "Epoch 1/1000\n",
      "1/1 [==============================] - 0s 29ms/step- loss: 0.9177 - accuracy: 0.88\n"
     ]
    },
    {
     "name": "stderr",
     "output_type": "stream",
     "text": [
      "\u001b[32m2025-04-28 17:02:37.788\u001b[0m | \u001b[1mINFO    \u001b[0m | \u001b[36msrc.callbacks\u001b[0m:\u001b[36mon_epoch_end\u001b[0m:\u001b[36m63\u001b[0m - \u001b[1mval_sp: 0.9803 (fa:0.0299, pd:0.9904), patience: 0\u001b[0m\n",
      "\u001b[32m2025-04-28 17:02:37.789\u001b[0m | \u001b[1mINFO    \u001b[0m | \u001b[36msrc.callbacks\u001b[0m:\u001b[36mon_epoch_end\u001b[0m:\u001b[36m68\u001b[0m - \u001b[1msave the best configuration here...\u001b[0m\n"
     ]
    },
    {
     "name": "stdout",
     "output_type": "stream",
     "text": [
      "111/111 [==============================] - 1s 3ms/step - loss: 0.9020 - accuracy: 0.9039 - val_loss: 0.8201 - val_accuracy: 0.9732 - max_sp_val: 0.9803 - max_sp_fa_val: 0.0299 - max_sp_pd_val: 0.9904 - max_sp_best_epoch_val: 0.0000e+00\n",
      "Epoch 2/1000\n",
      "1/1 [==============================] - 0s 10ms/step- loss: 0.7536 - accuracy: 0.97\n"
     ]
    },
    {
     "name": "stderr",
     "output_type": "stream",
     "text": [
      "\u001b[32m2025-04-28 17:02:38.047\u001b[0m | \u001b[1mINFO    \u001b[0m | \u001b[36msrc.callbacks\u001b[0m:\u001b[36mon_epoch_end\u001b[0m:\u001b[36m63\u001b[0m - \u001b[1mval_sp: 0.9819 (fa:0.0235, pd:0.9873), patience: 0\u001b[0m\n",
      "\u001b[32m2025-04-28 17:02:38.048\u001b[0m | \u001b[1mINFO    \u001b[0m | \u001b[36msrc.callbacks\u001b[0m:\u001b[36mon_epoch_end\u001b[0m:\u001b[36m68\u001b[0m - \u001b[1msave the best configuration here...\u001b[0m\n"
     ]
    },
    {
     "name": "stdout",
     "output_type": "stream",
     "text": [
      "111/111 [==============================] - 0s 2ms/step - loss: 0.7378 - accuracy: 0.9762 - val_loss: 0.6594 - val_accuracy: 0.9783 - max_sp_val: 0.9819 - max_sp_fa_val: 0.0235 - max_sp_pd_val: 0.9873 - max_sp_best_epoch_val: 1.0000\n",
      "Epoch 3/1000\n",
      "1/1 [==============================] - 0s 11ms/step- loss: 0.5972 - accuracy: 0.97\n"
     ]
    },
    {
     "name": "stderr",
     "output_type": "stream",
     "text": [
      "\u001b[32m2025-04-28 17:02:38.311\u001b[0m | \u001b[1mINFO    \u001b[0m | \u001b[36msrc.callbacks\u001b[0m:\u001b[36mon_epoch_end\u001b[0m:\u001b[36m63\u001b[0m - \u001b[1mval_sp: 0.9835 (fa:0.0235, pd:0.9904), patience: 0\u001b[0m\n",
      "\u001b[32m2025-04-28 17:02:38.311\u001b[0m | \u001b[1mINFO    \u001b[0m | \u001b[36msrc.callbacks\u001b[0m:\u001b[36mon_epoch_end\u001b[0m:\u001b[36m68\u001b[0m - \u001b[1msave the best configuration here...\u001b[0m\n"
     ]
    },
    {
     "name": "stdout",
     "output_type": "stream",
     "text": [
      "111/111 [==============================] - 0s 2ms/step - loss: 0.5835 - accuracy: 0.9784 - val_loss: 0.5188 - val_accuracy: 0.9783 - max_sp_val: 0.9835 - max_sp_fa_val: 0.0235 - max_sp_pd_val: 0.9904 - max_sp_best_epoch_val: 2.0000\n",
      "Epoch 4/1000\n",
      "1/1 [==============================] - 0s 11ms/step- loss: 0.4659 - accuracy: 0.97\n"
     ]
    },
    {
     "name": "stderr",
     "output_type": "stream",
     "text": [
      "\u001b[32m2025-04-28 17:02:38.570\u001b[0m | \u001b[1mINFO    \u001b[0m | \u001b[36msrc.callbacks\u001b[0m:\u001b[36mon_epoch_end\u001b[0m:\u001b[36m63\u001b[0m - \u001b[1mval_sp: 0.9835 (fa:0.0235, pd:0.9904), patience: 0\u001b[0m\n"
     ]
    },
    {
     "name": "stdout",
     "output_type": "stream",
     "text": [
      "111/111 [==============================] - 0s 2ms/step - loss: 0.4577 - accuracy: 0.9790 - val_loss: 0.4105 - val_accuracy: 0.9808 - max_sp_val: 0.9835 - max_sp_fa_val: 0.0235 - max_sp_pd_val: 0.9904\n",
      "Epoch 5/1000\n",
      "1/1 [==============================] - 0s 11ms/step- loss: 0.3729 - accuracy: 0.97\n"
     ]
    },
    {
     "name": "stderr",
     "output_type": "stream",
     "text": [
      "\u001b[32m2025-04-28 17:02:38.835\u001b[0m | \u001b[1mINFO    \u001b[0m | \u001b[36msrc.callbacks\u001b[0m:\u001b[36mon_epoch_end\u001b[0m:\u001b[36m63\u001b[0m - \u001b[1mval_sp: 0.9835 (fa:0.0235, pd:0.9904), patience: 1\u001b[0m\n"
     ]
    },
    {
     "name": "stdout",
     "output_type": "stream",
     "text": [
      "111/111 [==============================] - 0s 2ms/step - loss: 0.3636 - accuracy: 0.9794 - val_loss: 0.3321 - val_accuracy: 0.9821 - max_sp_val: 0.9835 - max_sp_fa_val: 0.0235 - max_sp_pd_val: 0.9904\n",
      "Epoch 6/1000\n",
      "1/1 [==============================] - 0s 10ms/step- loss: 0.3022 - accuracy: 0.97\n"
     ]
    },
    {
     "name": "stderr",
     "output_type": "stream",
     "text": [
      "\u001b[32m2025-04-28 17:02:39.098\u001b[0m | \u001b[1mINFO    \u001b[0m | \u001b[36msrc.callbacks\u001b[0m:\u001b[36mon_epoch_end\u001b[0m:\u001b[36m63\u001b[0m - \u001b[1mval_sp: 0.9851 (fa:0.0235, pd:0.9936), patience: 2\u001b[0m\n",
      "\u001b[32m2025-04-28 17:02:39.098\u001b[0m | \u001b[1mINFO    \u001b[0m | \u001b[36msrc.callbacks\u001b[0m:\u001b[36mon_epoch_end\u001b[0m:\u001b[36m68\u001b[0m - \u001b[1msave the best configuration here...\u001b[0m\n"
     ]
    },
    {
     "name": "stdout",
     "output_type": "stream",
     "text": [
      "111/111 [==============================] - 0s 2ms/step - loss: 0.2960 - accuracy: 0.9801 - val_loss: 0.2765 - val_accuracy: 0.9808 - max_sp_val: 0.9851 - max_sp_fa_val: 0.0235 - max_sp_pd_val: 0.9936 - max_sp_best_epoch_val: 5.0000\n",
      "Epoch 7/1000\n",
      "1/1 [==============================] - 0s 10ms/step- loss: 0.2539 - accuracy: 0.98\n"
     ]
    },
    {
     "name": "stderr",
     "output_type": "stream",
     "text": [
      "\u001b[32m2025-04-28 17:02:39.355\u001b[0m | \u001b[1mINFO    \u001b[0m | \u001b[36msrc.callbacks\u001b[0m:\u001b[36mon_epoch_end\u001b[0m:\u001b[36m63\u001b[0m - \u001b[1mval_sp: 0.9851 (fa:0.0235, pd:0.9936), patience: 0\u001b[0m\n"
     ]
    },
    {
     "name": "stdout",
     "output_type": "stream",
     "text": [
      "111/111 [==============================] - 0s 2ms/step - loss: 0.2480 - accuracy: 0.9814 - val_loss: 0.2372 - val_accuracy: 0.9821 - max_sp_val: 0.9851 - max_sp_fa_val: 0.0235 - max_sp_pd_val: 0.9936\n",
      "Epoch 8/1000\n",
      "1/1 [==============================] - 0s 10ms/step- loss: 0.2150 - accuracy: 0.98\n"
     ]
    },
    {
     "name": "stderr",
     "output_type": "stream",
     "text": [
      "\u001b[32m2025-04-28 17:02:39.612\u001b[0m | \u001b[1mINFO    \u001b[0m | \u001b[36msrc.callbacks\u001b[0m:\u001b[36mon_epoch_end\u001b[0m:\u001b[36m63\u001b[0m - \u001b[1mval_sp: 0.9861 (fa:0.0213, pd:0.9936), patience: 1\u001b[0m\n",
      "\u001b[32m2025-04-28 17:02:39.613\u001b[0m | \u001b[1mINFO    \u001b[0m | \u001b[36msrc.callbacks\u001b[0m:\u001b[36mon_epoch_end\u001b[0m:\u001b[36m68\u001b[0m - \u001b[1msave the best configuration here...\u001b[0m\n"
     ]
    },
    {
     "name": "stdout",
     "output_type": "stream",
     "text": [
      "111/111 [==============================] - 0s 2ms/step - loss: 0.2130 - accuracy: 0.9820 - val_loss: 0.2092 - val_accuracy: 0.9821 - max_sp_val: 0.9861 - max_sp_fa_val: 0.0213 - max_sp_pd_val: 0.9936 - max_sp_best_epoch_val: 7.0000\n",
      "Epoch 9/1000\n",
      "1/1 [==============================] - 0s 11ms/step- loss: 0.1876 - accuracy: 0.98\n"
     ]
    },
    {
     "name": "stderr",
     "output_type": "stream",
     "text": [
      "\u001b[32m2025-04-28 17:02:39.873\u001b[0m | \u001b[1mINFO    \u001b[0m | \u001b[36msrc.callbacks\u001b[0m:\u001b[36mon_epoch_end\u001b[0m:\u001b[36m63\u001b[0m - \u001b[1mval_sp: 0.9861 (fa:0.0213, pd:0.9936), patience: 0\u001b[0m\n"
     ]
    },
    {
     "name": "stdout",
     "output_type": "stream",
     "text": [
      "111/111 [==============================] - 0s 2ms/step - loss: 0.1873 - accuracy: 0.9827 - val_loss: 0.1890 - val_accuracy: 0.9821 - max_sp_val: 0.9861 - max_sp_fa_val: 0.0213 - max_sp_pd_val: 0.9936\n",
      "Epoch 10/1000\n",
      "1/1 [==============================] - 0s 10ms/step- loss: 0.1726 - accuracy: 0.98\n"
     ]
    },
    {
     "name": "stderr",
     "output_type": "stream",
     "text": [
      "\u001b[32m2025-04-28 17:02:40.130\u001b[0m | \u001b[1mINFO    \u001b[0m | \u001b[36msrc.callbacks\u001b[0m:\u001b[36mon_epoch_end\u001b[0m:\u001b[36m63\u001b[0m - \u001b[1mval_sp: 0.9861 (fa:0.0213, pd:0.9936), patience: 1\u001b[0m\n"
     ]
    },
    {
     "name": "stdout",
     "output_type": "stream",
     "text": [
      "111/111 [==============================] - 0s 2ms/step - loss: 0.1681 - accuracy: 0.9830 - val_loss: 0.1750 - val_accuracy: 0.9834 - max_sp_val: 0.9861 - max_sp_fa_val: 0.0213 - max_sp_pd_val: 0.9936\n",
      "Epoch 11/1000\n",
      "1/1 [==============================] - 0s 10ms/step- loss: 0.1549 - accuracy: 0.98\n"
     ]
    },
    {
     "name": "stderr",
     "output_type": "stream",
     "text": [
      "\u001b[32m2025-04-28 17:02:40.395\u001b[0m | \u001b[1mINFO    \u001b[0m | \u001b[36msrc.callbacks\u001b[0m:\u001b[36mon_epoch_end\u001b[0m:\u001b[36m63\u001b[0m - \u001b[1mval_sp: 0.9872 (fa:0.0192, pd:0.9936), patience: 2\u001b[0m\n",
      "\u001b[32m2025-04-28 17:02:40.396\u001b[0m | \u001b[1mINFO    \u001b[0m | \u001b[36msrc.callbacks\u001b[0m:\u001b[36mon_epoch_end\u001b[0m:\u001b[36m68\u001b[0m - \u001b[1msave the best configuration here...\u001b[0m\n"
     ]
    },
    {
     "name": "stdout",
     "output_type": "stream",
     "text": [
      "111/111 [==============================] - 0s 2ms/step - loss: 0.1538 - accuracy: 0.9830 - val_loss: 0.1646 - val_accuracy: 0.9834 - max_sp_val: 0.9872 - max_sp_fa_val: 0.0192 - max_sp_pd_val: 0.9936 - max_sp_best_epoch_val: 10.0000\n",
      "Epoch 12/1000\n",
      "1/1 [==============================] - 0s 10ms/step- loss: 0.1425 - accuracy: 0.98\n"
     ]
    },
    {
     "name": "stderr",
     "output_type": "stream",
     "text": [
      "\u001b[32m2025-04-28 17:02:40.663\u001b[0m | \u001b[1mINFO    \u001b[0m | \u001b[36msrc.callbacks\u001b[0m:\u001b[36mon_epoch_end\u001b[0m:\u001b[36m63\u001b[0m - \u001b[1mval_sp: 0.9872 (fa:0.0192, pd:0.9936), patience: 0\u001b[0m\n"
     ]
    },
    {
     "name": "stdout",
     "output_type": "stream",
     "text": [
      "111/111 [==============================] - 0s 2ms/step - loss: 0.1422 - accuracy: 0.9834 - val_loss: 0.1577 - val_accuracy: 0.9847 - max_sp_val: 0.9872 - max_sp_fa_val: 0.0192 - max_sp_pd_val: 0.9936\n",
      "Epoch 13/1000\n",
      "1/1 [==============================] - 0s 11ms/step- loss: 0.1284 - accuracy: 0.98\n"
     ]
    },
    {
     "name": "stderr",
     "output_type": "stream",
     "text": [
      "\u001b[32m2025-04-28 17:02:40.921\u001b[0m | \u001b[1mINFO    \u001b[0m | \u001b[36msrc.callbacks\u001b[0m:\u001b[36mon_epoch_end\u001b[0m:\u001b[36m63\u001b[0m - \u001b[1mval_sp: 0.9872 (fa:0.0192, pd:0.9936), patience: 1\u001b[0m\n"
     ]
    },
    {
     "name": "stdout",
     "output_type": "stream",
     "text": [
      "111/111 [==============================] - 0s 2ms/step - loss: 0.1336 - accuracy: 0.9834 - val_loss: 0.1527 - val_accuracy: 0.9847 - max_sp_val: 0.9872 - max_sp_fa_val: 0.0192 - max_sp_pd_val: 0.9936\n",
      "Epoch 14/1000\n",
      "1/1 [==============================] - 0s 11ms/step- loss: 0.1300 - accuracy: 0.98\n"
     ]
    },
    {
     "name": "stderr",
     "output_type": "stream",
     "text": [
      "\u001b[32m2025-04-28 17:02:41.175\u001b[0m | \u001b[1mINFO    \u001b[0m | \u001b[36msrc.callbacks\u001b[0m:\u001b[36mon_epoch_end\u001b[0m:\u001b[36m63\u001b[0m - \u001b[1mval_sp: 0.9872 (fa:0.0192, pd:0.9936), patience: 2\u001b[0m\n"
     ]
    },
    {
     "name": "stdout",
     "output_type": "stream",
     "text": [
      "111/111 [==============================] - 0s 2ms/step - loss: 0.1258 - accuracy: 0.9834 - val_loss: 0.1513 - val_accuracy: 0.9847 - max_sp_val: 0.9872 - max_sp_fa_val: 0.0192 - max_sp_pd_val: 0.9936\n",
      "Epoch 15/1000\n",
      "1/1 [==============================] - 0s 10ms/step- loss: 0.1210 - accuracy: 0.98\n"
     ]
    },
    {
     "name": "stderr",
     "output_type": "stream",
     "text": [
      "\u001b[32m2025-04-28 17:02:41.440\u001b[0m | \u001b[1mINFO    \u001b[0m | \u001b[36msrc.callbacks\u001b[0m:\u001b[36mon_epoch_end\u001b[0m:\u001b[36m63\u001b[0m - \u001b[1mval_sp: 0.9883 (fa:0.0171, pd:0.9936), patience: 3\u001b[0m\n",
      "\u001b[32m2025-04-28 17:02:41.440\u001b[0m | \u001b[1mINFO    \u001b[0m | \u001b[36msrc.callbacks\u001b[0m:\u001b[36mon_epoch_end\u001b[0m:\u001b[36m68\u001b[0m - \u001b[1msave the best configuration here...\u001b[0m\n"
     ]
    },
    {
     "name": "stdout",
     "output_type": "stream",
     "text": [
      "111/111 [==============================] - 0s 2ms/step - loss: 0.1203 - accuracy: 0.9844 - val_loss: 0.1482 - val_accuracy: 0.9860 - max_sp_val: 0.9883 - max_sp_fa_val: 0.0171 - max_sp_pd_val: 0.9936 - max_sp_best_epoch_val: 14.0000\n",
      "Epoch 16/1000\n",
      "1/1 [==============================] - 0s 11ms/step- loss: 0.1139 - accuracy: 0.98\n"
     ]
    },
    {
     "name": "stderr",
     "output_type": "stream",
     "text": [
      "\u001b[32m2025-04-28 17:02:41.699\u001b[0m | \u001b[1mINFO    \u001b[0m | \u001b[36msrc.callbacks\u001b[0m:\u001b[36mon_epoch_end\u001b[0m:\u001b[36m63\u001b[0m - \u001b[1mval_sp: 0.9872 (fa:0.0128, pd:0.9873), patience: 0\u001b[0m\n"
     ]
    },
    {
     "name": "stdout",
     "output_type": "stream",
     "text": [
      "111/111 [==============================] - 0s 2ms/step - loss: 0.1155 - accuracy: 0.9845 - val_loss: 0.1475 - val_accuracy: 0.9860 - max_sp_val: 0.9872 - max_sp_fa_val: 0.0128 - max_sp_pd_val: 0.9873\n",
      "Epoch 17/1000\n",
      "1/1 [==============================] - 0s 10ms/step- loss: 0.1133 - accuracy: 0.98\n"
     ]
    },
    {
     "name": "stderr",
     "output_type": "stream",
     "text": [
      "\u001b[32m2025-04-28 17:02:41.962\u001b[0m | \u001b[1mINFO    \u001b[0m | \u001b[36msrc.callbacks\u001b[0m:\u001b[36mon_epoch_end\u001b[0m:\u001b[36m63\u001b[0m - \u001b[1mval_sp: 0.9872 (fa:0.0128, pd:0.9873), patience: 1\u001b[0m\n"
     ]
    },
    {
     "name": "stdout",
     "output_type": "stream",
     "text": [
      "111/111 [==============================] - 0s 2ms/step - loss: 0.1114 - accuracy: 0.9842 - val_loss: 0.1476 - val_accuracy: 0.9860 - max_sp_val: 0.9872 - max_sp_fa_val: 0.0128 - max_sp_pd_val: 0.9873\n",
      "Epoch 18/1000\n",
      "1/1 [==============================] - 0s 10ms/step- loss: 0.1122 - accuracy: 0.98\n"
     ]
    },
    {
     "name": "stderr",
     "output_type": "stream",
     "text": [
      "\u001b[32m2025-04-28 17:02:42.225\u001b[0m | \u001b[1mINFO    \u001b[0m | \u001b[36msrc.callbacks\u001b[0m:\u001b[36mon_epoch_end\u001b[0m:\u001b[36m63\u001b[0m - \u001b[1mval_sp: 0.9878 (fa:0.0149, pd:0.9904), patience: 2\u001b[0m\n"
     ]
    },
    {
     "name": "stdout",
     "output_type": "stream",
     "text": [
      "111/111 [==============================] - 0s 2ms/step - loss: 0.1081 - accuracy: 0.9845 - val_loss: 0.1481 - val_accuracy: 0.9872 - max_sp_val: 0.9878 - max_sp_fa_val: 0.0149 - max_sp_pd_val: 0.9904\n",
      "Epoch 19/1000\n",
      "1/1 [==============================] - 0s 11ms/step- loss: 0.0995 - accuracy: 0.98\n"
     ]
    },
    {
     "name": "stderr",
     "output_type": "stream",
     "text": [
      "\u001b[32m2025-04-28 17:02:42.490\u001b[0m | \u001b[1mINFO    \u001b[0m | \u001b[36msrc.callbacks\u001b[0m:\u001b[36mon_epoch_end\u001b[0m:\u001b[36m63\u001b[0m - \u001b[1mval_sp: 0.9878 (fa:0.0149, pd:0.9904), patience: 3\u001b[0m\n"
     ]
    },
    {
     "name": "stdout",
     "output_type": "stream",
     "text": [
      "111/111 [==============================] - 0s 2ms/step - loss: 0.1054 - accuracy: 0.9850 - val_loss: 0.1488 - val_accuracy: 0.9872 - max_sp_val: 0.9878 - max_sp_fa_val: 0.0149 - max_sp_pd_val: 0.9904\n",
      "Epoch 20/1000\n",
      "1/1 [==============================] - 0s 10ms/step- loss: 0.1044 - accuracy: 0.98\n"
     ]
    },
    {
     "name": "stderr",
     "output_type": "stream",
     "text": [
      "\u001b[32m2025-04-28 17:02:42.745\u001b[0m | \u001b[1mINFO    \u001b[0m | \u001b[36msrc.callbacks\u001b[0m:\u001b[36mon_epoch_end\u001b[0m:\u001b[36m63\u001b[0m - \u001b[1mval_sp: 0.9878 (fa:0.0149, pd:0.9904), patience: 4\u001b[0m\n"
     ]
    },
    {
     "name": "stdout",
     "output_type": "stream",
     "text": [
      "111/111 [==============================] - 0s 2ms/step - loss: 0.1024 - accuracy: 0.9851 - val_loss: 0.1503 - val_accuracy: 0.9860 - max_sp_val: 0.9878 - max_sp_fa_val: 0.0149 - max_sp_pd_val: 0.9904\n",
      "Epoch 21/1000\n",
      "1/1 [==============================] - 0s 10ms/step- loss: 0.1024 - accuracy: 0.98\n"
     ]
    },
    {
     "name": "stderr",
     "output_type": "stream",
     "text": [
      "\u001b[32m2025-04-28 17:02:43.003\u001b[0m | \u001b[1mINFO    \u001b[0m | \u001b[36msrc.callbacks\u001b[0m:\u001b[36mon_epoch_end\u001b[0m:\u001b[36m63\u001b[0m - \u001b[1mval_sp: 0.9878 (fa:0.0149, pd:0.9904), patience: 5\u001b[0m\n"
     ]
    },
    {
     "name": "stdout",
     "output_type": "stream",
     "text": [
      "111/111 [==============================] - 0s 2ms/step - loss: 0.0997 - accuracy: 0.9851 - val_loss: 0.1525 - val_accuracy: 0.9872 - max_sp_val: 0.9878 - max_sp_fa_val: 0.0149 - max_sp_pd_val: 0.9904\n",
      "Epoch 22/1000\n",
      "1/1 [==============================] - 0s 10ms/step- loss: 0.1009 - accuracy: 0.98\n"
     ]
    },
    {
     "name": "stderr",
     "output_type": "stream",
     "text": [
      "\u001b[32m2025-04-28 17:02:43.260\u001b[0m | \u001b[1mINFO    \u001b[0m | \u001b[36msrc.callbacks\u001b[0m:\u001b[36mon_epoch_end\u001b[0m:\u001b[36m63\u001b[0m - \u001b[1mval_sp: 0.9878 (fa:0.0149, pd:0.9904), patience: 6\u001b[0m\n"
     ]
    },
    {
     "name": "stdout",
     "output_type": "stream",
     "text": [
      "111/111 [==============================] - 0s 2ms/step - loss: 0.0982 - accuracy: 0.9859 - val_loss: 0.1553 - val_accuracy: 0.9872 - max_sp_val: 0.9878 - max_sp_fa_val: 0.0149 - max_sp_pd_val: 0.9904\n",
      "Epoch 23/1000\n",
      "1/1 [==============================] - 0s 10ms/step- loss: 0.0965 - accuracy: 0.98\n"
     ]
    },
    {
     "name": "stderr",
     "output_type": "stream",
     "text": [
      "\u001b[32m2025-04-28 17:02:43.525\u001b[0m | \u001b[1mINFO    \u001b[0m | \u001b[36msrc.callbacks\u001b[0m:\u001b[36mon_epoch_end\u001b[0m:\u001b[36m63\u001b[0m - \u001b[1mval_sp: 0.9878 (fa:0.0149, pd:0.9904), patience: 7\u001b[0m\n"
     ]
    },
    {
     "name": "stdout",
     "output_type": "stream",
     "text": [
      "111/111 [==============================] - 0s 2ms/step - loss: 0.0969 - accuracy: 0.9859 - val_loss: 0.1569 - val_accuracy: 0.9872 - max_sp_val: 0.9878 - max_sp_fa_val: 0.0149 - max_sp_pd_val: 0.9904\n",
      "Epoch 24/1000\n",
      "1/1 [==============================] - 0s 11ms/step- loss: 0.0898 - accuracy: 0.98\n"
     ]
    },
    {
     "name": "stderr",
     "output_type": "stream",
     "text": [
      "\u001b[32m2025-04-28 17:02:43.794\u001b[0m | \u001b[1mINFO    \u001b[0m | \u001b[36msrc.callbacks\u001b[0m:\u001b[36mon_epoch_end\u001b[0m:\u001b[36m63\u001b[0m - \u001b[1mval_sp: 0.9883 (fa:0.0171, pd:0.9936), patience: 8\u001b[0m\n"
     ]
    },
    {
     "name": "stdout",
     "output_type": "stream",
     "text": [
      "111/111 [==============================] - 0s 2ms/step - loss: 0.0947 - accuracy: 0.9862 - val_loss: 0.1589 - val_accuracy: 0.9860 - max_sp_val: 0.9883 - max_sp_fa_val: 0.0171 - max_sp_pd_val: 0.9936\n",
      "Epoch 25/1000\n",
      "1/1 [==============================] - 0s 10ms/step- loss: 0.0972 - accuracy: 0.98\n"
     ]
    },
    {
     "name": "stderr",
     "output_type": "stream",
     "text": [
      "\u001b[32m2025-04-28 17:02:44.056\u001b[0m | \u001b[1mINFO    \u001b[0m | \u001b[36msrc.callbacks\u001b[0m:\u001b[36mon_epoch_end\u001b[0m:\u001b[36m63\u001b[0m - \u001b[1mval_sp: 0.9883 (fa:0.0171, pd:0.9936), patience: 9\u001b[0m\n"
     ]
    },
    {
     "name": "stdout",
     "output_type": "stream",
     "text": [
      "111/111 [==============================] - 0s 2ms/step - loss: 0.0933 - accuracy: 0.9858 - val_loss: 0.1610 - val_accuracy: 0.9847 - max_sp_val: 0.9883 - max_sp_fa_val: 0.0171 - max_sp_pd_val: 0.9936\n",
      "Epoch 26/1000\n",
      "1/1 [==============================] - 0s 10ms/step- loss: 0.0856 - accuracy: 0.98\n"
     ]
    },
    {
     "name": "stderr",
     "output_type": "stream",
     "text": [
      "\u001b[32m2025-04-28 17:02:44.312\u001b[0m | \u001b[1mINFO    \u001b[0m | \u001b[36msrc.callbacks\u001b[0m:\u001b[36mon_epoch_end\u001b[0m:\u001b[36m63\u001b[0m - \u001b[1mval_sp: 0.9883 (fa:0.0171, pd:0.9936), patience: 10\u001b[0m\n"
     ]
    },
    {
     "name": "stdout",
     "output_type": "stream",
     "text": [
      "111/111 [==============================] - 0s 2ms/step - loss: 0.0918 - accuracy: 0.9862 - val_loss: 0.1643 - val_accuracy: 0.9860 - max_sp_val: 0.9883 - max_sp_fa_val: 0.0171 - max_sp_pd_val: 0.9936\n",
      "Epoch 27/1000\n",
      "1/1 [==============================] - 0s 10ms/step- loss: 0.0920 - accuracy: 0.98\n"
     ]
    },
    {
     "name": "stderr",
     "output_type": "stream",
     "text": [
      "\u001b[32m2025-04-28 17:02:44.578\u001b[0m | \u001b[1mINFO    \u001b[0m | \u001b[36msrc.callbacks\u001b[0m:\u001b[36mon_epoch_end\u001b[0m:\u001b[36m63\u001b[0m - \u001b[1mval_sp: 0.9883 (fa:0.0171, pd:0.9936), patience: 11\u001b[0m\n"
     ]
    },
    {
     "name": "stdout",
     "output_type": "stream",
     "text": [
      "111/111 [==============================] - 0s 2ms/step - loss: 0.0908 - accuracy: 0.9867 - val_loss: 0.1694 - val_accuracy: 0.9872 - max_sp_val: 0.9883 - max_sp_fa_val: 0.0171 - max_sp_pd_val: 0.9936\n",
      "Epoch 28/1000\n",
      "1/1 [==============================] - 0s 10ms/step- loss: 0.0938 - accuracy: 0.98\n"
     ]
    },
    {
     "name": "stderr",
     "output_type": "stream",
     "text": [
      "\u001b[32m2025-04-28 17:02:44.840\u001b[0m | \u001b[1mINFO    \u001b[0m | \u001b[36msrc.callbacks\u001b[0m:\u001b[36mon_epoch_end\u001b[0m:\u001b[36m63\u001b[0m - \u001b[1mval_sp: 0.9878 (fa:0.0149, pd:0.9904), patience: 12\u001b[0m\n"
     ]
    },
    {
     "name": "stdout",
     "output_type": "stream",
     "text": [
      "111/111 [==============================] - 0s 2ms/step - loss: 0.0899 - accuracy: 0.9869 - val_loss: 0.1704 - val_accuracy: 0.9860 - max_sp_val: 0.9878 - max_sp_fa_val: 0.0149 - max_sp_pd_val: 0.9904\n",
      "Epoch 29/1000\n",
      "1/1 [==============================] - 0s 11ms/step- loss: 0.0898 - accuracy: 0.98\n"
     ]
    },
    {
     "name": "stderr",
     "output_type": "stream",
     "text": [
      "\u001b[32m2025-04-28 17:02:45.109\u001b[0m | \u001b[1mINFO    \u001b[0m | \u001b[36msrc.callbacks\u001b[0m:\u001b[36mon_epoch_end\u001b[0m:\u001b[36m63\u001b[0m - \u001b[1mval_sp: 0.9878 (fa:0.0149, pd:0.9904), patience: 13\u001b[0m\n"
     ]
    },
    {
     "name": "stdout",
     "output_type": "stream",
     "text": [
      "111/111 [==============================] - 0s 2ms/step - loss: 0.0884 - accuracy: 0.9869 - val_loss: 0.1730 - val_accuracy: 0.9860 - max_sp_val: 0.9878 - max_sp_fa_val: 0.0149 - max_sp_pd_val: 0.9904\n",
      "Epoch 30/1000\n",
      "1/1 [==============================] - 0s 11ms/step- loss: 0.0907 - accuracy: 0.98\n"
     ]
    },
    {
     "name": "stderr",
     "output_type": "stream",
     "text": [
      "\u001b[32m2025-04-28 17:02:45.377\u001b[0m | \u001b[1mINFO    \u001b[0m | \u001b[36msrc.callbacks\u001b[0m:\u001b[36mon_epoch_end\u001b[0m:\u001b[36m63\u001b[0m - \u001b[1mval_sp: 0.9888 (fa:0.0128, pd:0.9904), patience: 14\u001b[0m\n",
      "\u001b[32m2025-04-28 17:02:45.378\u001b[0m | \u001b[1mINFO    \u001b[0m | \u001b[36msrc.callbacks\u001b[0m:\u001b[36mon_epoch_end\u001b[0m:\u001b[36m68\u001b[0m - \u001b[1msave the best configuration here...\u001b[0m\n"
     ]
    },
    {
     "name": "stdout",
     "output_type": "stream",
     "text": [
      "111/111 [==============================] - 0s 2ms/step - loss: 0.0877 - accuracy: 0.9868 - val_loss: 0.1767 - val_accuracy: 0.9872 - max_sp_val: 0.9888 - max_sp_fa_val: 0.0128 - max_sp_pd_val: 0.9904 - max_sp_best_epoch_val: 29.0000\n",
      "Epoch 31/1000\n",
      "1/1 [==============================] - 0s 10ms/step- loss: 0.0906 - accuracy: 0.98\n"
     ]
    },
    {
     "name": "stderr",
     "output_type": "stream",
     "text": [
      "\u001b[32m2025-04-28 17:02:45.637\u001b[0m | \u001b[1mINFO    \u001b[0m | \u001b[36msrc.callbacks\u001b[0m:\u001b[36mon_epoch_end\u001b[0m:\u001b[36m63\u001b[0m - \u001b[1mval_sp: 0.9888 (fa:0.0128, pd:0.9904), patience: 0\u001b[0m\n"
     ]
    },
    {
     "name": "stdout",
     "output_type": "stream",
     "text": [
      "111/111 [==============================] - 0s 2ms/step - loss: 0.0868 - accuracy: 0.9869 - val_loss: 0.1822 - val_accuracy: 0.9872 - max_sp_val: 0.9888 - max_sp_fa_val: 0.0128 - max_sp_pd_val: 0.9904\n",
      "Epoch 32/1000\n",
      "1/1 [==============================] - 0s 12ms/step- loss: 0.0872 - accuracy: 0.98\n"
     ]
    },
    {
     "name": "stderr",
     "output_type": "stream",
     "text": [
      "\u001b[32m2025-04-28 17:02:45.903\u001b[0m | \u001b[1mINFO    \u001b[0m | \u001b[36msrc.callbacks\u001b[0m:\u001b[36mon_epoch_end\u001b[0m:\u001b[36m63\u001b[0m - \u001b[1mval_sp: 0.9888 (fa:0.0128, pd:0.9904), patience: 1\u001b[0m\n"
     ]
    },
    {
     "name": "stdout",
     "output_type": "stream",
     "text": [
      "111/111 [==============================] - 0s 2ms/step - loss: 0.0858 - accuracy: 0.9869 - val_loss: 0.1822 - val_accuracy: 0.9847 - max_sp_val: 0.9888 - max_sp_fa_val: 0.0128 - max_sp_pd_val: 0.9904\n",
      "Epoch 33/1000\n",
      "1/1 [==============================] - 0s 11ms/step- loss: 0.0755 - accuracy: 0.98\n"
     ]
    },
    {
     "name": "stderr",
     "output_type": "stream",
     "text": [
      "\u001b[32m2025-04-28 17:02:46.168\u001b[0m | \u001b[1mINFO    \u001b[0m | \u001b[36msrc.callbacks\u001b[0m:\u001b[36mon_epoch_end\u001b[0m:\u001b[36m63\u001b[0m - \u001b[1mval_sp: 0.9888 (fa:0.0128, pd:0.9904), patience: 2\u001b[0m\n"
     ]
    },
    {
     "name": "stdout",
     "output_type": "stream",
     "text": [
      "111/111 [==============================] - 0s 2ms/step - loss: 0.0851 - accuracy: 0.9869 - val_loss: 0.1858 - val_accuracy: 0.9834 - max_sp_val: 0.9888 - max_sp_fa_val: 0.0128 - max_sp_pd_val: 0.9904\n",
      "Epoch 34/1000\n",
      "1/1 [==============================] - 0s 11ms/step- loss: 0.0756 - accuracy: 0.98\n"
     ]
    },
    {
     "name": "stderr",
     "output_type": "stream",
     "text": [
      "\u001b[32m2025-04-28 17:02:46.424\u001b[0m | \u001b[1mINFO    \u001b[0m | \u001b[36msrc.callbacks\u001b[0m:\u001b[36mon_epoch_end\u001b[0m:\u001b[36m63\u001b[0m - \u001b[1mval_sp: 0.9888 (fa:0.0128, pd:0.9904), patience: 3\u001b[0m\n"
     ]
    },
    {
     "name": "stdout",
     "output_type": "stream",
     "text": [
      "111/111 [==============================] - 0s 2ms/step - loss: 0.0850 - accuracy: 0.9867 - val_loss: 0.1922 - val_accuracy: 0.9860 - max_sp_val: 0.9888 - max_sp_fa_val: 0.0128 - max_sp_pd_val: 0.9904\n",
      "Epoch 35/1000\n",
      "1/1 [==============================] - 0s 11ms/step- loss: 0.0870 - accuracy: 0.98\n"
     ]
    },
    {
     "name": "stderr",
     "output_type": "stream",
     "text": [
      "\u001b[32m2025-04-28 17:02:46.679\u001b[0m | \u001b[1mINFO    \u001b[0m | \u001b[36msrc.callbacks\u001b[0m:\u001b[36mon_epoch_end\u001b[0m:\u001b[36m63\u001b[0m - \u001b[1mval_sp: 0.9888 (fa:0.0128, pd:0.9904), patience: 4\u001b[0m\n"
     ]
    },
    {
     "name": "stdout",
     "output_type": "stream",
     "text": [
      "111/111 [==============================] - 0s 2ms/step - loss: 0.0835 - accuracy: 0.9869 - val_loss: 0.1924 - val_accuracy: 0.9847 - max_sp_val: 0.9888 - max_sp_fa_val: 0.0128 - max_sp_pd_val: 0.9904\n",
      "Epoch 36/1000\n",
      "1/1 [==============================] - 0s 10ms/step- loss: 0.0840 - accuracy: 0.98\n"
     ]
    },
    {
     "name": "stderr",
     "output_type": "stream",
     "text": [
      "\u001b[32m2025-04-28 17:02:46.937\u001b[0m | \u001b[1mINFO    \u001b[0m | \u001b[36msrc.callbacks\u001b[0m:\u001b[36mon_epoch_end\u001b[0m:\u001b[36m63\u001b[0m - \u001b[1mval_sp: 0.9888 (fa:0.0128, pd:0.9904), patience: 5\u001b[0m\n"
     ]
    },
    {
     "name": "stdout",
     "output_type": "stream",
     "text": [
      "111/111 [==============================] - 0s 2ms/step - loss: 0.0828 - accuracy: 0.9869 - val_loss: 0.1978 - val_accuracy: 0.9860 - max_sp_val: 0.9888 - max_sp_fa_val: 0.0128 - max_sp_pd_val: 0.9904\n",
      "Epoch 37/1000\n",
      "1/1 [==============================] - 0s 11ms/step- loss: 0.0837 - accuracy: 0.98\n"
     ]
    },
    {
     "name": "stderr",
     "output_type": "stream",
     "text": [
      "\u001b[32m2025-04-28 17:02:47.204\u001b[0m | \u001b[1mINFO    \u001b[0m | \u001b[36msrc.callbacks\u001b[0m:\u001b[36mon_epoch_end\u001b[0m:\u001b[36m63\u001b[0m - \u001b[1mval_sp: 0.9888 (fa:0.0128, pd:0.9904), patience: 6\u001b[0m\n"
     ]
    },
    {
     "name": "stdout",
     "output_type": "stream",
     "text": [
      "111/111 [==============================] - 0s 2ms/step - loss: 0.0825 - accuracy: 0.9875 - val_loss: 0.2027 - val_accuracy: 0.9860 - max_sp_val: 0.9888 - max_sp_fa_val: 0.0128 - max_sp_pd_val: 0.9904\n",
      "Epoch 38/1000\n",
      "1/1 [==============================] - 0s 10ms/step- loss: 0.0816 - accuracy: 0.98\n"
     ]
    },
    {
     "name": "stderr",
     "output_type": "stream",
     "text": [
      "\u001b[32m2025-04-28 17:02:47.455\u001b[0m | \u001b[1mINFO    \u001b[0m | \u001b[36msrc.callbacks\u001b[0m:\u001b[36mon_epoch_end\u001b[0m:\u001b[36m63\u001b[0m - \u001b[1mval_sp: 0.9888 (fa:0.0128, pd:0.9904), patience: 7\u001b[0m\n"
     ]
    },
    {
     "name": "stdout",
     "output_type": "stream",
     "text": [
      "111/111 [==============================] - 0s 2ms/step - loss: 0.0821 - accuracy: 0.9879 - val_loss: 0.2028 - val_accuracy: 0.9847 - max_sp_val: 0.9888 - max_sp_fa_val: 0.0128 - max_sp_pd_val: 0.9904\n",
      "Epoch 39/1000\n",
      "1/1 [==============================] - 0s 10ms/step- loss: 0.0841 - accuracy: 0.98\n"
     ]
    },
    {
     "name": "stderr",
     "output_type": "stream",
     "text": [
      "\u001b[32m2025-04-28 17:02:47.709\u001b[0m | \u001b[1mINFO    \u001b[0m | \u001b[36msrc.callbacks\u001b[0m:\u001b[36mon_epoch_end\u001b[0m:\u001b[36m63\u001b[0m - \u001b[1mval_sp: 0.9888 (fa:0.0128, pd:0.9904), patience: 8\u001b[0m\n"
     ]
    },
    {
     "name": "stdout",
     "output_type": "stream",
     "text": [
      "111/111 [==============================] - 0s 2ms/step - loss: 0.0819 - accuracy: 0.9874 - val_loss: 0.2052 - val_accuracy: 0.9834 - max_sp_val: 0.9888 - max_sp_fa_val: 0.0128 - max_sp_pd_val: 0.9904\n",
      "Epoch 40/1000\n",
      "1/1 [==============================] - 0s 10ms/step- loss: 0.0759 - accuracy: 0.98\n"
     ]
    },
    {
     "name": "stderr",
     "output_type": "stream",
     "text": [
      "\u001b[32m2025-04-28 17:02:47.961\u001b[0m | \u001b[1mINFO    \u001b[0m | \u001b[36msrc.callbacks\u001b[0m:\u001b[36mon_epoch_end\u001b[0m:\u001b[36m63\u001b[0m - \u001b[1mval_sp: 0.9888 (fa:0.0128, pd:0.9904), patience: 9\u001b[0m\n"
     ]
    },
    {
     "name": "stdout",
     "output_type": "stream",
     "text": [
      "111/111 [==============================] - 0s 2ms/step - loss: 0.0810 - accuracy: 0.9874 - val_loss: 0.2121 - val_accuracy: 0.9872 - max_sp_val: 0.9888 - max_sp_fa_val: 0.0128 - max_sp_pd_val: 0.9904\n",
      "Epoch 41/1000\n",
      "1/1 [==============================] - 0s 11ms/step- loss: 0.0744 - accuracy: 0.98\n"
     ]
    },
    {
     "name": "stderr",
     "output_type": "stream",
     "text": [
      "\u001b[32m2025-04-28 17:02:48.220\u001b[0m | \u001b[1mINFO    \u001b[0m | \u001b[36msrc.callbacks\u001b[0m:\u001b[36mon_epoch_end\u001b[0m:\u001b[36m63\u001b[0m - \u001b[1mval_sp: 0.9888 (fa:0.0128, pd:0.9904), patience: 10\u001b[0m\n"
     ]
    },
    {
     "name": "stdout",
     "output_type": "stream",
     "text": [
      "111/111 [==============================] - 0s 2ms/step - loss: 0.0806 - accuracy: 0.9871 - val_loss: 0.2128 - val_accuracy: 0.9834 - max_sp_val: 0.9888 - max_sp_fa_val: 0.0128 - max_sp_pd_val: 0.9904\n",
      "Epoch 42/1000\n",
      "1/1 [==============================] - 0s 11ms/step- loss: 0.0826 - accuracy: 0.98\n"
     ]
    },
    {
     "name": "stderr",
     "output_type": "stream",
     "text": [
      "\u001b[32m2025-04-28 17:02:48.483\u001b[0m | \u001b[1mINFO    \u001b[0m | \u001b[36msrc.callbacks\u001b[0m:\u001b[36mon_epoch_end\u001b[0m:\u001b[36m63\u001b[0m - \u001b[1mval_sp: 0.9888 (fa:0.0128, pd:0.9904), patience: 11\u001b[0m\n"
     ]
    },
    {
     "name": "stdout",
     "output_type": "stream",
     "text": [
      "111/111 [==============================] - 0s 2ms/step - loss: 0.0797 - accuracy: 0.9872 - val_loss: 0.2164 - val_accuracy: 0.9860 - max_sp_val: 0.9888 - max_sp_fa_val: 0.0128 - max_sp_pd_val: 0.9904\n",
      "Epoch 43/1000\n",
      "1/1 [==============================] - 0s 11ms/step- loss: 0.0833 - accuracy: 0.98\n"
     ]
    },
    {
     "name": "stderr",
     "output_type": "stream",
     "text": [
      "\u001b[32m2025-04-28 17:02:48.749\u001b[0m | \u001b[1mINFO    \u001b[0m | \u001b[36msrc.callbacks\u001b[0m:\u001b[36mon_epoch_end\u001b[0m:\u001b[36m63\u001b[0m - \u001b[1mval_sp: 0.9888 (fa:0.0128, pd:0.9904), patience: 12\u001b[0m\n"
     ]
    },
    {
     "name": "stdout",
     "output_type": "stream",
     "text": [
      "111/111 [==============================] - 0s 2ms/step - loss: 0.0797 - accuracy: 0.9872 - val_loss: 0.2202 - val_accuracy: 0.9860 - max_sp_val: 0.9888 - max_sp_fa_val: 0.0128 - max_sp_pd_val: 0.9904\n",
      "Epoch 44/1000\n",
      "1/1 [==============================] - 0s 10ms/step- loss: 0.0732 - accuracy: 0.98\n"
     ]
    },
    {
     "name": "stderr",
     "output_type": "stream",
     "text": [
      "\u001b[32m2025-04-28 17:02:49.008\u001b[0m | \u001b[1mINFO    \u001b[0m | \u001b[36msrc.callbacks\u001b[0m:\u001b[36mon_epoch_end\u001b[0m:\u001b[36m63\u001b[0m - \u001b[1mval_sp: 0.9888 (fa:0.0128, pd:0.9904), patience: 13\u001b[0m\n"
     ]
    },
    {
     "name": "stdout",
     "output_type": "stream",
     "text": [
      "111/111 [==============================] - 0s 2ms/step - loss: 0.0788 - accuracy: 0.9877 - val_loss: 0.2273 - val_accuracy: 0.9885 - max_sp_val: 0.9888 - max_sp_fa_val: 0.0128 - max_sp_pd_val: 0.9904\n",
      "Epoch 45/1000\n",
      "1/1 [==============================] - 0s 10ms/step- loss: 0.0707 - accuracy: 0.98\n"
     ]
    },
    {
     "name": "stderr",
     "output_type": "stream",
     "text": [
      "\u001b[32m2025-04-28 17:02:49.261\u001b[0m | \u001b[1mINFO    \u001b[0m | \u001b[36msrc.callbacks\u001b[0m:\u001b[36mon_epoch_end\u001b[0m:\u001b[36m63\u001b[0m - \u001b[1mval_sp: 0.9888 (fa:0.0128, pd:0.9904), patience: 14\u001b[0m\n"
     ]
    },
    {
     "name": "stdout",
     "output_type": "stream",
     "text": [
      "111/111 [==============================] - 0s 2ms/step - loss: 0.0783 - accuracy: 0.9879 - val_loss: 0.2260 - val_accuracy: 0.9834 - max_sp_val: 0.9888 - max_sp_fa_val: 0.0128 - max_sp_pd_val: 0.9904\n",
      "Epoch 46/1000\n",
      "1/1 [==============================] - 0s 10ms/step- loss: 0.0807 - accuracy: 0.98\n"
     ]
    },
    {
     "name": "stderr",
     "output_type": "stream",
     "text": [
      "\u001b[32m2025-04-28 17:02:49.518\u001b[0m | \u001b[1mINFO    \u001b[0m | \u001b[36msrc.callbacks\u001b[0m:\u001b[36mon_epoch_end\u001b[0m:\u001b[36m63\u001b[0m - \u001b[1mval_sp: 0.9888 (fa:0.0128, pd:0.9904), patience: 15\u001b[0m\n"
     ]
    },
    {
     "name": "stdout",
     "output_type": "stream",
     "text": [
      "111/111 [==============================] - 0s 2ms/step - loss: 0.0779 - accuracy: 0.9881 - val_loss: 0.2302 - val_accuracy: 0.9860 - max_sp_val: 0.9888 - max_sp_fa_val: 0.0128 - max_sp_pd_val: 0.9904\n",
      "Epoch 47/1000\n",
      "1/1 [==============================] - 0s 10ms/step- loss: 0.0780 - accuracy: 0.98\n"
     ]
    },
    {
     "name": "stderr",
     "output_type": "stream",
     "text": [
      "\u001b[32m2025-04-28 17:02:49.780\u001b[0m | \u001b[1mINFO    \u001b[0m | \u001b[36msrc.callbacks\u001b[0m:\u001b[36mon_epoch_end\u001b[0m:\u001b[36m63\u001b[0m - \u001b[1mval_sp: 0.9883 (fa:0.0107, pd:0.9873), patience: 16\u001b[0m\n"
     ]
    },
    {
     "name": "stdout",
     "output_type": "stream",
     "text": [
      "111/111 [==============================] - 0s 2ms/step - loss: 0.0780 - accuracy: 0.9882 - val_loss: 0.2360 - val_accuracy: 0.9885 - max_sp_val: 0.9883 - max_sp_fa_val: 0.0107 - max_sp_pd_val: 0.9873\n",
      "Epoch 48/1000\n",
      "1/1 [==============================] - 0s 10ms/step- loss: 0.0802 - accuracy: 0.98\n"
     ]
    },
    {
     "name": "stderr",
     "output_type": "stream",
     "text": [
      "\u001b[32m2025-04-28 17:02:50.047\u001b[0m | \u001b[1mINFO    \u001b[0m | \u001b[36msrc.callbacks\u001b[0m:\u001b[36mon_epoch_end\u001b[0m:\u001b[36m63\u001b[0m - \u001b[1mval_sp: 0.9883 (fa:0.0107, pd:0.9873), patience: 17\u001b[0m\n"
     ]
    },
    {
     "name": "stdout",
     "output_type": "stream",
     "text": [
      "111/111 [==============================] - 0s 2ms/step - loss: 0.0773 - accuracy: 0.9881 - val_loss: 0.2370 - val_accuracy: 0.9860 - max_sp_val: 0.9883 - max_sp_fa_val: 0.0107 - max_sp_pd_val: 0.9873\n",
      "Epoch 49/1000\n",
      "1/1 [==============================] - 0s 11ms/step- loss: 0.0699 - accuracy: 0.98\n"
     ]
    },
    {
     "name": "stderr",
     "output_type": "stream",
     "text": [
      "\u001b[32m2025-04-28 17:02:50.304\u001b[0m | \u001b[1mINFO    \u001b[0m | \u001b[36msrc.callbacks\u001b[0m:\u001b[36mon_epoch_end\u001b[0m:\u001b[36m63\u001b[0m - \u001b[1mval_sp: 0.9883 (fa:0.0107, pd:0.9873), patience: 18\u001b[0m\n"
     ]
    },
    {
     "name": "stdout",
     "output_type": "stream",
     "text": [
      "111/111 [==============================] - 0s 2ms/step - loss: 0.0773 - accuracy: 0.9888 - val_loss: 0.2431 - val_accuracy: 0.9885 - max_sp_val: 0.9883 - max_sp_fa_val: 0.0107 - max_sp_pd_val: 0.9873\n",
      "Epoch 50/1000\n",
      "1/1 [==============================] - 0s 10ms/step- loss: 0.0782 - accuracy: 0.98\n"
     ]
    },
    {
     "name": "stderr",
     "output_type": "stream",
     "text": [
      "\u001b[32m2025-04-28 17:02:50.562\u001b[0m | \u001b[1mINFO    \u001b[0m | \u001b[36msrc.callbacks\u001b[0m:\u001b[36mon_epoch_end\u001b[0m:\u001b[36m63\u001b[0m - \u001b[1mval_sp: 0.9883 (fa:0.0107, pd:0.9873), patience: 19\u001b[0m\n"
     ]
    },
    {
     "name": "stdout",
     "output_type": "stream",
     "text": [
      "111/111 [==============================] - 0s 2ms/step - loss: 0.0770 - accuracy: 0.9885 - val_loss: 0.2430 - val_accuracy: 0.9834 - max_sp_val: 0.9883 - max_sp_fa_val: 0.0107 - max_sp_pd_val: 0.9873\n",
      "Epoch 51/1000\n",
      "1/1 [==============================] - 0s 10ms/step- loss: 0.0782 - accuracy: 0.98\n"
     ]
    },
    {
     "name": "stderr",
     "output_type": "stream",
     "text": [
      "\u001b[32m2025-04-28 17:02:50.815\u001b[0m | \u001b[1mINFO    \u001b[0m | \u001b[36msrc.callbacks\u001b[0m:\u001b[36mon_epoch_end\u001b[0m:\u001b[36m63\u001b[0m - \u001b[1mval_sp: 0.9883 (fa:0.0107, pd:0.9873), patience: 20\u001b[0m\n"
     ]
    },
    {
     "name": "stdout",
     "output_type": "stream",
     "text": [
      "111/111 [==============================] - 0s 2ms/step - loss: 0.0765 - accuracy: 0.9881 - val_loss: 0.2480 - val_accuracy: 0.9885 - max_sp_val: 0.9883 - max_sp_fa_val: 0.0107 - max_sp_pd_val: 0.9873\n",
      "Epoch 52/1000\n",
      "1/1 [==============================] - 0s 10ms/step- loss: 0.0760 - accuracy: 0.98\n"
     ]
    },
    {
     "name": "stderr",
     "output_type": "stream",
     "text": [
      "\u001b[32m2025-04-28 17:02:51.077\u001b[0m | \u001b[1mINFO    \u001b[0m | \u001b[36msrc.callbacks\u001b[0m:\u001b[36mon_epoch_end\u001b[0m:\u001b[36m63\u001b[0m - \u001b[1mval_sp: 0.9883 (fa:0.0107, pd:0.9873), patience: 21\u001b[0m\n"
     ]
    },
    {
     "name": "stdout",
     "output_type": "stream",
     "text": [
      "111/111 [==============================] - 0s 2ms/step - loss: 0.0766 - accuracy: 0.9885 - val_loss: 0.2507 - val_accuracy: 0.9872 - max_sp_val: 0.9883 - max_sp_fa_val: 0.0107 - max_sp_pd_val: 0.9873\n",
      "Epoch 53/1000\n",
      "1/1 [==============================] - 0s 10ms/step- loss: 0.0779 - accuracy: 0.98\n"
     ]
    },
    {
     "name": "stderr",
     "output_type": "stream",
     "text": [
      "\u001b[32m2025-04-28 17:02:51.331\u001b[0m | \u001b[1mINFO    \u001b[0m | \u001b[36msrc.callbacks\u001b[0m:\u001b[36mon_epoch_end\u001b[0m:\u001b[36m63\u001b[0m - \u001b[1mval_sp: 0.9883 (fa:0.0107, pd:0.9873), patience: 22\u001b[0m\n"
     ]
    },
    {
     "name": "stdout",
     "output_type": "stream",
     "text": [
      "111/111 [==============================] - 0s 2ms/step - loss: 0.0763 - accuracy: 0.9882 - val_loss: 0.2533 - val_accuracy: 0.9847 - max_sp_val: 0.9883 - max_sp_fa_val: 0.0107 - max_sp_pd_val: 0.9873\n",
      "Epoch 54/1000\n",
      "1/1 [==============================] - 0s 10ms/step- loss: 0.0794 - accuracy: 0.98\n"
     ]
    },
    {
     "name": "stderr",
     "output_type": "stream",
     "text": [
      "\u001b[32m2025-04-28 17:02:51.586\u001b[0m | \u001b[1mINFO    \u001b[0m | \u001b[36msrc.callbacks\u001b[0m:\u001b[36mon_epoch_end\u001b[0m:\u001b[36m63\u001b[0m - \u001b[1mval_sp: 0.9883 (fa:0.0107, pd:0.9873), patience: 23\u001b[0m\n"
     ]
    },
    {
     "name": "stdout",
     "output_type": "stream",
     "text": [
      "111/111 [==============================] - 0s 2ms/step - loss: 0.0760 - accuracy: 0.9885 - val_loss: 0.2567 - val_accuracy: 0.9847 - max_sp_val: 0.9883 - max_sp_fa_val: 0.0107 - max_sp_pd_val: 0.9873\n",
      "Epoch 55/1000\n",
      "1/1 [==============================] - 0s 10ms/step- loss: 0.0747 - accuracy: 0.98\n"
     ]
    },
    {
     "name": "stderr",
     "output_type": "stream",
     "text": [
      "\u001b[32m2025-04-28 17:02:51.849\u001b[0m | \u001b[1mINFO    \u001b[0m | \u001b[36msrc.callbacks\u001b[0m:\u001b[36mon_epoch_end\u001b[0m:\u001b[36m63\u001b[0m - \u001b[1mval_sp: 0.9883 (fa:0.0107, pd:0.9873), patience: 24\u001b[0m\n"
     ]
    },
    {
     "name": "stdout",
     "output_type": "stream",
     "text": [
      "111/111 [==============================] - 0s 2ms/step - loss: 0.0756 - accuracy: 0.9889 - val_loss: 0.2591 - val_accuracy: 0.9834 - max_sp_val: 0.9883 - max_sp_fa_val: 0.0107 - max_sp_pd_val: 0.9873\n",
      "Epoch 56/1000\n",
      "1/1 [==============================] - 0s 10ms/step- loss: 0.0697 - accuracy: 0.98\n"
     ]
    },
    {
     "name": "stderr",
     "output_type": "stream",
     "text": [
      "\u001b[32m2025-04-28 17:02:52.113\u001b[0m | \u001b[1mINFO    \u001b[0m | \u001b[36msrc.callbacks\u001b[0m:\u001b[36mon_epoch_end\u001b[0m:\u001b[36m63\u001b[0m - \u001b[1mval_sp: 0.9883 (fa:0.0107, pd:0.9873), patience: 25\u001b[0m\n"
     ]
    },
    {
     "name": "stdout",
     "output_type": "stream",
     "text": [
      "111/111 [==============================] - 0s 2ms/step - loss: 0.0748 - accuracy: 0.9886 - val_loss: 0.2634 - val_accuracy: 0.9847 - max_sp_val: 0.9883 - max_sp_fa_val: 0.0107 - max_sp_pd_val: 0.9873\n",
      "Epoch 57/1000\n",
      "1/1 [==============================] - 0s 10ms/step- loss: 0.0763 - accuracy: 0.98\n"
     ]
    },
    {
     "name": "stderr",
     "output_type": "stream",
     "text": [
      "\u001b[32m2025-04-28 17:02:52.368\u001b[0m | \u001b[1mINFO    \u001b[0m | \u001b[36msrc.callbacks\u001b[0m:\u001b[36mon_epoch_end\u001b[0m:\u001b[36m63\u001b[0m - \u001b[1mval_sp: 0.9883 (fa:0.0107, pd:0.9873), patience: 26\u001b[0m\n"
     ]
    },
    {
     "name": "stdout",
     "output_type": "stream",
     "text": [
      "111/111 [==============================] - 0s 2ms/step - loss: 0.0742 - accuracy: 0.9884 - val_loss: 0.2671 - val_accuracy: 0.9872 - max_sp_val: 0.9883 - max_sp_fa_val: 0.0107 - max_sp_pd_val: 0.9873\n",
      "Epoch 58/1000\n",
      "1/1 [==============================] - 0s 10ms/step- loss: 0.0718 - accuracy: 0.99\n"
     ]
    },
    {
     "name": "stderr",
     "output_type": "stream",
     "text": [
      "\u001b[32m2025-04-28 17:02:52.630\u001b[0m | \u001b[1mINFO    \u001b[0m | \u001b[36msrc.callbacks\u001b[0m:\u001b[36mon_epoch_end\u001b[0m:\u001b[36m63\u001b[0m - \u001b[1mval_sp: 0.9883 (fa:0.0107, pd:0.9873), patience: 27\u001b[0m\n"
     ]
    },
    {
     "name": "stdout",
     "output_type": "stream",
     "text": [
      "111/111 [==============================] - 0s 2ms/step - loss: 0.0747 - accuracy: 0.9891 - val_loss: 0.2705 - val_accuracy: 0.9872 - max_sp_val: 0.9883 - max_sp_fa_val: 0.0107 - max_sp_pd_val: 0.9873\n",
      "Epoch 59/1000\n",
      "1/1 [==============================] - 0s 11ms/step- loss: 0.0778 - accuracy: 0.98\n"
     ]
    },
    {
     "name": "stderr",
     "output_type": "stream",
     "text": [
      "\u001b[32m2025-04-28 17:02:52.886\u001b[0m | \u001b[1mINFO    \u001b[0m | \u001b[36msrc.callbacks\u001b[0m:\u001b[36mon_epoch_end\u001b[0m:\u001b[36m63\u001b[0m - \u001b[1mval_sp: 0.9883 (fa:0.0107, pd:0.9873), patience: 28\u001b[0m\n"
     ]
    },
    {
     "name": "stdout",
     "output_type": "stream",
     "text": [
      "111/111 [==============================] - 0s 2ms/step - loss: 0.0738 - accuracy: 0.9892 - val_loss: 0.2739 - val_accuracy: 0.9872 - max_sp_val: 0.9883 - max_sp_fa_val: 0.0107 - max_sp_pd_val: 0.9873\n",
      "Epoch 60/1000\n",
      "1/1 [==============================] - 0s 10ms/step- loss: 0.0753 - accuracy: 0.98\n"
     ]
    },
    {
     "name": "stderr",
     "output_type": "stream",
     "text": [
      "\u001b[32m2025-04-28 17:02:53.148\u001b[0m | \u001b[1mINFO    \u001b[0m | \u001b[36msrc.callbacks\u001b[0m:\u001b[36mon_epoch_end\u001b[0m:\u001b[36m63\u001b[0m - \u001b[1mval_sp: 0.9883 (fa:0.0107, pd:0.9873), patience: 29\u001b[0m\n"
     ]
    },
    {
     "name": "stdout",
     "output_type": "stream",
     "text": [
      "111/111 [==============================] - 0s 2ms/step - loss: 0.0740 - accuracy: 0.9889 - val_loss: 0.2798 - val_accuracy: 0.9885 - max_sp_val: 0.9883 - max_sp_fa_val: 0.0107 - max_sp_pd_val: 0.9873\n",
      "Epoch 61/1000\n",
      "1/1 [==============================] - 0s 11ms/step- loss: 0.0766 - accuracy: 0.98\n"
     ]
    },
    {
     "name": "stderr",
     "output_type": "stream",
     "text": [
      "\u001b[32m2025-04-28 17:02:53.412\u001b[0m | \u001b[1mINFO    \u001b[0m | \u001b[36msrc.callbacks\u001b[0m:\u001b[36mon_epoch_end\u001b[0m:\u001b[36m63\u001b[0m - \u001b[1mval_sp: 0.9883 (fa:0.0107, pd:0.9873), patience: 30\u001b[0m\n"
     ]
    },
    {
     "name": "stdout",
     "output_type": "stream",
     "text": [
      "111/111 [==============================] - 0s 2ms/step - loss: 0.0732 - accuracy: 0.9891 - val_loss: 0.2811 - val_accuracy: 0.9885 - max_sp_val: 0.9883 - max_sp_fa_val: 0.0107 - max_sp_pd_val: 0.9873\n",
      "Epoch 62/1000\n",
      "1/1 [==============================] - 0s 12ms/step- loss: 0.0738 - accuracy: 0.98\n"
     ]
    },
    {
     "name": "stderr",
     "output_type": "stream",
     "text": [
      "\u001b[32m2025-04-28 17:02:53.673\u001b[0m | \u001b[1mINFO    \u001b[0m | \u001b[36msrc.callbacks\u001b[0m:\u001b[36mon_epoch_end\u001b[0m:\u001b[36m63\u001b[0m - \u001b[1mval_sp: 0.9883 (fa:0.0107, pd:0.9873), patience: 31\u001b[0m\n"
     ]
    },
    {
     "name": "stdout",
     "output_type": "stream",
     "text": [
      "111/111 [==============================] - 0s 2ms/step - loss: 0.0731 - accuracy: 0.9894 - val_loss: 0.2873 - val_accuracy: 0.9885 - max_sp_val: 0.9883 - max_sp_fa_val: 0.0107 - max_sp_pd_val: 0.9873\n",
      "Epoch 63/1000\n",
      "1/1 [==============================] - 0s 11ms/step- loss: 0.0772 - accuracy: 0.98\n"
     ]
    },
    {
     "name": "stderr",
     "output_type": "stream",
     "text": [
      "\u001b[32m2025-04-28 17:02:53.937\u001b[0m | \u001b[1mINFO    \u001b[0m | \u001b[36msrc.callbacks\u001b[0m:\u001b[36mon_epoch_end\u001b[0m:\u001b[36m63\u001b[0m - \u001b[1mval_sp: 0.9883 (fa:0.0107, pd:0.9873), patience: 32\u001b[0m\n"
     ]
    },
    {
     "name": "stdout",
     "output_type": "stream",
     "text": [
      "111/111 [==============================] - 0s 2ms/step - loss: 0.0731 - accuracy: 0.9891 - val_loss: 0.2895 - val_accuracy: 0.9885 - max_sp_val: 0.9883 - max_sp_fa_val: 0.0107 - max_sp_pd_val: 0.9873\n",
      "Epoch 64/1000\n",
      "1/1 [==============================] - 0s 11ms/step- loss: 0.0769 - accuracy: 0.98\n"
     ]
    },
    {
     "name": "stderr",
     "output_type": "stream",
     "text": [
      "\u001b[32m2025-04-28 17:02:54.192\u001b[0m | \u001b[1mINFO    \u001b[0m | \u001b[36msrc.callbacks\u001b[0m:\u001b[36mon_epoch_end\u001b[0m:\u001b[36m63\u001b[0m - \u001b[1mval_sp: 0.9883 (fa:0.0107, pd:0.9873), patience: 33\u001b[0m\n"
     ]
    },
    {
     "name": "stdout",
     "output_type": "stream",
     "text": [
      "111/111 [==============================] - 0s 2ms/step - loss: 0.0728 - accuracy: 0.9889 - val_loss: 0.2907 - val_accuracy: 0.9885 - max_sp_val: 0.9883 - max_sp_fa_val: 0.0107 - max_sp_pd_val: 0.9873\n",
      "Epoch 65/1000\n",
      "1/1 [==============================] - 0s 10ms/step- loss: 0.0752 - accuracy: 0.98\n"
     ]
    },
    {
     "name": "stderr",
     "output_type": "stream",
     "text": [
      "\u001b[32m2025-04-28 17:02:54.458\u001b[0m | \u001b[1mINFO    \u001b[0m | \u001b[36msrc.callbacks\u001b[0m:\u001b[36mon_epoch_end\u001b[0m:\u001b[36m63\u001b[0m - \u001b[1mval_sp: 0.9883 (fa:0.0107, pd:0.9873), patience: 34\u001b[0m\n"
     ]
    },
    {
     "name": "stdout",
     "output_type": "stream",
     "text": [
      "111/111 [==============================] - 0s 2ms/step - loss: 0.0730 - accuracy: 0.9895 - val_loss: 0.2939 - val_accuracy: 0.9885 - max_sp_val: 0.9883 - max_sp_fa_val: 0.0107 - max_sp_pd_val: 0.9873\n",
      "Epoch 66/1000\n",
      "1/1 [==============================] - 0s 10ms/step- loss: 0.0749 - accuracy: 0.98\n"
     ]
    },
    {
     "name": "stderr",
     "output_type": "stream",
     "text": [
      "\u001b[32m2025-04-28 17:02:54.713\u001b[0m | \u001b[1mINFO    \u001b[0m | \u001b[36msrc.callbacks\u001b[0m:\u001b[36mon_epoch_end\u001b[0m:\u001b[36m63\u001b[0m - \u001b[1mval_sp: 0.9883 (fa:0.0107, pd:0.9873), patience: 35\u001b[0m\n"
     ]
    },
    {
     "name": "stdout",
     "output_type": "stream",
     "text": [
      "111/111 [==============================] - 0s 2ms/step - loss: 0.0727 - accuracy: 0.9891 - val_loss: 0.2972 - val_accuracy: 0.9885 - max_sp_val: 0.9883 - max_sp_fa_val: 0.0107 - max_sp_pd_val: 0.9873\n",
      "Epoch 67/1000\n",
      "1/1 [==============================] - 0s 10ms/step- loss: 0.0744 - accuracy: 0.98\n"
     ]
    },
    {
     "name": "stderr",
     "output_type": "stream",
     "text": [
      "\u001b[32m2025-04-28 17:02:54.972\u001b[0m | \u001b[1mINFO    \u001b[0m | \u001b[36msrc.callbacks\u001b[0m:\u001b[36mon_epoch_end\u001b[0m:\u001b[36m63\u001b[0m - \u001b[1mval_sp: 0.9883 (fa:0.0107, pd:0.9873), patience: 36\u001b[0m\n"
     ]
    },
    {
     "name": "stdout",
     "output_type": "stream",
     "text": [
      "111/111 [==============================] - 0s 2ms/step - loss: 0.0727 - accuracy: 0.9896 - val_loss: 0.3007 - val_accuracy: 0.9885 - max_sp_val: 0.9883 - max_sp_fa_val: 0.0107 - max_sp_pd_val: 0.9873\n",
      "Epoch 68/1000\n",
      "1/1 [==============================] - 0s 11ms/step- loss: 0.0737 - accuracy: 0.98\n"
     ]
    },
    {
     "name": "stderr",
     "output_type": "stream",
     "text": [
      "\u001b[32m2025-04-28 17:02:55.234\u001b[0m | \u001b[1mINFO    \u001b[0m | \u001b[36msrc.callbacks\u001b[0m:\u001b[36mon_epoch_end\u001b[0m:\u001b[36m63\u001b[0m - \u001b[1mval_sp: 0.9883 (fa:0.0107, pd:0.9873), patience: 37\u001b[0m\n"
     ]
    },
    {
     "name": "stdout",
     "output_type": "stream",
     "text": [
      "111/111 [==============================] - 0s 2ms/step - loss: 0.0721 - accuracy: 0.9895 - val_loss: 0.3054 - val_accuracy: 0.9885 - max_sp_val: 0.9883 - max_sp_fa_val: 0.0107 - max_sp_pd_val: 0.9873\n",
      "Epoch 69/1000\n",
      "1/1 [==============================] - 0s 11ms/step- loss: 0.0745 - accuracy: 0.98\n"
     ]
    },
    {
     "name": "stderr",
     "output_type": "stream",
     "text": [
      "\u001b[32m2025-04-28 17:02:55.501\u001b[0m | \u001b[1mINFO    \u001b[0m | \u001b[36msrc.callbacks\u001b[0m:\u001b[36mon_epoch_end\u001b[0m:\u001b[36m63\u001b[0m - \u001b[1mval_sp: 0.9883 (fa:0.0107, pd:0.9873), patience: 38\u001b[0m\n"
     ]
    },
    {
     "name": "stdout",
     "output_type": "stream",
     "text": [
      "111/111 [==============================] - 0s 2ms/step - loss: 0.0716 - accuracy: 0.9886 - val_loss: 0.3071 - val_accuracy: 0.9885 - max_sp_val: 0.9883 - max_sp_fa_val: 0.0107 - max_sp_pd_val: 0.9873\n",
      "Epoch 70/1000\n",
      "1/1 [==============================] - 0s 11ms/step- loss: 0.0733 - accuracy: 0.98\n"
     ]
    },
    {
     "name": "stderr",
     "output_type": "stream",
     "text": [
      "\u001b[32m2025-04-28 17:02:55.764\u001b[0m | \u001b[1mINFO    \u001b[0m | \u001b[36msrc.callbacks\u001b[0m:\u001b[36mon_epoch_end\u001b[0m:\u001b[36m63\u001b[0m - \u001b[1mval_sp: 0.9883 (fa:0.0107, pd:0.9873), patience: 39\u001b[0m\n"
     ]
    },
    {
     "name": "stdout",
     "output_type": "stream",
     "text": [
      "111/111 [==============================] - 0s 2ms/step - loss: 0.0714 - accuracy: 0.9892 - val_loss: 0.3122 - val_accuracy: 0.9885 - max_sp_val: 0.9883 - max_sp_fa_val: 0.0107 - max_sp_pd_val: 0.9873\n",
      "Epoch 71/1000\n",
      "1/1 [==============================] - 0s 10ms/step- loss: 0.0731 - accuracy: 0.98\n"
     ]
    },
    {
     "name": "stderr",
     "output_type": "stream",
     "text": [
      "\u001b[32m2025-04-28 17:02:56.026\u001b[0m | \u001b[1mINFO    \u001b[0m | \u001b[36msrc.callbacks\u001b[0m:\u001b[36mon_epoch_end\u001b[0m:\u001b[36m63\u001b[0m - \u001b[1mval_sp: 0.9883 (fa:0.0107, pd:0.9873), patience: 40\u001b[0m\n"
     ]
    },
    {
     "name": "stdout",
     "output_type": "stream",
     "text": [
      "111/111 [==============================] - 0s 2ms/step - loss: 0.0717 - accuracy: 0.9886 - val_loss: 0.3129 - val_accuracy: 0.9872 - max_sp_val: 0.9883 - max_sp_fa_val: 0.0107 - max_sp_pd_val: 0.9873\n",
      "Epoch 72/1000\n",
      "1/1 [==============================] - 0s 10ms/step- loss: 0.0742 - accuracy: 0.98\n"
     ]
    },
    {
     "name": "stderr",
     "output_type": "stream",
     "text": [
      "\u001b[32m2025-04-28 17:02:56.281\u001b[0m | \u001b[1mINFO    \u001b[0m | \u001b[36msrc.callbacks\u001b[0m:\u001b[36mon_epoch_end\u001b[0m:\u001b[36m63\u001b[0m - \u001b[1mval_sp: 0.9883 (fa:0.0107, pd:0.9873), patience: 41\u001b[0m\n"
     ]
    },
    {
     "name": "stdout",
     "output_type": "stream",
     "text": [
      "111/111 [==============================] - 0s 2ms/step - loss: 0.0709 - accuracy: 0.9895 - val_loss: 0.3155 - val_accuracy: 0.9872 - max_sp_val: 0.9883 - max_sp_fa_val: 0.0107 - max_sp_pd_val: 0.9873\n",
      "Epoch 73/1000\n",
      "1/1 [==============================] - 0s 11ms/step- loss: 0.0728 - accuracy: 0.98\n"
     ]
    },
    {
     "name": "stderr",
     "output_type": "stream",
     "text": [
      "\u001b[32m2025-04-28 17:02:56.537\u001b[0m | \u001b[1mINFO    \u001b[0m | \u001b[36msrc.callbacks\u001b[0m:\u001b[36mon_epoch_end\u001b[0m:\u001b[36m63\u001b[0m - \u001b[1mval_sp: 0.9883 (fa:0.0107, pd:0.9873), patience: 42\u001b[0m\n"
     ]
    },
    {
     "name": "stdout",
     "output_type": "stream",
     "text": [
      "111/111 [==============================] - 0s 2ms/step - loss: 0.0708 - accuracy: 0.9892 - val_loss: 0.3201 - val_accuracy: 0.9885 - max_sp_val: 0.9883 - max_sp_fa_val: 0.0107 - max_sp_pd_val: 0.9873\n",
      "Epoch 74/1000\n",
      "1/1 [==============================] - 0s 10ms/step- loss: 0.0723 - accuracy: 0.98\n"
     ]
    },
    {
     "name": "stderr",
     "output_type": "stream",
     "text": [
      "\u001b[32m2025-04-28 17:02:56.792\u001b[0m | \u001b[1mINFO    \u001b[0m | \u001b[36msrc.callbacks\u001b[0m:\u001b[36mon_epoch_end\u001b[0m:\u001b[36m63\u001b[0m - \u001b[1mval_sp: 0.9883 (fa:0.0107, pd:0.9873), patience: 43\u001b[0m\n"
     ]
    },
    {
     "name": "stdout",
     "output_type": "stream",
     "text": [
      "111/111 [==============================] - 0s 2ms/step - loss: 0.0709 - accuracy: 0.9894 - val_loss: 0.3246 - val_accuracy: 0.9885 - max_sp_val: 0.9883 - max_sp_fa_val: 0.0107 - max_sp_pd_val: 0.9873\n",
      "Epoch 75/1000\n",
      "1/1 [==============================] - 0s 10ms/step- loss: 0.0721 - accuracy: 0.98\n"
     ]
    },
    {
     "name": "stderr",
     "output_type": "stream",
     "text": [
      "\u001b[32m2025-04-28 17:02:57.051\u001b[0m | \u001b[1mINFO    \u001b[0m | \u001b[36msrc.callbacks\u001b[0m:\u001b[36mon_epoch_end\u001b[0m:\u001b[36m63\u001b[0m - \u001b[1mval_sp: 0.9883 (fa:0.0107, pd:0.9873), patience: 44\u001b[0m\n"
     ]
    },
    {
     "name": "stdout",
     "output_type": "stream",
     "text": [
      "111/111 [==============================] - 0s 2ms/step - loss: 0.0708 - accuracy: 0.9898 - val_loss: 0.3247 - val_accuracy: 0.9872 - max_sp_val: 0.9883 - max_sp_fa_val: 0.0107 - max_sp_pd_val: 0.9873\n",
      "Epoch 76/1000\n",
      "1/1 [==============================] - 0s 10ms/step- loss: 0.0625 - accuracy: 0.99\n"
     ]
    },
    {
     "name": "stderr",
     "output_type": "stream",
     "text": [
      "\u001b[32m2025-04-28 17:02:57.311\u001b[0m | \u001b[1mINFO    \u001b[0m | \u001b[36msrc.callbacks\u001b[0m:\u001b[36mon_epoch_end\u001b[0m:\u001b[36m63\u001b[0m - \u001b[1mval_sp: 0.9883 (fa:0.0107, pd:0.9873), patience: 45\u001b[0m\n"
     ]
    },
    {
     "name": "stdout",
     "output_type": "stream",
     "text": [
      "111/111 [==============================] - 0s 2ms/step - loss: 0.0702 - accuracy: 0.9895 - val_loss: 0.3293 - val_accuracy: 0.9860 - max_sp_val: 0.9883 - max_sp_fa_val: 0.0107 - max_sp_pd_val: 0.9873\n",
      "Epoch 77/1000\n",
      "1/1 [==============================] - 0s 10ms/step- loss: 0.0724 - accuracy: 0.98\n"
     ]
    },
    {
     "name": "stderr",
     "output_type": "stream",
     "text": [
      "\u001b[32m2025-04-28 17:02:57.567\u001b[0m | \u001b[1mINFO    \u001b[0m | \u001b[36msrc.callbacks\u001b[0m:\u001b[36mon_epoch_end\u001b[0m:\u001b[36m63\u001b[0m - \u001b[1mval_sp: 0.9883 (fa:0.0107, pd:0.9873), patience: 46\u001b[0m\n"
     ]
    },
    {
     "name": "stdout",
     "output_type": "stream",
     "text": [
      "111/111 [==============================] - 0s 2ms/step - loss: 0.0702 - accuracy: 0.9889 - val_loss: 0.3323 - val_accuracy: 0.9885 - max_sp_val: 0.9883 - max_sp_fa_val: 0.0107 - max_sp_pd_val: 0.9873\n",
      "Epoch 78/1000\n",
      "1/1 [==============================] - 0s 10ms/step- loss: 0.0634 - accuracy: 0.98\n"
     ]
    },
    {
     "name": "stderr",
     "output_type": "stream",
     "text": [
      "\u001b[32m2025-04-28 17:02:57.822\u001b[0m | \u001b[1mINFO    \u001b[0m | \u001b[36msrc.callbacks\u001b[0m:\u001b[36mon_epoch_end\u001b[0m:\u001b[36m63\u001b[0m - \u001b[1mval_sp: 0.9883 (fa:0.0107, pd:0.9873), patience: 47\u001b[0m\n"
     ]
    },
    {
     "name": "stdout",
     "output_type": "stream",
     "text": [
      "111/111 [==============================] - 0s 2ms/step - loss: 0.0703 - accuracy: 0.9892 - val_loss: 0.3349 - val_accuracy: 0.9847 - max_sp_val: 0.9883 - max_sp_fa_val: 0.0107 - max_sp_pd_val: 0.9873\n",
      "Epoch 79/1000\n",
      "1/1 [==============================] - 0s 10ms/step- loss: 0.0622 - accuracy: 0.99\n"
     ]
    },
    {
     "name": "stderr",
     "output_type": "stream",
     "text": [
      "\u001b[32m2025-04-28 17:02:58.081\u001b[0m | \u001b[1mINFO    \u001b[0m | \u001b[36msrc.callbacks\u001b[0m:\u001b[36mon_epoch_end\u001b[0m:\u001b[36m63\u001b[0m - \u001b[1mval_sp: 0.9883 (fa:0.0107, pd:0.9873), patience: 48\u001b[0m\n"
     ]
    },
    {
     "name": "stdout",
     "output_type": "stream",
     "text": [
      "111/111 [==============================] - 0s 2ms/step - loss: 0.0700 - accuracy: 0.9895 - val_loss: 0.3373 - val_accuracy: 0.9834 - max_sp_val: 0.9883 - max_sp_fa_val: 0.0107 - max_sp_pd_val: 0.9873\n",
      "Epoch 80/1000\n",
      "1/1 [==============================] - 0s 10ms/step- loss: 0.0692 - accuracy: 0.98\n"
     ]
    },
    {
     "name": "stderr",
     "output_type": "stream",
     "text": [
      "\u001b[32m2025-04-28 17:02:58.338\u001b[0m | \u001b[1mINFO    \u001b[0m | \u001b[36msrc.callbacks\u001b[0m:\u001b[36mon_epoch_end\u001b[0m:\u001b[36m63\u001b[0m - \u001b[1mval_sp: 0.9883 (fa:0.0107, pd:0.9873), patience: 49\u001b[0m\n"
     ]
    },
    {
     "name": "stdout",
     "output_type": "stream",
     "text": [
      "111/111 [==============================] - 0s 2ms/step - loss: 0.0694 - accuracy: 0.9892 - val_loss: 0.3400 - val_accuracy: 0.9872 - max_sp_val: 0.9883 - max_sp_fa_val: 0.0107 - max_sp_pd_val: 0.9873\n",
      "Epoch 81/1000\n",
      "1/1 [==============================] - 0s 10ms/step- loss: 0.0726 - accuracy: 0.98\n"
     ]
    },
    {
     "name": "stderr",
     "output_type": "stream",
     "text": [
      "\u001b[32m2025-04-28 17:02:58.597\u001b[0m | \u001b[1mINFO    \u001b[0m | \u001b[36msrc.callbacks\u001b[0m:\u001b[36mon_epoch_end\u001b[0m:\u001b[36m63\u001b[0m - \u001b[1mval_sp: 0.9883 (fa:0.0107, pd:0.9873), patience: 50\u001b[0m\n",
      "\u001b[32m2025-04-28 17:02:58.597\u001b[0m | \u001b[1mINFO    \u001b[0m | \u001b[36msrc.callbacks\u001b[0m:\u001b[36mon_epoch_end\u001b[0m:\u001b[36m76\u001b[0m - \u001b[1mStopping the Training by SP...\u001b[0m\n"
     ]
    },
    {
     "name": "stdout",
     "output_type": "stream",
     "text": [
      "111/111 [==============================] - 0s 2ms/step - loss: 0.0688 - accuracy: 0.9894 - val_loss: 0.3479 - val_accuracy: 0.9885 - max_sp_val: 0.9883 - max_sp_fa_val: 0.0107 - max_sp_pd_val: 0.9873\n"
     ]
    },
    {
     "name": "stderr",
     "output_type": "stream",
     "text": [
      "\u001b[32m2025-04-28 17:02:58.598\u001b[0m | \u001b[1mINFO    \u001b[0m | \u001b[36msrc.callbacks\u001b[0m:\u001b[36mon_train_end\u001b[0m:\u001b[36m84\u001b[0m - \u001b[1mReload the best configuration into the current model...\u001b[0m\n",
      "\u001b[32m2025-04-28 17:02:58.601\u001b[0m | \u001b[1mINFO    \u001b[0m | \u001b[36msrc.decorators\u001b[0m:\u001b[36m__call__\u001b[0m:\u001b[36m74\u001b[0m - \u001b[1mStarting the train summary...\u001b[0m\n",
      "\u001b[32m2025-04-28 17:02:58.687\u001b[0m | \u001b[1mINFO    \u001b[0m | \u001b[36msrc.decorators\u001b[0m:\u001b[36m__call__\u001b[0m:\u001b[36m101\u001b[0m - \u001b[1mTrain samples : Prob. det (0.9901), False Alarm (0.0132), SP (0.9884)\u001b[0m\n",
      "\u001b[32m2025-04-28 17:02:58.689\u001b[0m | \u001b[1mINFO    \u001b[0m | \u001b[36msrc.decorators\u001b[0m:\u001b[36m__call__\u001b[0m:\u001b[36m118\u001b[0m - \u001b[1mValidation Samples: Prob. det (0.9904), False Alarm (0.0128), SP (0.9888)\u001b[0m\n",
      "\u001b[32m2025-04-28 17:02:58.691\u001b[0m | \u001b[1mINFO    \u001b[0m | \u001b[36msrc.decorators\u001b[0m:\u001b[36m__call__\u001b[0m:\u001b[36m136\u001b[0m - \u001b[1mOperation Samples : Prob. det (0.9901), False Alarm (0.0134), SP (0.9883)\u001b[0m\n"
     ]
    }
   ],
   "source": [
    "skf = StratifiedKFold(n_splits=10, shuffle=True, random_state=512)\n",
    "\n",
    "def geodesic_loss(y_true, y_pred):\n",
    "    \"\"\"\n",
    "    Geodesic loss function for the neural network.\n",
    "    \"\"\"\n",
    "    # Calculate the geodesic connection\n",
    "    bce            = tf.keras.losses.BinaryCrossentropy(reduction='none')\n",
    "    conection      = bce(y_true, y_pred)\n",
    "    #phi_t          = tf.reduce_sum(conection, axis=-1, keepdims=True)\n",
    "    #print(conection)\n",
    "    #print(phi_t)\n",
    "    exp_connection = tf.math.exp(conection)\n",
    "    #print(exp_connection)\n",
    "    \n",
    "    # Return the sum of the geodesic connection\n",
    "    return tf.reduce_mean(exp_connection, axis=-1, keepdims=True) - 1\n",
    "\n",
    "loss     = geodesic_loss\n",
    "opt      = tf.keras.optimizers.Adam(learning_rate=0.001)\n",
    "\n",
    "\n",
    "decorators = [Summary(detailed=True)]\n",
    "# create a training history:\n",
    "for i, (train_index, test_index) in enumerate(skf.split(X, y)):\n",
    "    if i > 0:\n",
    "        continue\n",
    "    x_train, y_train = X[train_index], y[train_index]\n",
    "    x_test, y_test   = X[test_index] , y[test_index]\n",
    "    \n",
    "    \n",
    "    model_geo.compile(optimizer=opt, \n",
    "                  loss=loss, \n",
    "                  metrics=['accuracy']\n",
    "                  )\n",
    "    \n",
    "    sp_index_callback = sp_index(validation_data=(x_test, y_test),\n",
    "                                 patience=patience, verbose=True, save_the_best=True)\n",
    "    \n",
    "    geo_history = model_geo.fit(x_train, y_train, epochs=1000,\n",
    "        batch_size=64,\n",
    "        verbose=True,\n",
    "        validation_data=(x_test, y_test),\n",
    "        sample_weight=class_weight(y_train),\n",
    "        callbacks=[sp_index_callback],\n",
    "        shuffle=True\n",
    "    ).history\n",
    "    \n",
    "    for decorator in decorators:\n",
    "        decorator(geo_history , {'model':model_geo, 'data':(x_train, y_train),  'data_val':(x_test, y_test) })"
   ]
  },
  {
   "cell_type": "code",
   "execution_count": 17,
   "id": "fb3dad1f",
   "metadata": {},
   "outputs": [],
   "source": [
    "plot_training_resume(geo_history, output_path=repo_path+'/notebooks', train_tag='zee-jf17-mb-geodesic',\n",
    "                     roc_xlim=[-.5, 5], roc_ylim=[0, 105], loss_name='Geodesic Connection')"
   ]
  },
  {
   "cell_type": "code",
   "execution_count": 18,
   "id": "dcd589ca",
   "metadata": {},
   "outputs": [
    {
     "data": {
      "text/plain": [
       "(0.56608254, 0.45415878)"
      ]
     },
     "execution_count": 18,
     "metadata": {},
     "output_type": "execute_result"
    }
   ],
   "source": [
    "bce_history['summary']['threshold_op'], geo_history['summary']['threshold_op']"
   ]
  },
  {
   "cell_type": "code",
   "execution_count": 19,
   "id": "f87d734e",
   "metadata": {},
   "outputs": [
    {
     "data": {
      "text/plain": [
       "(0.9888256783300475, 0.9888256783300475)"
      ]
     },
     "execution_count": 19,
     "metadata": {},
     "output_type": "execute_result"
    }
   ],
   "source": [
    "bce_history['summary']['max_sp_val'], geo_history['summary']['max_sp_val']"
   ]
  },
  {
   "cell_type": "code",
   "execution_count": null,
   "id": "8cf7b635",
   "metadata": {},
   "outputs": [],
   "source": []
  }
 ],
 "metadata": {
  "kernelspec": {
   "display_name": "Python 3 (ipykernel)",
   "language": "python",
   "name": "python3"
  },
  "language_info": {
   "codemirror_mode": {
    "name": "ipython",
    "version": 3
   },
   "file_extension": ".py",
   "mimetype": "text/x-python",
   "name": "python",
   "nbconvert_exporter": "python",
   "pygments_lexer": "ipython3",
   "version": "3.11.7"
  }
 },
 "nbformat": 4,
 "nbformat_minor": 5
}

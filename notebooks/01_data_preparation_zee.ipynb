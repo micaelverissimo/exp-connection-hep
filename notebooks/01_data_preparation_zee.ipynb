{
 "cells": [
  {
   "cell_type": "code",
   "execution_count": 1,
   "metadata": {},
   "outputs": [],
   "source": [
    "import sys\n",
    "repo_path = '/home/micael.verissimo/paper_lzt/exp-connection-hep/'\n",
    "sys.path.insert(0, repo_path)"
   ]
  },
  {
   "cell_type": "code",
   "execution_count": 2,
   "metadata": {},
   "outputs": [
    {
     "name": "stdout",
     "output_type": "stream",
     "text": [
      "Welcome to JupyROOT 6.30/02\n"
     ]
    },
    {
     "name": "stderr",
     "output_type": "stream",
     "text": [
      "2025-04-26 00:35:31.590754: I tensorflow/core/util/port.cc:113] oneDNN custom operations are on. You may see slightly different numerical results due to floating-point round-off errors from different computation orders. To turn them off, set the environment variable `TF_ENABLE_ONEDNN_OPTS=0`.\n",
      "2025-04-26 00:35:35.428760: E external/local_xla/xla/stream_executor/cuda/cuda_dnn.cc:9261] Unable to register cuDNN factory: Attempting to register factory for plugin cuDNN when one has already been registered\n",
      "2025-04-26 00:35:35.429215: E external/local_xla/xla/stream_executor/cuda/cuda_fft.cc:607] Unable to register cuFFT factory: Attempting to register factory for plugin cuFFT when one has already been registered\n",
      "2025-04-26 00:35:35.690665: E external/local_xla/xla/stream_executor/cuda/cuda_blas.cc:1515] Unable to register cuBLAS factory: Attempting to register factory for plugin cuBLAS when one has already been registered\n",
      "2025-04-26 00:35:36.447806: I tensorflow/core/platform/cpu_feature_guard.cc:182] This TensorFlow binary is optimized to use available CPU instructions in performance-critical operations.\n",
      "To enable the following instructions: AVX2 AVX512F AVX512_VNNI FMA, in other operations, rebuild TensorFlow with the appropriate compiler flags.\n",
      "2025-04-26 00:35:52.956383: W tensorflow/compiler/tf2tensorrt/utils/py_utils.cc:38] TF-TRT Warning: Could not find TensorRT\n"
     ]
    }
   ],
   "source": [
    "\n",
    "import os\n",
    "\n",
    "import numpy as np\n",
    "import pandas as pd\n",
    "\n",
    "from src import build_pandas\n",
    "\n",
    "from loguru import logger"
   ]
  },
  {
   "cell_type": "code",
   "execution_count": 3,
   "metadata": {},
   "outputs": [
    {
     "name": "stdout",
     "output_type": "stream",
     "text": [
      "dict_keys(['cl_ring_0', 'cl_ring_1', 'cl_ring_2', 'cl_ring_3', 'cl_ring_4', 'cl_ring_5', 'cl_ring_6', 'cl_ring_7', 'cl_ring_8', 'cl_ring_9', 'cl_ring_10', 'cl_ring_11', 'cl_ring_12', 'cl_ring_13', 'cl_ring_14', 'cl_ring_15', 'cl_ring_16', 'cl_ring_17', 'cl_ring_18', 'cl_ring_19', 'cl_ring_20', 'cl_ring_21', 'cl_ring_22', 'cl_ring_23', 'cl_ring_24', 'cl_ring_25', 'cl_ring_26', 'cl_ring_27', 'cl_ring_28', 'cl_ring_29', 'cl_ring_30', 'cl_ring_31', 'cl_ring_32', 'cl_ring_33', 'cl_ring_34', 'cl_ring_35', 'cl_ring_36', 'cl_ring_37', 'cl_ring_38', 'cl_ring_39', 'cl_ring_40', 'cl_ring_41', 'cl_ring_42', 'cl_ring_43', 'cl_ring_44', 'cl_ring_45', 'cl_ring_46', 'cl_ring_47', 'cl_ring_48', 'cl_ring_49', 'cl_ring_50', 'cl_ring_51', 'cl_ring_52', 'cl_ring_53', 'cl_ring_54', 'cl_ring_55', 'cl_ring_56', 'cl_ring_57', 'cl_ring_58', 'cl_ring_59', 'cl_ring_60', 'cl_ring_61', 'cl_ring_62', 'cl_ring_63', 'cl_ring_64', 'cl_ring_65', 'cl_ring_66', 'cl_ring_67', 'cl_ring_68', 'cl_ring_69', 'cl_ring_70', 'cl_ring_71', 'cl_ring_72', 'cl_ring_73', 'cl_ring_74', 'cl_ring_75', 'cl_ring_76', 'cl_ring_77', 'cl_ring_78', 'cl_ring_79', 'cl_ring_80', 'cl_ring_81', 'cl_ring_82', 'cl_ring_83', 'cl_ring_84', 'cl_ring_85', 'cl_ring_86', 'cl_ring_87', 'cl_ring_88', 'cl_ring_89', 'cl_ring_90', 'cl_ring_91', 'cl_ring_92', 'cl_ring_93', 'cl_ring_94', 'cl_ring_95', 'cl_ring_96', 'cl_ring_97', 'cl_ring_98', 'cl_ring_99', 'mc_e_float', 'mc_et_float', 'mc_eta_float', 'mc_phi_float', 'mc_pdgid_float', 'target']) dict_keys(['cl_ring_0', 'cl_ring_1', 'cl_ring_2', 'cl_ring_3', 'cl_ring_4', 'cl_ring_5', 'cl_ring_6', 'cl_ring_7', 'cl_ring_8', 'cl_ring_9', 'cl_ring_10', 'cl_ring_11', 'cl_ring_12', 'cl_ring_13', 'cl_ring_14', 'cl_ring_15', 'cl_ring_16', 'cl_ring_17', 'cl_ring_18', 'cl_ring_19', 'cl_ring_20', 'cl_ring_21', 'cl_ring_22', 'cl_ring_23', 'cl_ring_24', 'cl_ring_25', 'cl_ring_26', 'cl_ring_27', 'cl_ring_28', 'cl_ring_29', 'cl_ring_30', 'cl_ring_31', 'cl_ring_32', 'cl_ring_33', 'cl_ring_34', 'cl_ring_35', 'cl_ring_36', 'cl_ring_37', 'cl_ring_38', 'cl_ring_39', 'cl_ring_40', 'cl_ring_41', 'cl_ring_42', 'cl_ring_43', 'cl_ring_44', 'cl_ring_45', 'cl_ring_46', 'cl_ring_47', 'cl_ring_48', 'cl_ring_49', 'cl_ring_50', 'cl_ring_51', 'cl_ring_52', 'cl_ring_53', 'cl_ring_54', 'cl_ring_55', 'cl_ring_56', 'cl_ring_57', 'cl_ring_58', 'cl_ring_59', 'cl_ring_60', 'cl_ring_61', 'cl_ring_62', 'cl_ring_63', 'cl_ring_64', 'cl_ring_65', 'cl_ring_66', 'cl_ring_67', 'cl_ring_68', 'cl_ring_69', 'cl_ring_70', 'cl_ring_71', 'cl_ring_72', 'cl_ring_73', 'cl_ring_74', 'cl_ring_75', 'cl_ring_76', 'cl_ring_77', 'cl_ring_78', 'cl_ring_79', 'cl_ring_80', 'cl_ring_81', 'cl_ring_82', 'cl_ring_83', 'cl_ring_84', 'cl_ring_85', 'cl_ring_86', 'cl_ring_87', 'cl_ring_88', 'cl_ring_89', 'cl_ring_90', 'cl_ring_91', 'cl_ring_92', 'cl_ring_93', 'cl_ring_94', 'cl_ring_95', 'cl_ring_96', 'cl_ring_97', 'cl_ring_98', 'cl_ring_99', 'mc_e_float', 'mc_et_float', 'mc_eta_float', 'mc_phi_float', 'mc_pdgid_float', 'target'])\n"
     ]
    }
   ],
   "source": [
    "\n",
    "def_dict = {f'cl_ring_{iring}' : f'cl_rings[{iring}]' for iring in range(100)}\n",
    "def_dict.update({'mc_e_float'     : 'mc_e[0]',\n",
    "                 'mc_et_float'    : 'mc_et[0]',\n",
    "                 'mc_eta_float'   : 'mc_eta[0]',\n",
    "                 'mc_phi_float'   : 'mc_phi[0]', \n",
    "                 'mc_pdgid_float' : 'mc_pdgid[0]'})\n",
    "s_dict = def_dict.copy()\n",
    "s_dict.update({'target': '1'})\n",
    "b_dict = def_dict.copy()\n",
    "b_dict.update({'target': '0'})\n",
    "\n",
    "print(s_dict.keys(), b_dict.keys())"
   ]
  },
  {
   "cell_type": "code",
   "execution_count": 4,
   "metadata": {},
   "outputs": [],
   "source": [
    "data_path = '~/cern_data/joao.pinto/simulation/v2.1.0/datasets'\n",
    "\n",
    "zee  = os.path.join(data_path, 'user.joao.pinto.mc25_13TeV.250401.Pythia8EvtGen_Zee.etamax0.8.10k_stage_4.result.NTUPLE.merged.root')\n",
    "jf17 = os.path.join(data_path, 'user.joao.pinto.mc25_13TeV.250401.Pythia8EvtGen_JF17.etamax0.8.10k_stage_4.result.NTUPLE.merged.root')\n",
    "\n",
    "zee_mb = os.path.join(data_path, 'user.joao.pinto.mc25_13TeV.250401.Pythia8EvtGen_Zee.etamax0.8.avgmu100sigmamu20.10k_stage_4.result.NTUPLE.merged.root')\n",
    "jf17_mb = os.path.join(data_path, 'user.joao.pinto.mc25_13TeV.250401.Pythia8EvtGen_JF17.etamax0.8.avgmu100sigmamu20.10k_stage_4.result.NTUPLE.merged.root')"
   ]
  },
  {
   "cell_type": "code",
   "execution_count": 5,
   "metadata": {},
   "outputs": [],
   "source": [
    "\n",
    "zee_df = build_pandas([zee], 'physics', os.path.join(repo_path, 'data/processed'), 'zee.parquet', definitions=s_dict)\n",
    "zee_mb_df = build_pandas([zee_mb], 'physics', os.path.join(repo_path, 'data/processed'), 'zee_mb.parquet', definitions=s_dict)\n",
    "\n",
    "jf17_df = build_pandas([jf17], 'physics', os.path.join(repo_path, 'data/processed'), 'jf17.parquet', definitions=b_dict)\n",
    "jf17_mb_df = build_pandas([jf17_mb], 'physics', os.path.join(repo_path, 'data/processed'), 'jf17_mb.parquet', definitions=b_dict)"
   ]
  },
  {
   "cell_type": "code",
   "execution_count": null,
   "metadata": {},
   "outputs": [],
   "source": []
  }
 ],
 "metadata": {
  "kernelspec": {
   "display_name": "Python 3 (ipykernel)",
   "language": "python",
   "name": "python3"
  },
  "language_info": {
   "codemirror_mode": {
    "name": "ipython",
    "version": 3
   },
   "file_extension": ".py",
   "mimetype": "text/x-python",
   "name": "python",
   "nbconvert_exporter": "python",
   "pygments_lexer": "ipython3",
   "version": "3.11.7"
  }
 },
 "nbformat": 4,
 "nbformat_minor": 2
}

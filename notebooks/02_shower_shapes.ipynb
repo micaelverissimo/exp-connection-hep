{
 "cells": [
  {
   "cell_type": "code",
   "execution_count": 1,
   "metadata": {},
   "outputs": [],
   "source": [
    "import sys\n",
    "repo_path = '/home/micael.verissimo/paper_lzt/exp-connection-hep/'\n",
    "sys.path.insert(0, repo_path)"
   ]
  },
  {
   "cell_type": "code",
   "execution_count": 2,
   "metadata": {},
   "outputs": [
    {
     "name": "stdout",
     "output_type": "stream",
     "text": [
      "Welcome to JupyROOT 6.30/02\n",
      "\n",
      "Applying ATLAS style settings...\n"
     ]
    }
   ],
   "source": [
    "import os\n",
    "\n",
    "import numpy as np\n",
    "import pandas as pd\n",
    "\n",
    "import matplotlib.pyplot as plt\n",
    "import mplhep as hep\n",
    "plt.style.use(hep.style.ROOT)\n",
    "\n",
    "\n",
    "from ROOT import (kRed, kBlue, kBlack, \n",
    "                  TLine,kBird, kOrange, \n",
    "                  kGray, kYellow, kViolet, \n",
    "                  kGreen, kAzure, kBird, \n",
    "                  kBlackBody,gStyle)\n",
    "\n",
    "import rootplotlib as rpl\n",
    "rpl.set_lorenzetti_style()\n",
    "rpl.suppress_root_warnings()"
   ]
  },
  {
   "cell_type": "code",
   "execution_count": 3,
   "metadata": {},
   "outputs": [],
   "source": [
    "def_dict = {f'cl_ring_{iring}' : f'cl_rings[{iring}]' for iring in range(100)}\n",
    "def_dict.update({'mc_e_float'     : 'mc_e[0]',\n",
    "                 'mc_et_float'    : 'mc_et[0]',\n",
    "                 'mc_eta_float'   : 'mc_eta[0]',\n",
    "                 'mc_phi_float'   : 'mc_phi[0]', \n",
    "                 'mc_pdgid_float' : 'mc_pdgid[0]'})\n",
    "s_dict = def_dict.copy()\n",
    "s_dict.update({'target': '1'})\n",
    "b_dict = def_dict.copy()\n",
    "b_dict.update({'target': '0'})\n"
   ]
  },
  {
   "cell_type": "code",
   "execution_count": 4,
   "metadata": {},
   "outputs": [],
   "source": [
    "data_path = '~/cern_data/joao.pinto/simulation/v2.1.0/datasets'\n",
    "\n",
    "parquet_path = os.path.join(repo_path, 'parquet')\n",
    "electron = os.path.join(data_path, 'user.joao.pinto.mc25_13TeV.250401.Pythia8EvtGen_single_electron.5to100GeV.eta0phi0.10k_stage_4.result.NTUPLE.merged.root')\n",
    "pion     = os.path.join(data_path, 'user.joao.pinto.mc25_13TeV.250401.Pythia8EvtGen_single_pion.5to100GeV.eta0phi0.10k_stage_4.result.NTUPLE.merged.root')"
   ]
  },
  {
   "cell_type": "code",
   "execution_count": 5,
   "metadata": {},
   "outputs": [],
   "source": [
    "\n",
    "elecron_df = pd.read_parquet(os.path.join(repo_path, 'data/single_electron.parquet'))\n",
    "pion_df = pd.read_parquet(os.path.join(repo_path, 'data/pion.parquet'))"
   ]
  },
  {
   "cell_type": "markdown",
   "metadata": {},
   "source": [
    "# Visualize the distributions"
   ]
  },
  {
   "cell_type": "code",
   "execution_count": 6,
   "metadata": {},
   "outputs": [],
   "source": [
    "def make_1d_histograms(sgn, bkg, bins, xmin, xmax):\n",
    "    \"\"\"\n",
    "    Creates 1D histograms for signal and background data, applies styling, \n",
    "    and returns the density histograms.\n",
    "\n",
    "    Args:\n",
    "        sgn (array-like): Signal data to be filled into the histogram.\n",
    "        bkg (array-like): Background data to be filled into the histogram.\n",
    "        bins (int): Number of bins for the histograms.\n",
    "        xmin (float): Minimum value of the histogram range.\n",
    "        xmax (float): Maximum value of the histogram range.\n",
    "\n",
    "    Returns:\n",
    "        tuple: A tuple containing two styled density histograms:\n",
    "            - d_zee: Density histogram for the signal data.\n",
    "            - d_jets: Density histogram for the background data.\n",
    "    \"\"\"\n",
    "    \n",
    "    h_sgn = rpl.hist1d.new( 'sgn', bins, xmin ,xmax )\n",
    "    rpl.hist1d.fill( h_sgn, sgn )\n",
    "    d_sgn = rpl.hist1d.density( h_sgn )\n",
    "    d_sgn.SetLineColor(kAzure)\n",
    "    d_sgn.SetFillColor(kAzure-4)\n",
    "    h_bkg = rpl.hist1d.new( 'bkg', bins, xmin ,xmax )\n",
    "    rpl.hist1d.fill( h_bkg, bkg )\n",
    "    d_bkg = rpl.hist1d.density( h_bkg )\n",
    "    d_bkg.SetLineColor(kRed)\n",
    "    d_bkg.SetFillColor(rpl.get_color(kRed, 0.5))\n",
    "    return d_sgn, d_bkg\n",
    "\n",
    "def add_legend(x, y, legends):\n",
    "    \"\"\"\n",
    "    Adds a legend to the plot with specified position and legends.\n",
    "    Args:\n",
    "        x (float): X-coordinate of the legend position.\n",
    "        y (float): Y-coordinate of the legend position.\n",
    "        legends (list): List of legend entries to be added.\n",
    "    \"\"\"\n",
    "    rpl.add_legend( legends,x,y,x+0.98,y+0.20,textsize=16, option = 'f' )"
   ]
  },
  {
   "cell_type": "code",
   "execution_count": 23,
   "metadata": {},
   "outputs": [],
   "source": [
    "GeV = 1e3\n",
    "sgn = elecron_df.query(f\"cl_et > 5*{GeV} & cl_eta <= 0.8\")['cl_eratio'].values\n",
    "bkg = pion_df.query(f\"cl_et > 5*{GeV} & cl_eta <= 0.8\")['cl_eratio'].values\n",
    "\n",
    "o_sgn, o_bkg = make_1d_histograms(sgn, bkg, 100, 0, 1)\n",
    "fig = rpl.create_canvas('my_eratio_canvas')\n",
    "rpl.set_figure(fig)\n",
    "\n",
    "rpl.add_hist( o_sgn,'same, hist' )\n",
    "rpl.add_hist( o_bkg ,'same, hist' )\n",
    "rpl.set_xlabel('E_{Ratio}')\n",
    "rpl.set_ylabel('counts/bin (norm by counts)')\n",
    "rpl.set_lorenzetti_label(0.2,0.88,'Internal, #sqrt{s}= 13TeV, <#mu>=0')\n",
    "rpl.add_text(0.2, 0.8, 'E_{T} > 5 GeV', textsize=0.04)\n",
    "legends = ['Single Electron (Signal)', 'Pion (background)']\n",
    "add_legend( 0.2,0.6, legends)\n",
    "rpl.format_canvas_axes( YTitleOffset=2.) \n",
    "rpl.fix_yaxis_ranges( ignore_zeros=True, ignore_errors=True , ymaxf=1.35) \n",
    "fig.savefig(os.path.join(repo_path, 'notebooks/simulation_singe_e_vs_pion_eratio.pdf'))"
   ]
  },
  {
   "cell_type": "code",
   "execution_count": 24,
   "metadata": {},
   "outputs": [
    {
     "data": {
      "image/png": "[encoded data removed]",
      "text/plain": [
       "<IPython.core.display.Image object>"
      ]
     },
     "metadata": {},
     "output_type": "display_data"
    }
   ],
   "source": [
    "fig.show()"
   ]
  },
  {
   "cell_type": "code",
   "execution_count": 26,
   "metadata": {},
   "outputs": [],
   "source": [
    "GeV = 1e3\n",
    "sgn = elecron_df.query(f\"cl_et > 5*{GeV} & cl_eta <= 0.8\")['cl_reta'].values\n",
    "bkg = pion_df.query(f\"cl_et > 5*{GeV} & cl_eta <= 0.8\")['cl_reta'].values\n",
    "\n",
    "o_sgn, o_bkg = make_1d_histograms(sgn, bkg, 100, 0.75, 1.05)\n",
    "fig = rpl.create_canvas('my_reta_canvas')\n",
    "rpl.set_figure(fig)\n",
    "\n",
    "rpl.add_hist( o_sgn,'same, hist' )\n",
    "rpl.add_hist( o_bkg ,'same, hist' )\n",
    "rpl.set_xlabel('R_{#eta}')\n",
    "rpl.set_ylabel('counts/bin (norm by counts)')\n",
    "rpl.set_lorenzetti_label(0.2,0.88,'Internal, #sqrt{s}= 13TeV, <#mu>=0')\n",
    "rpl.add_text(0.2, 0.8, 'E_{T} > 5 GeV', textsize=0.04)\n",
    "legends = ['Single Electron (Signal)', 'Pion (background)']\n",
    "add_legend( 0.2,0.6, legends)\n",
    "rpl.format_canvas_axes( YTitleOffset=2.) \n",
    "rpl.fix_yaxis_ranges( ignore_zeros=True, ignore_errors=True , ymaxf=1.35) \n",
    "\n",
    "fig.savefig(os.path.join(repo_path, 'notebooks/simulation_single_e_vs_pion_reta.pdf'))\n",
    "\n"
   ]
  },
  {
   "cell_type": "code",
   "execution_count": 27,
   "metadata": {},
   "outputs": [
    {
     "data": {
      "image/png": "[encoded data removed]",
      "text/plain": [
       "<IPython.core.display.Image object>"
      ]
     },
     "metadata": {},
     "output_type": "display_data"
    }
   ],
   "source": [
    "fig.show()"
   ]
  },
  {
   "cell_type": "code",
   "execution_count": null,
   "metadata": {},
   "outputs": [],
   "source": [
    "GeV = 1e3\n",
    "sgn = elecron_df.query(f\"cl_et > 5*{GeV} & cl_eta <= 0.8\")['cl_reta'].values\n",
    "bkg = pion_df.query(f\"cl_et > 5*{GeV} & cl_eta <= 0.8\")['cl_reta'].values\n",
    "\n",
    "o_sgn, o_bkg = make_1d_histograms(sgn, bkg, 100, 0.75, 1.05)\n",
    "fig = rpl.create_canvas('my_reta_canvas')\n",
    "rpl.set_figure(fig)\n",
    "\n",
    "rpl.add_hist( o_sgn,'same, hist' )\n",
    "rpl.add_hist( o_bkg ,'same, hist' )\n",
    "rpl.set_xlabel('R_{#eta}')\n",
    "rpl.set_ylabel('counts/bin (norm by counts)')\n",
    "rpl.set_lorenzetti_label(0.2,0.88,'Internal, #sqrt{s}= 13TeV, <#mu>=0')\n",
    "rpl.add_text(0.2, 0.8, 'E_{T} > 5 GeV', textsize=0.04)\n",
    "legends = ['Single Electron (Signal)', 'Pion (background)']\n",
    "add_legend( 0.2,0.6, legends)\n",
    "rpl.format_canvas_axes( YTitleOffset=2.) \n",
    "rpl.fix_yaxis_ranges( ignore_zeros=True, ignore_errors=True , ymaxf=1.35) \n",
    "\n",
    "fig.savefig(os.path.join(repo_path, 'notebooks/simulation_single_e_vs_pion_r.pdf'))\n",
    "\n"
   ]
  },
  {
   "cell_type": "code",
   "execution_count": 31,
   "metadata": {},
   "outputs": [],
   "source": [
    "GeV = 1e3\n",
    "sgn = elecron_df.query(f\"cl_et > 5*{GeV} & cl_eta <= 0.8\")['cl_rhad'].values\n",
    "bkg = pion_df.query(f\"cl_et > 5*{GeV} & cl_eta <= 0.8\")['cl_rhad'].values\n",
    "\n",
    "o_sgn, o_bkg = make_1d_histograms(sgn, bkg, 100, -.04, 0.1)\n",
    "fig = rpl.create_canvas('my_rhad_canvas')\n",
    "rpl.set_figure(fig)\n",
    "\n",
    "rpl.add_hist( o_sgn,'same, hist' )\n",
    "rpl.add_hist( o_bkg ,'same, hist' )\n",
    "rpl.set_xlabel('R_{HAD}')\n",
    "rpl.set_ylabel('counts/bin (norm by counts)')\n",
    "rpl.set_lorenzetti_label(0.2,0.88,'Internal, #sqrt{s}= 13TeV, <#mu>=0')\n",
    "rpl.add_text(0.2, 0.8, 'E_{T} > 5 GeV', textsize=0.04)\n",
    "legends = ['Single Electron (Signal)', 'Pion (background)']\n",
    "add_legend( 0.6,0.6, legends)\n",
    "rpl.format_canvas_axes( YTitleOffset=2.) \n",
    "rpl.fix_yaxis_ranges( ignore_zeros=True, ignore_errors=True , ymaxf=1.35) \n",
    "\n",
    "fig.savefig(os.path.join(repo_path, 'notebooks/simulation_single_e_vs_pion_rhad.pdf'))"
   ]
  },
  {
   "cell_type": "code",
   "execution_count": 29,
   "metadata": {},
   "outputs": [
    {
     "data": {
      "image/png": "[encoded data removed]",
      "text/plain": [
       "<IPython.core.display.Image object>"
      ]
     },
     "metadata": {},
     "output_type": "display_data"
    }
   ],
   "source": [
    "fig.show()"
   ]
  },
  {
   "cell_type": "code",
   "execution_count": null,
   "metadata": {},
   "outputs": [],
   "source": []
  }
 ],
 "metadata": {
  "kernelspec": {
   "display_name": "Python 3 (ipykernel)",
   "language": "python",
   "name": "python3"
  },
  "language_info": {
   "codemirror_mode": {
    "name": "ipython",
    "version": 3
   },
   "file_extension": ".py",
   "mimetype": "text/x-python",
   "name": "python",
   "nbconvert_exporter": "python",
   "pygments_lexer": "ipython3",
   "version": "3.11.7"
  }
 },
 "nbformat": 4,
 "nbformat_minor": 4
}

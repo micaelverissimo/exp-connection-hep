{
 "cells": [
  {
   "cell_type": "code",
   "execution_count": null,
   "id": "d6ea3d02",
   "metadata": {},
   "outputs": [],
   "source": [
    "import sys\n",
    "repo_path = '/home/micael.verissimo/paper_lzt/exp-connection-hep/'\n",
    "sys.path.insert(0, repo_path)"
   ]
  },
  {
   "cell_type": "code",
   "execution_count": 2,
   "id": "3d37e32b",
   "metadata": {},
   "outputs": [
    {
     "name": "stderr",
     "output_type": "stream",
     "text": [
      "2025-07-11 01:06:45.622657: E external/local_xla/xla/stream_executor/cuda/cuda_dnn.cc:9261] Unable to register cuDNN factory: Attempting to register factory for plugin cuDNN when one has already been registered\n",
      "2025-07-11 01:06:45.622704: E external/local_xla/xla/stream_executor/cuda/cuda_fft.cc:607] Unable to register cuFFT factory: Attempting to register factory for plugin cuFFT when one has already been registered\n",
      "2025-07-11 01:06:45.623773: E external/local_xla/xla/stream_executor/cuda/cuda_blas.cc:1515] Unable to register cuBLAS factory: Attempting to register factory for plugin cuBLAS when one has already been registered\n",
      "2025-07-11 01:06:45.630406: I tensorflow/core/platform/cpu_feature_guard.cc:182] This TensorFlow binary is optimized to use available CPU instructions in performance-critical operations.\n",
      "To enable the following instructions: AVX2 FMA, in other operations, rebuild TensorFlow with the appropriate compiler flags.\n",
      "2025-07-11 01:06:48.147898: W tensorflow/compiler/tf2tensorrt/utils/py_utils.cc:38] TF-TRT Warning: Could not find TensorRT\n"
     ]
    },
    {
     "name": "stdout",
     "output_type": "stream",
     "text": [
      "Welcome to JupyROOT 6.30/02\n"
     ]
    },
    {
     "name": "stderr",
     "output_type": "stream",
     "text": [
      "2025-07-11 01:06:57.718036: I external/local_xla/xla/stream_executor/cuda/cuda_executor.cc:901] successful NUMA node read from SysFS had negative value (-1), but there must be at least one NUMA node, so returning NUMA node zero. See more at https://github.com/torvalds/linux/blob/v6.0/Documentation/ABI/testing/sysfs-bus-pci#L344-L355\n",
      "2025-07-11 01:06:57.744222: I external/local_xla/xla/stream_executor/cuda/cuda_executor.cc:901] successful NUMA node read from SysFS had negative value (-1), but there must be at least one NUMA node, so returning NUMA node zero. See more at https://github.com/torvalds/linux/blob/v6.0/Documentation/ABI/testing/sysfs-bus-pci#L344-L355\n",
      "2025-07-11 01:06:57.744512: I external/local_xla/xla/stream_executor/cuda/cuda_executor.cc:901] successful NUMA node read from SysFS had negative value (-1), but there must be at least one NUMA node, so returning NUMA node zero. See more at https://github.com/torvalds/linux/blob/v6.0/Documentation/ABI/testing/sysfs-bus-pci#L344-L355\n",
      "2025-07-11 01:06:57.798301: I external/local_xla/xla/stream_executor/cuda/cuda_executor.cc:901] successful NUMA node read from SysFS had negative value (-1), but there must be at least one NUMA node, so returning NUMA node zero. See more at https://github.com/torvalds/linux/blob/v6.0/Documentation/ABI/testing/sysfs-bus-pci#L344-L355\n",
      "2025-07-11 01:06:57.798598: I external/local_xla/xla/stream_executor/cuda/cuda_executor.cc:901] successful NUMA node read from SysFS had negative value (-1), but there must be at least one NUMA node, so returning NUMA node zero. See more at https://github.com/torvalds/linux/blob/v6.0/Documentation/ABI/testing/sysfs-bus-pci#L344-L355\n",
      "2025-07-11 01:06:57.798770: I external/local_xla/xla/stream_executor/cuda/cuda_executor.cc:901] successful NUMA node read from SysFS had negative value (-1), but there must be at least one NUMA node, so returning NUMA node zero. See more at https://github.com/torvalds/linux/blob/v6.0/Documentation/ABI/testing/sysfs-bus-pci#L344-L355\n",
      "2025-07-11 01:06:57.798866: I tensorflow/core/common_runtime/gpu/gpu_device.cc:1929] Created device /job:localhost/replica:0/task:0/device:GPU:0 with 9061 MB memory:  -> device: 0, name: NVIDIA GeForce RTX 2080 Ti, pci bus id: 0000:00:10.0, compute capability: 7.5\n",
      "2025-07-11 01:06:57.843723: I external/local_xla/xla/stream_executor/cuda/cuda_executor.cc:901] successful NUMA node read from SysFS had negative value (-1), but there must be at least one NUMA node, so returning NUMA node zero. See more at https://github.com/torvalds/linux/blob/v6.0/Documentation/ABI/testing/sysfs-bus-pci#L344-L355\n",
      "2025-07-11 01:06:57.843922: I external/local_xla/xla/stream_executor/cuda/cuda_executor.cc:901] successful NUMA node read from SysFS had negative value (-1), but there must be at least one NUMA node, so returning NUMA node zero. See more at https://github.com/torvalds/linux/blob/v6.0/Documentation/ABI/testing/sysfs-bus-pci#L344-L355\n",
      "2025-07-11 01:06:57.844054: I external/local_xla/xla/stream_executor/cuda/cuda_executor.cc:901] successful NUMA node read from SysFS had negative value (-1), but there must be at least one NUMA node, so returning NUMA node zero. See more at https://github.com/torvalds/linux/blob/v6.0/Documentation/ABI/testing/sysfs-bus-pci#L344-L355\n",
      "2025-07-11 01:06:57.844460: I external/local_xla/xla/stream_executor/cuda/cuda_executor.cc:901] successful NUMA node read from SysFS had negative value (-1), but there must be at least one NUMA node, so returning NUMA node zero. See more at https://github.com/torvalds/linux/blob/v6.0/Documentation/ABI/testing/sysfs-bus-pci#L344-L355\n",
      "2025-07-11 01:06:57.844598: I external/local_xla/xla/stream_executor/cuda/cuda_executor.cc:901] successful NUMA node read from SysFS had negative value (-1), but there must be at least one NUMA node, so returning NUMA node zero. See more at https://github.com/torvalds/linux/blob/v6.0/Documentation/ABI/testing/sysfs-bus-pci#L344-L355\n",
      "2025-07-11 01:06:57.844726: I external/local_xla/xla/stream_executor/cuda/cuda_executor.cc:901] successful NUMA node read from SysFS had negative value (-1), but there must be at least one NUMA node, so returning NUMA node zero. See more at https://github.com/torvalds/linux/blob/v6.0/Documentation/ABI/testing/sysfs-bus-pci#L344-L355\n",
      "2025-07-11 01:06:57.844886: I external/local_xla/xla/stream_executor/cuda/cuda_executor.cc:901] successful NUMA node read from SysFS had negative value (-1), but there must be at least one NUMA node, so returning NUMA node zero. See more at https://github.com/torvalds/linux/blob/v6.0/Documentation/ABI/testing/sysfs-bus-pci#L344-L355\n",
      "2025-07-11 01:06:57.845015: I external/local_xla/xla/stream_executor/cuda/cuda_executor.cc:901] successful NUMA node read from SysFS had negative value (-1), but there must be at least one NUMA node, so returning NUMA node zero. See more at https://github.com/torvalds/linux/blob/v6.0/Documentation/ABI/testing/sysfs-bus-pci#L344-L355\n",
      "2025-07-11 01:06:57.845104: I tensorflow/core/common_runtime/gpu/gpu_device.cc:1929] Created device /job:localhost/replica:0/task:0/device:GPU:0 with 9061 MB memory:  -> device: 0, name: NVIDIA GeForce RTX 2080 Ti, pci bus id: 0000:00:10.0, compute capability: 7.5\n"
     ]
    }
   ],
   "source": [
    "import os\n",
    "import tqdm\n",
    "import pickle\n",
    "import collections\n",
    "import itertools\n",
    "\n",
    "import matplotlib as mpl\n",
    "mpl.rcParams['text.usetex'] = True\n",
    "\n",
    "import numpy as np\n",
    "import pandas as pd\n",
    "import seaborn as sns\n",
    "import matplotlib.pyplot as plt\n",
    "import tensorflow as tf\n",
    "tf.config.run_functions_eagerly(True)\n",
    "tf.get_logger().setLevel('INFO')\n",
    "\n",
    "from datetime import datetime\n",
    "from sklearn.model_selection import StratifiedKFold\n",
    "from loguru import logger\n",
    "\n",
    "import logging\n",
    "logger = logging.getLogger()\n",
    "logger.setLevel(logging.CRITICAL)\n",
    "\n",
    "from src.crossval import crossval_table"
   ]
  },
  {
   "cell_type": "code",
   "execution_count": 3,
   "id": "f344f279",
   "metadata": {},
   "outputs": [],
   "source": [
    "#\n",
    "# Create the reference map\n",
    "#\n",
    "def create_op_dict(op, decoration='reference'):\n",
    "    \n",
    "    d = collections.OrderedDict( {\n",
    "              # validation\n",
    "              \"max_sp_val\"      : 'summary/max_sp_val',\n",
    "              \"max_sp_pd_val\"   : 'summary/max_sp_pd_val#0',\n",
    "              \"max_sp_fa_val\"   : 'summary/max_sp_fa_val#0',\n",
    "              # Operation\n",
    "              \"max_sp_op\"       : 'summary/max_sp_op',\n",
    "              \"max_sp_pd_op\"    : 'summary/max_sp_pd_op#0',\n",
    "              \"max_sp_fa_op\"    : 'summary/max_sp_fa_op#0',\n",
    "              \n",
    "              # op\n",
    "              'pd_ref'    : decoration+\"/\"+op+\"/pd_ref#0\",\n",
    "              #'fa_ref'    : decoration+\"/\"+op+\"/fa_ref#0\",\n",
    "              #'sp_ref'    : decoration+\"/\"+op+\"/sp_ref\",\n",
    "              'pd_val'    : decoration+\"/\"+op+\"/pd_val#0\",\n",
    "              'fa_val'    : decoration+\"/\"+op+\"/fa_val#0\",\n",
    "              'thr_val'   : decoration+\"/\"+op+\"/threshold_val\",\n",
    "              'sp_val'    : decoration+\"/\"+op+\"/sp_val\",\n",
    "              'pd_op'     : decoration+\"/\"+op+\"/pd_op#0\",\n",
    "              'fa_op'     : decoration+\"/\"+op+\"/fa_op#0\",\n",
    "              'sp_op'     : decoration+\"/\"+op+\"/sp_op\",\n",
    "              'thr_op'    : decoration+\"/\"+op+\"/threshold_op\",\n",
    "\n",
    "              # Counts\n",
    "              'pd_ref_passed'    : decoration+\"/\"+op+\"/pd_ref#1\",\n",
    "              #'fa_ref_passed'    : decoration+\"/\"+op+\"/fa_ref#1\",\n",
    "              'pd_ref_total'     : decoration+\"/\"+op+\"/pd_ref#2\",\n",
    "              #'fa_ref_total'     : decoration+\"/\"+op+\"/fa_ref#2\",\n",
    "              'pd_val_passed'    : decoration+\"/\"+op+\"/pd_val#1\",\n",
    "              'fa_val_passed'    : decoration+\"/\"+op+\"/fa_val#1\",\n",
    "              'pd_val_total'     : decoration+\"/\"+op+\"/pd_val#2\",\n",
    "              'fa_val_total'     : decoration+\"/\"+op+\"/fa_val#2\",\n",
    "              'pd_op_passed'     : decoration+\"/\"+op+\"/pd_op#1\",\n",
    "              'fa_op_passed'     : decoration+\"/\"+op+\"/fa_op#1\",\n",
    "              'pd_op_total'      : decoration+\"/\"+op+\"/pd_op#2\",\n",
    "              'fa_op_total'      : decoration+\"/\"+op+\"/fa_op#2\",\n",
    "    })\n",
    "    return d\n",
    "\n",
    "\n",
    "op_names = ['tight', 'medium', 'loose']\n",
    "\n",
    "tuned_info = collections.OrderedDict({})\n",
    "for op in op_names:\n",
    "    tuned_info[op] = create_op_dict(op, \"reference\")"
   ]
  },
  {
   "cell_type": "code",
   "execution_count": 4,
   "id": "f6d091c2",
   "metadata": {},
   "outputs": [],
   "source": [
    "#\n",
    "# Et/eta bins edges\n",
    "# \n",
    "etbins = [15, 30, 50, 100000]\n",
    "etabins = [0.0, 0.8, 1.37, 1.54, 2.37, 2.50]\n",
    "tuning_path = os.path.join(repo_path, 'data/models')"
   ]
  },
  {
   "cell_type": "code",
   "execution_count": 5,
   "id": "8ca77fe9",
   "metadata": {},
   "outputs": [
    {
     "name": "stderr",
     "output_type": "stream",
     "text": [
      "\u001b[32m [Fri, 11 Jul 2025 01:06:58] INFO Reading file for MLP-5-SS tag from /home/micael.verissimo/paper_lzt/exp-connection-hep/data/models/ss_models/*.pic\u001b[0m\n",
      "\u001b[32m [Fri, 11 Jul 2025 01:06:58] INFO Reading file for MLP-5-SS tag from /home/micael.verissimo/paper_lzt/exp-connection-hep/data/models/ss_models/*.pic\u001b[0m\n",
      "\u001b[32m [Fri, 11 Jul 2025 01:06:58] INFO There are 75 files for this task...\u001b[0m\n",
      "\u001b[32m [Fri, 11 Jul 2025 01:06:58] INFO There are 75 files for this task...\u001b[0m\n",
      "\u001b[32m [Fri, 11 Jul 2025 01:06:58] INFO Filling the table... \u001b[0m\n",
      "\u001b[32m [Fri, 11 Jul 2025 01:06:58] INFO Filling the table... \u001b[0m\n",
      "🔥 Reading MLP-5-SS...: 100%|██████████| 75/75 [00:00<00:00, 1162.34it/s]\n",
      "\u001b[32m [Fri, 11 Jul 2025 01:06:58] INFO End of fill step, a pandas DataFrame was created...\u001b[0m\n",
      "\u001b[32m [Fri, 11 Jul 2025 01:06:58] INFO End of fill step, a pandas DataFrame was created...\u001b[0m\n",
      "\u001b[32m [Fri, 11 Jul 2025 01:06:58] INFO Reading file for MLP-5-rings_v0 tag from /home/micael.verissimo/paper_lzt/exp-connection-hep/data/models/rings_v0_models/*.pic\u001b[0m\n",
      "\u001b[32m [Fri, 11 Jul 2025 01:06:58] INFO Reading file for MLP-5-rings_v0 tag from /home/micael.verissimo/paper_lzt/exp-connection-hep/data/models/rings_v0_models/*.pic\u001b[0m\n",
      "\u001b[32m [Fri, 11 Jul 2025 01:06:58] INFO There are 75 files for this task...\u001b[0m\n",
      "\u001b[32m [Fri, 11 Jul 2025 01:06:58] INFO There are 75 files for this task...\u001b[0m\n",
      "\u001b[32m [Fri, 11 Jul 2025 01:06:58] INFO Filling the table... \u001b[0m\n",
      "\u001b[32m [Fri, 11 Jul 2025 01:06:58] INFO Filling the table... \u001b[0m\n",
      "🔥 Reading MLP-5-rings_v0...: 100%|██████████| 75/75 [00:00<00:00, 1102.58it/s]\n",
      "\u001b[32m [Fri, 11 Jul 2025 01:06:58] INFO End of fill step, a pandas DataFrame was created...\u001b[0m\n",
      "\u001b[32m [Fri, 11 Jul 2025 01:06:58] INFO End of fill step, a pandas DataFrame was created...\u001b[0m\n",
      "\u001b[32m [Fri, 11 Jul 2025 01:06:58] INFO Reading file for MLP-5-rings_v1 tag from /home/micael.verissimo/paper_lzt/exp-connection-hep/data/models/rings_v1_models/*.pic\u001b[0m\n",
      "\u001b[32m [Fri, 11 Jul 2025 01:06:58] INFO Reading file for MLP-5-rings_v1 tag from /home/micael.verissimo/paper_lzt/exp-connection-hep/data/models/rings_v1_models/*.pic\u001b[0m\n",
      "\u001b[32m [Fri, 11 Jul 2025 01:06:58] INFO There are 75 files for this task...\u001b[0m\n",
      "\u001b[32m [Fri, 11 Jul 2025 01:06:58] INFO There are 75 files for this task...\u001b[0m\n",
      "\u001b[32m [Fri, 11 Jul 2025 01:06:58] INFO Filling the table... \u001b[0m\n",
      "\u001b[32m [Fri, 11 Jul 2025 01:06:58] INFO Filling the table... \u001b[0m\n",
      "🔥 Reading MLP-5-rings_v1...: 100%|██████████| 75/75 [00:00<00:00, 1151.88it/s]\n",
      "\u001b[32m [Fri, 11 Jul 2025 01:06:58] INFO End of fill step, a pandas DataFrame was created...\u001b[0m\n",
      "\u001b[32m [Fri, 11 Jul 2025 01:06:58] INFO End of fill step, a pandas DataFrame was created...\u001b[0m\n"
     ]
    }
   ],
   "source": [
    "cv_ss    = crossval_table( tuned_info, etbins = etbins, etabins = etabins )\n",
    "cv_ss.fill( os.path.join(tuning_path, 'ss_models/*.pic'), 'MLP-5-SS')\n",
    "\n",
    "cv_v0    = crossval_table( tuned_info, etbins = etbins, etabins = etabins )\n",
    "cv_v0.fill( os.path.join(tuning_path, 'rings_v0_models/*.pic'), 'MLP-5-rings_v0')\n",
    "\n",
    "cv_v1    = crossval_table( tuned_info, etbins = etbins, etabins = etabins )\n",
    "cv_v1.fill( os.path.join(tuning_path, 'rings_v1_models/*.pic'), 'MLP-5-rings_v1')"
   ]
  },
  {
   "cell_type": "code",
   "execution_count": 6,
   "id": "346ef4f5",
   "metadata": {},
   "outputs": [],
   "source": [
    "# obtain the best inits and best sorts and then \n",
    "best_inits_ss = cv_ss.filter_inits(\"max_sp_val\")\n",
    "best_sorts_ss = cv_ss.filter_sorts( best_inits_ss , 'max_sp_op')\n",
    "\n",
    "best_inits_v0 = cv_v0.filter_inits(\"max_sp_val\")\n",
    "best_sorts_v0 = cv_v0.filter_sorts( best_inits_v0 , 'max_sp_op')\n",
    "\n",
    "best_inits_v1 = cv_v1.filter_inits(\"max_sp_val\")\n",
    "best_sorts_v1 = cv_v1.filter_sorts( best_inits_v1 , 'max_sp_op')\n",
    "\n",
    "best_inits = pd.concat([\n",
    "                        best_inits_v0,\n",
    "                        best_inits_v1,\n",
    "                        best_inits_ss\n",
    "                       ])\n",
    "\n",
    "best_sorts = pd.concat([\n",
    "                        best_sorts_v0,\n",
    "                        best_sorts_v1,\n",
    "                        best_sorts_ss\n",
    "                       ])"
   ]
  },
  {
   "cell_type": "code",
   "execution_count": 7,
   "id": "c4ebb7e2",
   "metadata": {},
   "outputs": [
    {
     "name": "stdout",
     "output_type": "stream",
     "text": [
      "675\n",
      "135\n"
     ]
    }
   ],
   "source": [
    "print(len(best_inits))#(15bins x 5folds x 3op x 3inputs = 675)\n",
    "print(len(best_sorts))#(15bins x 1folds x 3op x 3inputs = 135)"
   ]
  },
  {
   "cell_type": "code",
   "execution_count": 8,
   "id": "8ee9855d",
   "metadata": {},
   "outputs": [],
   "source": [
    "best_inits.to_csv(os.path.join(repo_path, 'data/processed/best_inits.csv'), index=False)\n",
    "best_sorts.to_csv(os.path.join(repo_path, 'data/processed/best_sorts.csv'), index=False)"
   ]
  },
  {
   "cell_type": "code",
   "execution_count": 8,
   "id": "9ca14f4a",
   "metadata": {},
   "outputs": [
    {
     "name": "stderr",
     "output_type": "stream",
     "text": [
      "\u001b[32m [Thu, 10 Jul 2025 01:12:42] INFO Started creating beamer file ./cv_tight..tex latex code...\u001b[0m\n",
      "\u001b[32m [Thu, 10 Jul 2025 01:12:42] INFO Started creating beamer file ./cv_tight..tex latex code...\u001b[0m\n",
      "\u001b[32m [Thu, 10 Jul 2025 01:12:42] INFO Started creating beamer file ./cv_medium..tex latex code...\u001b[0m\n",
      "\u001b[32m [Thu, 10 Jul 2025 01:12:42] INFO Started creating beamer file ./cv_medium..tex latex code...\u001b[0m\n",
      "\u001b[32m [Thu, 10 Jul 2025 01:12:43] INFO Started creating beamer file ./cv_loose..tex latex code...\u001b[0m\n",
      "\u001b[32m [Thu, 10 Jul 2025 01:12:43] INFO Started creating beamer file ./cv_loose..tex latex code...\u001b[0m\n"
     ]
    }
   ],
   "source": [
    "# verificar os tunings separando-os em regiões de low e high energy\n",
    "cv    = crossval_table( tuned_info, etbins = etbins, etabins = etabins )\n",
    "for iop in ['tight', 'medium', 'loose']:\n",
    "    cv.dump_beamer_table( best_inits = best_inits.loc[(best_inits.op_name == iop) & (best_inits.et_bin <= 2)] ,\n",
    "                          output = f'./cv_{iop}',\n",
    "                          tags  = ['MLP-5-SS','MLP-5-rings_v0', 'MLP-5-rings_v1'],\n",
    "                          title = iop+' Tunings LZT', toPDF=False\n",
    "                        )"
   ]
  },
  {
   "cell_type": "code",
   "execution_count": null,
   "id": "30e3e542",
   "metadata": {},
   "outputs": [],
   "source": []
  },
  {
   "cell_type": "code",
   "execution_count": null,
   "id": "f79e3c15",
   "metadata": {},
   "outputs": [],
   "source": []
  }
 ],
 "metadata": {
  "kernelspec": {
   "display_name": "Python 3 (ipykernel)",
   "language": "python",
   "name": "python3"
  }
 },
 "nbformat": 4,
 "nbformat_minor": 5
}
